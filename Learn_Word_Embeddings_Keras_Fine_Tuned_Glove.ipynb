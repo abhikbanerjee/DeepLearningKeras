{
 "cells": [
  {
   "cell_type": "markdown",
   "metadata": {},
   "source": [
    "## This notebook works on Word Embeddings using Keras (Fine tune learned embeddings)"
   ]
  },
  {
   "cell_type": "markdown",
   "metadata": {},
   "source": [
    "## This uses the Glove Model"
   ]
  },
  {
   "cell_type": "markdown",
   "metadata": {},
   "source": [
    "### Import the libraries and define the arguments"
   ]
  },
  {
   "cell_type": "code",
   "execution_count": 1,
   "metadata": {
    "collapsed": false
   },
   "outputs": [
    {
     "name": "stderr",
     "output_type": "stream",
     "text": [
      "Using Theano backend.\n"
     ]
    }
   ],
   "source": [
    "# import the necessary libraries\n",
    "from keras.layers.core import Dense, Activation, Dropout, SpatialDropout1D \n",
    "from keras.layers.convolutional import Conv1D\n",
    "from keras.layers.embeddings import Embedding\n",
    "from keras.layers.pooling import GlobalMaxPooling1D\n",
    "from keras.models import Sequential\n",
    "from keras.utils import np_utils\n",
    "from keras.preprocessing.sequence import pad_sequences\n",
    "import keras.backend as K\n",
    "\n",
    "# adding the import from gensim implementation of word2vec\n",
    "from gensim.models import word2vec\n",
    "from gensim.models import KeyedVectors\n",
    "\n",
    "import nltk\n",
    "import collections\n",
    "import matplotlib.pyplot as plt\n",
    "import numpy as np\n",
    "\n",
    "from sklearn.model_selection import train_test_split\n",
    "%matplotlib inline\n",
    "\n",
    "np.random.seed(42)\n",
    "\n",
    "INPUT_FILE = \"/Users/tkmacl9/Desktop/FastAIDLCourse/datasets/umich_sentiment_dataset/train.txt\"\n",
    "GLOVE_WEIGHTS = \"/Users/tkmacl9/Desktop/FastAIDLCourse/datasets/glove_pretrained_weights/glove.6B.300d.txt\"\n",
    "VOCAB_SIZE = 5000\n",
    "EMBEDDING_SIZE = 300\n",
    "NUM_FILTERS=256\n",
    "NUM_WORDS = 3\n",
    "BATCH_SIZE = 64\n",
    "NUM_EPOCHS = 10    # reduced the number of epochs to 10 as convergence is reached on using pre-trained weights\n",
    "DROPOUT_RATE = float(0.2)"
   ]
  },
  {
   "cell_type": "markdown",
   "metadata": {},
   "source": [
    "### Learn Embeddings using Fine Tuning pre-trained weights"
   ]
  },
  {
   "cell_type": "code",
   "execution_count": 2,
   "metadata": {
    "collapsed": false
   },
   "outputs": [
    {
     "name": "stdout",
     "output_type": "stream",
     "text": [
      "2329\n",
      "\n",
      "defaultdict(<class 'int'>, {\"'ll\": 363, 'long': 416, 'allegory': 2166, 'lynn': 970, 'mother': 448, 'fireworks': 649, 'entire': 971, 'how': 72, 'seems': 972, 'sucks': 29, 'be': 45, 'briefly': 1422, 'gossip': 1598, 'ever': 135, \"saying'harry\": 974, 'independent': 1862, 'predictability': 2242, 'requiem': 975, 'movie..': 417, 'best': 337, 'meganpenworthy': 2071, 'worst': 977, 'use': 652, 'combonation': 980, 'suspenseful': 981, 'jail': 982, 'jenn': 983, 'from': 121, 'finished': 423, 'oceans': 1424, 'earrings': 1944, 'went': 107, 'fell': 484, 'figured': 1864, 'vault': 1365, 'scientology': 986, 'heard': 133, 'everything': 653, 'nc-17': 647, 'gay': 151, 'richard': 988, 'sounds': 654, 'believably': 1141, 'hill': 227, 'irrespective': 989, 'low': 990, 'out': 52, 'politics': 809, 'yip': 2117, 'beautiful..': 655, 'selfish': 991, 'end': 449, 'amazes': 993, 'cowboys': 418, 'cute': 656, 'sold': 994, 'save': 995, 'comprehend': 996, '2..': 997, '?': 148, 'captain': 657, 'soooo': 998, 'messiah': 1755, 'etc': 1427, 'sucks..': 386, 'gavin': 1951, 'tomorrow': 2054, 'dumb..': 2193, 'tied': 1000, 'till': 658, 'ian': 1811, 'mom': 183, 'wondering': 537, 'problem': 708, 'public': 1002, 'know': 49, '<': 334, 'mckellen': 1003, 'spanish': 1975, 'livejournal': 1004, 'catch': 659, 'yet': 387, 'robe': 1007, 'oh': 88, 'code..': 388, 'â€\\x9d': 450, 'perhaps': 660, 'rings': 451, 'emo-mound': 1008, 'god-awful': 538, 'team': 1867, 'unpredictable': 1009, 'signs': 1962, 'tour': 1010, 'kid': 810, 'thats': 191, 'dad': 192, 'veil': 1011, '``': 35, 'wherever': 1012, 'boycotted': 1013, 'else': 398, 'personally': 452, 'immensely': 1014, 'a': 17, 'overall': 691, 'own': 486, 'poorly': 1016, '10.9': 1220, 'field': 1018, 'grand': 1019, 'cant': 1020, 'ca': 149, 'police': 1777, 'beyond': 1667, 'madly': 1021, 'code': 11, 'calling': 2126, 'fr': 1205, 'kind': 453, 'bentlys': 1023, 'there': 82, 'aniwae': 1024, 'piece': 664, 'true': 571, 'but': 43, 'combining': 228, 'bad': 389, 'timings': 1025, 'plus': 1026, 'short': 539, 'yuh': 1746, 'alright': 1207, 'profound': 229, 'fuckers': 1028, 'hand': 1029, 'considered': 1030, 'hammy': 1938, 'professors': 1032, 'study': 1033, 'knight': 1034, 'complaints': 1035, 'kelsie': 230, 'wal-mart': 1036, 'things': 142, 'arenas': 1038, 'theres': 1039, 'screens': 1040, 'shopping': 1041, 'genres': 1042, 'idiot': 1876, 'ok': 94, 'chris': 666, 'crack': 2119, 'gorgeous': 540, 'type': 205, 'eat': 1045, 'hey': 399, 'thank': 577, 'portugal': 1047, 'musiclove..': 2329, 'publicly': 1048, 'nacho': 1049, 'dick': 668, 'jay': 1050, 'melbourne': 1051, 'wept': 1052, 'v': 1053, 'budget': 1054, 'folk': 1055, 'soo': 221, 'shoes': 669, 'often': 670, 'night': 367, 'sucking': 429, 'diversity': 2009, 'lends': 1058, 'giants': 1059, 'although': 671, 'past': 214, 'angels': 454, 'town': 1061, 'course': 400, 'places': 1062, 'girl': 487, 'hung': 233, 'fandom': 419, \"y'all\": 672, 'planned': 1063, 'college': 542, \"sucks'i\": 1065, 'th': 1066, 'absolutely': 122, 'cheap': 1067, 'both': 154, 'stop': 543, 'hype': 1068, 'conclusion': 541, \"of'brokeback\": 1069, 'queer': 674, 'exelent': 1071, 'or': 54, 'was': 18, 'are': 69, 'supposed': 1073, 'kelse': 1074, 'panting': 249, 'gyllenhaal': 1076, 'experience': 1077, 'gayer': 1078, 'oreos': 1552, 'page': 675, 'himself': 1080, 'achieved': 1081, 'against': 677, 'sakes': 1082, 'runaway': 1084, 'code-themed': 1085, 'quick': 1654, 'already': 344, 'films': 488, 'during': 544, 'alarm': 1087, '~': 679, 'thick': 1088, 'generally': 837, 'na': 172, 'quirky': 1091, '1-brokeback': 1092, 'able': 680, 'literary': 2129, 'expo': 1094, 'inherently': 2029, 'spells': 1887, 'likes': 304, '-it': 1097, 'written': 905, 'optimus': 1099, 'after': 329, 'disappointed': 1101, 'south': 1001, 'dorks': 1104, 'together': 682, 'lake': 1106, 'prize': 1107, 'books-not': 1109, 'brown': 545, 'lilo': 1111, 'vintage': 1112, 'slap': 235, 'while': 390, 'mob': 1113, 'interest': 1114, 'dictate': 683, 'black': 234, 'brazil': 2033, 'guts': 1117, 'stand': 207, 'summer': 1119, '..-have': 1120, 'quiz': 305, 'our': 420, 'he': 129, 'chicken': 2215, 'settin': 1450, 'code-sucked': 869, 'deal': 547, 'superman': 1124, 'series': 81, 'heartbreaking': 1125, 'everybody': 684, 'blogbacklinktitle': 1126, 'iii': 308, 'criticized': 1127, 'mainstream': 685, 'depressing': 74, 'rowling': 686, 'happen': 1128, 'jamaica': 1129, 'to': 24, 'bit': 421, 'malaguena': 1130, 'insane': 1131, 'riding': 1134, 'joining': 232, 'forgot': 1135, 'so': 32, 'wo': 687, 'scarf': 1136, 'drawing..': 1137, '!': 6, 'christain': 1138, 'level': 548, 'watch': 136, 'neither': 1139, 'sent': 1140, 'posted': 1660, 'thanks': 1142, 'win..': 1267, 'douche': 688, 'plastic': 1005, 'various': 1144, 'believe': 1145, 'husband': 1146, 'attached': 1147, \"'s\": 27, 'adult': 689, 'insurance': 1132, 'through': 456, 'soooooo': 2063, 'whimpering': 276, '$': 489, 'rps': 1150, 'tells': 1152, 'laura': 1153, '-after': 1154, 'definitely': 690, 'subtitles': 1662, 'bonkers': 236, 'vigor': 285, 'general': 1006, 'phillip': 678, 'libarian': 2121, 'strip': 1664, 'war': 1160, 'totally': 401, 'decent': 693, 'compared': 694, 'turner': 1162, 'lot': 324, 'codes': 1751, 'bye..': 237, 'condeming': 1164, 'hate': 30, 'story': 89, 'soooooooo': 1165, 'hall': 1166, 'ps': 1167, 'learn': 2256, 'moving': 2139, 'mind': 1169, 'pirates': 1170, 'choice': 695, 'wow': 1171, 'anyhow': 1172, 'hyped': 1173, 'haunted': 1174, 'scar': 696, 'thought': 117, 'sexy': 490, 'rehearsal': 1178, 'thousand': 697, 'judgement': 1179, 'head': 210, 'potter': 13, 'bought': 941, 'voted': 1182, 'reality': 208, 'orig': 2143, 'enjoyed': 391, 'pocket': 698, 'drive': 767, 'begin': 209, 'halle': 1184, 'apologized': 1185, 'mountain..': 356, 'funniest': 754, 'shes': 1187, 'time': 127, 'favorite': 699, 'did': 312, 'im': 457, 'much..': 422, 'ta': 491, 'gift': 550, 'saturday': 958, 'scene': 701, 'taking': 642, 'nasy': 1190, 'awesome..': 130, 'big': 134, '...': 14, 'sense': 703, 'besides': 551, 'west': 1191, 'threw': 1192, 'g': 1193, 'once': 492, 'john': 493, 'crash-and': 1194, 'friggin': 1195, 'putting': 704, 'work': 553, \"him'i\": 1913, 'add': 984, 'since': 348, 'criticizers': 1939, 'uh': 1198, 'deals': 1199, 'delicious': 1200, 'potterholic..': 1201, 'ate': 1202, 'fire': 494, '3..': 528, 'christian': 725, 'clips': 1206, 'land': 1027, 'hide': 706, 'maybe': 707, 'backtory': 1208, 'heresies': 1209, 'until': 458, 'genre': 1210, 'waaaaaaaaaaaaaaaaaaaaaaaaaaaaaaaaaaaaaaaaaaaaaaaaaaaaaaaaaaaaa': 1064, 'game': 1211, 'week..-have': 1212, 'goes': 1213, 'weiners': 1214, 'tourist': 1763, 'speaking': 709, 'spite': 1215, 'picky': 1216, 'holding': 1217, 'also': 104, 'your': 368, '385': 2247, 'cow': 1175, 'condemnation': 1221, 'stayed': 554, 'tiny': 1908, 'with': 46, 'outshines': 238, 'idk': 710, 'mountain-watched': 1224, 'moments': 1225, 'eating': 711, \"'yeah\": 239, 'vs.': 1226, \"'ve\": 359, 'racism': 555, 'die': 712, 'panties': 1229, 'would': 77, 'scenes': 1230, 'in-depth': 1231, 'ive': 713, 'stinks': 556, 'scenario': 1233, 'tome': 1234, 'nicely': 1235, 'blows': 1236, 'dvd': 1457, 'ignorant': 1239, 'fallon': 1240, 'desperately': 240, 'nerd': 714, 'hope': 495, 'bogus': 459, 'worse': 1218, 'trece': 1241, 'bet': 1242, 'didnã¢': 1243, 'rides': 1244, '2007': 1245, 'pressing': 1246, 'adaptation': 1247, 'has': 349, 'lets': 1248, 'ticket': 715, 'exception': 1250, 'section': 1251, 'office': 1508, 'jackson': 1252, 'denial': 1253, 'precious': 1255, 'hilarious': 1256, 'phase': 1257, 'exhausted': 1304, 'boring': 152, 'far': 364, 'starring': 1258, 'mountain-this': 1259, 'tautou': 559, 'calif.': 1357, 'give': 461, 'shadeslayer': 1262, 'coherent': 1448, 'oddly': 1265, 'reaction': 665, 'causing': 1268, 'question': 717, 'rep': 1270, 'asking': 718, 'depp': 1526, 'candy': 1271, 'happy': 719, 'da': 9, 'hot': 918, 'davinci': 2179, 'show': 476, 'lama': 1609, 'match': 987, 'contains': 1274, 'tho': 721, 'coloured': 1276, 'spy': 1277, 'not': 71, 'world': 402, 'dress': 1278, 'sister': 1280, 'mountain': 12, '5': 1282, 'project': 1920, 'jamie': 2159, 'secrets.-prisoner': 1284, 'shipping': 2160, 'four': 1269, 'offence': 1286, 'score-brokeback': 1287, 'plays': 1288, 'entitled': 1289, 'we': 44, 'got': 131, 'grey': 1685, 'matter': 1291, 'personaly': 1468, 'ripper': 1293, 'theme': 370, 'lol': 350, 'may': 351, 'getting': 823, 'sooo': 723, 'unexpected': 1295, 'edition': 1296, 'those': 371, 'ew': 1297, 'except': 560, 'undoubtedly': 1655, 'm': 561, 'rickards': 1298, 'appeal': 2161, 'go': 321, 'no': 340, 'speaker': 1266, 'atrocious': 1299, 'grabs': 242, 'bolsters': 1300, 'cry': 726, 'frog': 1301, 'halloween': 562, 'anyway': 177, 'officially': 460, 'lubb': 243, 'saw': 113, 'awful': 345, 'friend': 727, 'directed': 1302, 'playing': 563, 'died': 1303, 'dragged': 241, \"'d\": 358, 'girls': 728, 'drain': 1148, 'loudest': 1306, '1': 1307, 'living': 1308, 'et': 1309, 'kat-tun': 1310, 'folows': 1311, 'calls': 1312, 'let': 564, 'vs': 1313, 'thinks': 730, 'darkness': 1314, 'rereading': 1315, 'cover': 2164, 'simmons..': 1316, 'made': 346, 'explosions': 1317, 'beans': 731, 'ones..': 1319, 'aka': 732, 'actual': 733, 'tale': 734, 'avatar': 1320, 'open-mindedness': 2185, 'instead': 735, 'buy': 736, 'figure': 2228, 'angle': 1321, 'explore': 1322, 'third': 737, 'awesomest': 738, 'looked': 549, 'unless': 1324, 'legacy': 1325, 'awesome-good': 1326, 've': 2254, '/': 55, 'hedge-good': 1327, 'futile': 1635, 'all': 310, 'goin': 245, 'too..': 496, 'exploitation': 1328, 'it': 23, 'yuck': 1497, 'icons..': 1476, 'halls': 1330, 'snowing': 1331, 'book..': 851, 'latter': 1477, 'waited': 1627, 'thoughts': 1333, 'jesus': 497, 'backward': 1334, 'place..-broke': 1335, 'guys': 740, 'afraid': 1336, 'trip': 1805, 'napoleon': 1338, 'desperate': 1339, 'when': 132, 'manga': 2265, 'â€¦': 1340, 'anatomy': 1341, 'popular': 741, 'kinda': 338, 'acne': 246, 'hooker': 1342, 'villains': 1343, 'fairly': 2168, 'actors': 1344, 'involved': 1345, 'purchase': 1346, 'rolled': 2170, 'dynamite': 1348, 'club': 498, 'gym': 1349, 'week': 499, 'complex': 1350, 'back.-jill': 1351, 'decline': 1352, 'might': 424, 'wants': 1353, 'brilliant': 742, 'hahaha': 1354, '*..': 1355, 'reader': 1356, 'fits': 1668, 'like': 22, 'color': 744, 'feel': 403, 'house': 745, 'stone.-chamber': 1249, 'cleaning': 248, 'article': 746, 'overcoming': 1358, 'wiccanism': 896, 'lately': 1360, 'great': 141, 'halfway': 2301, 'reason': 1361, 'little': 411, 'dream': 749, 'shitty': 524, 'copy': 773, 'special': 750, 'skin': 1364, 'material': 231, 'positions': 1841, '&': 372, 'none': 565, 'freshman': 1366, 'ootp': 1367, 't': 566, 'they': 319, 'half-blood': 751, 'surprisingly': 1699, 'final': 753, 'ridiculous': 1368, 'fix': 1369, '50': 1186, 'attraction': 1370, 'jane': 250, 'runner': 1371, 'novel': 462, 'hanks': 755, 'artemis': 1372, 'hugh': 1373, 'hopefully': 926, 'fic': 756, 'lame': 552, '7th': 1375, 'local': 1264, 'kick': 567, 'dont': 568, '2nd': 1377, 'following': 1378, 'dramatic': 1379, 'ap': 1380, 'caribbean': 1381, 'bobbypin': 251, \"ain't..\": 1382, 'basically': 1485, 'back': 425, 'dragons': 720, 'wussies': 1384, 'stites': 1385, 'quite': 441, 'writers': 1387, 'kick-ass': 1458, 'gon': 212, 'dumbass': 1698, 'poem': 1388, 'serious': 252, 'fault': 758, 'harder': 1389, 'culture': 479, 'occasional': 1390, 'franchise': 760, 'sitting': 1391, 'afterschool': 1392, 'middle': 1970, 'lord': 463, 'monchel': 1393, 'telling': 500, 'horridly': 1394, 'packed': 1395, 'cast': 1440, 'x': 761, 'million': 1397, \"freagin'love\": 1398, \"'\": 404, 'judging': 1400, 'luck': 468, 'impossible-tom': 2229, 'overlooking': 1402, '00': 1403, 'heteronormativity': 1404, 'better': 143, 'empty': 762, \"n't\": 65, 'thirdly-the': 1406, 'park': 1407, 'despise': 1408, 'brigid': 1409, 'why': 80, 'lunch': 1015, 'decide': 1411, 'task': 1412, 'magical': 1413, 'write': 570, 'offensive': 1414, 'illegally': 1415, 'btw..': 1416, 'christianity': 1417, 'exciting': 1418, 'which': 61, 'this': 66, 'supporting': 2288, 'ask': 572, 'postponed': 1420, 'â€¦..': 1108, 's.': 973, 'explains': 1423, 'main': 194, 'goblet': 536, 'min': 1426, 'lives': 999, 'exponentially': 1428, 'association': 1429, 'haircut': 1882, 'less': 661, 'c.': 1430, 'more': 118, 'something': 405, 'ti': 1906, 'cock': 171, 'wins': 1431, 'bits': 1432, 'picture': 426, 'omg': 501, 'walk': 1433, 'emma': 910, 'free': 1827, 'before': 373, '.-sorcerer': 1434, 'messy': 1072, 'generated': 1435, 'chronicles': 1436, 'differently': 254, 'top': 573, 'flick': 763, 'dating': 1437, 'sure': 412, 'surprised': 2109, 'nans': 1438, 'director': 1439, 'capote': 764, 'â©': 831, 'only': 83, 'lee..': 1442, 'author': 765, 'jessica': 1443, 'gathered': 1157, 'discuss': 1444, 'springer': 1446, 'story-i': 1496, 'mirror': 922, 'award': 1183, 'fuck': 503, 'trousers': 257, 'n': 768, 'truly': 1228, 'fun': 186, 'marisa': 1718, 'forget': 1451, 'lazy': 1452, 'tragic': 916, 'gladly': 1454, 'acting': 769, 'quip': 1455, 'paper': 1456, 'lords': 770, 'seen': 347, 'durno': 1237, 'x3-good': 1163, 'my': 34, 'note': 1459, 'canceled': 1460, 'turn': 783, 'look': 1500, 'phone': 1462, 'do': 108, '^': 1463, 'amãƒ': 1464, 'small': 1955, 'image': 1466, 'mouth': 574, 'shit-i': 1467, 'fucking': 85, 'julia': 1470, 'finish': 2192, 'along': 575, 'shame': 1471, 'belong': 1501, 'happiness': 1473, 'writer': 1305, 'whatev': 1474, 'abrams': 1957, 'weekend.-mission': 1329, 'asian': 739, 'fyi-mission': 1478, 'boring..': 772, 'transamerica': 1479, 'âµâª': 1480, 'least': 464, 'eragon': 576, 'questions': 1046, 'dogfucking': 1285, 'funner': 1481, 'career': 1482, 'homophobic': 1483, 'god': 428, 'enjoying': 1383, 'draw': 825, 'wiccans': 1486, 'silly': 1983, 'off': 360, 'moralistic': 1488, 'banning': 1489, 'otp': 1490, 'action': 374, 'hogwarts': 774, 'bayers': 1294, 'urls': 1491, '286': 1544, 'interested': 1493, 'humor': 1494, 'sis': 1495, 'form': 1447, 'lol..': 1498, 'unfortunately': 1499, 'have': 99, 'benefit': 1290, 'um': 1895, 'watched': 335, 'will': 328, 'beating': 1472, 'iii-sucks': 1502, 'margaritas': 1961, 'mad': 1503, 'horrible..': 213, 'shipmates': 1504, 'extremely': 578, 'movie': 25, 'completely': 1505, 'mtv': 259, 'you': 41, 'joiners': 2264, 'what': 137, 'doubt': 1652, 'hahahaha': 1509, 'murdered': 1511, 'dumbledor': 1512, 'motherfuckers': 1513, 'spoke': 1514, '.-wish': 1515, 'counting': 1516, 'relic': 1517, 'imagine': 1133, 'quizzes': 775, 'robbed': 776, 'mission': 19, 'without': 1520, 'finshed': 2198, 'despised': 263, 'silent': 260, 'evilpinkmunky': 1522, 'reviews': 1523, 'obviously-is': 1524, 'background': 1578, 'kanye': 1525, 'indicative': 1232, 'emily': 1528, 'mang': 1529, 'whenever': 777, 'is': 16, 'fall': 778, 'fanfic': 779, 'hugged': 1530, 'miss': 365, 'knows': 185, 'weird': 1531, 'returning': 1532, '6th': 579, 'infuser': 894, 'stuff': 581, 'finals': 1533, 'hair': 1534, 'mrs': 1535, 'success': 1537, 'biased': 780, 'blasphying': 2007, 'ya': 781, 'sarcastic': 2201, 'attempt': 782, 'friends': 166, 'hanging': 1376, 'howard': 1538, 'aching': 281, 'throw': 1540, 'america': 1541, 'witha': 1177, 'noises': 261, 'staying': 1542, 'changed': 1543, 'up': 78, 'gayness': 648, 'phoenix': 1545, 'comment': 582, 'danielle': 1546, 'possum': 1547, 'versa': 1548, 'eyre': 262, 'makes': 784, 'christmas': 785, 'hips': 282, 'any': 583, 'reply': 743, 'freakin': 193, '3': 53, 'find': 1550, 'immortal': 1551, 'credit': 1238, 'funny': 521, 'itself': 1555, 'correct': 1556, 'food': 584, 'gasp': 1557, 'creed': 1559, 'being': 90, 'then': 111, 'k.': 786, 'agree': 585, 'ago': 858, 'worth': 184, 'demeantor': 1562, '-..': 1982, 'clearly': 2028, 'version': 1564, 'try': 392, 'bored': 1521, 'wish': 586, 'hella': 264, 'wonderful': 1566, 'daddy': 1568, 'texts-fantasy': 1569, 'board': 505, 'heather': 1203, 'latest': 1570, 'bringing': 1571, 'her': 518, 'joe': 1729, 'stopped': 788, 'these': 161, 'amazing..': 1730, 'lie': 789, 'home': 673, 'pictures': 872, 'goth': 942, 'release': 1576, 'inaccurate': 466, 'parents': 1981, 'dudeee': 265, 'j.': 792, 'shit': 381, 'adversity': 1577, 'deciding': 1676, 'touching': 1579, 'really': 38, 'clean': 1580, \"'..\": 266, 'listens': 1581, 'childishly': 1263, 'respect': 793, 'anyone': 173, 'ennis': 1583, 'intrigued': 2312, 'clothed': 1584, 'spin': 1585, 'brokeback': 10, 'ruined': 794, 'were': 140, 'retarted': 267, 'tea': 705, 'rather': 546, 'anyways': 587, 'kids': 430, 'delayed': 1549, 'animated': 1453, 'style': 1575, '_': 588, 'friday-harry': 1587, 'w': 1588, 'dan': 589, 'tooo': 1589, 'portuguese': 1590, 'lil': 1591, 'equally': 795, 'generalized': 1017, 'mostly': 1593, 'screenplay': 1594, 'stupid': 40, 'done': 2239, 'ossana-the': 1595, 'posts': 1596, 'awesomely': 1597, 'dvds': 1599, 'found': 1600, 'religious': 590, 'lit': 591, 'explaination': 1601, 'struggle': 1602, 'drove': 1603, 'abortion': 1604, 'draco': 288, 'days': 506, 'coz': 268, 'tan': 1845, 'indoctrinate': 1606, 'simon': 2213, 'craze': 796, 'soul': 797, 'kept': 1607, 'debates..': 1608, \"love'the\": 297, 'such': 144, 'lapse': 1196, 'gin': 270, 'hp': 968, 'mary': 1189, 'altogether': 1292, 'camp': 2079, 'person': 167, 'demons': 431, 'zen': 299, 'chunnel': 1612, 'effects': 1613, 'worthless': 635, 'showcasing': 1614, 'super': 799, 'white': 800, 'eoin': 1615, 'example': 639, 'mi': 1616, 'tree': 2004, 'reads': 1617, 'shields': 1687, 'trailers': 801, 'opened': 802, 'enjoys': 1618, 'supportive': 1757, 'master': 1681, 'fan': 444, 'intellectual': 1619, 'left': 92, 'comes': 508, 'preview': 1620, 'smoked': 1621, 'shraddha': 1622, 'plain': 273, 'figures': 803, 'related': 804, 'hard': 593, 'biggie': 2058, '~..': 1623, 'because': 28, 'hollywood': 509, 'case': 580, 'luau': 1625, 'didnt': 951, 'probably': 465, 'knowing': 1628, 'classes': 510, '7': 805, 'bond': 1629, 'excersizing': 1909, 'facing': 2218, 'leads': 1630, 'haha': 1631, 'apparently': 467, 'told': 432, 'picturesque': 1632, 'hogwash': 1633, 'costumes': 806, 'virgin': 274, 'says': 174, 'race': 2206, 'royally': 807, 'bunch': 1978, '.': 3, 'random': 1374, 'phrase': 1636, 'dungeons': 2038, 'than': 341, 'months': 808, 'images': 1075, 'acceptable': 217, 'jokes..': 277, 'majorly': 485, 'suing': 1640, 'johnny': 651, 'man..': 1642, 'group': 1643, 'arse': 1644, 'christmas..': 1960, 'teaches': 662, 'eh': 1645, 'theological': 1646, 'cowan': 1647, 'fun..-the': 1648, 'games': 2065, 'last': 145, 'effort': 1649, 'interesting': 407, 'sit': 278, 'sawyer': 1650, 'anne': 1651, 'twist': 650, 'though': 315, 'see': 306, 'education': 811, 'b': 195, 'topic': 2005, 'sixth': 1653, 'prediction': 1086, 'helped': 279, ']': 375, 'won': 477, 'ripping': 1656, 'adorable': 812, 'ring': 1115, 'useless': 2240, 'answers': 1122, 'crash': 376, 'loathe': 813, 'audrey': 594, 'pop-culture': 1659, 'unable': 2318, 'dislike': 819, 'headmistress': 1661, '200': 1143, 'archive': 1639, 'ashamed': 1159, 'corrupting': 1665, 'feeling': 814, 'conquering': 815, 'josie': 1666, 'loved': 58, ')': 307, 'cruise': 327, 'freezing': 1396, 'invisible': 1669, 'psychology': 1197, 'undercover': 1670, 'vacation': 1671, 'photography': 1672, 'gives': 1673, \"was'harry\": 1674, 'shop': 1675, 'anywhere': 1219, '-we': 817, 'tests': 1677, 'its': 336, 'code-other': 1989, 'ony': 2227, \"'re\": 162, 'mountain-which': 1678, '-sucked': 1679, 'georgia': 511, 'increasing': 1680, '#': 1098, 'read': 109, 'played': 512, 'partyin': 1682, 'formed': 820, 'joke': 771, 'festivities': 1102, 'mentioned': 821, 'prime..': 1683, 'ended': 1684, 'normal': 722, 'obnoxious': 822, 'sometimes': 956, 'facebook': 1405, 'flat': 1689, 'het': 824, 'blonds': 280, 'icons': 1690, 'bless': 1691, 'created': 1692, 'editor': 978, 'friday': 168, ':': 68, 'awesome': 21, 'decaying': 1057, 'mph': 1696, ',': 2, 'wrong': 408, 'bout': 1362, '6': 1553, 'deluded': 1695, 'glad': 409, 'health': 1700, 'guy': 95, 'protests': 1995, 'teevee': 1701, '(': 98, 'boycotting': 1702, 'younger': 2307, 'boycott': 1703, 'cussler': 1704, 'awesomeness': 827, 'life': 393, 'takes': 828, '4': 597, 'sports': 2182, 'saying': 433, 'share': 1705, 'ultimate': 829, 'ballz': 1706, 'ones': 830, 'deemed': 1707, 'idiots': 2127, 'grown': 1323, 'important': 2233, 'someone': 513, 'happened': 1708, 'side': 178, 'death': 598, 'clit': 1709, 'casanova': 1710, 'movies': 39, 'talk': 377, 'erm': 633, 'she': 87, 'finale': 1712, 'latin': 1713, 'does': 146, 'ang': 834, '+': 599, 'song': 507, 'hardcore': 835, 'ending': 836, 'heart': 600, 'dedicated': 1873, 'eye': 1089, 'pudding': 1060, '16': 1716, 'xd': 1717, '3333': 1090, '8': 1719, 'discussing': 1720, 'rid': 1721, 'film': 139, 'impossible-3..': 1722, 'community': 196, 'jones': 1723, 'bachelor': 1724, 'open': 1715, 'wranglers': 1999, 'listen': 1725, 'exaggeration': 1726, 'sue-ism': 1727, 'derek': 1056, 'dies': 218, 'ultimatly': 1728, 'yesterday': 838, 'dim': 1572, 'aimee': 1573, 'supper': 1731, 'couple': 826, 'table': 216, 'shaped': 1734, 'requested': 839, 'talked': 1735, 'having': 394, 'right': 62, 'schools': 1737, 'teri': 1738, 'barry': 1739, 'those..': 1740, 'erin': 1741, 'fiber': 1742, 'song..': 1743, 'huh': 1744, 'pastings': 1745, 'took': 840, 'probable': 1768, 'donã¢': 1279, 'hell': 602, 'around': 187, 'weekends': 1747, 'every': 434, 'code-illustrated': 1762, 'had': 322, 'consumed': 2238, 'anax': 1507, 'adore': 1749, 'aside': 1752, 'rachel': 2003, 'take': 179, 'acoustic': 1753, 'check': 2173, 'dash': 244, 'me..': 1624, 'people': 75, 'rest': 681, 'suck..': 603, 'ground': 1756, 'run': 842, 'ah': 1563, 'crusade': 1758, 'food..': 1759, 'bound': 2243, 'many': 604, 'job': 843, 'haunt': 844, 'the': 4, 'thursday': 1567, 'beach': 1872, 'facile': 1761, 'sorry': 605, 'simple': 1748, 'u': 841, 'larry': 1764, 'balls..-hooray': 1765, 'hookup': 1766, 'storytimes': 1767, 'sing': 845, 'that': 26, 'even': 316, 'chronological': 1227, 'loose': 1769, 'point': 846, 'drawn': 1770, 'name': 847, 'jokes': 1083, 'drowining': 2077, 'again': 156, 'move': 514, 'conversations': 1771, 'kudos': 1772, 'writes': 1518, 'shade': 1774, 'russotti': 1103, '=': 150, 'i': 1, 'dressed': 1732, '@': 1778, 'ass': 317, 'whiny': 1779, 'costume': 787, 'cheapened': 1781, 'impressive': 1782, 'van': 1783, 'predictable': 1784, 'leah': 283, 'devil': 1785, 'loser': 1786, 'sometime..': 1787, 'most': 120, 'disney': 850, 'passion': 612, 'cars-good': 2021, 'cake': 2131, 'walks': 1788, 'rockets': 1789, 'beautiful': 102, 'challenge': 852, 'asks': 1790, 'understand': 853, 'rant': 606, 'shittiest': 832, 'men': 1792, 'fully': 1554, 'daniel': 197, 'tonite..-da': 1794, 'incredible': 1795, 'blame': 880, 'malfoy': 284, 'remix': 1797, 'tickets': 854, 'gun': 607, 'one': 48, 'books..': 608, 'better..-we': 609, 'bday': 1798, 'admired': 1799, 'wacked': 1800, 'libre-sucked': 1801, 'hairy': 2172, 'vice': 1953, 'remix..': 1161, 'period': 1401, 'do..': 1803, 'excited': 1804, 'definately': 856, 'tom': 116, 'however': 1714, 'watching': 155, '10pm': 1806, 'rocked': 1773, 'dumb': 857, 'encourage': 1807, 'wif': 1808, '-brooke': 1809, '007..': 1527, 'place-there': 1810, 'laughed': 290, 'make': 180, 'apart': 1812, 'blashpemies': 2187, 'travel': 1813, 'doing': 469, '.-sean': 1561, 'runs': 1814, 'away': 1815, 'given': 610, 'admiring': 2123, 'review': 204, 'fowl': 1817, 'rice': 1818, 'onto': 1819, 'hat': 219, 'lot..': 1820, 'state': 2289, 'trivia': 1222, \"called'harry\": 1822, 'fire.-i': 1823, 'much': 36, 'part': 515, 'prince': 859, 'england': 1824, 'love': 15, 'pic': 1825, 'sunday': 1826, 'crazy': 215, 'film..': 1828, 'barnyard': 1829, 'honor': 932, 'fortress..': 1831, 'ignore': 2252, 'becoming': 220, 'search': 1832, 'must': 470, 'â’': 1791, '--': 333, 'live': 611, 'category': 1510, 'bro': 1834, 'tournament..': 1835, '=..': 1836, 'date': 1837, 'issues': 860, 'mention': 861, 'called': 1838, 'bikes': 1839, 'street': 1693, 'mall': 1830, 'subjects': 1840, 'potter..': 50, 'said': 147, 'azkaban': 1158, 'post': 1843, \"watched'10\": 1844, 'academy': 676, 'rented': 663, 'p.': 1847, 'crap': 471, 'kenley': 1848, 'sexual': 1849, 'picard': 863, 'convo': 1850, 'gettting': 1851, '8230': 1852, 'thing': 353, 'bridget': 1853, 'aaron': 864, 'smoking-had': 1854, 'explain': 1855, 'rife': 1856, 'music': 516, 'laid': 914, 'play': 866, 'creatures': 1857, 'outta': 1858, 'x-men': 435, 'paul': 1859, 'pleased': 2216, 'energy': 969, 'highly': 1861, 'sick': 472, 'mindless': 1780, 'stinks..': 1863, 'allegedly': 2022, 'mcgarther': 985, 'carefully': 867, 'whereas': 1910, 'media': 1865, 'faked': 2203, 'wholesome': 1866, 'requim': 2328, 'watson': 915, 'otters': 1868, 'plot': 1869, 'balls..-poseidon': 1870, 'val': 1871, 'intense': 1022, 'sam': 976, 'usually': 1874, '2': 119, 'harry': 7, 'close': 1875, 'going': 138, 'hates': 198, 'major': 517, 'discussed': 1878, 'afterwards': 1879, 'vito-being-gay': 1880, 'mormon': 1881, 'ps-brokeback': 1275, 'heath': 868, 'light': 1883, 'comparsions': 1884, 'broom': 1079, 'setting': 1885, 'knew': 849, 'english-speaking': 1886, 'cowboy': 206, 'stinkin': 1100, \"you'and\": 1888, 'â£': 1889, 'magic': 1123, 'now': 325, 'comments': 1890, 'lotr': 1891, 'inspired': 1892, 'near': 1893, 'suncoast': 1894, 'reminded': 286, 'lousy': 757, 'code-that': 1896, 'jelly': 1149, 'sorcerer': 1898, 'care': 199, 'christopher': 2030, 'recently': 870, 'infiltrate': 1641, 'stitch': 1899, 'station': 287, 'basic': 1901, 'defensive': 1902, 'theater': 474, 'muahahaahahah': 1903, 'future': 871, 'blanks': 1904, 'plausible': 1574, 'absolute': 1096, 'wicked': 1449, 'shut': 1907, 'his': 76, 'memoirs': 1223, 'mpreg': 1637, 'events': 873, 'lah': 874, 'wrote': 1318, 'hill-form': 1911, 'beatles': 1506, 'stories': 475, 'idea': 519, 'blog': 1912, 'loves': 558, 'book-i': 1914, 'keep': 1915, 'outnumbered': 1916, 'winter': 1638, 'tye': 289, 'hahash': 1273, 'closet': 1918, 'expected': 875, 'reference': 1919, 'frodo': 1283, 'updated': 1921, 'times': 410, 'always': 169, 'performance': 2037, 'songs': 1923, 'whom': 2209, 'seymore': 1924, 'semester': 1925, 'appeals': 1926, 'reading': 79, 'of': 37, 'nothing': 613, 'azkaban.-goblet': 1927, 'titanic': 1928, 'witchcraft': 692, 'shows': 614, 'about': 101, '31st': 1929, '1984': 1688, 'pc': 1931, 'concocted': 1932, 'tech': 1933, 'win': 615, 'comparrison': 1934, 'overexagerated': 1935, 'gay-scientologist-mission': 1936, 'damn': 520, 'egg': 877, 'possibly': 1937, 'gary': 275, 'hated': 309, 'unfortunate': 1940, 'fair': 1941, 'strangely': 878, 'frenzied': 1942, 'fact': 436, 'scent': 1943, 'screening': 1793, 'lamest': 1945, 'butt': 907, 'nifty': 1946, 'queens..': 1947, 'invisibility': 1948, '700': 1070, 'insanely': 291, 'day': 437, '9am': 2040, 'usage': 1950, 'hoot': 255, 'first': 114, 'fade': 1952, 'character': 200, 'place': 201, 'ten': 616, 'tried': 963, 'chinese': 879, 'big-time': 1954, 'wicca': 1465, 'revise': 1956, 'diana': 1475, 'friend..-indian': 1958, 'rocks..': 1959, 'decides': 1605, 'interview': 1105, 'decomposing': 1519, 'astonishingly': 1421, 'esther': 1963, 'nearly': 522, 'just': 47, 'deserved': 881, 'colourfully': 882, 'evil..': 617, 'hour': 1964, 'freaking': 438, 'it..': 883, 'jake': 618, 'crystal': 1965, 'children': 523, 'forever': 1966, 'midnight': 1967, 'meat': 1968, 'groaning': 247, 'hating': 884, 'vinci': 8, 'balls': 342, 'into': 60, 'whatever': 798, 'lynne': 1971, 'heavy': 1972, 'involve': 1973, 'gadgets': 1399, 'count': 293, 'gaither': 909, 'good..': 1977, 'anus': 1634, 'them': 395, 'fabricated': 1979, 'jon': 1930, 'dogtown': 1980, 'hoover': 885, 'bullshit': 595, 'la': 886, 'second': 352, 'fit': 876, 'needs': 226, 'pretty-packaging': 1984, 'talkin': 1441, 'zach': 1986, 'hours': 1987, 'instead..': 1988, 'as': 33, 'exquisite': 818, 'yeah': 153, 'truth': 1990, 'worlds': 1991, 'favor': 887, 'whistles': 716, 'young': 1992, 'wondered': 1993, 'pup-tent': 1994, 'sale': 1586, 'hedge': 619, 'lucky': 1996, 'seeing': 439, 's': 188, \"mountain'is\": 1998, 'â€˜': 888, 'if': 73, 'rent': 620, 'marvel': 748, 'update': 621, 'please': 889, 'phenomenon': 2000, 'families': 2001, 'liked': 123, 'letter': 2002, 'been': 366, 'lin': 1492, 'glitz': 1110, 'suicides': 295, 'doors': 2211, 'student': 890, 'geek': 891, 'impossible..': 892, 'tonight': 478, 'fat': 569, 'confess': 2006, 'due': 848, 'garrett': 2008, 'titus': 1802, 'never': 157, 'friendships': 893, 'kill': 2010, 'cucumber': 2011, 'lore': 2012, 'bible': 855, 'bitch': 222, 'center': 2014, 'fill': 2015, 'becuase': 2016, 'sivullinen': 895, 'madre': 2017, 'turned': 223, 'cloak': 2018, 'according': 2019, 'awkward': 2020, 'school': 440, 'mocking..': 1821, 'disliked': 557, 'hear': 473, 'visually': 2023, 'letting': 292, 'horses': 2024, 'feathers': 2025, 'eek': 2026, 'come': 525, 'snuck': 224, 'sum': 2027, 'oscar': 526, 'seymour': 1592, 'roommate': 1775, 'liberal': 1536, 'christ': 2031, 'matters': 2032, 'sucked..': 165, 'track': 2034, 'word': 897, 'equus': 2035, 'room': 1877, 'silver': 1922, 'literature': 1560, 'pages': 622, 'way': 124, 'wanted': 202, 'in': 84, 'fears': 2039, 'gl': 1410, 'gn': 2279, 'class': 898, \"code'it\": 2042, 'favourite': 899, 'score': 900, 'working': 901, 'record': 791, 'absurd': 623, '..': 91, 'juicy': 2043, 'offense': 2044, 'felt': 624, 'kate': 294, 'heartbraking': 1337, 'five': 2045, 'lame..': 2013, 'honestly': 2047, 'need': 625, 'â': 626, 'luv': 203, 'sort': 627, 'emotes': 2048, 'spontaneously': 2049, 'nd': 2050, 'soon': 902, 'amazingly': 2051, 'march': 2052, '517,648': 2053, 'libraries': 729, 'joy': 2055, 'rules': 2056, 'ï¿½': 601, 'spectacularly': 2059, 'cos': 2060, 'deep': 296, 'tennis': 2061, 'meeting': 903, 'regardless..': 2062, 'break': 1155, 'equal': 904, 'mean': 413, 'microsoft': 2064, 'thinking': 414, 'planning': 1156, 'pegg': 2066, 'ideas': 2067, 'primary': 2068, 'get': 326, 'half': 527, 'included': 2069, 'everytime': 2070, 'okay': 445, 'hero': 906, 'colfer': 2072, 'us': 361, 'iq': 2073, 'philosopher': 2074, 'd': 2075, 'amazing': 339, 'very': 331, 'industry': 962, 'hands': 628, 'melandry': 1997, 'claiming': 2078, 'some': 332, 'seemed': 2286, 'mountain-hard': 2080, 'pretty': 313, 'reasons': 2082, 'wait': 159, 'inappropriate': 2084, 'pale': 2085, 'fabulous': 935, 'still': 126, 'react': 2087, 'where': 189, 'german..': 2088, 'awards': 225, 'dearly': 2292, 'online': 1900, 'oversimplifying': 2090, 'stupidest': 1565, 'shout': 2092, 'imo': 2093, 'excellent': 170, 'linked': 2094, 'reopened': 2057, 'including': 2096, '1st': 2097, 'harrison': 2098, 'whether': 908, 'â€œ': 629, 'truly-awful': 2099, 'addition': 2036, 'felicia': 97, 'looks': 396, 'seen..': 211, 'devastate': 2101, 'looking': 630, 'crafted': 2102, 'viewings': 1733, 'prisoner': 1833, 'mcmurtry': 1658, 'thriller': 2104, 'real': 378, 'twilight': 2105, 'today..': 2310, 'quaintly': 2106, 'nothin': 992, 'â€': 833, 'shattered-spine': 2108, 'whole': 535, 'keys': 300, 'catcher': 298, 'yes': 504, 'tired': 911, 'hippie': 2110, 'starting': 2111, 'boyy': 2112, 'â€™': 163, 'wesley': 912, 'refusing': 2113, 'consider': 2114, 'bbm': 1949, 'ur': 2115, 'easy': 2116, 'pull': 1419, 'later': 1816, 'pop': 913, 'cuz': 631, 'badness': 2118, 'mi3': 667, 'around..': 2120, 'starred': 1043, 'bitter': 1842, 'between': 632, 'colony': 1711, 'perfect': 1610, 'scared': 2124, 'wide': 2125, 'hermione': 1359, 'stars': 271, 'arguments': 2122, 'cried': 634, 'freak': 2128, 'either': 190, 'began': 1093, 'at': 110, 'baby': 2130, 'other': 330, 'theatan': 1031, 'today': 2132, 'kite': 2133, 'books': 318, 'fantasy': 2134, 'mrs.': 1969, 'jame': 2135, 'pretending': 2136, 'picnic': 2137, 'homophobes': 2299, 'cool': 175, 'realized': 2138, 'radio': 1386, 'him': 181, 'same': 164, 'hand..': 1611, 'started': 1168, 'relaxed': 2140, 'cool..': 2141, 'rosie': 2142, 'by': 115, 'sweeping': 2144, 'fer': 2145, 'independant': 2146, 'leder': 2147, 'extent': 2148, 'lee': 1204, 'agreed': 2149, 'gosh': 2150, 'mybutthole': 2151, 'specifically': 2152, 'frakking': 2153, 'discovered': 1582, 'straight': 2154, 'firstly': 1118, '>': 397, 'ruining': 2155, 'grow': 2156, 'two': 354, 'showing': 917, 'chessboard': 2157, 'news': 455, 'kelsey': 1272, 'radcliffe': 1261, '.-mission': 2158, 'old': 919, 'row': 1281, 'hooked': 1776, 'could': 369, 'full': 920, 'bangs': 759, 'actor': 724, '\\\\': 2191, 'actually': 343, 'stone': 921, 'cousins': 2162, \"'m\": 311, 'enjoyment': 2163, 'more..': 2076, 'opinion': 176, 'jack': 636, 'their': 480, 'vampire': 923, 'sad': 355, 'google': 1116, 'pink': 2167, 'overslept': 1796, 'account': 2169, '.-i': 1347, 'hoffman': 924, 'tragically': 2171, 'minutes': 637, 'burnt': 1846, 'beat': 747, 'disruption': 1976, 'rocks': 182, 'ron': 925, 'fanfiction': 596, 'rv': 1037, 'btw': 927, 'retarded': 1860, 'degraw': 2174, 'suppose': 929, 'code-very': 2175, 'cut': 930, 'monsters': 2176, 'sentry': 301, 'for': 63, 'â™': 931, 'therefor': 2177, 'kirsten': 302, 'tons': 2258, '-yes': 2178, 'want': 59, 'screwed': 1425, 'enough': 933, 'can': 112, 'man': 158, '2.5': 256, 'well-executed': 2181, 'body': 766, 'talks': 2083, 'seeking': 2183, 'realize': 2184, 'possible': 1461, 'asleep': 934, 'characterization': 2186, 'huge': 1469, 'monthly': 2188, '33..': 1897, 'outside': 2309, 'clarksville': 2190, \"said'harry\": 1484, 'mood': 1487, '[': 379, 'al': 1663, 'new': 362, 'dork': 2086, 'cobequid': 2194, 'crappy': 427, 'measure': 2195, 'nor': 936, '30': 2196, 'lines': 2197, 'vic': 1180, 'oceanwalk': 2199, 'coming': 937, 'giving': 2200, 'ass..': 502, '10': 938, 'theaters': 939, 'wotshisface': 258, 'suck': 51, 'nature': 2202, 'sequels': 1697, 'moives': 2204, 'around..-the': 2205, 'keeps': 1176, 'novels': 1181, 'sucked..-love': 2207, 'clickfive': 2208, 'everyone': 380, 'conversation': 1985, 'rode': 2210, 're-reading': 943, 'who': 56, 'terrible': 86, 'mcphee': 2212, 'next': 638, 'rock-hard': 269, 'backdrop': 1254, 'ban': 592, 'soundtrack': 2214, 'escapades': 272, 'yahoo': 2046, 'twice': 2081, 'unauthorized': 1626, 'historical': 2217, 'tiffani': 1188, 'writing': 944, 'asshole': 2219, 'hank': 2220, 'creature': 2221, 'presented': 2222, 'kiss': 945, 'angel': 2223, '33': 2224, 'hello': 2225, 'others': 2089, 'cocktail': 816, 'wan': 533, 'used': 481, 'money': 482, 'reservations': 1905, 'few': 483, 'came': 640, 'brother': 1686, 'weekend': 946, 'longer': 2315, 'party': 947, 'marcia': 948, 'throat': 253, 'joan': 2230, 'ball': 2231, 'mountain-beautiful': 2232, 'gays': 2091, 'targeted': 2234, 'accompaniment': 949, 'cinema': 2235, '0': 2236, 'boys': 2237, 'france': 1750, 'an': 64, '12': 1754, 'hold': 950, 'anime': 2241, 'itz': 1260, 'you..': 1539, 'tell': 382, 'eyes': 1736, 'three-generation': 2246, 'raises': 2244, 'tv': 952, 'dakota': 2319, 'unbelievably': 953, \"book'da\": 2095, 'packs': 1917, 'power': 2248, 'kicking': 2249, 'sceneries': 2250, 'and': 5, 'involving': 2251, 'year': 442, 'theories': 2226, 'holy': 2253, 'anything': 406, 'total': 2255, 'down': 42, 'decided': 529, 'sucky': 1974, 'three': 383, 'me': 67, 'impossible': 20, 'murderball-immediately': 954, 'slow': 2257, 'standpoint': 979, '-and': 862, 'cringe': 940, 'spec': 2165, 'incredibly': 530, 'woo': 531, 'lower': 2259, 'seem': 2260, 'disappointing': 2261, 'homosexuality': 303, 'basket': 2262, 'attractive': 2263, 'guys..': 1694, \"hated'the\": 1657, 'too': 105, 'television': 2266, 'should': 384, 'axes': 2267, 'especially': 641, 'omen': 2269, 'dance': 955, 'shameful': 2100, 'change': 2270, 'thesis': 2271, 'days..': 2272, 'rofls': 2273, 'controversy': 790, 'narnia': 957, 'bootlegged': 2274, 'clubbin': 2275, 'burbank': 2276, 'geisha': 2277, 'finally': 532, 'tc': 700, 'book': 100, 'changes': 2278, 'dementors': 959, 'pirated': 2041, 'dissapointed': 2280, 'spend': 2281, 'rare': 2282, 'whos': 2283, 'featured': 2284, 'tomkat': 2285, 'enjoy': 385, 'hollywoord': 1151, 'yea': 702, 'proud': 960, 'donkey': 643, 'good': 103, 'forgotten': 961, '-ike..': 2287, '*': 323, ';': 644, 'ran': 928, 'well': 128, 'am': 57, 'chance': 2290, 'machine': 2291, 'honest': 1558, 'shell': 2103, 'collection': 2294, 'romantic': 2295, 'weeeellllllll': 2296, 'knights': 2297, 'campaign': 2298, 'dart': 1363, 'dumbest': 2300, 'think': 70, 'sucked': 31, 'kicked': 2302, '-': 443, 'yeah-i': 2303, 'critics': 645, 'blogbacklinksnippet': 2304, 'chick': 1044, 'characters': 2305, 'japenese': 2306, 'slash': 2180, 'iron': 2308, 'seriously': 2189, 'making': 160, 'hahahahahaha': 2268, 'myself': 646, 'horrible': 125, 'classic': 2311, 'sky': 964, 'here': 93, 'religion': 865, 'loathed': 2313, 'terrible..': 2314, 'over': 357, 'start': 96, 'scifi': 1332, 'dinner': 2316, 'clive': 2317, 'cold': 965, 'warns': 2293, 'patirot': 1445, 'symantec': 2245, 'cars': 2320, 'say': 320, 'nice': 966, 'simply': 967, 'feast': 2321, 'lesson': 2322, 'evil': 314, 'talking': 415, 'grips': 2323, 'inside': 2324, 'almost': 446, 'kaka..': 2325, 'on': 106, 'lost': 447, 'o': 1121, 'sisters': 2326, 'nanny': 2327, 'â€“': 752, 'receive': 1095, 'different': 534, 'congrats': 1760, 'week..-da': 2107})\n"
     ]
    }
   ],
   "source": [
    "# create our vocablary of most frequent words from the corpus\n",
    "counter = collections.Counter()\n",
    "fin = open(INPUT_FILE, 'r')\n",
    "maxlen = 0\n",
    "i = 0\n",
    "for line in fin:\n",
    "    sent = line.strip().split(\"\\t\")[1]\n",
    "    words = [x.lower() for x in nltk.word_tokenize(sent)]\n",
    "    if len(words) > maxlen:\n",
    "        maxlen = len(words)\n",
    "    for word in words:\n",
    "        counter[word] += 1\n",
    "fin.close()\n",
    "\n",
    "# create the word indexes and the reverse indexes for the words\n",
    "word2index = collections.defaultdict(int)\n",
    "for wid, word in enumerate(counter.most_common(VOCAB_SIZE)):\n",
    "    word2index[word[0]] = wid +1\n",
    "vocab_size = len(word2index) + 1\n",
    "index2word = {v:k for k,v in word2index.items()}\n",
    "print(len(word2index))\n",
    "print(\"\")\n",
    "print(word2index)\n",
    "# print(index2word)"
   ]
  },
  {
   "cell_type": "markdown",
   "metadata": {},
   "source": [
    "### Now pad the sentences to the maxlength and create the dataset for splitting"
   ]
  },
  {
   "cell_type": "code",
   "execution_count": 3,
   "metadata": {
    "collapsed": false
   },
   "outputs": [],
   "source": [
    "xs , ys = [], []\n",
    "fin = open(INPUT_FILE, \"r\")\n",
    "for line in fin:\n",
    "    label, sent = line.strip().split(\"\\t\")\n",
    "    ys.append(int(label))\n",
    "    words = [x.lower() for x in nltk.word_tokenize(sent)]\n",
    "    wids = [word2index[word] for word in words]\n",
    "    xs.append(wids)\n",
    "fin.close()\n",
    "X = pad_sequences(xs, maxlen=maxlen)\n",
    "Y = np_utils.to_categorical(ys)"
   ]
  },
  {
   "cell_type": "markdown",
   "metadata": {},
   "source": [
    "### Split the X and y to train and validation set using sklearn "
   ]
  },
  {
   "cell_type": "code",
   "execution_count": 4,
   "metadata": {
    "collapsed": false
   },
   "outputs": [
    {
     "name": "stdout",
     "output_type": "stream",
     "text": [
      "(4960, 42)   (2126, 42)   (4960, 2)   (2126, 2)\n"
     ]
    }
   ],
   "source": [
    "#print(maxlen) # 42 in this case\n",
    "# print(X.shape) # (7086 , 42) is the shape\n",
    "# print(Y.shape)  # (7086, 2) is the shape\n",
    "X_train, X_test, Y_train, Y_test = train_test_split(X, Y, test_size = 0.3, random_state=42)\n",
    "print(X_train.shape,\" \", X_test.shape,\" \", Y_train.shape, \" \", Y_test.shape)"
   ]
  },
  {
   "cell_type": "markdown",
   "metadata": {},
   "source": [
    "### Load the glove model trained weights"
   ]
  },
  {
   "cell_type": "code",
   "execution_count": null,
   "metadata": {
    "collapsed": false
   },
   "outputs": [],
   "source": [
    "# read the glove model weights from the file\n",
    "glove = {}\n",
    "fin = open(GLOVE_WEIGHTS, \"r\")\n",
    "for line in fin:\n",
    "    cols = line.strip().split(\" \")\n",
    "    word = cols[0]\n",
    "    vec = cols[1:]\n",
    "    glove[word] = vec\n",
    "fin.close\n",
    "    \n",
    "embedding_weights = np.zeros((vocab_size, EMBEDDING_SIZE))\n",
    "for word, index in word2index.items():\n",
    "    try:\n",
    "        embedding_weights[index:] = glove[word]\n",
    "    except KeyError:\n",
    "        pass"
   ]
  },
  {
   "cell_type": "markdown",
   "metadata": {},
   "source": [
    "### Now define the model and compile the model and fit the model on the train data"
   ]
  },
  {
   "cell_type": "code",
   "execution_count": 29,
   "metadata": {
    "collapsed": false
   },
   "outputs": [
    {
     "data": {
      "text/plain": [
       "(2330, 300)"
      ]
     },
     "execution_count": 29,
     "metadata": {},
     "output_type": "execute_result"
    }
   ],
   "source": [
    "embedding_weights.shape"
   ]
  },
  {
   "cell_type": "code",
   "execution_count": 32,
   "metadata": {
    "collapsed": false
   },
   "outputs": [
    {
     "name": "stdout",
     "output_type": "stream",
     "text": [
      "_________________________________________________________________\n",
      "Layer (type)                 Output Shape              Param #   \n",
      "=================================================================\n",
      "embedding_3 (Embedding)      (None, 42, 300)           699000    \n",
      "_________________________________________________________________\n",
      "spatial_dropout1d_1 (Spatial (None, 42, 300)           0         \n",
      "_________________________________________________________________\n",
      "conv1d_1 (Conv1D)            (None, 40, 256)           230656    \n",
      "_________________________________________________________________\n",
      "global_max_pooling1d_1 (Glob (None, 256)               0         \n",
      "_________________________________________________________________\n",
      "dense_1 (Dense)              (None, 2)                 514       \n",
      "=================================================================\n",
      "Total params: 930,170\n",
      "Trainable params: 930,170\n",
      "Non-trainable params: 0\n",
      "_________________________________________________________________\n"
     ]
    }
   ],
   "source": [
    "model = Sequential()\n",
    "# the difference is to initialize the embedding weight matrix with pretrained weights\n",
    "model.add(Embedding(vocab_size, EMBEDDING_SIZE, input_length=maxlen, weights=[embedding_weights]))  \n",
    "model.add(SpatialDropout1D(DROPOUT_RATE))\n",
    "model.add(Conv1D(filters=NUM_FILTERS, kernel_size=NUM_WORDS, activation=\"relu\"))\n",
    "model.add(GlobalMaxPooling1D())\n",
    "model.add(Dense(2, activation=\"softmax\"))\n",
    "model.summary()"
   ]
  },
  {
   "cell_type": "code",
   "execution_count": 33,
   "metadata": {
    "collapsed": false
   },
   "outputs": [
    {
     "name": "stdout",
     "output_type": "stream",
     "text": [
      "Train on 4960 samples, validate on 2126 samples\n",
      "Epoch 1/20\n",
      "4960/4960 [==============================] - 8s - loss: 0.2680 - acc: 0.8919 - val_loss: 0.0644 - val_acc: 0.9779\n",
      "Epoch 2/20\n",
      "4960/4960 [==============================] - 8s - loss: 0.0375 - acc: 0.9869 - val_loss: 0.0346 - val_acc: 0.9845\n",
      "Epoch 3/20\n",
      "4960/4960 [==============================] - 8s - loss: 0.0152 - acc: 0.9948 - val_loss: 0.0382 - val_acc: 0.9840\n",
      "Epoch 4/20\n",
      "4960/4960 [==============================] - 8s - loss: 0.0063 - acc: 0.9978 - val_loss: 0.0329 - val_acc: 0.9887\n",
      "Epoch 5/20\n",
      "4960/4960 [==============================] - 8s - loss: 0.0032 - acc: 0.9988 - val_loss: 0.0299 - val_acc: 0.9887\n",
      "Epoch 6/20\n",
      "4960/4960 [==============================] - 8s - loss: 0.0015 - acc: 0.9998 - val_loss: 0.0299 - val_acc: 0.9878\n",
      "Epoch 7/20\n",
      "4960/4960 [==============================] - 8s - loss: 0.0017 - acc: 0.9998 - val_loss: 0.0279 - val_acc: 0.9911\n",
      "Epoch 8/20\n",
      "4960/4960 [==============================] - 9s - loss: 0.0016 - acc: 0.9996 - val_loss: 0.0332 - val_acc: 0.9897\n",
      "Epoch 9/20\n",
      "4960/4960 [==============================] - 9s - loss: 0.0016 - acc: 0.9994 - val_loss: 0.0370 - val_acc: 0.9897\n",
      "Epoch 10/20\n",
      "4960/4960 [==============================] - 9s - loss: 0.0013 - acc: 0.9998 - val_loss: 0.0327 - val_acc: 0.9892\n",
      "Epoch 11/20\n",
      "4960/4960 [==============================] - 9s - loss: 0.0010 - acc: 0.9998 - val_loss: 0.0305 - val_acc: 0.9920\n",
      "Epoch 12/20\n",
      "4960/4960 [==============================] - 8s - loss: 0.0018 - acc: 0.9998 - val_loss: 0.0328 - val_acc: 0.9887\n",
      "Epoch 13/20\n",
      "4960/4960 [==============================] - 9s - loss: 0.0024 - acc: 0.9996 - val_loss: 0.0297 - val_acc: 0.9901\n",
      "Epoch 14/20\n",
      "4960/4960 [==============================] - 9s - loss: 0.0025 - acc: 0.9996 - val_loss: 0.0309 - val_acc: 0.9892\n",
      "Epoch 15/20\n",
      "4960/4960 [==============================] - 9s - loss: 0.0019 - acc: 0.9996 - val_loss: 0.0289 - val_acc: 0.9911\n",
      "Epoch 16/20\n",
      "4960/4960 [==============================] - 9s - loss: 0.0013 - acc: 0.9998 - val_loss: 0.0419 - val_acc: 0.9901\n",
      "Epoch 17/20\n",
      "4960/4960 [==============================] - 10s - loss: 9.8186e-04 - acc: 0.9998 - val_loss: 0.0296 - val_acc: 0.9906\n",
      "Epoch 18/20\n",
      "4960/4960 [==============================] - 10s - loss: 0.0013 - acc: 0.9998 - val_loss: 0.0424 - val_acc: 0.9906\n",
      "Epoch 19/20\n",
      "4960/4960 [==============================] - 10s - loss: 0.0014 - acc: 0.9998 - val_loss: 0.0441 - val_acc: 0.9868\n",
      "Epoch 20/20\n",
      "4960/4960 [==============================] - 10s - loss: 0.0014 - acc: 0.9998 - val_loss: 0.0434 - val_acc: 0.9911\n"
     ]
    }
   ],
   "source": [
    "# have the model compile and fit on the training data\n",
    "\n",
    "model.compile(loss=\"categorical_crossentropy\", optimizer=\"adam\", metrics=[\"accuracy\"])\n",
    "history = model.fit(X_train, Y_train, batch_size=BATCH_SIZE, epochs=NUM_EPOCHS, validation_data=(X_test, Y_test))"
   ]
  },
  {
   "cell_type": "code",
   "execution_count": 35,
   "metadata": {
    "collapsed": false
   },
   "outputs": [
    {
     "data": {
      "image/png": "[encoded data removed]",
      "text/plain": [
       "<matplotlib.figure.Figure at 0x1178b4128>"
      ]
     },
     "metadata": {},
     "output_type": "display_data"
    }
   ],
   "source": [
    "#plot loss function\n",
    "\n",
    "plt.subplot(211)\n",
    "plt.title(\"Accuracy\")\n",
    "plt.plot(history.history[\"acc\"], color=\"r\", label=\"train\")\n",
    "plt.plot(history.history[\"val_acc\"], color=\"b\", label=\"validation\")\n",
    "plt.legend(loc=\"best\")\n",
    "\n",
    "plt.subplot(212)\n",
    "plt.title(\"Loss\")\n",
    "plt.plot(history.history[\"loss\"], color=\"r\", label=\"train\")\n",
    "plt.plot(history.history[\"val_loss\"], color=\"b\", label=\"validation\")\n",
    "plt.legend(loc=\"best\")\n",
    "\n",
    "plt.tight_layout()\n",
    "plt.show()"
   ]
  },
  {
   "cell_type": "code",
   "execution_count": 36,
   "metadata": {
    "collapsed": false
   },
   "outputs": [
    {
     "name": "stdout",
     "output_type": "stream",
     "text": [
      "2080/2126 [============================>.] - ETA: 0s[0.043363538133573083, 0.99106302916274691]\n"
     ]
    }
   ],
   "source": [
    "# check the accuracy and the loss on the test set\n",
    "score = model.evaluate(X_test, Y_test, verbose=1)\n",
    "print(score)"
   ]
  },
  {
   "cell_type": "code",
   "execution_count": null,
   "metadata": {
    "collapsed": true
   },
   "outputs": [],
   "source": []
  }
 ],
 "metadata": {
  "kernelspec": {
   "display_name": "Python [Root]",
   "language": "python",
   "name": "Python [Root]"
  },
  "language_info": {
   "codemirror_mode": {
    "name": "ipython",
    "version": 3
   },
   "file_extension": ".py",
   "mimetype": "text/x-python",
   "name": "python",
   "nbconvert_exporter": "python",
   "pygments_lexer": "ipython3",
   "version": "3.5.2"
  }
 },
 "nbformat": 4,
 "nbformat_minor": 0
}
