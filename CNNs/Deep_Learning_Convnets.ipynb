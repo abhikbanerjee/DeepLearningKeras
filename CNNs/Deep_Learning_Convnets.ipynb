{
 "cells": [
  {
   "cell_type": "markdown",
   "metadata": {},
   "source": [
    "## Deep Learning with ConvNets"
   ]
  },
  {
   "cell_type": "code",
   "execution_count": 9,
   "metadata": {
    "collapsed": false
   },
   "outputs": [
    {
     "name": "stdout",
     "output_type": "stream",
     "text": [
      "2.0.4\n"
     ]
    }
   ],
   "source": [
    "import keras\n",
    "print(keras.__version__)\n",
    "\n",
    "# upgraded keras to 2.0.4\n",
    "# pip install --upgrade keras"
   ]
  },
  {
   "cell_type": "markdown",
   "metadata": {},
   "source": [
    "## LeNet Convolution Neural Network Code - MNIST Dataset"
   ]
  },
  {
   "cell_type": "code",
   "execution_count": 1,
   "metadata": {
    "collapsed": false
   },
   "outputs": [
    {
     "name": "stderr",
     "output_type": "stream",
     "text": [
      "Using Theano backend.\n"
     ]
    }
   ],
   "source": [
    "from keras import backend as k\n",
    "from keras.layers.core import Activation\n",
    "from keras.layers.core import Dense\n",
    "from keras.layers.convolutional import Convolution2D, Conv2D\n",
    "from keras.layers.pooling import MaxPooling2D\n",
    "from keras.datasets import mnist\n",
    "from keras.optimizers import RMSprop, Adam, SGD\n",
    "import numpy as np\n",
    "import matplotlib.pyplot as plt\n",
    "from keras.utils import np_utils\n",
    "from keras.models import Sequential\n",
    "from keras.layers.core import Flatten\n",
    "%matplotlib inline"
   ]
  },
  {
   "cell_type": "code",
   "execution_count": 2,
   "metadata": {
    "collapsed": false
   },
   "outputs": [],
   "source": [
    "# define the LeNet convnet model first as per the layer\n",
    "class LeNet:\n",
    "    def build(input_shape, classes):\n",
    "        model = Sequential()\n",
    "        #1st layer conv -> relu -> pooling\n",
    "        model.add(Convolution2D(20, kernel_size=5, padding='same', input_shape=input_shape))\n",
    "        model.add(Activation('relu'))\n",
    "        model.add(MaxPooling2D(strides=(2,2), pool_size=(2,2)))\n",
    "        #2nd layer conv -> relu -> pooling\n",
    "        model.add(Conv2D(50, kernel_size=5, border_mode='same'))\n",
    "        model.add(Activation('relu'))\n",
    "        model.add(MaxPooling2D(strides=(2,2), pool_size=(2,2)))        \n",
    "        # 3rd layer - for flattening the output and pass through the softmax\n",
    "        model.add(Flatten())\n",
    "        model.add(Dense(500))\n",
    "        model.add(Activation('relu'))\n",
    "        model.add(Dense(classes))\n",
    "        model.add(Activation('softmax'))\n",
    "        return model"
   ]
  },
  {
   "cell_type": "code",
   "execution_count": 6,
   "metadata": {
    "collapsed": false
   },
   "outputs": [
    {
     "name": "stdout",
     "output_type": "stream",
     "text": [
      "(60000, 28, 28)\n",
      "(10000, 28, 28)\n",
      "(60000, 1, 28, 28)\n",
      "(10000, 1, 28, 28)\n",
      "(60000,)\n",
      "(10000,)\n"
     ]
    }
   ],
   "source": [
    "# Repititive steps as last time for training the model\n",
    "\n",
    "OPTIMIZER = Adam()\n",
    "NB_EPOCHS = 20   # decreasing the number of epochs to reduce the time for MLP, also for the RMSPROP and ADAM optimizers\n",
    "SPLIT_PARAM = 0.2\n",
    "# RESHAPED = 784\n",
    "# NB_HIDDEN_NEURONS = 128\n",
    "NB_CLASSES = 10\n",
    "VERBOSE =1\n",
    "BATCH_SIZE = 128\n",
    "DROPOUT_RATE = 0.3\n",
    "NB_ROW, NB_COLS = 28, 28\n",
    "INPUT_SHAPE = (1,NB_ROW,NB_COLS)\n",
    "(X_train, Y_train), (X_test, Y_test) = mnist.load_data()\n",
    "k.set_image_dim_ordering(\"th\")\n",
    "\n",
    "X_train = X_train.astype('float32')\n",
    "X_test = X_test.astype('float32')\n",
    "\n",
    "#normalize the data\n",
    "X_train /= 255\n",
    "X_test /= 255\n",
    "\n",
    "#convert labels to a one hot encoding vector\n",
    "train_labels = np_utils.to_categorical(Y_train, NB_CLASSES)\n",
    "test_labels = np_utils.to_categorical(Y_test, NB_CLASSES)\n",
    "\n",
    "print(X_train.shape)\n",
    "print(X_test.shape)\n",
    "\n",
    "X_train = X_train[:, np.newaxis, :, :]\n",
    "X_test = X_test[:, np.newaxis, :, :]\n",
    "\n",
    "print(X_train.shape)\n",
    "print(X_test.shape)\n",
    "print(Y_train.shape)\n",
    "print(Y_test.shape)"
   ]
  },
  {
   "cell_type": "code",
   "execution_count": 4,
   "metadata": {
    "collapsed": false
   },
   "outputs": [
    {
     "name": "stderr",
     "output_type": "stream",
     "text": [
      "/Users/tkmacl9/anaconda/lib/python3.5/site-packages/ipykernel/__main__.py:10: UserWarning: Update your `Conv2D` call to the Keras 2 API: `Conv2D(50, kernel_size=5, padding=\"same\")`\n"
     ]
    },
    {
     "name": "stdout",
     "output_type": "stream",
     "text": [
      "_________________________________________________________________\n",
      "Layer (type)                 Output Shape              Param #   \n",
      "=================================================================\n",
      "conv2d_1 (Conv2D)            (None, 20, 28, 28)        520       \n",
      "_________________________________________________________________\n",
      "activation_1 (Activation)    (None, 20, 28, 28)        0         \n",
      "_________________________________________________________________\n",
      "max_pooling2d_1 (MaxPooling2 (None, 20, 14, 14)        0         \n",
      "_________________________________________________________________\n",
      "conv2d_2 (Conv2D)            (None, 50, 14, 14)        25050     \n",
      "_________________________________________________________________\n",
      "activation_2 (Activation)    (None, 50, 14, 14)        0         \n",
      "_________________________________________________________________\n",
      "max_pooling2d_2 (MaxPooling2 (None, 50, 7, 7)          0         \n",
      "_________________________________________________________________\n",
      "flatten_1 (Flatten)          (None, 2450)              0         \n",
      "_________________________________________________________________\n",
      "dense_1 (Dense)              (None, 500)               1225500   \n",
      "_________________________________________________________________\n",
      "activation_3 (Activation)    (None, 500)               0         \n",
      "_________________________________________________________________\n",
      "dense_2 (Dense)              (None, 10)                5010      \n",
      "_________________________________________________________________\n",
      "activation_4 (Activation)    (None, 10)                0         \n",
      "=================================================================\n",
      "Total params: 1,256,080\n",
      "Trainable params: 1,256,080\n",
      "Non-trainable params: 0\n",
      "_________________________________________________________________\n"
     ]
    }
   ],
   "source": [
    "#Initialize the Optimizer and train and test the model, and print the accuracy and other metrics along with \n",
    "# the graphs\n",
    "model = LeNet.build(input_shape=INPUT_SHAPE,classes=NB_CLASSES)\n",
    "model.summary()"
   ]
  },
  {
   "cell_type": "code",
   "execution_count": 7,
   "metadata": {
    "collapsed": false
   },
   "outputs": [
    {
     "name": "stdout",
     "output_type": "stream",
     "text": [
      "Train on 48000 samples, validate on 12000 samples\n",
      "Epoch 1/20\n",
      "48000/48000 [==============================] - 101s - loss: 0.1773 - acc: 0.9464 - val_loss: 0.0631 - val_acc: 0.9803\n",
      "Epoch 2/20\n",
      "48000/48000 [==============================] - 102s - loss: 0.0521 - acc: 0.9839 - val_loss: 0.0450 - val_acc: 0.9872\n",
      "Epoch 3/20\n",
      "48000/48000 [==============================] - 108s - loss: 0.0331 - acc: 0.9898 - val_loss: 0.0416 - val_acc: 0.9879\n",
      "Epoch 4/20\n",
      "48000/48000 [==============================] - 108s - loss: 0.0246 - acc: 0.9924 - val_loss: 0.0361 - val_acc: 0.9891\n",
      "Epoch 5/20\n",
      "48000/48000 [==============================] - 108s - loss: 0.0185 - acc: 0.9936 - val_loss: 0.0372 - val_acc: 0.9893\n",
      "Epoch 6/20\n",
      "48000/48000 [==============================] - 108s - loss: 0.0145 - acc: 0.9952 - val_loss: 0.0359 - val_acc: 0.9901\n",
      "Epoch 7/20\n",
      "48000/48000 [==============================] - 107s - loss: 0.0108 - acc: 0.9966 - val_loss: 0.0376 - val_acc: 0.9894\n",
      "Epoch 8/20\n",
      "48000/48000 [==============================] - 108s - loss: 0.0090 - acc: 0.9970 - val_loss: 0.0419 - val_acc: 0.9897\n",
      "Epoch 9/20\n",
      "48000/48000 [==============================] - 108s - loss: 0.0105 - acc: 0.9963 - val_loss: 0.0365 - val_acc: 0.9911\n",
      "Epoch 10/20\n",
      "48000/48000 [==============================] - 108s - loss: 0.0065 - acc: 0.9979 - val_loss: 0.0514 - val_acc: 0.9893\n",
      "Epoch 11/20\n",
      "48000/48000 [==============================] - 107s - loss: 0.0075 - acc: 0.9975 - val_loss: 0.0447 - val_acc: 0.9890\n",
      "Epoch 12/20\n",
      "48000/48000 [==============================] - 107s - loss: 0.0052 - acc: 0.9984 - val_loss: 0.0359 - val_acc: 0.9913\n",
      "Epoch 13/20\n",
      "48000/48000 [==============================] - 107s - loss: 0.0061 - acc: 0.9980 - val_loss: 0.0443 - val_acc: 0.9907\n",
      "Epoch 14/20\n",
      "48000/48000 [==============================] - 107s - loss: 0.0040 - acc: 0.9987 - val_loss: 0.0485 - val_acc: 0.9907\n",
      "Epoch 15/20\n",
      "48000/48000 [==============================] - 108s - loss: 0.0070 - acc: 0.9978 - val_loss: 0.0402 - val_acc: 0.9903\n",
      "Epoch 16/20\n",
      "48000/48000 [==============================] - 107s - loss: 0.0052 - acc: 0.9980 - val_loss: 0.0396 - val_acc: 0.9907\n",
      "Epoch 17/20\n",
      "48000/48000 [==============================] - 107s - loss: 0.0028 - acc: 0.9990 - val_loss: 0.0403 - val_acc: 0.9925\n",
      "Epoch 18/20\n",
      "48000/48000 [==============================] - 107s - loss: 0.0021 - acc: 0.9992 - val_loss: 0.0340 - val_acc: 0.9920\n",
      "Epoch 19/20\n",
      "48000/48000 [==============================] - 108s - loss: 0.0011 - acc: 0.9997 - val_loss: 0.0376 - val_acc: 0.9927\n",
      "Epoch 20/20\n",
      "48000/48000 [==============================] - 107s - loss: 1.2597e-04 - acc: 1.0000 - val_loss: 0.0364 - val_acc: 0.9932\n"
     ]
    }
   ],
   "source": [
    "# Compile the Model , and train and test\n",
    "# There was a dimension mismatch error which was resolved using the sparse loss function\n",
    "model.compile(optimizer=OPTIMIZER, loss='sparse_categorical_crossentropy', metrics=['accuracy'])\n",
    "history = model.fit(X_train, Y_train, batch_size=BATCH_SIZE, epochs=NB_EPOCHS, verbose=VERBOSE, validation_split=SPLIT_PARAM)"
   ]
  },
  {
   "cell_type": "code",
   "execution_count": 8,
   "metadata": {
    "collapsed": false
   },
   "outputs": [
    {
     "name": "stdout",
     "output_type": "stream",
     "text": [
      "10000/10000 [==============================] - 7s     \n",
      "Test Score:  0.032260034822\n",
      "Test Accuracy:  0.9937\n",
      "dict_keys(['val_acc', 'val_loss', 'acc', 'loss'])\n"
     ]
    },
    {
     "data": {
      "image/png": "[encoded data removed]",
      "text/plain": [
       "<matplotlib.figure.Figure at 0x1101cf828>"
      ]
     },
     "metadata": {},
     "output_type": "display_data"
    }
   ],
   "source": [
    "score = model.evaluate(X_test, Y_test, verbose=VERBOSE)\n",
    "print('Test Score: ', score[0])\n",
    "print('Test Accuracy: ', score[1])\n",
    "\n",
    "#list all data in history\n",
    "print(history.history.keys())\n",
    "\n",
    "#Summarize history for accuracy\n",
    "plt.plot(history.history['acc'])\n",
    "plt.plot(history.history['val_acc'])\n",
    "plt.title('Model Accuracy')\n",
    "plt.ylabel('Accuracy')\n",
    "plt.xlabel('Epoch')\n",
    "plt.legend(['train', 'test'], loc='upper left')\n",
    "plt.show()"
   ]
  },
  {
   "cell_type": "code",
   "execution_count": 9,
   "metadata": {
    "collapsed": false
   },
   "outputs": [
    {
     "data": {
      "image/png": "[encoded data removed]",
      "text/plain": [
       "<matplotlib.figure.Figure at 0x11ee95208>"
      ]
     },
     "metadata": {},
     "output_type": "display_data"
    }
   ],
   "source": [
    "#Summarize history for Loss\n",
    "plt.plot(history.history['loss'])\n",
    "plt.plot(history.history['val_loss'])\n",
    "plt.title('Model Loss')\n",
    "plt.ylabel('Loss')\n",
    "plt.xlabel('Epoch')\n",
    "plt.legend(['train', 'test'], loc='upper left')\n",
    "plt.show()"
   ]
  },
  {
   "cell_type": "code",
   "execution_count": null,
   "metadata": {
    "collapsed": true
   },
   "outputs": [],
   "source": []
  }
 ],
 "metadata": {
  "anaconda-cloud": {},
  "kernelspec": {
   "display_name": "Python [Root]",
   "language": "python",
   "name": "Python [Root]"
  },
  "language_info": {
   "codemirror_mode": {
    "name": "ipython",
    "version": 3
   },
   "file_extension": ".py",
   "mimetype": "text/x-python",
   "name": "python",
   "nbconvert_exporter": "python",
   "pygments_lexer": "ipython3",
   "version": "3.5.2"
  }
 },
 "nbformat": 4,
 "nbformat_minor": 0
}
