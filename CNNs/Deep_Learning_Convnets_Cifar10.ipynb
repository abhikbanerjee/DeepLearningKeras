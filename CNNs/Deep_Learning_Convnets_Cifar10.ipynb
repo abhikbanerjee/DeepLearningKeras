{
 "cells": [
  {
   "cell_type": "markdown",
   "metadata": {},
   "source": [
    "## Deep Learning with ConvNets"
   ]
  },
  {
   "cell_type": "code",
   "execution_count": 9,
   "metadata": {
    "collapsed": false
   },
   "outputs": [
    {
     "name": "stdout",
     "output_type": "stream",
     "text": [
      "2.0.4\n"
     ]
    }
   ],
   "source": [
    "import keras\n",
    "print(keras.__version__)\n",
    "\n",
    "# upgraded keras to 2.0.4\n",
    "# pip install --upgrade keras"
   ]
  },
  {
   "cell_type": "markdown",
   "metadata": {},
   "source": [
    "## Convolution Neural Network Code - CIFAR 10 Dataset"
   ]
  },
  {
   "cell_type": "code",
   "execution_count": 1,
   "metadata": {
    "collapsed": false
   },
   "outputs": [
    {
     "name": "stderr",
     "output_type": "stream",
     "text": [
      "Using Theano backend.\n"
     ]
    }
   ],
   "source": [
    "from keras import backend as k\n",
    "from keras.layers.core import Dense, Activation, Flatten, Dropout\n",
    "from keras.layers.convolutional import Convolution2D, Conv2D\n",
    "from keras.layers.pooling import MaxPooling2D\n",
    "from keras.datasets import mnist,cifar10\n",
    "from keras.optimizers import RMSprop, Adam, SGD\n",
    "import numpy as np\n",
    "import matplotlib.pyplot as plt\n",
    "from keras.utils import np_utils\n",
    "from keras.models import Sequential\n",
    "%matplotlib inline"
   ]
  },
  {
   "cell_type": "code",
   "execution_count": 2,
   "metadata": {
    "collapsed": false
   },
   "outputs": [
    {
     "name": "stdout",
     "output_type": "stream",
     "text": [
      "[6]\n",
      "(50000, 32, 32, 3)\n",
      "(10000, 32, 32, 3)\n",
      "[ 0.  0.  0.  0.  0.  0.  1.  0.  0.  0.]\n"
     ]
    }
   ],
   "source": [
    "# Repititive steps as last time for training the model\n",
    "\n",
    "OPTIMIZER = RMSprop()\n",
    "NB_EPOCHS = 20   # decreasing the number of epochs to reduce the time for MLP, also for the RMSPROP and ADAM optimizers\n",
    "SPLIT_PARAM = 0.2\n",
    "NB_CLASSES = 10\n",
    "VERBOSE =1\n",
    "BATCH_SIZE = 128\n",
    "DROPOUT_RATE = 0.25\n",
    "NB_ROW, NB_COLS = 32, 32\n",
    "NB_CHANNELS = 3\n",
    "INPUT_SHAPE = (NB_ROW,NB_COLS, NB_CHANNELS)\n",
    "(X_train, Y_train), (X_test, Y_test) = cifar10.load_data()\n",
    "#k.set_image_dim_ordering(\"th\")\n",
    "\n",
    "X_train = X_train.astype('float32')\n",
    "X_test = X_test.astype('float32')\n",
    "\n",
    "#normalize the data\n",
    "X_train /= 255\n",
    "X_test /= 255\n",
    "\n",
    "print(Y_train[0])\n",
    "\n",
    "#convert labels to a one hot encoding vector\n",
    "train_labels = np_utils.to_categorical(Y_train, NB_CLASSES)\n",
    "test_labels = np_utils.to_categorical(Y_test, NB_CLASSES)\n",
    "\n",
    "print(X_train.shape)\n",
    "print(X_test.shape)\n",
    "\n",
    "print(train_labels[0])"
   ]
  },
  {
   "cell_type": "markdown",
   "metadata": {},
   "source": [
    "### Define the Convnet model for CIFAR 10 dataset"
   ]
  },
  {
   "cell_type": "code",
   "execution_count": 6,
   "metadata": {
    "collapsed": false
   },
   "outputs": [
    {
     "name": "stdout",
     "output_type": "stream",
     "text": [
      "_________________________________________________________________\n",
      "Layer (type)                 Output Shape              Param #   \n",
      "=================================================================\n",
      "conv2d_2 (Conv2D)            (None, 32, 32, 32)        896       \n",
      "_________________________________________________________________\n",
      "activation_3 (Activation)    (None, 32, 32, 32)        0         \n",
      "_________________________________________________________________\n",
      "max_pooling2d_2 (MaxPooling2 (None, 16, 16, 32)        0         \n",
      "_________________________________________________________________\n",
      "dropout_3 (Dropout)          (None, 16, 16, 32)        0         \n",
      "_________________________________________________________________\n",
      "flatten_2 (Flatten)          (None, 8192)              0         \n",
      "_________________________________________________________________\n",
      "dense_2 (Dense)              (None, 512)               4194816   \n",
      "_________________________________________________________________\n",
      "activation_4 (Activation)    (None, 512)               0         \n",
      "_________________________________________________________________\n",
      "dropout_4 (Dropout)          (None, 512)               0         \n",
      "_________________________________________________________________\n",
      "dense_3 (Dense)              (None, 10)                5130      \n",
      "_________________________________________________________________\n",
      "activation_5 (Activation)    (None, 10)                0         \n",
      "=================================================================\n",
      "Total params: 4,200,842\n",
      "Trainable params: 4,200,842\n",
      "Non-trainable params: 0\n",
      "_________________________________________________________________\n"
     ]
    }
   ],
   "source": [
    "#Define the Convnet model for CIFAR 10 dataset\n",
    "model = Sequential()\n",
    "#1st layer conv -> relu -> pooling\n",
    "model.add(Conv2D(32, kernel_size=3, padding='same', input_shape=INPUT_SHAPE))\n",
    "model.add(Activation('relu'))\n",
    "model.add(MaxPooling2D(pool_size=(2,2)))\n",
    "model.add(Dropout(DROPOUT_RATE))\n",
    "# 3rd layer - for flattening the output and pass through the softmax\n",
    "model.add(Flatten())\n",
    "model.add(Dense(512))\n",
    "model.add(Activation('relu'))\n",
    "model.add(Dropout(DROPOUT_RATE))\n",
    "model.add(Dense(NB_CLASSES))\n",
    "model.add(Activation('softmax'))\n",
    "model.summary()"
   ]
  },
  {
   "cell_type": "code",
   "execution_count": 8,
   "metadata": {
    "collapsed": false
   },
   "outputs": [
    {
     "name": "stdout",
     "output_type": "stream",
     "text": [
      "Train on 40000 samples, validate on 10000 samples\n",
      "Epoch 1/20\n",
      "40000/40000 [==============================] - 94s - loss: 1.6762 - acc: 0.4091 - val_loss: 1.4308 - val_acc: 0.4761\n",
      "Epoch 2/20\n",
      "40000/40000 [==============================] - 95s - loss: 1.3106 - acc: 0.5363 - val_loss: 1.4679 - val_acc: 0.4681\n",
      "Epoch 3/20\n",
      "40000/40000 [==============================] - 130s - loss: 1.1684 - acc: 0.5910 - val_loss: 1.3165 - val_acc: 0.5401\n",
      "Epoch 4/20\n",
      "40000/40000 [==============================] - 140s - loss: 1.0734 - acc: 0.6237 - val_loss: 1.1226 - val_acc: 0.6066\n",
      "Epoch 5/20\n",
      "40000/40000 [==============================] - 142s - loss: 0.9872 - acc: 0.6555 - val_loss: 1.0861 - val_acc: 0.6181\n",
      "Epoch 6/20\n",
      "40000/40000 [==============================] - 139s - loss: 0.9085 - acc: 0.6807 - val_loss: 1.0838 - val_acc: 0.6329\n",
      "Epoch 7/20\n",
      "40000/40000 [==============================] - 144s - loss: 0.8410 - acc: 0.7050 - val_loss: 1.0713 - val_acc: 0.6385\n",
      "Epoch 8/20\n",
      "40000/40000 [==============================] - 138s - loss: 0.7806 - acc: 0.7301 - val_loss: 1.0058 - val_acc: 0.6602\n",
      "Epoch 9/20\n",
      "40000/40000 [==============================] - 138s - loss: 0.7217 - acc: 0.7512 - val_loss: 1.0259 - val_acc: 0.6526\n",
      "Epoch 10/20\n",
      "40000/40000 [==============================] - 137s - loss: 0.6655 - acc: 0.7700 - val_loss: 1.0743 - val_acc: 0.6470\n",
      "Epoch 11/20\n",
      "40000/40000 [==============================] - 137s - loss: 0.6180 - acc: 0.7850 - val_loss: 1.0102 - val_acc: 0.6756\n",
      "Epoch 12/20\n",
      "40000/40000 [==============================] - 135s - loss: 0.5671 - acc: 0.8051 - val_loss: 1.0834 - val_acc: 0.6490\n",
      "Epoch 13/20\n",
      "40000/40000 [==============================] - 879s - loss: 0.5222 - acc: 0.8183 - val_loss: 1.0222 - val_acc: 0.6709\n",
      "Epoch 14/20\n",
      "40000/40000 [==============================] - 137s - loss: 0.4872 - acc: 0.8314 - val_loss: 1.0824 - val_acc: 0.6668\n",
      "Epoch 15/20\n",
      "40000/40000 [==============================] - 142s - loss: 0.4478 - acc: 0.8448 - val_loss: 1.0603 - val_acc: 0.6706\n",
      "Epoch 16/20\n",
      "40000/40000 [==============================] - 140s - loss: 0.4186 - acc: 0.8557 - val_loss: 1.1067 - val_acc: 0.6733\n",
      "Epoch 17/20\n",
      "40000/40000 [==============================] - 138s - loss: 0.3874 - acc: 0.8651 - val_loss: 1.1332 - val_acc: 0.6670\n",
      "Epoch 18/20\n",
      "40000/40000 [==============================] - 144s - loss: 0.3595 - acc: 0.8773 - val_loss: 1.1943 - val_acc: 0.6673\n",
      "Epoch 19/20\n",
      "40000/40000 [==============================] - 144s - loss: 0.3360 - acc: 0.8865 - val_loss: 1.1499 - val_acc: 0.6750\n",
      "Epoch 20/20\n",
      "40000/40000 [==============================] - 138s - loss: 0.3141 - acc: 0.8922 - val_loss: 1.2575 - val_acc: 0.6717\n"
     ]
    }
   ],
   "source": [
    "# Compile the Model , and train and test\n",
    "model.compile(optimizer=OPTIMIZER, loss='sparse_categorical_crossentropy', metrics=['accuracy'])\n",
    "history = model.fit(X_train, Y_train, batch_size=BATCH_SIZE, epochs=NB_EPOCHS, verbose=VERBOSE, \n",
    "                    validation_split=SPLIT_PARAM)"
   ]
  },
  {
   "cell_type": "code",
   "execution_count": 10,
   "metadata": {
    "collapsed": false
   },
   "outputs": [
    {
     "name": "stdout",
     "output_type": "stream",
     "text": [
      " 9952/10000 [============================>.] - ETA: 0sTest Score:  1.28646185226\n",
      "Test Accuracy:  0.6589\n",
      "dict_keys(['loss', 'acc', 'val_acc', 'val_loss'])\n"
     ]
    },
    {
     "data": {
      "image/png": "[encoded data removed]",
      "text/plain": [
       "<matplotlib.figure.Figure at 0x118ec5a58>"
      ]
     },
     "metadata": {},
     "output_type": "display_data"
    }
   ],
   "source": [
    "score = model.evaluate(X_test, Y_test, verbose=VERBOSE)\n",
    "print('Test Score: ', score[0])\n",
    "print('Test Accuracy: ', score[1])\n",
    "\n",
    "#list all data in history\n",
    "print(history.history.keys())\n",
    "\n",
    "#Summarize history for accuracy\n",
    "plt.plot(history.history['acc'])\n",
    "plt.plot(history.history['val_acc'])\n",
    "plt.title('Model Accuracy')\n",
    "plt.ylabel('Accuracy')\n",
    "plt.xlabel('Epoch')\n",
    "plt.legend(['train', 'test'], loc='upper left')\n",
    "plt.show()"
   ]
  },
  {
   "cell_type": "code",
   "execution_count": 11,
   "metadata": {
    "collapsed": false
   },
   "outputs": [
    {
     "data": {
      "image/png": "[encoded data removed]",
      "text/plain": [
       "<matplotlib.figure.Figure at 0x1465715c0>"
      ]
     },
     "metadata": {},
     "output_type": "display_data"
    }
   ],
   "source": [
    "#Summarize history for Loss\n",
    "plt.plot(history.history['loss'])\n",
    "plt.plot(history.history['val_loss'])\n",
    "plt.title('Model Loss')\n",
    "plt.ylabel('Loss')\n",
    "plt.xlabel('Epoch')\n",
    "plt.legend(['train', 'test'], loc='upper left')\n",
    "plt.show()"
   ]
  },
  {
   "cell_type": "code",
   "execution_count": 12,
   "metadata": {
    "collapsed": true
   },
   "outputs": [],
   "source": [
    "#Saving the model json and the weights of the trainer model\n",
    "model_json = model.to_json()\n",
    "open('/Users/tkmacl9/Desktop/FastAIDLCourse/nbs/KerasDeepLearning/cifar_10_1.json', 'w').write(model_json)\n",
    "# save the weights \n",
    "model.save_weights('/Users/tkmacl9/Desktop/FastAIDLCourse/nbs/KerasDeepLearning/cifar_10_1_weights.h5', overwrite=True)"
   ]
  },
  {
   "cell_type": "markdown",
   "metadata": {},
   "source": [
    "### Making the Model deeper by adding more layers to improve the performance of CIFAR 10 , conv -> conv -> maxpool -> dropout "
   ]
  },
  {
   "cell_type": "code",
   "execution_count": 8,
   "metadata": {
    "collapsed": false
   },
   "outputs": [
    {
     "name": "stdout",
     "output_type": "stream",
     "text": [
      "_________________________________________________________________\n",
      "Layer (type)                 Output Shape              Param #   \n",
      "=================================================================\n",
      "conv2d_1 (Conv2D)            (None, 32, 32, 32)        896       \n",
      "_________________________________________________________________\n",
      "activation_1 (Activation)    (None, 32, 32, 32)        0         \n",
      "_________________________________________________________________\n",
      "conv2d_2 (Conv2D)            (None, 32, 32, 32)        9248      \n",
      "_________________________________________________________________\n",
      "activation_2 (Activation)    (None, 32, 32, 32)        0         \n",
      "_________________________________________________________________\n",
      "max_pooling2d_1 (MaxPooling2 (None, 16, 16, 32)        0         \n",
      "_________________________________________________________________\n",
      "dropout_1 (Dropout)          (None, 16, 16, 32)        0         \n",
      "_________________________________________________________________\n",
      "conv2d_3 (Conv2D)            (None, 16, 16, 64)        18496     \n",
      "_________________________________________________________________\n",
      "activation_3 (Activation)    (None, 16, 16, 64)        0         \n",
      "_________________________________________________________________\n",
      "conv2d_4 (Conv2D)            (None, 16, 16, 64)        36928     \n",
      "_________________________________________________________________\n",
      "activation_4 (Activation)    (None, 16, 16, 64)        0         \n",
      "_________________________________________________________________\n",
      "max_pooling2d_2 (MaxPooling2 (None, 8, 8, 64)          0         \n",
      "_________________________________________________________________\n",
      "dropout_2 (Dropout)          (None, 8, 8, 64)          0         \n",
      "_________________________________________________________________\n",
      "flatten_1 (Flatten)          (None, 4096)              0         \n",
      "_________________________________________________________________\n",
      "dense_1 (Dense)              (None, 512)               2097664   \n",
      "_________________________________________________________________\n",
      "activation_5 (Activation)    (None, 512)               0         \n",
      "_________________________________________________________________\n",
      "dropout_3 (Dropout)          (None, 512)               0         \n",
      "_________________________________________________________________\n",
      "dense_2 (Dense)              (None, 10)                5130      \n",
      "_________________________________________________________________\n",
      "activation_6 (Activation)    (None, 10)                0         \n",
      "=================================================================\n",
      "Total params: 2,168,362\n",
      "Trainable params: 2,168,362\n",
      "Non-trainable params: 0\n",
      "_________________________________________________________________\n"
     ]
    }
   ],
   "source": [
    "model = Sequential()\n",
    "# 1st layer of the DNN\n",
    "model.add(Conv2D(32, (3,3), padding='same', input_shape=INPUT_SHAPE))\n",
    "model.add(Activation('relu'))\n",
    "model.add(Conv2D(32, (3,3), padding='same'))\n",
    "model.add(Activation('relu'))\n",
    "model.add(MaxPooling2D(pool_size=(2,2)))\n",
    "model.add(Dropout(DROPOUT_RATE))\n",
    "\n",
    "# 2nd layer of the DNN\n",
    "model.add(Conv2D(64, (3,3), padding='same'))\n",
    "model.add(Activation('relu'))\n",
    "model.add(Conv2D(64, (3,3), padding='same'))\n",
    "model.add(Activation('relu'))\n",
    "model.add(MaxPooling2D(pool_size=(2,2)))\n",
    "model.add(Dropout(DROPOUT_RATE))\n",
    "\n",
    "# Final dense layer\n",
    "model.add(Flatten())\n",
    "model.add(Dense(512))\n",
    "model.add(Activation('relu'))\n",
    "model.add(Dropout(DROPOUT_RATE))\n",
    "model.add(Dense(NB_CLASSES))\n",
    "model.add(Activation('softmax'))\n",
    "\n",
    "model.summary()"
   ]
  },
  {
   "cell_type": "code",
   "execution_count": 14,
   "metadata": {
    "collapsed": false
   },
   "outputs": [
    {
     "name": "stdout",
     "output_type": "stream",
     "text": [
      "Train on 40000 samples, validate on 10000 samples\n",
      "Epoch 1/20\n",
      "40000/40000 [==============================] - 315s - loss: 1.7987 - acc: 0.3533 - val_loss: 1.4821 - val_acc: 0.4668\n",
      "Epoch 2/20\n",
      "40000/40000 [==============================] - 305s - loss: 1.2864 - acc: 0.5411 - val_loss: 1.1121 - val_acc: 0.5990\n",
      "Epoch 3/20\n",
      "40000/40000 [==============================] - 323s - loss: 1.0478 - acc: 0.6294 - val_loss: 1.0310 - val_acc: 0.6339\n",
      "Epoch 4/20\n",
      "40000/40000 [==============================] - 353s - loss: 0.8953 - acc: 0.6863 - val_loss: 0.8991 - val_acc: 0.6844\n",
      "Epoch 5/20\n",
      "40000/40000 [==============================] - 338s - loss: 0.7794 - acc: 0.7281 - val_loss: 0.8046 - val_acc: 0.7227\n",
      "Epoch 6/20\n",
      "40000/40000 [==============================] - 333s - loss: 0.6933 - acc: 0.7603 - val_loss: 0.8940 - val_acc: 0.6936\n",
      "Epoch 7/20\n",
      "40000/40000 [==============================] - 330s - loss: 0.6118 - acc: 0.7870 - val_loss: 0.8904 - val_acc: 0.7040\n",
      "Epoch 8/20\n",
      "40000/40000 [==============================] - 315s - loss: 0.5464 - acc: 0.8102 - val_loss: 0.7713 - val_acc: 0.7489\n",
      "Epoch 9/20\n",
      "40000/40000 [==============================] - 321s - loss: 0.4855 - acc: 0.8293 - val_loss: 0.7636 - val_acc: 0.7440\n",
      "Epoch 10/20\n",
      "40000/40000 [==============================] - 326s - loss: 0.4389 - acc: 0.8487 - val_loss: 0.7644 - val_acc: 0.7512\n",
      "Epoch 11/20\n",
      "40000/40000 [==============================] - 322s - loss: 0.3967 - acc: 0.8616 - val_loss: 0.7480 - val_acc: 0.7643\n",
      "Epoch 12/20\n",
      "40000/40000 [==============================] - 321s - loss: 0.3654 - acc: 0.8753 - val_loss: 0.7906 - val_acc: 0.7664\n",
      "Epoch 13/20\n",
      "40000/40000 [==============================] - 320s - loss: 0.3487 - acc: 0.8801 - val_loss: 0.8681 - val_acc: 0.7861\n",
      "Epoch 14/20\n",
      "40000/40000 [==============================] - 323s - loss: 0.3250 - acc: 0.8878 - val_loss: 0.7304 - val_acc: 0.7770\n",
      "Epoch 15/20\n",
      "40000/40000 [==============================] - 321s - loss: 0.3069 - acc: 0.8950 - val_loss: 0.9853 - val_acc: 0.7442\n",
      "Epoch 16/20\n",
      "40000/40000 [==============================] - 320s - loss: 0.2979 - acc: 0.8987 - val_loss: 0.8556 - val_acc: 0.7790\n",
      "Epoch 17/20\n",
      "40000/40000 [==============================] - 323s - loss: 0.2864 - acc: 0.9040 - val_loss: 0.7978 - val_acc: 0.7717\n",
      "Epoch 18/20\n",
      "40000/40000 [==============================] - 571s - loss: 0.2796 - acc: 0.9074 - val_loss: 0.8337 - val_acc: 0.7773\n",
      "Epoch 19/20\n",
      "40000/40000 [==============================] - 464s - loss: 0.2829 - acc: 0.9071 - val_loss: 1.0913 - val_acc: 0.7695\n",
      "Epoch 20/20\n",
      "40000/40000 [==============================] - 423s - loss: 0.2719 - acc: 0.9117 - val_loss: 1.0248 - val_acc: 0.7836\n"
     ]
    }
   ],
   "source": [
    "model.compile(optimizer=OPTIMIZER, loss='sparse_categorical_crossentropy', metrics=['accuracy'])\n",
    "history = model.fit(X_train, Y_train, batch_size=BATCH_SIZE, epochs=NB_EPOCHS, verbose=VERBOSE, \n",
    "                    validation_split=SPLIT_PARAM)"
   ]
  },
  {
   "cell_type": "code",
   "execution_count": 15,
   "metadata": {
    "collapsed": false
   },
   "outputs": [
    {
     "name": "stdout",
     "output_type": "stream",
     "text": [
      " 9984/10000 [============================>.] - ETA: 0sTest Score:  1.08187987537\n",
      "Test Accuracy:  0.7774\n",
      "dict_keys(['loss', 'acc', 'val_acc', 'val_loss'])\n"
     ]
    },
    {
     "data": {
      "image/png": "[encoded data removed]",
      "text/plain": [
       "<matplotlib.figure.Figure at 0x14b2ceeb8>"
      ]
     },
     "metadata": {},
     "output_type": "display_data"
    }
   ],
   "source": [
    "score = model.evaluate(X_test, Y_test, verbose=VERBOSE)\n",
    "print('Test Score: ', score[0])\n",
    "print('Test Accuracy: ', score[1])\n",
    "\n",
    "#list all data in history\n",
    "print(history.history.keys())\n",
    "\n",
    "#Summarize history for accuracy\n",
    "plt.plot(history.history['acc'])\n",
    "plt.plot(history.history['val_acc'])\n",
    "plt.title('Model Accuracy')\n",
    "plt.ylabel('Accuracy')\n",
    "plt.xlabel('Epoch')\n",
    "plt.legend(['train', 'test'], loc='upper left')\n",
    "plt.show()"
   ]
  },
  {
   "cell_type": "code",
   "execution_count": 16,
   "metadata": {
    "collapsed": false
   },
   "outputs": [
    {
     "data": {
      "image/png": "[encoded data removed]",
      "text/plain": [
       "<matplotlib.figure.Figure at 0x14b5104e0>"
      ]
     },
     "metadata": {},
     "output_type": "display_data"
    }
   ],
   "source": [
    "#Summarize history for Loss\n",
    "plt.plot(history.history['loss'])\n",
    "plt.plot(history.history['val_loss'])\n",
    "plt.title('Model Loss')\n",
    "plt.ylabel('Loss')\n",
    "plt.xlabel('Epoch')\n",
    "plt.legend(['train', 'test'], loc='upper left')\n",
    "plt.show()"
   ]
  },
  {
   "cell_type": "code",
   "execution_count": 11,
   "metadata": {
    "collapsed": false
   },
   "outputs": [],
   "source": [
    "#Saving the model json and the weights of the trainer model\n",
    "model_json = model.to_json()\n",
    "open('/Users/tkmacl9/Desktop/FastAIDLCourse/nbs/KerasDeepLearning/cifar_10_new_imgs.json', 'w').write(model_json)\n",
    "# save the weights \n",
    "model.save_weights('/Users/tkmacl9/Desktop/FastAIDLCourse/nbs/KerasDeepLearning/cifar_10_new_imgs_weights.h5', overwrite=True)"
   ]
  },
  {
   "cell_type": "code",
   "execution_count": null,
   "metadata": {
    "collapsed": true
   },
   "outputs": [],
   "source": []
  }
 ],
 "metadata": {
  "anaconda-cloud": {},
  "kernelspec": {
   "display_name": "Python [Root]",
   "language": "python",
   "name": "Python [Root]"
  },
  "language_info": {
   "codemirror_mode": {
    "name": "ipython",
    "version": 3
   },
   "file_extension": ".py",
   "mimetype": "text/x-python",
   "name": "python",
   "nbconvert_exporter": "python",
   "pygments_lexer": "ipython3",
   "version": "3.5.2"
  }
 },
 "nbformat": 4,
 "nbformat_minor": 0
}
