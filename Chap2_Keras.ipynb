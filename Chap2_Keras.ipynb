{
 "cells": [
  {
   "cell_type": "markdown",
   "metadata": {
    "collapsed": false
   },
   "source": [
    "## Chapter 2 for Keras Implementation"
   ]
  },
  {
   "cell_type": "code",
   "execution_count": 1,
   "metadata": {
    "collapsed": false
   },
   "outputs": [
    {
     "name": "stderr",
     "output_type": "stream",
     "text": [
      "Using TensorFlow backend.\n"
     ]
    }
   ],
   "source": [
    "# vi ~/.keras/keras.json - the config to point to TF or TH can be changed here.\n",
    "import keras\n",
    "import tensorflow as tf"
   ]
  },
  {
   "cell_type": "markdown",
   "metadata": {},
   "source": [
    "### Exploring the various Keras API's"
   ]
  },
  {
   "cell_type": "code",
   "execution_count": 2,
   "metadata": {
    "collapsed": true
   },
   "outputs": [],
   "source": [
    "import numpy as np\n",
    "from keras.models import Sequential\n",
    "from keras.activations import relu, softmax\n",
    "from keras.layers.core import Activation, Dense, Dropout\n",
    "from keras.datasets import mnist"
   ]
  },
  {
   "cell_type": "code",
   "execution_count": 4,
   "metadata": {
    "collapsed": false
   },
   "outputs": [],
   "source": [
    "# The various packages for RNN, GRU, LSTM and Simple RNN\n",
    "from keras.layers.recurrent import Recurrent\n",
    "from keras.layers.recurrent import GRU\n",
    "from keras.layers.recurrent import LSTM\n",
    "from keras.layers.recurrent import SimpleRNN"
   ]
  },
  {
   "cell_type": "code",
   "execution_count": null,
   "metadata": {
    "collapsed": true
   },
   "outputs": [],
   "source": [
    "# The various Convolution and Pooling layers\n",
    "from keras.layers.convolutional import Conv1D\n",
    "from keras.layers.convolutional import Conv2D\n",
    "from keras.layers.pooling import MaxPooling1D\n",
    "from keras.layers.pooling import MaxPooling2D"
   ]
  },
  {
   "cell_type": "code",
   "execution_count": null,
   "metadata": {
    "collapsed": true
   },
   "outputs": [],
   "source": [
    "# there are various ways of regularization - includes the kernel_regularizer (on weights)\n",
    "# bias_regularizer (on the bias_weights), activity_regularizer (on the activation function)\n",
    "# apart from that there is Dropout used for regularization \n",
    "import  keras.regularizers.ActivityRegularizer\n",
    "import keras.regularizers.WeightRegularizer\n",
    "\n",
    "from keras.layers.core import Dropout # this has rate , noise_shape and seed (for random seed value)"
   ]
  },
  {
   "cell_type": "code",
   "execution_count": null,
   "metadata": {
    "collapsed": true
   },
   "outputs": [],
   "source": [
    "# Batch normalization mostly used for GAN and Wavenet\n",
    "from keras.layers.normalization import BatchNormalization"
   ]
  },
  {
   "cell_type": "code",
   "execution_count": null,
   "metadata": {
    "collapsed": true
   },
   "outputs": [],
   "source": [
    "# Loss functions and various categories of loss functions\n",
    "# 1. binary_accuracy, categorical_accuracy, sparse_categorical_accuracy and top_k_categorical_accuracy\n",
    "# 2. loss - mse, rmse , mae (mean absolute error), mape (mean percentage error), msle (mean squared logarithmic error)\n",
    "# 3. hinge loss - max(1- y_true * y_pred, 0) and squared hinge loss\n",
    "# 4. class log - binary cross entropy and categorical cross entropy"
   ]
  },
  {
   "cell_type": "code",
   "execution_count": null,
   "metadata": {
    "collapsed": true
   },
   "outputs": [],
   "source": [
    "# Saving and Loading the weights and the architecture of the model\n",
    "\n",
    "#save as json model or yaml model \n",
    "model.to_json() or model.to_yaml()\n",
    "#loading the model \n",
    "from keras.models import model_from_json\n",
    "from keras.models import model_from_yaml\n",
    "model_from_json(json_string)\n",
    "model_from_yaml(yaml_string)\n",
    "\n",
    "#only save the weights \n",
    "from keras.models import load_model \n",
    "del model # deletes the model.\n",
    "model.save('my_model.h5')\n",
    "load_model('my_model.h5')"
   ]
  },
  {
   "cell_type": "code",
   "execution_count": null,
   "metadata": {
    "collapsed": true
   },
   "outputs": [],
   "source": []
  }
 ],
 "metadata": {
  "anaconda-cloud": {},
  "kernelspec": {
   "display_name": "Python [Root]",
   "language": "python",
   "name": "Python [Root]"
  },
  "language_info": {
   "codemirror_mode": {
    "name": "ipython",
    "version": 3
   },
   "file_extension": ".py",
   "mimetype": "text/x-python",
   "name": "python",
   "nbconvert_exporter": "python",
   "pygments_lexer": "ipython3",
   "version": "3.5.2"
  }
 },
 "nbformat": 4,
 "nbformat_minor": 0
}
