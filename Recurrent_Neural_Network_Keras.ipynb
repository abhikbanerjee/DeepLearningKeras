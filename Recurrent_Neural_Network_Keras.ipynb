{
 "cells": [
  {
   "cell_type": "markdown",
   "metadata": {},
   "source": [
    "## This notebook covers some of the use cases of RNN , LSTM and GRU cells"
   ]
  },
  {
   "cell_type": "code",
   "execution_count": 2,
   "metadata": {
    "collapsed": false
   },
   "outputs": [
    {
     "name": "stderr",
     "output_type": "stream",
     "text": [
      "Using Theano backend.\n"
     ]
    }
   ],
   "source": [
    "import tensorflow\n",
    "from keras.layers.core import Dense, Activation\n",
    "from keras.layers.recurrent import SimpleRNN\n",
    "from keras.models import Sequential\n",
    "from keras.utils.vis_utils import plot_model\n",
    "import numpy as np"
   ]
  },
  {
   "cell_type": "markdown",
   "metadata": {},
   "source": [
    "### Read the text and create a vocab of characters and dictionary"
   ]
  },
  {
   "cell_type": "code",
   "execution_count": 7,
   "metadata": {
    "collapsed": false
   },
   "outputs": [
    {
     "name": "stdout",
     "output_type": "stream",
     "text": [
      "167551\n"
     ]
    }
   ],
   "source": [
    "fin = open(\"/Users/tkmacl9/Desktop/FastAIDLCourse/nbs/KerasDeepLearning/alice_in_wonderland.txt\", \"r\")\n",
    "lines = []\n",
    "for line in fin:\n",
    "    line.strip().lower().replace(\"\\n\",\"\")\n",
    "    line.encode(\"ascii\", errors=\"ignore\")\n",
    "    if len(line)==0:\n",
    "        continue\n",
    "    lines.append(line)\n",
    "fin.close()\n",
    "# lines\n",
    "text = \" \".join(lines)\n",
    "text.replace(\"\\n\",\"\")\n",
    "print(len(text))\n",
    "# print(type(text))"
   ]
  },
  {
   "cell_type": "code",
   "execution_count": 3,
   "metadata": {
    "collapsed": false
   },
   "outputs": [],
   "source": [
    "# Create the dictionary for char to index\n",
    "chars = set([c for c in text])\n",
    "nb_chars = len(chars)\n",
    "char2index = dict((c,i) for i,c in enumerate(chars))\n",
    "index2char = dict((i,c) for i,c in enumerate(chars))\n"
   ]
  },
  {
   "cell_type": "code",
   "execution_count": 5,
   "metadata": {
    "collapsed": false
   },
   "outputs": [
    {
     "name": "stdout",
     "output_type": "stream",
     "text": [
      "86\n",
      "86\n",
      "\n",
      "{'Z': 0, 'e': 1, 'x': 2, 'd': 44, 'L': 45, '[': 46, 'q': 47, 'P': 48, 'Y': 4, 'G': 49, '.': 5, 'm': 6, 'i': 50, '5': 8, 'T': 51, 'U': 52, 'R': 9, ':': 53, '“': 10, ']': 85, '0': 54, 'r': 11, '#': 55, 'O': 73, 'l': 13, 'y': 56, 'A': 14, '?': 15, 'w': 57, '9': 58, 's': 16, 'J': 18, '7': 59, ';': 60, 'z': 61, 'N': 62, ')': 63, 'a': 64, '6': 21, '_': 22, 'j': 3, 'F': 65, 'H': 23, '’': 19, 'B': 24, '(': 66, '1': 67, 'f': 68, '”': 25, '*': 12, 'M': 26, '\\n': 70, 'Q': 71, 'k': 72, 't': 27, 'W': 28, '!': 74, 'I': 29, 'c': 75, '4': 30, 'h': 76, '-': 31, '@': 32, 'v': 33, '8': 77, '%': 7, 'K': 34, '/': 35, 'E': 78, 'b': 20, 'n': 36, 'V': 37, 'S': 69, 'D': 38, '$': 39, 'p': 40, 'o': 17, 'u': 79, '‘': 80, '3': 81, 'X': 82, '2': 83, ',': 84, 'g': 41, 'C': 42, ' ': 43}\n"
     ]
    }
   ],
   "source": [
    "print(len(char2index))\n",
    "print(len(index2char))\n",
    "print(\"\")\n",
    "print(char2index)"
   ]
  },
  {
   "cell_type": "markdown",
   "metadata": {},
   "source": [
    "### Convert the text in the form of sequences for the training sets and labels"
   ]
  },
  {
   "cell_type": "code",
   "execution_count": 16,
   "metadata": {
    "collapsed": false
   },
   "outputs": [
    {
     "name": "stdout",
     "output_type": "stream",
     "text": [
      "167541\n",
      "167541\n",
      "\n",
      "Project Gu - t\n",
      "roject Gut - e\n",
      "oject Gute - n\n",
      "ject Guten - b\n",
      "ect Gutenb - e\n",
      "ct Gutenbe - r\n",
      "t Gutenber - g\n",
      " Gutenberg - ’\n",
      "Gutenberg’ - s\n",
      "utenberg’s -  \n",
      "tenberg’s  - A\n",
      "enberg’s A - l\n",
      "nberg’s Al - i\n",
      "berg’s Ali - c\n",
      "erg’s Alic - e\n",
      "rg’s Alice - ’\n",
      "g’s Alice’ - s\n",
      "’s Alice’s -  \n",
      "s Alice’s  - A\n",
      " Alice’s A - d\n"
     ]
    }
   ],
   "source": [
    "# Define some of the Parameters\n",
    "SEQLENGTH = 10\n",
    "BATCH_SIZE = 128\n",
    "HIDDEN_NEURONS = 128\n",
    "STEP = 1\n",
    "NUM_ITERATIONS = 25\n",
    "NUM_EPOCHS_PER_ITERATION = 1\n",
    "NUM_PREDS_PER_EPOCH = 100\n",
    "\n",
    "input_chars = []\n",
    "label_chars = []\n",
    "\n",
    "for i in range(0, len(text)-SEQLENGTH, STEP):\n",
    "    input_chars.append(text[i: i + SEQLENGTH])\n",
    "    label_chars.append(text[i+SEQLENGTH])\n",
    "\n",
    "# to test the Input characters and the Label Character data look and feel\n",
    "print(len(input_chars))\n",
    "print(len(label_chars))\n",
    "print(\"\")\n",
    "for ind in range(0,20):\n",
    "    print(input_chars[ind] + \" - \"+ label_chars[ind])"
   ]
  },
  {
   "cell_type": "markdown",
   "metadata": {},
   "source": [
    "### Convert the input_chars and the label_chars to vector formats to feed into the RNN model"
   ]
  },
  {
   "cell_type": "code",
   "execution_count": 22,
   "metadata": {
    "collapsed": false
   },
   "outputs": [
    {
     "name": "stdout",
     "output_type": "stream",
     "text": [
      "(167541, 10, 86)\n",
      "(10, 86)\n"
     ]
    }
   ],
   "source": [
    "X = np.zeros((len(input_chars), SEQLENGTH, nb_chars), dtype=np.bool)\n",
    "Y = np.zeros(( SEQLENGTH, nb_chars), dtype=np.bool)\n",
    "\n",
    "print(X.shape)\n",
    "print(Y.shape)\n",
    "\n",
    "# now create the X and the Y vectors which will be used as our datasets to traing the RNN model\n",
    "\n",
    "\n"
   ]
  },
  {
   "cell_type": "markdown",
   "metadata": {},
   "source": [
    "### Define the model with the required parameters"
   ]
  },
  {
   "cell_type": "code",
   "execution_count": 18,
   "metadata": {
    "collapsed": false
   },
   "outputs": [
    {
     "name": "stdout",
     "output_type": "stream",
     "text": [
      "_________________________________________________________________\n",
      "Layer (type)                 Output Shape              Param #   \n",
      "=================================================================\n",
      "simple_rnn_1 (SimpleRNN)     (None, 128)               27520     \n",
      "_________________________________________________________________\n",
      "dense_1 (Dense)              (None, 86)                11094     \n",
      "_________________________________________________________________\n",
      "activation_1 (Activation)    (None, 86)                0         \n",
      "=================================================================\n",
      "Total params: 38,614\n",
      "Trainable params: 38,614\n",
      "Non-trainable params: 0\n",
      "_________________________________________________________________\n"
     ]
    }
   ],
   "source": [
    "model = Sequential()\n",
    "model.add(SimpleRNN(RNN_CELLS, return_sequences = False,input_shape=(SEQLENGTH, nb_chars), unroll=True))\n",
    "model.add(Dense(nb_chars))\n",
    "model.add(Activation(\"softmax\"))\n",
    "model.summary()\n",
    "\n",
    "# have the model compile\n",
    "model.compile(loss='categorical_crossentropy', optimizer='rmsprop')"
   ]
  },
  {
   "cell_type": "markdown",
   "metadata": {},
   "source": [
    "### Train the model and test it , in each epoch unless the output looks great"
   ]
  },
  {
   "cell_type": "code",
   "execution_count": null,
   "metadata": {
    "collapsed": true
   },
   "outputs": [],
   "source": []
  }
 ],
 "metadata": {
  "anaconda-cloud": {},
  "kernelspec": {
   "display_name": "Python [Root]",
   "language": "python",
   "name": "Python [Root]"
  },
  "language_info": {
   "codemirror_mode": {
    "name": "ipython",
    "version": 3
   },
   "file_extension": ".py",
   "mimetype": "text/x-python",
   "name": "python",
   "nbconvert_exporter": "python",
   "pygments_lexer": "ipython3",
   "version": "3.5.2"
  }
 },
 "nbformat": 4,
 "nbformat_minor": 0
}
