{
 "cells": [
  {
   "cell_type": "markdown",
   "metadata": {},
   "source": [
    "## This notebook works on Word Embeddings using Keras (from scratch)"
   ]
  },
  {
   "cell_type": "markdown",
   "metadata": {},
   "source": [
    "### Import the libraries and define the arguments"
   ]
  },
  {
   "cell_type": "code",
   "execution_count": 1,
   "metadata": {
    "collapsed": false
   },
   "outputs": [],
   "source": [
    "# import the necessary libraries\n",
    "from keras.layers.core import Dense, Activation, Dropout, SpatialDropout1D \n",
    "from keras.layers.convolutional import Conv1D, Conv2D\n",
    "from keras.layers.embeddings import Embedding\n",
    "from keras.layers.pooling import GlobalMaxPooling1D\n",
    "from keras.models import Sequential\n",
    "from keras.utils import np_utils\n",
    "from keras.preprocessing.sequence import pad_sequences\n",
    "import keras.backend as K\n",
    "\n",
    "import nltk\n",
    "import collections\n",
    "import matplotlib.pyplot as plt\n",
    "import numpy as np\n",
    "\n",
    "from sklearn.model_selection import train_test_split\n",
    "%matplotlib inline\n",
    "\n",
    "np.random.seed(42)\n",
    "\n",
    "INPUT_FILE = \"/Users/tkmacl9/Desktop/FastAIDLCourse/datasets/umich_sentiment_dataset/train.txt\"\n",
    "VOCAB_SIZE = 5000\n",
    "EMBEDDING_SIZE = 100\n",
    "NUM_FILTERS=256\n",
    "NUM_WORDS = 3\n",
    "BATCH_SIZE = 64\n",
    "NUM_EPOCHS = 20\n",
    "DROPOUT_RATE = float(0.2)"
   ]
  },
  {
   "cell_type": "markdown",
   "metadata": {},
   "source": [
    "### Learn Embeddings from Scratch"
   ]
  },
  {
   "cell_type": "code",
   "execution_count": 2,
   "metadata": {
    "collapsed": false
   },
   "outputs": [
    {
     "name": "stdout",
     "output_type": "stream",
     "text": [
      "2329\n",
      "\n",
      "2329\n"
     ]
    }
   ],
   "source": [
    "# create our vocablary of most frequent words from the corpus\n",
    "counter = collections.Counter()\n",
    "fin = open(INPUT_FILE, 'r')\n",
    "maxlen = 0\n",
    "i = 0\n",
    "for line in fin:\n",
    "    sent = line.strip().split(\"\\t\")[1]\n",
    "    words = [x.lower() for x in nltk.word_tokenize(sent)]\n",
    "    if len(words) > maxlen:\n",
    "        maxlen = len(words)\n",
    "    for word in words:\n",
    "        counter[word] += 1\n",
    "fin.close()\n",
    "\n",
    "# create the word indexes and the reverse indexes for the words\n",
    "word2index = collections.defaultdict(int)\n",
    "for wid, word in enumerate(counter.most_common(VOCAB_SIZE)):\n",
    "    word2index[word[0]] = wid +1\n",
    "vocab_size = len(word2index) + 1\n",
    "index2word = {v:k for k,v in word2index.items()}\n",
    "print(len(word2index))\n",
    "print(\"\")\n",
    "print(len(index2word))"
   ]
  },
  {
   "cell_type": "markdown",
   "metadata": {},
   "source": [
    "### Now pad the sentences to the maxlength and create the dataset for splitting"
   ]
  },
  {
   "cell_type": "code",
   "execution_count": 39,
   "metadata": {
    "collapsed": false
   },
   "outputs": [],
   "source": [
    "xs , ys = [], []\n",
    "fin = open(INPUT_FILE, \"r\")\n",
    "for line in fin:\n",
    "    label, sent = line.strip().split(\"\\t\")\n",
    "    ys.append(int(label))\n",
    "    words = [x.lower() for x in nltk.word_tokenize(sent)]\n",
    "    wids = [word2index[word] for word in words]\n",
    "    xs.append(wids)\n",
    "fin.close()\n",
    "X = pad_sequences(xs, maxlen=maxlen)\n",
    "Y = np_utils.to_categorical(ys)"
   ]
  },
  {
   "cell_type": "markdown",
   "metadata": {},
   "source": [
    "### Split the X and y to train and validation set using sklearn "
   ]
  },
  {
   "cell_type": "code",
   "execution_count": 46,
   "metadata": {
    "collapsed": false
   },
   "outputs": [],
   "source": [
    "#print(maxlen) # 42 in this case\n",
    "# print(X.shape) # (7086 , 42) is the shape\n",
    "# print(Y.shape)  # (7086, 2) is the shape\n",
    "X_train, X_test, Y_train, Y_test = train_test_split(X, Y, test_size = 0.3, random_state=42)\n"
   ]
  },
  {
   "cell_type": "markdown",
   "metadata": {},
   "source": [
    "### Now define the model and compile the model and fit the model on the train data"
   ]
  },
  {
   "cell_type": "code",
   "execution_count": 53,
   "metadata": {
    "collapsed": false
   },
   "outputs": [
    {
     "name": "stdout",
     "output_type": "stream",
     "text": [
      "_________________________________________________________________\n",
      "Layer (type)                 Output Shape              Param #   \n",
      "=================================================================\n",
      "embedding_3 (Embedding)      (None, 42, 100)           233000    \n",
      "_________________________________________________________________\n",
      "spatial_dropout1d_3 (Spatial (None, 42, 100)           0         \n",
      "_________________________________________________________________\n",
      "conv1d_1 (Conv1D)            (None, 40, 256)           77056     \n",
      "_________________________________________________________________\n",
      "global_max_pooling1d_1 (Glob (None, 256)               0         \n",
      "_________________________________________________________________\n",
      "dense_1 (Dense)              (None, 2)                 514       \n",
      "=================================================================\n",
      "Total params: 310,570\n",
      "Trainable params: 310,570\n",
      "Non-trainable params: 0\n",
      "_________________________________________________________________\n"
     ]
    }
   ],
   "source": [
    "model = Sequential()\n",
    "model.add(Embedding(vocab_size, EMBEDDING_SIZE, input_length=maxlen))\n",
    "model.add(SpatialDropout1D(DROPOUT_RATE))\n",
    "model.add(Conv1D(filters=NUM_FILTERS, kernel_size=NUM_WORDS, activation=\"relu\"))\n",
    "model.add(GlobalMaxPooling1D())\n",
    "model.add(Dense(2, activation=\"softmax\"))\n",
    "model.summary()"
   ]
  },
  {
   "cell_type": "code",
   "execution_count": 56,
   "metadata": {
    "collapsed": false
   },
   "outputs": [
    {
     "name": "stdout",
     "output_type": "stream",
     "text": [
      "Train on 4960 samples, validate on 2126 samples\n",
      "Epoch 1/20\n",
      "4960/4960 [==============================] - 3s - loss: 6.5000e-04 - acc: 0.9998 - val_loss: 0.0252 - val_acc: 0.9939\n",
      "Epoch 2/20\n",
      "4960/4960 [==============================] - 3s - loss: 9.1719e-04 - acc: 0.9998 - val_loss: 0.0254 - val_acc: 0.9939\n",
      "Epoch 3/20\n",
      "4960/4960 [==============================] - 4s - loss: 0.0021 - acc: 0.9996 - val_loss: 0.0253 - val_acc: 0.9939\n",
      "Epoch 4/20\n",
      "4960/4960 [==============================] - 4s - loss: 0.0010 - acc: 0.9998 - val_loss: 0.0276 - val_acc: 0.9929\n",
      "Epoch 5/20\n",
      "4960/4960 [==============================] - 4s - loss: 0.0013 - acc: 0.9998 - val_loss: 0.0268 - val_acc: 0.9925\n",
      "Epoch 6/20\n",
      "4960/4960 [==============================] - 4s - loss: 7.3826e-04 - acc: 0.9998 - val_loss: 0.0262 - val_acc: 0.9934\n",
      "Epoch 7/20\n",
      "4960/4960 [==============================] - 4s - loss: 9.8499e-04 - acc: 0.9998 - val_loss: 0.0302 - val_acc: 0.9929\n",
      "Epoch 8/20\n",
      "4960/4960 [==============================] - 4s - loss: 0.0019 - acc: 0.9996 - val_loss: 0.0236 - val_acc: 0.9939\n",
      "Epoch 9/20\n",
      "4960/4960 [==============================] - 4s - loss: 6.3909e-04 - acc: 0.9998 - val_loss: 0.0244 - val_acc: 0.9934\n",
      "Epoch 10/20\n",
      "4960/4960 [==============================] - 4s - loss: 7.8628e-04 - acc: 0.9998 - val_loss: 0.0269 - val_acc: 0.9925\n",
      "Epoch 11/20\n",
      "4960/4960 [==============================] - 4s - loss: 0.0012 - acc: 0.9996 - val_loss: 0.0288 - val_acc: 0.9925\n",
      "Epoch 12/20\n",
      "4960/4960 [==============================] - 3s - loss: 8.3453e-04 - acc: 0.9998 - val_loss: 0.0259 - val_acc: 0.9929\n",
      "Epoch 13/20\n",
      "4960/4960 [==============================] - 4s - loss: 5.2666e-04 - acc: 0.9998 - val_loss: 0.0257 - val_acc: 0.9929\n",
      "Epoch 14/20\n",
      "4960/4960 [==============================] - 4s - loss: 5.9892e-04 - acc: 0.9998 - val_loss: 0.0251 - val_acc: 0.9934\n",
      "Epoch 15/20\n",
      "4960/4960 [==============================] - 4s - loss: 0.0016 - acc: 0.9996 - val_loss: 0.0246 - val_acc: 0.9934\n",
      "Epoch 16/20\n",
      "4960/4960 [==============================] - 4s - loss: 7.9961e-04 - acc: 0.9998 - val_loss: 0.0253 - val_acc: 0.9925\n",
      "Epoch 17/20\n",
      "4960/4960 [==============================] - 4s - loss: 0.0011 - acc: 0.9996 - val_loss: 0.0240 - val_acc: 0.9929\n",
      "Epoch 18/20\n",
      "4960/4960 [==============================] - 4s - loss: 0.0012 - acc: 0.9998 - val_loss: 0.0239 - val_acc: 0.9934\n",
      "Epoch 19/20\n",
      "4960/4960 [==============================] - 4s - loss: 1.9156e-04 - acc: 0.9998 - val_loss: 0.0246 - val_acc: 0.9934\n",
      "Epoch 20/20\n",
      "4960/4960 [==============================] - 4s - loss: 6.3889e-04 - acc: 0.9996 - val_loss: 0.0247 - val_acc: 0.9929\n"
     ]
    }
   ],
   "source": [
    "# have the model compile and fit on the training data\n",
    "\n",
    "model.compile(loss=\"categorical_crossentropy\", optimizer=\"adam\", metrics=[\"accuracy\"])\n",
    "history = model.fit(X_train, Y_train, batch_size=BATCH_SIZE, epochs=NUM_EPOCHS, validation_data=(X_test, Y_test))"
   ]
  },
  {
   "cell_type": "code",
   "execution_count": 61,
   "metadata": {
    "collapsed": false
   },
   "outputs": [
    {
     "data": {
      "image/png": "[encoded data removed]",
      "text/plain": [
       "<matplotlib.figure.Figure at 0x1143f7c18>"
      ]
     },
     "metadata": {},
     "output_type": "display_data"
    }
   ],
   "source": [
    "#plot loss function\n",
    "\n",
    "plt.subplot(211)\n",
    "plt.title(\"Accuracy\")\n",
    "plt.plot(history.history[\"acc\"], color=\"r\", label=\"train\")\n",
    "plt.plot(history.history[\"val_acc\"], color=\"b\", label=\"validation\")\n",
    "plt.legend(loc=\"best\")\n",
    "\n",
    "plt.subplot(212)\n",
    "plt.title(\"Loss\")\n",
    "plt.plot(history.history[\"loss\"], color=\"r\", label=\"train\")\n",
    "plt.plot(history.history[\"val_loss\"], color=\"b\", label=\"validation\")\n",
    "plt.legend(loc=\"best\")\n",
    "\n",
    "plt.tight_layout()\n",
    "plt.show()"
   ]
  },
  {
   "cell_type": "code",
   "execution_count": 63,
   "metadata": {
    "collapsed": false
   },
   "outputs": [
    {
     "name": "stdout",
     "output_type": "stream",
     "text": [
      "2048/2126 [===========================>..] - ETA: 0s[0.024659918369843624, 0.99294449670743179]\n"
     ]
    }
   ],
   "source": [
    "# check the accuracy and the loss on the test set\n",
    "score = model.evaluate(X_test, Y_test, verbose=1)\n",
    "print(score)"
   ]
  },
  {
   "cell_type": "code",
   "execution_count": null,
   "metadata": {
    "collapsed": true
   },
   "outputs": [],
   "source": []
  }
 ],
 "metadata": {
  "anaconda-cloud": {},
  "kernelspec": {
   "display_name": "Python [Root]",
   "language": "python",
   "name": "Python [Root]"
  },
  "language_info": {
   "codemirror_mode": {
    "name": "ipython",
    "version": 3
   },
   "file_extension": ".py",
   "mimetype": "text/x-python",
   "name": "python",
   "nbconvert_exporter": "python",
   "pygments_lexer": "ipython3",
   "version": "3.5.2"
  }
 },
 "nbformat": 4,
 "nbformat_minor": 0
}
