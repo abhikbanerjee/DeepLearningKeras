{
 "cells": [
  {
   "cell_type": "markdown",
   "metadata": {},
   "source": [
    "# Notebook to test Stateful RNN's - UCI electricity load"
   ]
  },
  {
   "cell_type": "markdown",
   "metadata": {},
   "source": [
    "### Read Sample data and plot the usage for customer 250"
   ]
  },
  {
   "cell_type": "code",
   "execution_count": 10,
   "metadata": {
    "collapsed": false
   },
   "outputs": [],
   "source": [
    "import numpy as np\n",
    "import matplotlib.pyplot as plt\n",
    "import re\n",
    "\n",
    "%matplotlib inline\n",
    "\n",
    "data = []\n",
    "cid = 250\n",
    "\n",
    "fin = open(\"/Users/tkmacl9/Desktop/FastAIDLCourse/nbs/datasets/UCI_electricity/LD2011_2014.txt\", \"r\")\n",
    "for line in fin:\n",
    "    if line.startswith(\"\\\"\\\";\"):\n",
    "        continue\n",
    "    cols = [float(re.sub(\",\",\".\",x)) for x in line.strip().split(\";\")[1:]]\n",
    "    data.append(cols[cid])\n",
    "fin.close()"
   ]
  },
  {
   "cell_type": "code",
   "execution_count": 11,
   "metadata": {
    "collapsed": false
   },
   "outputs": [
    {
     "name": "stdout",
     "output_type": "stream",
     "text": [
      "140256\n"
     ]
    }
   ],
   "source": [
    "print(len(data))"
   ]
  },
  {
   "cell_type": "markdown",
   "metadata": {},
   "source": [
    "### Plot 1000 data points for customer 250"
   ]
  },
  {
   "cell_type": "code",
   "execution_count": 12,
   "metadata": {
    "collapsed": false
   },
   "outputs": [
    {
     "data": {
      "image/png": "[encoded data removed]",
      "text/plain": [
       "<matplotlib.figure.Figure at 0x10c744518>"
      ]
     },
     "metadata": {},
     "output_type": "display_data"
    }
   ],
   "source": [
    "NUM_ENTRIES =  1000\n",
    "\n",
    "plt.plot(range(NUM_ENTRIES), data[0:NUM_ENTRIES])\n",
    "plt.ylabel(\"Electricity Consumption\")\n",
    "plt.xlabel(\"time (1pt = 15 mins )\")\n",
    "plt.show()\n",
    "\n",
    "np.save(\"LD_250.npy\", np.array(data))"
   ]
  },
  {
   "cell_type": "code",
   "execution_count": 26,
   "metadata": {
    "collapsed": false
   },
   "outputs": [
    {
     "name": "stdout",
     "output_type": "stream",
     "text": [
      "(140256,)\n",
      "(140256,)\n",
      "(140256,)\n"
     ]
    },
    {
     "name": "stderr",
     "output_type": "stream",
     "text": [
      "/Users/tkmacl9/anaconda/lib/python3.5/site-packages/sklearn/preprocessing/data.py:321: DeprecationWarning: Passing 1d arrays as data is deprecated in 0.17 and will raise ValueError in 0.19. Reshape your data either using X.reshape(-1, 1) if your data has a single feature or X.reshape(1, -1) if it contains a single sample.\n",
      "  warnings.warn(DEPRECATION_MSG_1D, DeprecationWarning)\n",
      "/Users/tkmacl9/anaconda/lib/python3.5/site-packages/sklearn/preprocessing/data.py:356: DeprecationWarning: Passing 1d arrays as data is deprecated in 0.17 and will raise ValueError in 0.19. Reshape your data either using X.reshape(-1, 1) if your data has a single feature or X.reshape(1, -1) if it contains a single sample.\n",
      "  warnings.warn(DEPRECATION_MSG_1D, DeprecationWarning)\n"
     ]
    }
   ],
   "source": [
    "from sklearn.preprocessing import MinMaxScaler\n",
    "\n",
    "# load the data back and reshape the data (num_smaples, 1) ans apply minmax scaler to the data\n",
    "data = np.load(\"LD_250.npy\")\n",
    "print(data.shape)\n",
    "data.reshape(-1,1)\n",
    "print(data.shape)\n",
    "\n",
    "scaler = MinMaxScaler(feature_range=(0,1), copy=False)\n",
    "data = scaler.fit_transform(data)\n",
    "\n",
    "print(data.shape)"
   ]
  },
  {
   "cell_type": "markdown",
   "metadata": {},
   "source": [
    "### Reshape the data into timesteps for X and Y"
   ]
  },
  {
   "cell_type": "code",
   "execution_count": 30,
   "metadata": {
    "collapsed": false
   },
   "outputs": [
    {
     "name": "stdout",
     "output_type": "stream",
     "text": [
      "(140256, 20)\n",
      "(140256, 1)\n",
      " \n",
      "[ 0.37875314  0.38970776  0.32776504  0.29137096  0.28041635  0.30592859\n",
      "  0.29864978  0.28773156  0.28409215  0.29864978  0.28773156  0.26221931\n",
      "  0.24766168  0.30228919  0.29501037  0.27677694  0.27313753  0.309568\n",
      "  0.29137096  0.27677694]\n",
      "[ 0.30228919]\n"
     ]
    }
   ],
   "source": [
    "NUM_TIMESTEPS = 20\n",
    "\n",
    "X = np.zeros((data.shape[0], NUM_TIMESTEPS))\n",
    "Y = np.zeros((data.shape[0], 1))\n",
    "\n",
    "for i in range(len(data) - NUM_TIMESTEPS -1):\n",
    "    X[i] = data[i: i+ NUM_TIMESTEPS].T\n",
    "    Y[i] = data[i+NUM_TIMESTEPS + 1]\n",
    "\n",
    "print(X.shape)\n",
    "print(Y.shape)\n",
    "print(\" \")\n",
    "print(X[0])\n",
    "print(Y[0])"
   ]
  },
  {
   "cell_type": "code",
   "execution_count": null,
   "metadata": {
    "collapsed": true
   },
   "outputs": [],
   "source": []
  }
 ],
 "metadata": {
  "kernelspec": {
   "display_name": "Python [Root]",
   "language": "python",
   "name": "Python [Root]"
  },
  "language_info": {
   "codemirror_mode": {
    "name": "ipython",
    "version": 3
   },
   "file_extension": ".py",
   "mimetype": "text/x-python",
   "name": "python",
   "nbconvert_exporter": "python",
   "pygments_lexer": "ipython3",
   "version": "3.5.2"
  }
 },
 "nbformat": 4,
 "nbformat_minor": 0
}
