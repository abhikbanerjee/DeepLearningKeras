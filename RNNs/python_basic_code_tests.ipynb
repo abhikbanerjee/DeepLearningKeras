{
 "cells": [
  {
   "cell_type": "markdown",
   "metadata": {},
   "source": [
    "# This is a rough sheet to test some basic functionalities and intermediate tensor operations"
   ]
  },
  {
   "cell_type": "code",
   "execution_count": 1,
   "metadata": {
    "collapsed": true
   },
   "outputs": [],
   "source": [
    "fin = open(\"/Users/tkmacl9/Desktop/abhik.txt\", \"w\")\n",
    "for i in range(2):\n",
    "    words = []\n",
    "    if i== 0:\n",
    "        words = [\"mango\", \"apple\", \"grapes\"]\n",
    "    else:\n",
    "        words = [\"pumpkin\", \"onions\", \"potato\"]\n",
    "    fin.write(\"{:s} n\".format(\" \".join(words)))\n",
    "fin.close()"
   ]
  },
  {
   "cell_type": "code",
   "execution_count": 2,
   "metadata": {
    "collapsed": false
   },
   "outputs": [
    {
     "name": "stdout",
     "output_type": "stream",
     "text": [
      "['mango', 'apple', 'grapes']\n",
      "mango apple grapes\n"
     ]
    }
   ],
   "source": [
    "words = [\"mango\", \"apple\", \"grapes\"]\n",
    "print(words)\n",
    "abc = \" \".join(words)\n",
    "print(abc)"
   ]
  },
  {
   "cell_type": "code",
   "execution_count": null,
   "metadata": {
    "collapsed": true
   },
   "outputs": [],
   "source": []
  }
 ],
 "metadata": {
  "kernelspec": {
   "display_name": "Python [Root]",
   "language": "python",
   "name": "Python [Root]"
  },
  "language_info": {
   "codemirror_mode": {
    "name": "ipython",
    "version": 3
   },
   "file_extension": ".py",
   "mimetype": "text/x-python",
   "name": "python",
   "nbconvert_exporter": "python",
   "pygments_lexer": "ipython3",
   "version": "3.5.2"
  }
 },
 "nbformat": 4,
 "nbformat_minor": 0
}
