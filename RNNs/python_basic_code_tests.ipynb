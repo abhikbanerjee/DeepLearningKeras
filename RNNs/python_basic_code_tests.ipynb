{
 "cells": [
  {
   "cell_type": "markdown",
   "metadata": {},
   "source": [
    "# This is a rough sheet to test some basic functionalities and intermediate tensor operations"
   ]
  },
  {
   "cell_type": "code",
   "execution_count": 3,
   "metadata": {
    "collapsed": true
   },
   "outputs": [],
   "source": [
    "fin = open(\"/Users/tkmacl9/Desktop/abhik.txt\", \"w\")\n",
    "for i in range(2):\n",
    "    words = []\n",
    "    if i== 0:\n",
    "        words = [\"mango\", \"apple\", \"grapes\"]\n",
    "    else:\n",
    "        words = [\"pumpkin\", \"onions\", \"potato\"]\n",
    "    fin.write(\"{:s} \".format(\" \".join(words)))\n",
    "fin.close()"
   ]
  },
  {
   "cell_type": "code",
   "execution_count": 2,
   "metadata": {
    "collapsed": false
   },
   "outputs": [
    {
     "name": "stdout",
     "output_type": "stream",
     "text": [
      "['mango', 'apple', 'grapes']\n",
      "mango apple grapes\n"
     ]
    }
   ],
   "source": [
    "words = [\"mango\", \"apple\", \"grapes\"]\n",
    "print(words)\n",
    "abc = \" \".join(words)\n",
    "print(abc)"
   ]
  },
  {
   "cell_type": "code",
   "execution_count": 4,
   "metadata": {
    "collapsed": false
   },
   "outputs": [
    {
     "name": "stdout",
     "output_type": "stream",
     "text": [
      "mango apple grapes pumpkin onions potato "
     ]
    }
   ],
   "source": [
    "!cat /Users/tkmacl9/Desktop/abhik.txt"
   ]
  },
  {
   "cell_type": "code",
   "execution_count": 15,
   "metadata": {
    "collapsed": false
   },
   "outputs": [
    {
     "name": "stdout",
     "output_type": "stream",
     "text": [
      "[0, 1]\n",
      "[1, 2]\n",
      "(3,)\n",
      " \n",
      "[array([[ 1.,  0.,  0.],\n",
      "       [ 0.,  1.,  0.]])\n",
      " array([[ 0.,  1.,  0.],\n",
      "       [ 0.,  0.,  1.]]) None]\n"
     ]
    }
   ],
   "source": [
    "# check the np_utils.to_categorical() method\n",
    "\n",
    "import numpy as np\n",
    "from keras.utils import np_utils\n",
    "\n",
    "\n",
    "data = np.empty((3,), dtype=list)\n",
    "\n",
    "for i in range(2):\n",
    "    wids = []\n",
    "    if i==0:\n",
    "        wids.append(0)\n",
    "        wids.append(1)\n",
    "    else:\n",
    "        wids.append(1)\n",
    "        wids.append(2)\n",
    "    print(wids)\n",
    "    data[i] = np_utils.to_categorical(wids, num_classes=3)\n",
    "\n",
    "print(data.shape)\n",
    "print(\" \")\n",
    "print(data)"
   ]
  },
  {
   "cell_type": "code",
   "execution_count": null,
   "metadata": {
    "collapsed": true
   },
   "outputs": [],
   "source": []
  }
 ],
 "metadata": {
  "kernelspec": {
   "display_name": "Python [Root]",
   "language": "python",
   "name": "Python [Root]"
  },
  "language_info": {
   "codemirror_mode": {
    "name": "ipython",
    "version": 3
   },
   "file_extension": ".py",
   "mimetype": "text/x-python",
   "name": "python",
   "nbconvert_exporter": "python",
   "pygments_lexer": "ipython3",
   "version": "3.5.2"
  }
 },
 "nbformat": 4,
 "nbformat_minor": 0
}
