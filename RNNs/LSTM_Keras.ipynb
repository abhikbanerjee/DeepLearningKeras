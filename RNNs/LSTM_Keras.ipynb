{
 "cells": [
  {
   "cell_type": "markdown",
   "metadata": {
    "collapsed": true
   },
   "source": [
    "# This notebook is used to Train LSTM networks for sentiment analysis using Keras"
   ]
  },
  {
   "cell_type": "markdown",
   "metadata": {},
   "source": [
    "### Define the necessary imports"
   ]
  },
  {
   "cell_type": "code",
   "execution_count": 63,
   "metadata": {
    "collapsed": false
   },
   "outputs": [],
   "source": [
    "from keras.layers.core import Activation, Dropout, SpatialDropout1D, Dense\n",
    "from keras.models import Sequential\n",
    "from keras.preprocessing.sequence import pad_sequences\n",
    "from keras.layers.embeddings import Embedding\n",
    "from keras.layers.recurrent import LSTM\n",
    "\n",
    "import numpy as np\n",
    "import collections\n",
    "import matplotlib.pyplot as plt\n",
    "import nltk\n",
    "from sklearn.model_selection import train_test_split\n",
    "\n",
    "%matplotlib inline"
   ]
  },
  {
   "cell_type": "markdown",
   "metadata": {},
   "source": [
    "### Read the data from the file to compute the maxlength and Vocab"
   ]
  },
  {
   "cell_type": "code",
   "execution_count": 38,
   "metadata": {
    "collapsed": false
   },
   "outputs": [
    {
     "name": "stdout",
     "output_type": "stream",
     "text": [
      "MaxLength -  42\n",
      "Word Frequencies -  2313\n",
      "Number of Records -  7086\n"
     ]
    }
   ],
   "source": [
    "# define a collection to keep \n",
    "word_freq = collections.Counter()\n",
    "maxlength = 0\n",
    "\n",
    "numrecs = 0\n",
    "fsenti = open(\"/Users/tkmacl9/Desktop/FastAIDLCourse/datasets/umich_sentiment_dataset/train.txt\", \"rb\")\n",
    "for line in fsenti:\n",
    "    label, text = line.lower().decode(encoding='ascii', errors='ignore').split(\"\\t\")\n",
    "    words = nltk.word_tokenize(text)\n",
    "    if len(words) > maxlength:\n",
    "        maxlength = len(words)\n",
    "    for word in words:\n",
    "        word_freq[word] +=1\n",
    "    numrecs += 1\n",
    "fsenti.close()\n",
    "\n",
    "print(\"MaxLength - \", maxlength)\n",
    "print(\"Word Frequencies - \", len(word_freq))\n",
    "# print(word_freq)\n",
    "print(\"Number of Records - \", numrecs)"
   ]
  },
  {
   "cell_type": "markdown",
   "metadata": {},
   "source": [
    "### Create the word2index and index2words dictionaries"
   ]
  },
  {
   "cell_type": "code",
   "execution_count": 37,
   "metadata": {
    "collapsed": false
   },
   "outputs": [
    {
     "name": "stdout",
     "output_type": "stream",
     "text": [
      "2002\n",
      "2002\n",
      "{'dragons': 644, 'cloak': 960, 'iii': 308, '2007': 961, 'lame..': 1174, 'far': 363, 'julia': 963, 'should': 368, 'issues': 646, 'awful': 344, 'soooooo': 993, 'usage': 965, 'fantasy': 966, 'rented': 658, 'lets': 967, 'offence': 968, 'trousers': 227, 'xd': 969, 'be': 46, 'lotr': 970, 'except': 571, 'second': 348, 'time': 128, 'acne': 249, 'die': 671, 'amazing': 337, 'left': 93, 'everytime': 975, 'idk': 676, 'drive': 649, 'person': 165, 'leder': 976, 'gettting': 977, 'condemnation': 978, 'leads': 979, 'house': 650, 'snowing': 1450, 'prisoner': 981, 'anything': 398, 'goin': 228, 'theater': 448, 'melbourne': 982, 'loved': 59, 'hope': 484, 'ones': 652, 'incredibly': 485, 'shame': 1157, 'holy': 985, 'adore': 986, 'however': 1173, 'rather': 534, 'dress': 987, 'college': 535, 'play': 654, 'anywhere': 1841, 'picturesque': 988, 'always': 166, 'moving': 990, 'ran': 655, 'appeals': 992, 'walks': 1732, 'shut': 995, 'harder': 996, 'draw': 852, 'latter': 997, 'barry': 1870, 'dakota': 998, 'robbed': 657, 'tons': 1999, 'wotshisface': 231, 'performance': 1325, 'dorks': 1003, 'popular': 659, 'either': 183, 'asleep': 661, 'patirot': 1004, 'causing': 1006, 'tiny': 1007, 'homophobic': 1008, 'inappropriate': 1607, 'idiots': 1010, 'apparently': 449, 'officially': 455, 'given': 536, 'mph': 1011, 'watching': 155, 'pastings': 1608, 'yeah-i': 1386, 'mother': 450, 'trip': 1015, 'comes': 486, 'true': 537, 'lore': 1851, 'vic': 1016, 'eat': 1017, 'hermione': 1018, 'sister': 1019, 'huge': 1020, 'gay': 152, 'a': 18, 'erin': 1021, 'heavy': 1022, 'style': 1388, 'abrams': 1023, 'party': 662, 'keeps': 1024, 'portuguese': 1025, '?': 149, 'k.': 663, 'wide': 1749, 'cast': 1026, 'entire': 1813, 'tickets': 664, 'romantic': 1390, 'lives': 1972, 'runner': 1613, 'go': 321, 'vigor': 234, 'drawn': 1030, 'therefor': 1031, 'master': 1550, 'giving': 1033, 'man..': 1034, 'fit': 858, 'with': 47, 'keys': 235, 'game': 1973, '+': 538, 'seeing': 417, 'attempt': 665, 'guy': 94, 'personaly': 1036, 'kaka..': 1037, 'dragged': 236, 'react': 1038, 'where': 184, 'lords': 666, 'sis': 1039, 'requested': 667, 'rid': 1040, 'shoes': 782, 'kind': 451, 'miss': 364, 'reads': 1720, 'told': 418, 'bond': 1044, 'jon': 1045, 'altogether': 1046, 'excited': 1047, 'lot': 324, 'unfortunately': 1048, 'ya': 668, 'chunnel': 1220, 'top': 539, 'erm': 540, 'his': 77, 'profound': 237, 'spanish': 1054, 'found': 1861, 'broom': 1055, 'nothin': 1056, 'future': 670, 'devil': 1058, '2..': 974, 'silent': 238, 'start': 97, 'lame': 541, 'basically': 1059, 'reality': 205, 'seriously': 1060, '_': 542, 'wan': 487, 'thousand': 672, 'telling': 488, 'ticket': 673, 'clarksville': 1061, 'terrible': 87, 'kept': 1062, 'already': 345, 'intellectual': 1064, 'threw': 1927, 'also': 105, 'holding': 1512, '=': 150, 'amazing..': 1066, 'seymore': 1685, 'creatures': 1068, 'way': 122, 'briefly': 1069, 's.': 1395, '.': 4, 'incredible': 1073, 'score-brokeback': 1074, 'god': 419, 'thoughts': 1075, 'simply': 674, 'less': 675, 'in-depth': 1078, 'fat': 543, 'christopher': 1080, 'returning': 1081, 'fears': 1540, 'head': 206, 'wonderful': 1082, 'asian': 677, 'portugal': 1083, 'silly': 1084, 'pull': 1636, 'week': 533, 'score': 679, 'sexy': 489, 'mi': 1085, '*..': 1086, 'picky': 1087, 'considered': 1773, \"'re\": 162, 'actor': 680, 'looking': 544, 'immortal': 1088, 'homosexuality': 239, 'anime': 1089, 'mountain-beautiful': 1090, 'hand..': 1623, 'absurd': 546, 'three-generation': 1091, 'waited': 1092, 'combining': 240, 'struggle': 1093, 'facing': 1224, 'mybutthole': 1095, \"ain't..\": 1096, 'brokeback': 11, 'surprised': 1462, 'bullshit': 589, 'see': 306, 'murderball-immediately': 891, 'new': 357, 'luv': 202, 'afterschool': 1101, 'wrote': 1102, 'lilo': 1104, 'feast': 1105, 'from': 123, 'ball': 1107, 'clearly': 1108, 'chicken': 1109, 'reasons': 1110, 'again': 159, 'interesting': 399, 'but': 44, 'fowl': 1111, 'aniwae': 1112, 'updated': 1113, 'ended': 1114, 'versa': 1168, 'for': 64, 'reviews': 1116, 'great': 142, 'packs': 1118, 'requiem': 1119, '8230': 1120, 'part': 492, 'freakin': 191, 'mckellen': 1122, 'th': 1631, 'tooo': 1875, 'hips': 291, 'color': 681, 'forgot': 1125, 'prime..': 1127, 'god-awful': 548, 'that': 27, 'gin': 242, 'her': 490, 'local': 1128, 'sorry': 572, 'horridly': 1129, 'form': 1969, 'haunted': 1131, 'wo': 683, 'showing': 684, 'mouth': 554, 'quizzes': 686, 'mall': 1132, 'livejournal': 1052, '007..': 1134, 'w': 1135, 'blogbacklinksnippet': 1136, 'richard': 1043, 'heard': 134, 'christianity': 1137, 'nice': 687, 'adult': 688, 'escapades': 244, 'frog': 1138, 'costume': 814, 'forget': 1140, 'deemed': 1141, 'didn': 1142, 'since': 349, \"freagin'love\": 1143, 'bolsters': 1144, 'felt': 549, 'blows': 1145, 'kicked': 1146, 'runs': 1050, 'rosie': 1148, 'fire.-i': 1149, 'specifically': 1637, 'alarm': 1151, 'confess': 1152, 'deals': 1881, 'coming': 689, 'napoleon': 1154, 'ago': 647, 'yeah': 153, 'pale': 1155, 'prediction': 1156, 'listens': 1158, 'code..': 386, 'throat': 247, 'proud': 690, 'joy': 1077, '-..': 1160, 'lol': 350, 'creature': 1161, \"'..\": 303, 'c.': 1162, 'it..': 691, 'wesley': 692, 'rock-hard': 248, 'azkaban': 1164, 'formed': 653, 'libraries': 951, 'harrison': 1407, 'decline': 1167, 'fault': 693, 'mindless': 1169, 'one': 49, 'figures': 773, 'outnumbered': 1473, 'coloured': 1170, 'sky': 645, 'sure': 401, 'action': 369, 'illegally': 1171, '2nd': 1888, 'transamerica': 1172, 'out': 53, 'demons': 420, 'lubb': 243, 'still': 126, 'vito-being-gay': 1175, 'story-i': 1176, 'x-men': 421, 'aside': 1177, 'believe': 1178, 'grand': 1891, 'emma': 853, 'as': 34, 'body': 695, 'melandry': 1758, 'overcoming': 1180, 'lousy': 785, 'slap': 257, 'unauthorized': 1183, 'religion': 736, 'franchise': 696, '10.9': 1185, 'taking': 612, 'nans': 1187, 'wish': 550, 'spite': 1189, 'simple': 1190, 'much..': 422, 'movies': 40, 'most': 119, 'crazy': 213, 'belong': 1191, 'tree': 1192, 'kelse': 1117, 'anyhow': 1067, 'dumbledor': 1193, 'speaking': 697, 'our': 423, 'acoustic': 1194, 'interested': 1195, 'tea': 698, 'exponentially': 1196, 'noises': 246, 'budget': 1198, 'everybody': 699, 'discussing': 1199, 'state': 1200, 'sucking': 430, 'gaither': 700, 'choice': 701, 'reservations': 1202, 'series': 82, 'version': 1203, 'cut': 703, 'looked': 552, 'loathed': 1205, 'dance': 704, 'nothing': 553, 'code-that': 1206, 'theres': 1207, 'shattered-spine': 999, 'little': 402, 'warns': 1212, 'rps': 1209, 'cuz': 555, 'offense': 1210, 'enjoy': 370, 'tour': 1211, 'capote': 706, 'decaying': 980, 'came': 556, 'g': 1214, 'tye': 285, 'kids': 416, 'magical': 1730, 'shitty': 493, 'own': 494, 'explore': 1215, 'neither': 1735, 'ripping': 1216, 'ootp': 1217, 'adaptation': 1676, 'm': 558, 'rickards': 1218, 'believably': 1219, 'vintage': 1457, 'starring': 1221, 'predictable': 1222, 'jokes..': 293, 'sarcastic': 1833, 'suing': 1341, 'wanted': 193, 'turner': 1225, 'touching': 1226, 'fell': 495, 'whether': 921, 'overall': 656, '385': 1228, 'perhaps': 651, \"called'harry\": 1229, 'onto': 1231, 'ur': 1232, 'industry': 708, 'disney': 709, '^': 1234, 'place-there': 1652, 'figured': 1236, 'agreed': 1159, 'cock': 171, 'panties': 1239, 'student': 710, 'balls..-poseidon': 1899, 'yesterday': 711, 'final': 712, 'planning': 1241, 'trivia': 1242, 'board': 497, 'hanging': 1243, 'funniest': 713, 'such': 143, 'hated': 309, 'predictability': 1244, 'egg': 714, 'any': 557, 'gary': 250, 'passion': 559, 'your': 371, 'nor': 715, 'seem': 1245, 'grow': 1703, 'plus': 1246, 'fortress..': 1247, 'silver': 1248, 'spontaneously': 1249, 'showcasing': 1653, 'eyes': 1252, 'daniel': 194, 'normal': 716, \"'ll\": 365, 'optimus': 1255, 'glad': 403, 'dvd': 1256, 'haircut': 1257, 'lynn': 1258, 'wacked': 1259, 'movie..': 425, 'gift': 581, 'someone': 498, 'presented': 1261, 'better': 144, 'consumed': 1262, 'excersizing': 1656, 'lee..': 1264, 'search': 1266, 'give': 452, 'task': 1267, 'when': 130, 'stuff': 585, 'brazil': 1268, 'suicides': 253, 'lazy': 1269, 'sit': 254, 'died': 1270, 'try': 387, 'couple': 718, 'biased': 719, 'boring': 154, 'of': 38, 'dating': 1273, 'count': 255, 'mormon': 1570, 'crusade': 1274, 'clubbin': 1275, 'barnyard': 1276, 'beautiful': 103, 'beach': 1277, 'tonight': 453, 'iron': 1278, 'weekend': 812, 'change': 1696, 'writer': 1279, 'get': 326, 'wondering': 560, 'val': 1280, 'ultimatly': 1281, 'has': 352, 'let': 561, 'whatev': 1908, 't': 562, 'vault': 1283, '286': 973, 'libre-sucked': 1887, 'loose': 1285, 'topic': 1065, 'major': 499, 'atrocious': 1287, 'gossip': 1097, 'after': 328, 'thats': 195, 'gyllenhaal': 1557, 'mocking..': 1289, 'letter': 1290, 'artemis': 1291, 'dinner': 1292, '&': 372, 'attraction': 1293, 'whos': 989, 'tv': 723, 'boycotting': 1294, 'director': 1295, 'sucked': 32, 'lin': 1924, 'facile': 1296, 'latin': 1297, 'scientology': 1705, 'inherently': 1027, 'dim': 1300, 'said': 148, 'would': 78, 'kill': 1428, 'amazes': 1304, 'religious': 563, 'completely': 1305, 'friendships': 724, 'while': 388, 'faked': 1307, 'meeting': 725, 'code': 12, 'generally': 726, 'younger': 1308, 'at': 111, 'japenese': 1309, 'queens..': 1310, 'involve': 1311, 'characters': 1376, 'stone': 727, 'stinkin': 1013, 'total': 1312, 'memoirs': 1889, 'lamest': 1313, 'like': 23, 'actors': 1314, 'you': 42, 'potter': 14, 'once': 503, 'thirdly-the': 1316, 'blashpemies': 1317, 'unfortunate': 1318, 'took': 730, 'comparsions': 1319, 'esther': 1320, 'kid': 731, 'living': 1321, '.-wish': 1322, 'ruining': 1323, 'harry': 8, 'deciding': 1227, 'truly': 1071, 'absolutely': 124, 'gosh': 1326, 'interview': 1327, 'different': 496, 'disruption': 1330, 'chronicles': 1331, 'ass': 316, '/': 55, 'letting': 256, 'ground': 1332, 'preview': 1333, 'brilliant': 732, 'them': 389, 'code-very': 1920, 'davinci': 1335, 'writing': 733, 'row': 1336, 'opinion': 172, 'radio': 1338, 'offensive': 1339, 'insurance': 1340, 'beautiful..': 735, \"you'and\": 1342, 'google': 1343, 'myself': 566, 'joiners': 1344, 'credit': 1345, 'now': 325, 'sorcerer': 1441, 'hardcore': 717, 'knights': 1346, 'played': 501, '``': 36, 'rare': 1347, 'entitled': 1474, 'facebook': 1348, 'were': 136, 'books-not': 1349, 'song': 502, 'poem': 1350, 'pudding': 1351, '!': 7, 'truly-awful': 1237, 'sucky': 1352, 'canceled': 1658, 'humor': 1353, 'loves': 568, 'the': 5, 'apart': 1354, 'christ': 1355, 'closet': 1356, 'dynamite': 1357, 'summer': 1063, '517,648': 1360, 'scared': 1362, 'date': 1238, 'theaters': 739, 'theories': 1364, 'if': 74, 'german..': 1366, 'whole': 569, 'riding': 1368, 'was': 19, 'rocks..': 1938, 'pc': 1369, 'hall': 1370, 'johnny': 660, 'kelsie': 258, 'lends': 1371, 'food': 633, 'mi3': 944, 'freshman': 1945, 'he': 131, 'shopping': 1373, 'ridiculous': 1374, 'shes': 1375, 'malfoy': 259, 'sucked..-love': 1529, 'probably': 456, 'started': 1377, '.-mission': 962, 'dressed': 971, 'exelent': 1379, 'very': 331, 'park': 1380, 'beatles': 1381, 'cant': 1382, 'remix..': 1384, 'fact': 427, 'five': 1385, 'pretty': 313, 'zach': 1233, 'dogfucking': 1387, 'job': 742, 'they': 319, '<': 334, 'or': 56, 'hippie': 1389, 'o': 1028, 'afraid': 1391, 'my': 35, 'homophobes': 983, 'following': 1392, 'occasional': 1393, 'both': 156, 'girls': 743, 'challenge': 744, 'purchase': 1394, 'changed': 1070, 'apologized': 1396, 'around': 185, 'race': 1397, 'bad': 390, '..': 91, 'tournament..': 1678, 'tautou': 547, 'enjoyment': 1399, 'anyway': 177, 'starred': 1400, 'kanye': 1401, 'town': 1402, 'good': 104, 'bitch': 207, 'fabricated': 1980, 'kirsten': 260, '5': 1403, 'sitting': 1404, 'hating': 747, 'lynne': 1405, 'impossible-3..': 1406, 'bentlys': 1166, 'hill-form': 1408, 'rofls': 1409, '1st': 1911, 'nicely': 1410, 'generated': 1411, 'plot': 1412, 'enough': 748, 'supposed': 1414, 'caribbean': 1415, 'phase': 1417, 'mpreg': 1213, 'worth': 186, 'everything': 749, 'codes': 1419, 'christain': 1230, 'murdered': 1184, 'run': 740, 'effort': 1421, 'recently': 752, 'public': 1422, 'whatever': 753, 'piece': 754, 'post': 1423, 'use': 734, 'fairly': 1272, 'retarted': 261, 'old': 799, 'n': 756, 'tan': 1427, 'overexagerated': 1429, 'mang': 1288, 'despise': 1301, 'sale': 1431, 'reader': 1299, 'community': 197, 'urls': 1433, 'plain': 262, 'jamie': 1434, 'middle': 1315, 'can': 112, 'fun': 187, 'juicy': 1435, 'education': 759, 'wif': 1804, 'eh': 1437, 'doors': 1438, 'england': 1439, 'arse': 1337, 'donkey': 573, 'fanfiction': 574, 'example': 567, 'cars': 1133, 'actually': 340, 'related': 760, 'mostly': 1442, 'lol..': 1443, 'casanova': 1444, 'wow': 1445, 'just': 48, 'today': 1460, 'clean': 1446, 'settin': 1035, 'book..': 761, 'shade': 1053, 'classic': 1449, 'genre': 1416, 'halle': 1451, 'impossible..': 762, 'due': 763, 'third': 764, 'fuck': 504, 'btw..': 1453, 'hands': 575, '4': 576, 'pressing': 1254, 'grabs': 263, 'primary': 1455, 'bridget': 1950, 'luck': 458, 'na': 173, 'dumbass': 1425, 'ps': 1458, 'discussed': 1459, 'saturday': 765, 'show': 457, 'want': 60, \"watched'10\": 1461, 'black': 286, 'tired': 767, 'horrible..': 209, 'career': 1463, 'dudeee': 264, 'films': 505, 'kiss': 768, 'd': 1464, 'more..': 1465, 'u': 769, 'compared': 648, 'runaway': 964, 'dogtown': 1467, 'seen': 347, 'selfish': 1468, 'straight': 1469, 'dislike': 882, 'place..-broke': 1470, 'lake': 1471, 'until': 459, '700': 1472, 'knight': 1359, 'extremely': 601, 'hollywood': 506, 'lord': 460, 'achieved': 1475, 'um': 1424, 'laura': 1476, 'went': 108, 'nd': 1466, 'teaches': 772, 'infuser': 741, 'heartbreaking': 1165, 'shadeslayer': 1479, 'disliked': 587, 'horses': 1481, 'pictures': 774, 'guys': 775, 'pic': 1482, 'story': 90, 'beating': 1970, 'opened': 934, 'character': 198, 'soooo': 1001, 'majorly': 507, 'balls..-hooray': 1485, 'ew': 1486, \"was'harry\": 1487, 'derek': 1488, 'pirates': 1489, 'respect': 776, 'talked': 1490, 'snuck': 210, 'panting': 233, 'point': 777, 'amazingly': 1454, 'joan': 1492, 'dumb': 837, 'its': 335, 'club': 508, 'march': 1494, 'horrible': 127, 'guys..': 1495, 'colourfully': 825, 'heart': 578, 'degraw': 1496, 'lie': 826, 'gayness': 778, 'revise': 1498, 'backdrop': 1499, 'random': 1500, 'stop': 579, 'captain': 870, 'highly': 1502, 'definitely': 830, 'against': 780, '6': 1503, 'narnia': 781, 'culture': 461, 'supporting': 1041, 'reference': 1504, 'stand': 211, 'lesson': 1253, 'madre': 1505, 'hard': 580, 'feel': 405, 'josie': 1506, 'shaped': 1508, 'suppose': 755, 'dictate': 783, 'campaign': 1510, 'bible': 784, 'watson': 922, 'watched': 336, 'add': 1936, 'monthly': 1511, 'independant': 1072, 'whenever': 771, 'stinks': 564, 'war': 1746, 'grown': 1260, 'yet': 391, 'pocket': 786, 'happened': 1514, 'cars-good': 1515, 'longer': 1516, 'worlds': 1518, 'cold': 787, 'does': 147, 'problem': 871, 'boring..': 789, 'reading': 80, 'pretending': 1519, 'bikes': 984, 'instead': 790, 'conversations': 1520, 'whistles': 791, 'UNK': 0, 'undoubtedly': 1521, 'indoctrinate': 1522, 'wants': 994, 'rules': 1524, 'match': 1525, 'boycotted': 1526, ';': 551, 'hooked': 1528, 'awesome': 22, 'royally': 793, 'rocks': 178, '2.5': 266, 'racism': 583, 'phone': 1530, 'truth': 1284, 'earrings': 1531, 'long': 428, 'discuss': 1532, 'monsters': 1974, 'win': 584, 'think': 71, 'do': 109, 'knew': 794, 'directed': 1533, 'drove': 1534, 'code-other': 1536, '31st': 1537, 'microsoft': 1538, 'shout': 1539, 'halfway': 1302, 'gym': 1541, 'shittiest': 832, 'angle': 1542, 'creed': 1543, 'do..': 1544, 'did': 312, 'judging': 1545, 'asshole': 1546, 'al': 1547, 'might': 429, 'margaritas': 1478, 'nifty': 1049, 'sivullinen': 795, 'down': 43, 's': 188, 'latest': 1418, 'oh': 89, 'overslept': 1553, 'madly': 1554, \"him'i\": 1555, 'hugh': 1556, 'soon': 796, \"n't\": 66, 'record': 797, 'crack': 1513, 'life': 392, 'desperately': 252, 'about': 102, 'lama': 1925, 'christmas': 798, 'chronological': 1447, 'x': 800, 'suspenseful': 1558, 'b': 199, 'unbelievably': 750, 'never': 157, 'questions': 1561, 'honor': 801, 'angels': 462, 'denial': 1562, 'attached': 1563, 'lit': 586, 'disappointed': 1480, 'phoenix': 1709, 'acceptable': 214, 'understand': 802, 'blogbacklinktitle': 1565, 'mission': 20, 'times': 406, 'axes': 1566, 'mtv': 245, 'likes': 230, 'thinks': 803, 'spectacularly': 1569, 'so': 33, 'cruise': 327, 'radcliffe': 1572, 'parents': 1573, 'virgin': 268, 'kinda': 338, 'travel': 1574, 'find': 1163, 'near': 1576, 'carefully': 804, 'bored': 1968, 'friday': 168, 'rep': 1578, 'look': 1580, 'vice': 1581, 'done': 1582, 'feeling': 936, 'theatan': 1583, 'exquisite': 806, 're-reading': 807, 'storytimes': 1584, 'despised': 270, 'rides': 1585, 'why': 81, 'effects': 1586, 'mrs': 1587, 'dumbest': 1588, '[': 374, 'dungeons': 1589, 'lucky': 1590, 'soo': 208, 'cowboys': 431, 'finshed': 1803, \"love'the\": 299, 'cinema': 1593, 'psychology': 1594, 'background': 1595, '7th': 1596, 'spec': 1597, 'rehearsal': 1598, 'hogwash': 1324, 'almost': 432, '50': 1600, 'sucks..': 393, 'back': 433, 'rocked': 1602, 'sceneries': 1603, 'rode': 1604, 'bitter': 1005, 'malaguena': 1009, \"'d\": 358, 'aching': 232, 'by': 116, 'success': 1609, 'wiccanism': 746, 'frenzied': 1611, '~..': 1612, 'frodo': 1029, 'meat': 1032, '7': 808, 'huh': 1615, 'deal': 591, 'wait': 158, 'shraddha': 1616, 'folows': 1617, 'chessboard': 1618, 'care': 200, 'their': 463, 'cos': 1699, '*': 322, 'dissapointed': 1619, 'combonation': 1620, 'full': 809, 'joke': 810, 'begin': 215, 'partyin': 1622, 'minutes': 545, 'ask': 592, 'center': 1624, 'friggin': 1625, 'stayed': 593, 've': 1626, 'hour': 1432, 'headmistress': 1627, 'last': 146, 'staying': 1628, 'bits': 1629, 'how': 73, 'heteronormativity': 1630, 'seems': 1123, 'world': 407, 'texts-fantasy': 1633, 'goes': 1634, 'hide': 707, '>': 394, 'extent': 1147, 'claiming': 1552, 'protests': 1638, 'could': 375, 'love': 16, 'goth': 811, 'suncoast': 1639, 'quirky': 1640, 'azkaban.-goblet': 1641, 'fair': 1643, 'yuh': 1644, 'sunday': 1645, 'trailers': 722, 'changes': 1647, 'bye..': 271, 'goblet': 594, 'veil': 1648, 'chance': 1197, 'fan': 434, 'classes': 510, 'tried': 815, 'throw': 1651, 'too..': 511, '-and': 816, 'pop-culture': 1235, 'two': 351, 'cool': 174, 'twilight': 1610, 'strangely': 818, 'stone.-chamber': 1250, 'gadgets': 1654, 'take': 179, 'correct': 1655, 'land': 1263, 'had': 323, 'sexual': 1657, 'bangs': 819, 'in': 84, 'dart': 1659, 'outshines': 274, 'serious': 275, 'tom': 117, 'speaker': 1660, 'author': 820, 'aaron': 821, 'kelsey': 1661, 'ta': 512, 'christmas..': 1282, 'am': 58, 'who': 57, 'tale': 822, 'ban': 595, 'paul': 1662, '-we': 823, '33..': 1663, 'giants': 1549, 'lapse': 1724, 'impressive': 1664, 'wranglers': 1665, 'wrong': 408, 'between': 596, 'together': 824, 'admired': 1666, 'butt': 737, 'vacation': 1667, 'itz': 1668, 'fanfic': 770, 'dedicated': 1671, 'up': 79, 'south': 1672, 'image': 1673, 'jay': 1674, 'tomorrow': 1675, 'money': 454, 'anyways': 597, 'whom': 1497, 'probable': 1677, 'hello': 1398, 'big': 135, 'article': 827, 'power': 1670, 'worthless': 598, 'icons': 1680, 'book-i': 1682, 'mom': 189, 'chick': 1683, 'online': 1684, 'bday': 1731, 'spy': 1686, 'three': 376, 'symantec': 1687, 'bless': 1688, 'making': 160, 'account': 1367, 'beyond': 1690, 'working': 910, 'screenplay': 1501, 'weeeellllllll': 1413, 'brown': 599, 'tc': 828, 'uh': 1694, 'spoke': 1695, 'reaction': 829, 'dumb..': 1621, 'wins': 1697, 'able': 779, 'magic': 1700, 'decide': 1701, 'called': 1702, 'agree': 588, '=..': 1704, 'haunt': 831, 'few': 464, 'sawyer': 1551, 'talks': 1706, 'thanks': 1430, 'thing': 353, 'instead..': 1707, 'seymour': 1708, 'pleased': 1564, 'gorgeous': 600, 'tourist': 1710, 'drain': 1711, 'arenas': 1712, 'laughed': 276, 'check': 1713, 'v': 1714, 'spend': 1715, 'eoin': 1716, 'kicking': 1717, 'ever': 138, 'fire': 513, 'unable': 1718, 'desperate': 1649, 'right': 63, 'x3-good': 1568, 'comprehend': 1721, 'wherever': 1722, 'on': 107, 'unexpected': 1723, 'excellent': 167, 'through': 465, 'messy': 1363, 'useless': 1990, 'pegg': 1725, 'condeming': 1726, 'awards': 216, 'supper': 1727, 'literary': 1728, 'chinese': 682, 'during': 642, 'team': 1915, 'writes': 1420, 'first': 115, \"of'brokeback\": 1523, 'review': 201, 'wondered': 1733, 'rachel': 1734, 'coz': 277, 'insane': 1150, 'smoked': 1736, 'place': 196, 'often': 833, 'mirror': 864, 'scar': 834, 'course': 409, 'too': 106, 'hoot': 278, 'material': 273, 'may': 354, '00': 1740, '...': 15, 'shipping': 1741, 'raises': 1742, 'many': 602, 'costumes': 835, 'yuck': 1743, 'screwed': 1744, 'book': 101, 'explains': 1509, 'robe': 1599, 'phenomenon': 1646, 'craze': 836, 'cowboy': 217, 'decomposing': 1747, 'ian': 1748, 'hill': 279, 'we': 45, 'experience': 1750, 'families': 1477, 'you..': 1752, 'festivities': 1753, 'besides': 603, 'gon': 218, 'postponed': 1754, 'ossana-the': 1755, 'generalized': 1756, 'mountain-hard': 1757, 'i': 2, 'feathers': 1759, 'obviously-is': 1760, 'iq': 1761, 'cheapened': 1762, 'lost': 435, 'putting': 838, 'mountain': 13, 'manga': 1763, 'explosions': 1764, 'moives': 1765, 'crash-and': 1766, 'oddly': 1767, 'white': 930, 'dick': 866, 'walk': 1769, 'slow': 1770, 'backward': 1771, 'nerd': 839, 'balls': 341, 'although': 840, 'debates..': 1772, 'liked': 125, 'rant': 637, 'exception': 1774, ',': 3, 'sometime..': 1776, 'level': 604, 'bobbypin': 297, 'dearly': 1426, '--': 333, 'least': 467, 'husband': 1779, 'honest': 1780, 'awesomest': 842, 'win..': 1781, 'defensive': 1782, 'hank': 1783, 'those..': 1784, 'conclusion': 621, 'skin': 1787, 'monchel': 1788, 'relaxed': 1789, 'contains': 1790, 'suck': 52, 'thank': 605, 'weekends': 1791, 'awesomeness': 843, 'collection': 1792, 'anatomy': 1793, 'jane': 280, 'john': 515, 'share': 1794, 'close': 1795, 'definately': 845, 'track': 1796, 'aimee': 1491, 'sooo': 846, 'witha': 1797, \"said'harry\": 1798, '2': 120, ']': 382, 'hear': 468, 'trece': 1799, 'next': 607, 'intrigued': 1800, 'dream': 847, 'film..': 1801, 'tied': 1802, 'requim': 1719, 'reminded': 251, 'nasy': 1805, 'days': 529, 'tonite..-da': 1913, 'low': 1606, 'et': 1204, 'colfer': 1808, 'turn': 848, 'mountain-this': 1809, 'insanely': 272, 'she': 88, 'sum': 1751, 'jack': 608, 'which': 62, 'eyre': 281, 'exaggeration': 1812, 'knowing': 1814, 'unless': 1815, 'secrets.-prisoner': 1816, 'small': 1817, 'enjoys': 1818, 'bound': 1819, 'fun..-the': 1820, 'mention': 849, 'pages': 582, 'figure': 1822, 'back.-jill': 1823, 'decides': 1824, 'beans': 938, 'off': 360, '1984': 1825, 'jail': 1826, 'rowling': 886, 'diana': 1827, 'watch': 137, 'finished': 436, 'subtitles': 1828, 'yip': 1829, 'mountain..': 355, 'nearly': 514, 'zen': 305, 'soooooooo': 1926, '.-sean': 1832, 'crafted': 1632, 'stars': 282, 'queer': 851, 'edition': 1834, 'archive': 1835, 'come': 483, 'motherfuckers': 1837, 'allegory': 1953, 'people': 76, 'legacy': 1839, 'possum': 1840, 'bonkers': 229, 'idea': 516, 'glitz': 1843, 'read': 110, 'yahoo': 1844, 'fyi-mission': 1845, 'lee': 1846, 'france': 1847, 'around..-the': 1848, 'machine': 1849, 'shipmates': 1850, 'end': 469, 'j.': 792, 'fuckers': 1852, 'whiny': 1853, 'cake': 1854, 'every': 438, 'regardless..': 1855, 'though': 314, 'actual': 854, 'it': 24, 'explaination': 1857, 'kat-tun': 1858, 'same': 163, 'theme': 373, 'ballz': 1859, 'oversimplifying': 1860, 'twist': 669, 'kate': 283, 'more': 118, 'witchcraft': 855, \"'yeah\": 284, 'standpoint': 1863, 'scent': 1864, 'deluded': 1865, 'thriller': 1866, 'mood': 1867, 'boyy': 1868, 'lately': 1094, 'depp': 1106, 'deep': 241, 'angel': 1484, 'ideas': 1871, 'bbm': 1872, 'villains': 1873, 'forgotten': 856, 'code-illustrated': 1121, 'those': 367, 'targeted': 1876, 'irrespective': 1877, 'candy': 1878, 'this': 67, 'million': 1943, 'calling': 1880, 'past': 219, 'sort': 609, 'iii-sucks': 1527, 'pop': 857, 'reopened': 1153, 'ripper': 1882, 'plausible': 1883, 'genres': 1884, 'cousins': 1885, 'freezing': 1886, 'ring': 1778, 'jesus': 491, 'mrs.': 1890, 'months': 859, 'write': 610, 'draco': 290, 'rent': 611, 'infiltrate': 1186, 'strip': 1893, 'phillip': 860, '10pm': 1729, ':': 69, 'min': 1895, \"'\": 410, 'featured': 1130, 'disappointing': 1896, 'cocktail': 861, 'saw': 114, \"book'da\": 1898, 'office': 1240, 'sad': 356, 'weird': 1900, 'surprisingly': 1901, 'ok': 95, 'finally': 517, 'hype': 1902, 'only': 85, 'coherent': 1903, 'smoking-had': 1693, 'something': 411, 'hell': 613, 'appeal': 1904, 'setting': 1905, 'fer': 1906, 'jame': 1907, '6th': 614, 'rockets': 1997, 'emo-mound': 1298, 'ten': 615, 'p.': 1909, 'eating': 862, 'friends': 169, 'hella': 287, 'didnt': 863, 'pink': 1910, '$': 500, 'today..': 1912, 'fucking': 86, 'seen..': 212, 'jake': 565, 'packed': 1916, 'fully': 1642, 'awkward': 1917, 'tech': 1329, 'wicked': 1919, 'television': 1334, 'to': 25, 'happen': 1921, 'will': 329, 'cheap': 1922, 'hopefully': 865, 'bogus': 470, '33': 1985, 'happiness': 1923, 'nc-17': 616, 'into': 61, 'over': 361, 'school': 437, 'calif.': 1579, 'stories': 466, 'anax': 1372, 'impossible': 21, 'la': 867, 'gathered': 1897, 'durno': 1928, 'larry': 1929, 'firstly': 1930, 'cleaning': 288, 'pretty-packaging': 1931, 'heath': 745, '-brooke': 1933, 'halloween': 625, 'cucumber': 1935, 'ending': 868, 'books': 318, 'childishly': 1842, 'libarian': 1937, 'audrey': 617, 'hookup': 1592, 'roommate': 1939, 'intense': 1940, 'wept': 1941, 'thursday': 1942, 'stites': 1650, 'ate': 1944, 'table': 220, 'things': 145, 'jelly': 1012, 'shields': 1946, 'four': 1947, 'please': 817, 'frakking': 1949, 'cover': 1456, 'sisters': 1951, 'no': 342, 'geek': 869, 'evil..': 577, 'leah': 289, 'others': 1954, 'been': 366, 'matter': 1955, 'finals': 1956, 'awesome..': 132, 'tragically': 1493, 'ap': 1957, 'prince': 788, 'here': 96, 'hahahaha': 1958, 'hogwarts': 872, 'geisha': 1959, 'awesome-good': 1960, 'alright': 1961, 'mind': 1962, 'going': 139, 'sent': 1605, '200': 1964, '3333': 1965, 'eek': 1966, 'supportive': 1967, 'hp': 873, 'immensely': 1577, 'case': 630, 'yes': 518, 'tell': 377, 'thought': 121, 'marcia': 844, 'wussies': 1971, 'mary': 1365, 'gays': 1614, 'written': 875, 'potter..': 50, 'quite': 426, 'special': 876, 'kick': 618, 'later': 1975, 'picard': 877, 'comments': 1977, 'much': 37, 'sounds': 878, 'hairy': 1978, 'ang': 879, 'food..': 1979, 'linked': 1179, 'baby': 1635, 'dramatic': 1983, 'blonds': 267, 'class': 880, 'fandom': 439, 'ca': 151, 'looks': 395, 'delayed': 1669, 'perfect': 1986, 'cobequid': 1987, 'ony': 1988, \"'s\": 28, 'jenn': 1989, 'funner': 1448, 'half': 519, 'tome': 1991, 'twice': 1992, 'street': 1993, 'rv': 1952, 'cussler': 1934, 'bro': 1994, 'takes': 883, 'weekend.-mission': 1995, 'tests': 1996, 'academy': 884, 'group': 1976, 'fr': 1998, 'sold': 1126, 'field': 2000, 'hilarious': 1963, 'unpredictable': 2001, 'catch': 885, 'whimpering': 301, 'novel': 471, 'hahahahahaha': 1535, 'anyone': 175, 'half-blood': 702, 'hoover': 850, 'hedge': 639, 'save': 1856, 'day': 440, 'obnoxious': 887, '(': 99, 'crap': 472, 'mcgarther': 1892, 'talk': 378, 'began': 1914, 'shows': 620, 'doing': 473, 'scene': 888, 'professors': 1831, 'what': 140, 'blog': 1271, 'places': 1124, 'man': 161, 'tragic': 889, 'inaccurate': 474, 'thinking': 412, 'main': 203, 'sports': 1838, 'impossible-tom': 1982, 'hammy': 1548, 'vinci': 9, 'is': 17, 'terrible..': 1452, '\\\\': 1057, 'christian': 805, 'devastate': 1786, 'gun': 619, 'children': 520, 'lah': 890, 'days..': 1691, 'adorable': 892, 'catcher': 292, 'involving': 1810, 'else': 413, 'bit': 441, 'mainstream': 894, 'fall': 903, 'btw': 895, 'update': 622, 'teevee': 1836, 'fic': 893, 'dan': 640, 'funny': 524, 'equally': 896, 'danielle': 1560, 'fireworks': 897, \"saying'harry\": 1098, 'project': 1737, 'sometimes': 898, 'felicia': 98, 'sick': 475, 'than': 343, 'dont': 632, 'year': 442, 'darkness': 1806, 'must': 476, 'differently': 294, 'buy': 899, 'and': 6, \"'ve\": 362, 'picture': 443, 'news': 477, 'becoming': 221, 'not': 72, \"y'all\": 685, 'knows': 190, 'mean': 414, 'finish': 1948, 'crash': 379, 'controversy': 900, '1': 972, 'happy': 901, 'blame': 720, 'aka': 902, 'study': 1000, 'games': 1002, 'posted': 1698, 'there': 83, 'fabulous': 751, 'events': 904, '12': 1436, 'all': 310, 'move': 521, 'best': 339, 'everyone': 380, 'mentioned': 905, 'remix': 1681, 'having': 396, 'douche': 906, 'liberal': 1076, 'cringe': 907, 'are': 70, 'make': 180, 'copy': 678, 'side': 181, 'playing': 623, 'demeantor': 1099, 'break': 1571, 'night': 381, 'musiclove..': 1115, 'cute': 908, 'favor': 909, '#': 1139, 'none': 624, 'ass..': 522, 'empty': 911, 'brother': 1559, 'seeking': 1251, 'says': 176, 'ron': 912, 'vampire': 913, 'suck..': 626, 'books..': 606, 'badness': 1181, 'gn': 1208, 'georgia': 523, 'helped': 295, 'favorite': 705, 'used': 478, 'cry': 914, 'sentry': 296, 'rest': 915, '-ike..': 1811, 'deserved': 841, 'along': 627, 'freaking': 424, 'decent': 916, 'drawing..': 1591, 'mountain-which': 1265, 'real': 383, 'makes': 721, 'needs': 222, 'short': 628, 'better..-we': 629, 'kite': 1286, 'rings': 479, 'garrett': 1306, 'dies': 223, 'soul': 917, 'yea': 728, '10': 874, 'before': 384, 'being': 92, 'sucked..': 170, 'well-executed': 1103, 'friend': 918, 'some': 332, 'made': 346, 'totally': 404, 'im': 480, 'decided': 525, 'talking': 415, 'me': 68, 'expected': 919, 'luau': 1567, 'kick-ass': 1182, 'laid': 758, 'home': 766, '~': 920, 'girl': 526, 'then': 113, 'inside': 1807, 'sakes': 1745, 'type': 224, 'really': 39, 'live': 570, 'well': 129, 'stupidest': 1517, 'getting': 923, 'omg': 527, 'paper': 1830, 'theological': 1932, 'tho': 924, 'woo': 509, 'category': 1051, 'dad': 192, 'messiah': 1358, 'won': 481, 'hot': 925, 'rife': 1440, 'super': 729, 'expo': 1575, 'oscar': 528, 'hat': 225, 'het': 926, 'enjoyed': 397, 'reply': 927, 'da': 10, 'anne': 1042, 'meganpenworthy': 1894, 'asking': 928, 'ive': 813, 'name': 929, 'scenario': 1483, 'need': 634, 'groaning': 300, 'increasing': 1739, 'stupid': 41, 'hate': 31, 'loathe': 738, 'hours': 1223, 'week..-have': 1981, 'code-sucked': 931, 'because': 29, 'exhausted': 991, 'tennis': 1738, 'know': 51, 'sing': 932, 'work': 635, 'cried': 636, 'turned': 226, 'sucks': 30, '.-i': 1775, ')': 307, 'accompaniment': 933, 'quiz': 298, 'ruined': 935, 'ones..': 1201, '3': 54, 'us': 359, 'station': 269, 'an': 65, 'conquering': 937, 'comment': 638, 'music': 530, 'hey': 400, 'moralistic': 1328, 'hold': 939, 'PAD': 1, 'chris': 940, 'cool..': 1869, \"'m\": 311, 'even': 317, 'brigid': 1879, 'hanks': 941, 'counting': 1862, 'beat': 942, 'got': 133, 'depressing': 75, 'ah': 1679, 'jokes': 1361, 'okay': 445, 'have': 100, 'scifi': 1821, 'bought': 943, 'other': 330, 'dash': 302, 'tiffani': 1777, 'these': 164, 'say': 320, 'equal': 881, '-sucked': 1303, 'section': 1079, 'movie': 26, 'van': 1383, '-': 446, 'light': 1768, 'hates': 204, 'joining': 265, 'acting': 945, 'fade': 1014, 'damn': 531, 'flick': 946, '3..': 532, 'usually': 1918, 'mcmurtry': 1188, 'page': 947, 'till': 757, 'personally': 482, 'hair': 1785, 'ultimate': 948, 'outside': 1984, 'critics': 641, 'hero': 949, 'semester': 1378, 'dementors': 950, 'mcphee': 1507, 'independent': 1874, 'crappy': 444, 'death': 631, 'politics': 952, 'easy': 1692, 'shameful': 1689, 'especially': 590, 'question': 953, 'shit': 385, 'hung': 304, 'maybe': 954, 'marvel': 955, 'him': 182, 'favourite': 956, 'eragon': 643, 'film': 141, 'sense': 957, 'saying': 447, 'word': 694, 'stopped': 958, 'songs': 1601, 'evil': 315, 'wicca': 1100, 'hoffman': 959}\n"
     ]
    }
   ],
   "source": [
    "MAX_FEATURES = 2000\n",
    "MAX_SENTENCE_LENGTH = 40\n",
    "\n",
    "vocab_size = min(len(word_freq), MAX_FEATURES) + 2\n",
    "\n",
    "word2index = { x[0]:i+2 for i,x in enumerate(word_freq.most_common(MAX_FEATURES))}\n",
    "word2index[\"UNK\"] = 0\n",
    "word2index[\"PAD\"] = 1\n",
    "index2word = { v:k for k,v in enumerate(word2index)}\n",
    "\n",
    "print(len(word2index))\n",
    "print(len(index2word))\n",
    "print(word2index)\n",
    "# print(index2word)\n"
   ]
  },
  {
   "cell_type": "markdown",
   "metadata": {},
   "source": [
    "### Define each of the sentences to fixed length by padding"
   ]
  },
  {
   "cell_type": "code",
   "execution_count": 53,
   "metadata": {
    "collapsed": false
   },
   "outputs": [
    {
     "name": "stdout",
     "output_type": "stream",
     "text": [
      "(7086, 40)\n",
      "(7086,)\n",
      " \n",
      "[   0.    0.    0.    0.    0.    0.    0.    0.    0.    0.    0.    0.\n",
      "    0.    0.    0.    0.    0.    0.    0.    0.    0.    0.    0.    0.\n",
      "    0.    0.    0.    0.    0.    0.    0.    5.   10.    9.   12.  101.\n",
      "   17.   48.   22.    4.]\n",
      " \n",
      "1.0\n",
      " \n",
      "[    0.     0.     0.     0.     0.     0.     0.     0.     0.     0.\n",
      "     0.     0.     0.    67.    19.     5.   115.     0.  1934.     2.\n",
      "   362.   138.   110.     3.    44.   317.   318.    23.     0.     3.\n",
      "     6.    10.     9.    12.   136.   118.  1883.   343.    67.     4.]\n",
      " \n",
      "1.0\n",
      " \n",
      "[   0.    0.    0.    0.    0.    0.    0.    0.    0.    0.    0.    0.\n",
      "    0.    0.    0.    0.    0.    0.    0.    0.    0.    0.    0.    0.\n",
      "    0.    0.    0.    0.    0.    0.    0.    2.  125.    5.   10.    9.\n",
      "   12.   18.  324.    4.]\n",
      " \n",
      "1.0\n",
      " \n",
      "[   0.    0.    0.    0.    0.    0.    0.    0.    0.    0.    0.    0.\n",
      "    0.    0.    0.    0.    0.    0.    0.    0.    0.    0.    0.    0.\n",
      "    0.    0.    0.    0.    0.    0.    0.    2.  125.    5.   10.    9.\n",
      "   12.   18.  324.    4.]\n",
      " \n",
      "1.0\n",
      " \n",
      "[    0.     0.     0.     0.     0.     0.     0.     0.     0.     0.\n",
      "     0.     0.     0.     0.     0.     0.     0.     0.     0.     0.\n",
      "     0.     0.     2.   125.     5.    10.     9.    12.    44.    24.\n",
      "  1281.   312.    66.  1245.    25.   939.    24.    28.   494.     4.]\n",
      " \n",
      "1.0\n",
      " \n",
      "[    0.     0.     0.     0.     0.     0.     0.     0.     0.     0.\n",
      "     0.     0.     0.    27.    28.    72.   317.    65.  1812.   307.\n",
      "     6.   111.     0.    45.   108.    25.     0.    25.   899.     5.\n",
      "    10.     9.    12.     3.    62.    17.   337.    38.   409.     4.]\n",
      " \n",
      "1.0\n",
      " \n",
      "[   0.    0.    0.    0.    0.    0.    0.    0.    0.    0.    0.    0.\n",
      "    0.    0.    0.    0.    0.    0.    0.    0.    0.    0.    0.    2.\n",
      "   59.    5.   10.    9.   12.    3.   44.  325.    2.   60.  411.  144.\n",
      "    6.  496.    7.   91.]\n",
      " \n",
      "1.0\n",
      " \n",
      "[    0.     0.     0.     0.     0.     0.     0.     0.     0.     0.\n",
      "     0.     0.     0.     0.     0.     0.     0.     0.     0.     0.\n",
      "     0.     0.     0.     0.     0.     0.     0.     2.   121.    10.\n",
      "     9.    12.    19.   142.     3.   163.    47.  1286.  1613.     4.]\n",
      " \n",
      "1.0\n",
      " \n",
      "[   0.    0.    0.    0.    0.    0.    0.    0.    0.    0.    0.    0.\n",
      "    0.    0.    0.    0.    0.    0.    0.    0.    0.    0.    0.    0.\n",
      "    0.    0.    0.    0.    0.    0.    5.   10.    9.   12.   17.  340.\n",
      "   18.  104.   26.   15.]\n",
      " \n",
      "1.0\n",
      " \n",
      "[   0.    0.    0.    0.    0.    0.    0.    0.    0.    0.    0.    0.\n",
      "    0.    0.    0.    0.    0.    0.    0.    0.    0.    0.    0.    0.\n",
      "    0.    0.    0.    0.    2.  121.    5.   10.    9.   12.   19.   18.\n",
      "  313.  104.  101.    4.]\n",
      " \n",
      "1.0\n"
     ]
    }
   ],
   "source": [
    "X = np.empty((numrecs, MAX_SENTENCE_LENGTH))\n",
    "Y = np.zeros((numrecs, ))\n",
    "\n",
    "print(X.shape)\n",
    "print(Y.shape)\n",
    "\n",
    "fsenti = open(\"/Users/tkmacl9/Desktop/FastAIDLCourse/datasets/umich_sentiment_dataset/train.txt\", \"rb\")\n",
    "i = 0\n",
    "for line in fsenti:\n",
    "    seq = []\n",
    "    label, text = line.lower().decode(encoding='ascii', errors='ignore').split(\"\\t\")\n",
    "    words = nltk.word_tokenize(text)\n",
    "    for word in words:\n",
    "        if word in word2index:\n",
    "            seq.append(word2index[word])\n",
    "        else:\n",
    "            seq.append(word2index[\"UNK\"])\n",
    "    X[i] = pad_sequences([seq], maxlen=MAX_SENTENCE_LENGTH)\n",
    "    Y[i] = int(label)\n",
    "    i+=1\n",
    "\n",
    "# print(X.shape)\n",
    "# print(Y.shape)\n",
    "# print(\"\")    \n",
    "for i in range(10):\n",
    "    print(\" \")\n",
    "    print(X[i])\n",
    "    print(\" \")\n",
    "    print(Y[i])"
   ]
  },
  {
   "cell_type": "code",
   "execution_count": 58,
   "metadata": {
    "collapsed": true
   },
   "outputs": [],
   "source": [
    "# divide the train and test sets\n",
    "\n",
    "X_train, X_test, Y_train, Y_test = train_test_split(X, Y , test_size=0.2)"
   ]
  },
  {
   "cell_type": "code",
   "execution_count": 59,
   "metadata": {
    "collapsed": false
   },
   "outputs": [
    {
     "name": "stdout",
     "output_type": "stream",
     "text": [
      "(5668, 40)\n",
      "(1418, 40)\n",
      "(5668,)\n",
      "(1418,)\n"
     ]
    }
   ],
   "source": [
    "print(X_train.shape)\n",
    "print(X_test.shape)\n",
    "print(Y_train.shape)\n",
    "print(Y_test.shape)\n"
   ]
  },
  {
   "cell_type": "markdown",
   "metadata": {},
   "source": [
    "### Define the LSTM model before training"
   ]
  },
  {
   "cell_type": "code",
   "execution_count": 65,
   "metadata": {
    "collapsed": false
   },
   "outputs": [
    {
     "name": "stdout",
     "output_type": "stream",
     "text": [
      "_________________________________________________________________\n",
      "Layer (type)                 Output Shape              Param #   \n",
      "=================================================================\n",
      "embedding_3 (Embedding)      (None, 40, 128)           256256    \n",
      "_________________________________________________________________\n",
      "spatial_dropout1d_3 (Spatial (None, 40, 128)           0         \n",
      "_________________________________________________________________\n",
      "lstm_3 (LSTM)                (None, 64)                49408     \n",
      "_________________________________________________________________\n",
      "dense_2 (Dense)              (None, 1)                 65        \n",
      "_________________________________________________________________\n",
      "activation_2 (Activation)    (None, 1)                 0         \n",
      "=================================================================\n",
      "Total params: 305,729\n",
      "Trainable params: 305,729\n",
      "Non-trainable params: 0\n",
      "_________________________________________________________________\n"
     ]
    }
   ],
   "source": [
    "EMBEDDING_SIZE = 128\n",
    "HIDDEN_SIZE = 64\n",
    "BATCH_SIZE = 32\n",
    "NUM_EPOCHS = 10\n",
    "\n",
    "model = Sequential()\n",
    "model.add(Embedding(vocab_size, EMBEDDING_SIZE, input_length=MAX_SENTENCE_LENGTH))\n",
    "model.add(SpatialDropout1D(0.2))\n",
    "model.add(LSTM(HIDDEN_SIZE, dropout=0.2, recurrent_dropout=0.2 ))\n",
    "model.add(Dense(1))\n",
    "model.add(Activation(\"sigmoid\"))\n",
    "\n",
    "model.compile(loss='binary_crossentropy', optimizer='adam', metrics=['accuracy'])\n",
    "\n",
    "model.summary()"
   ]
  },
  {
   "cell_type": "markdown",
   "metadata": {},
   "source": [
    "### Training the model and testing it on validation set and plotting the accuracy and loss curves"
   ]
  },
  {
   "cell_type": "code",
   "execution_count": 66,
   "metadata": {
    "collapsed": false
   },
   "outputs": [
    {
     "name": "stdout",
     "output_type": "stream",
     "text": [
      "Train on 7086 samples, validate on 1418 samples\n",
      "Epoch 1/10\n",
      "7086/7086 [==============================] - 10s - loss: 0.2029 - acc: 0.9118 - val_loss: 0.0431 - val_acc: 0.9852\n",
      "Epoch 2/10\n",
      "7086/7086 [==============================] - 10s - loss: 0.0216 - acc: 0.9932 - val_loss: 0.0076 - val_acc: 0.9979\n",
      "Epoch 3/10\n",
      "7086/7086 [==============================] - 10s - loss: 0.0160 - acc: 0.9949 - val_loss: 0.0053 - val_acc: 0.9986\n",
      "Epoch 4/10\n",
      "7086/7086 [==============================] - 10s - loss: 0.0057 - acc: 0.9983 - val_loss: 0.0107 - val_acc: 0.9958\n",
      "Epoch 5/10\n",
      "7086/7086 [==============================] - 10s - loss: 0.0046 - acc: 0.9993 - val_loss: 5.7258e-04 - val_acc: 1.0000\n",
      "Epoch 6/10\n",
      "7086/7086 [==============================] - 10s - loss: 9.0982e-04 - acc: 0.9997 - val_loss: 2.5979e-04 - val_acc: 1.0000\n",
      "Epoch 7/10\n",
      "7086/7086 [==============================] - 10s - loss: 8.0398e-04 - acc: 0.9997 - val_loss: 1.6581e-04 - val_acc: 1.0000\n",
      "Epoch 8/10\n",
      "7086/7086 [==============================] - 10s - loss: 9.3403e-04 - acc: 0.9997 - val_loss: 2.4349e-04 - val_acc: 1.0000\n",
      "Epoch 9/10\n",
      "7086/7086 [==============================] - 12s - loss: 0.0023 - acc: 0.9993 - val_loss: 6.8829e-04 - val_acc: 1.0000\n",
      "Epoch 10/10\n",
      "7086/7086 [==============================] - 11s - loss: 0.0027 - acc: 0.9990 - val_loss: 3.7945e-04 - val_acc: 1.0000\n"
     ]
    }
   ],
   "source": [
    "history = model.fit(X_train, Y_train, batch_size=BATCH_SIZE, epochs=NUM_EPOCH, validation_data=(X_test, Y_test))"
   ]
  },
  {
   "cell_type": "code",
   "execution_count": 67,
   "metadata": {
    "collapsed": false
   },
   "outputs": [
    {
     "data": {
      "image/png": "[encoded data removed]",
      "text/plain": [
       "<matplotlib.figure.Figure at 0x11d35cfd0>"
      ]
     },
     "metadata": {},
     "output_type": "display_data"
    }
   ],
   "source": [
    "# plotting the results of loss and Accuracy\n",
    "plt.subplot(211)\n",
    "plt.title('Accuracy')\n",
    "plt.plot(history.history['acc'], color='r', label='train')\n",
    "plt.plot(history.history['val_acc'], color='g', label='validation')\n",
    "plt.legend(loc='best')\n",
    "\n",
    "plt.subplot(212)\n",
    "plt.title('Loss')\n",
    "plt.plot(history.history['loss'], color='r', label='train')\n",
    "plt.plot(history.history['val_loss'], color='g', label='validation')\n",
    "plt.legend(loc='best')\n",
    "\n",
    "plt.tight_layout()\n",
    "plt.show()\n"
   ]
  },
  {
   "cell_type": "code",
   "execution_count": null,
   "metadata": {
    "collapsed": true
   },
   "outputs": [],
   "source": []
  }
 ],
 "metadata": {
  "anaconda-cloud": {},
  "kernelspec": {
   "display_name": "Python [Root]",
   "language": "python",
   "name": "Python [Root]"
  },
  "language_info": {
   "codemirror_mode": {
    "name": "ipython",
    "version": 3
   },
   "file_extension": ".py",
   "mimetype": "text/x-python",
   "name": "python",
   "nbconvert_exporter": "python",
   "pygments_lexer": "ipython3",
   "version": "3.5.2"
  }
 },
 "nbformat": 4,
 "nbformat_minor": 0
}
