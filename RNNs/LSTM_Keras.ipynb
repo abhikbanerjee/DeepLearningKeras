{
 "cells": [
  {
   "cell_type": "markdown",
   "metadata": {
    "collapsed": true
   },
   "source": [
    "# This notebook is used to Train LSTM networks for sentiment analysis using Keras"
   ]
  },
  {
   "cell_type": "markdown",
   "metadata": {},
   "source": [
    "### Define the necessary imports"
   ]
  },
  {
   "cell_type": "code",
   "execution_count": 63,
   "metadata": {
    "collapsed": false
   },
   "outputs": [],
   "source": [
    "from keras.layers.core import Activation, Dropout, SpatialDropout1D, Dense\n",
    "from keras.models import Sequential\n",
    "from keras.preprocessing.sequence import pad_sequences\n",
    "from keras.layers.embeddings import Embedding\n",
    "from keras.layers.recurrent import LSTM\n",
    "\n",
    "import numpy as np\n",
    "import collections\n",
    "import matplotlib.pyplot as plt\n",
    "import nltk\n",
    "from sklearn.model_selection import train_test_split\n",
    "\n",
    "%matplotlib inline"
   ]
  },
  {
   "cell_type": "markdown",
   "metadata": {},
   "source": [
    "### Read the data from the file to compute the maxlength and Vocab"
   ]
  },
  {
   "cell_type": "code",
   "execution_count": 38,
   "metadata": {
    "collapsed": false
   },
   "outputs": [
    {
     "name": "stdout",
     "output_type": "stream",
     "text": [
      "MaxLength -  42\n",
      "Word Frequencies -  2313\n",
      "Number of Records -  7086\n"
     ]
    }
   ],
   "source": [
    "# define a collection to keep \n",
    "word_freq = collections.Counter()\n",
    "maxlength = 0\n",
    "\n",
    "numrecs = 0\n",
    "fsenti = open(\"/Users/tkmacl9/Desktop/FastAIDLCourse/datasets/umich_sentiment_dataset/train.txt\", \"rb\")\n",
    "for line in fsenti:\n",
    "    label, text = line.lower().decode(encoding='ascii', errors='ignore').split(\"\\t\")\n",
    "    words = nltk.word_tokenize(text)\n",
    "    if len(words) > maxlength:\n",
    "        maxlength = len(words)\n",
    "    for word in words:\n",
    "        word_freq[word] +=1\n",
    "    numrecs += 1\n",
    "fsenti.close()\n",
    "\n",
    "print(\"MaxLength - \", maxlength)\n",
    "print(\"Word Frequencies - \", len(word_freq))\n",
    "# print(word_freq)\n",
    "print(\"Number of Records - \", numrecs)"
   ]
  },
  {
   "cell_type": "markdown",
   "metadata": {},
   "source": [
    "### Create the word2index and index2words dictionaries"
   ]
  },
  {
   "cell_type": "code",
   "execution_count": 123,
   "metadata": {
    "collapsed": false
   },
   "outputs": [
    {
     "name": "stdout",
     "output_type": "stream",
     "text": [
      "2002\n",
      "2002\n",
      "{0: 'UNK', 1: 'PAD', 2: 'i', 3: ',', 4: '.', 5: 'the', 6: 'and', 7: '!', 8: 'harry', 9: 'vinci', 10: 'da', 11: 'brokeback', 12: 'code', 13: 'mountain', 14: 'potter', 15: '...', 16: 'love', 17: 'is', 18: 'a', 19: 'was', 20: 'mission', 21: 'impossible', 22: 'awesome', 23: 'like', 24: 'it', 25: 'to', 26: 'movie', 27: 'that', 28: \"'s\", 29: 'because', 30: 'sucks', 31: 'hate', 32: 'sucked', 33: 'so', 34: 'as', 35: 'my', 36: '``', 37: 'much', 38: 'of', 39: 'really', 40: 'movies', 41: 'stupid', 42: 'you', 43: 'down', 44: 'but', 45: 'we', 46: 'be', 47: 'with', 48: 'just', 49: 'one', 50: 'potter..', 51: 'know', 52: 'suck', 53: 'out', 54: '3', 55: '/', 56: 'or', 57: 'who', 58: 'am', 59: 'loved', 60: 'want', 61: 'into', 62: 'which', 63: 'right', 64: 'for', 65: 'an', 66: \"n't\", 67: 'this', 68: 'me', 69: ':', 70: 'are', 71: 'think', 72: 'not', 73: 'how', 74: 'if', 75: 'depressing', 76: 'people', 77: 'his', 78: 'would', 79: 'up', 80: 'reading', 81: 'why', 82: 'series', 83: 'there', 84: 'in', 85: 'only', 86: 'fucking', 87: 'terrible', 88: 'she', 89: 'oh', 90: 'story', 91: '..', 92: 'being', 93: 'left', 94: 'guy', 95: 'ok', 96: 'here', 97: 'start', 98: 'felicia', 99: '(', 100: 'have', 101: 'book', 102: 'about', 103: 'beautiful', 104: 'good', 105: 'also', 106: 'too', 107: 'on', 108: 'went', 109: 'do', 110: 'read', 111: 'at', 112: 'can', 113: 'then', 114: 'saw', 115: 'first', 116: 'by', 117: 'tom', 118: 'more', 119: 'most', 120: '2', 121: 'thought', 122: 'way', 123: 'from', 124: 'absolutely', 125: 'liked', 126: 'still', 127: 'horrible', 128: 'time', 129: 'well', 130: 'when', 131: 'he', 132: 'awesome..', 133: 'got', 134: 'heard', 135: 'big', 136: 'were', 137: 'watch', 138: 'ever', 139: 'going', 140: 'what', 141: 'film', 142: 'great', 143: 'such', 144: 'better', 145: 'things', 146: 'last', 147: 'does', 148: 'said', 149: '?', 150: '=', 151: 'ca', 152: 'gay', 153: 'yeah', 154: 'boring', 155: 'watching', 156: 'both', 157: 'never', 158: 'wait', 159: 'again', 160: 'making', 161: 'man', 162: \"'re\", 163: 'same', 164: 'these', 165: 'person', 166: 'always', 167: 'excellent', 168: 'friday', 169: 'friends', 170: 'sucked..', 171: 'cock', 172: 'opinion', 173: 'na', 174: 'cool', 175: 'anyone', 176: 'says', 177: 'anyway', 178: 'rocks', 179: 'take', 180: 'make', 181: 'side', 182: 'him', 183: 'either', 184: 'where', 185: 'around', 186: 'worth', 187: 'fun', 188: 's', 189: 'mom', 190: 'knows', 191: 'freakin', 192: 'dad', 193: 'wanted', 194: 'daniel', 195: 'thats', 196: 'place', 197: 'community', 198: 'character', 199: 'b', 200: 'care', 201: 'review', 202: 'luv', 203: 'main', 204: 'hates', 205: 'reality', 206: 'head', 207: 'bitch', 208: 'soo', 209: 'horrible..', 210: 'snuck', 211: 'stand', 212: 'seen..', 213: 'crazy', 214: 'acceptable', 215: 'begin', 216: 'awards', 217: 'cowboy', 218: 'gon', 219: 'past', 220: 'table', 221: 'becoming', 222: 'needs', 223: 'dies', 224: 'type', 225: 'hat', 226: 'turned', 227: 'trousers', 228: 'goin', 229: 'bonkers', 230: 'likes', 231: 'wotshisface', 232: 'aching', 233: 'panting', 234: 'vigor', 235: 'keys', 236: 'dragged', 237: 'profound', 238: 'silent', 239: 'homosexuality', 240: 'combining', 241: 'deep', 242: 'gin', 243: 'lubb', 244: 'escapades', 245: 'mtv', 246: 'noises', 247: 'throat', 248: 'rock-hard', 249: 'acne', 250: 'gary', 251: 'reminded', 252: 'desperately', 253: 'suicides', 254: 'sit', 255: 'count', 256: 'letting', 257: 'slap', 258: 'kelsie', 259: 'malfoy', 260: 'kirsten', 261: 'retarted', 262: 'plain', 263: 'grabs', 264: 'dudeee', 265: 'joining', 266: '2.5', 267: 'blonds', 268: 'virgin', 269: 'station', 270: 'despised', 271: 'bye..', 272: 'insanely', 273: 'material', 274: 'outshines', 275: 'serious', 276: 'laughed', 277: 'coz', 278: 'hoot', 279: 'hill', 280: 'jane', 281: 'eyre', 282: 'stars', 283: 'kate', 284: \"'yeah\", 285: 'tye', 286: 'black', 287: 'hella', 288: 'cleaning', 289: 'leah', 290: 'draco', 291: 'hips', 292: 'catcher', 293: 'jokes..', 294: 'differently', 295: 'helped', 296: 'sentry', 297: 'bobbypin', 298: 'quiz', 299: \"love'the\", 300: 'groaning', 301: 'whimpering', 302: 'dash', 303: \"'..\", 304: 'hung', 305: 'zen', 306: 'see', 307: ')', 308: 'iii', 309: 'hated', 310: 'all', 311: \"'m\", 312: 'did', 313: 'pretty', 314: 'though', 315: 'evil', 316: 'ass', 317: 'even', 318: 'books', 319: 'they', 320: 'say', 321: 'go', 322: '*', 323: 'had', 324: 'lot', 325: 'now', 326: 'get', 327: 'cruise', 328: 'after', 329: 'will', 330: 'other', 331: 'very', 332: 'some', 333: '--', 334: '<', 335: 'its', 336: 'watched', 337: 'amazing', 338: 'kinda', 339: 'best', 340: 'actually', 341: 'balls', 342: 'no', 343: 'than', 344: 'awful', 345: 'already', 346: 'made', 347: 'seen', 348: 'second', 349: 'since', 350: 'lol', 351: 'two', 352: 'has', 353: 'thing', 354: 'may', 355: 'mountain..', 356: 'sad', 357: 'new', 358: \"'d\", 359: 'us', 360: 'off', 361: 'over', 362: \"'ve\", 363: 'far', 364: 'miss', 365: \"'ll\", 366: 'been', 367: 'those', 368: 'should', 369: 'action', 370: 'enjoy', 371: 'your', 372: '&', 373: 'theme', 374: '[', 375: 'could', 376: 'three', 377: 'tell', 378: 'talk', 379: 'crash', 380: 'everyone', 381: 'night', 382: ']', 383: 'real', 384: 'before', 385: 'shit', 386: 'code..', 387: 'try', 388: 'while', 389: 'them', 390: 'bad', 391: 'yet', 392: 'life', 393: 'sucks..', 394: '>', 395: 'looks', 396: 'having', 397: 'enjoyed', 398: 'anything', 399: 'interesting', 400: 'hey', 401: 'sure', 402: 'little', 403: 'glad', 404: 'totally', 405: 'feel', 406: 'times', 407: 'world', 408: 'wrong', 409: 'course', 410: \"'\", 411: 'something', 412: 'thinking', 413: 'else', 414: 'mean', 415: 'talking', 416: 'kids', 417: 'seeing', 418: 'told', 419: 'god', 420: 'demons', 421: 'x-men', 422: 'much..', 423: 'our', 424: 'freaking', 425: 'movie..', 426: 'quite', 427: 'fact', 428: 'long', 429: 'might', 430: 'sucking', 431: 'cowboys', 432: 'almost', 433: 'back', 434: 'fan', 435: 'lost', 436: 'finished', 437: 'school', 438: 'every', 439: 'fandom', 440: 'day', 441: 'bit', 442: 'year', 443: 'picture', 444: 'crappy', 445: 'okay', 446: '-', 447: 'saying', 448: 'theater', 449: 'apparently', 450: 'mother', 451: 'kind', 452: 'give', 453: 'tonight', 454: 'money', 455: 'officially', 456: 'probably', 457: 'show', 458: 'luck', 459: 'until', 460: 'lord', 461: 'culture', 462: 'angels', 463: 'their', 464: 'few', 465: 'through', 466: 'stories', 467: 'least', 468: 'hear', 469: 'end', 470: 'bogus', 471: 'novel', 472: 'crap', 473: 'doing', 474: 'inaccurate', 475: 'sick', 476: 'must', 477: 'news', 478: 'used', 479: 'rings', 480: 'im', 481: 'won', 482: 'personally', 483: 'come', 484: 'hope', 485: 'incredibly', 486: 'comes', 487: 'wan', 488: 'telling', 489: 'sexy', 490: 'her', 491: 'jesus', 492: 'part', 493: 'shitty', 494: 'own', 495: 'fell', 496: 'different', 497: 'board', 498: 'someone', 499: 'major', 500: '$', 501: 'played', 502: 'song', 503: 'once', 504: 'fuck', 505: 'films', 506: 'hollywood', 507: 'majorly', 508: 'club', 509: 'woo', 510: 'classes', 511: 'too..', 512: 'ta', 513: 'fire', 514: 'nearly', 515: 'john', 516: 'idea', 517: 'finally', 518: 'yes', 519: 'half', 520: 'children', 521: 'move', 522: 'ass..', 523: 'georgia', 524: 'funny', 525: 'decided', 526: 'girl', 527: 'omg', 528: 'oscar', 529: 'days', 530: 'music', 531: 'damn', 532: '3..', 533: 'week', 534: 'rather', 535: 'college', 536: 'given', 537: 'true', 538: '+', 539: 'top', 540: 'erm', 541: 'lame', 542: '_', 543: 'fat', 544: 'looking', 545: 'minutes', 546: 'absurd', 547: 'tautou', 548: 'god-awful', 549: 'felt', 550: 'wish', 551: ';', 552: 'looked', 553: 'nothing', 554: 'mouth', 555: 'cuz', 556: 'came', 557: 'any', 558: 'm', 559: 'passion', 560: 'wondering', 561: 'let', 562: 't', 563: 'religious', 564: 'stinks', 565: 'jake', 566: 'myself', 567: 'example', 568: 'loves', 569: 'whole', 570: 'live', 571: 'except', 572: 'sorry', 573: 'donkey', 574: 'fanfiction', 575: 'hands', 576: '4', 577: 'evil..', 578: 'heart', 579: 'stop', 580: 'hard', 581: 'gift', 582: 'pages', 583: 'racism', 584: 'win', 585: 'stuff', 586: 'lit', 587: 'disliked', 588: 'agree', 589: 'bullshit', 590: 'especially', 591: 'deal', 592: 'ask', 593: 'stayed', 594: 'goblet', 595: 'ban', 596: 'between', 597: 'anyways', 598: 'worthless', 599: 'brown', 600: 'gorgeous', 601: 'extremely', 602: 'many', 603: 'besides', 604: 'level', 605: 'thank', 606: 'books..', 607: 'next', 608: 'jack', 609: 'sort', 610: 'write', 611: 'rent', 612: 'taking', 613: 'hell', 614: '6th', 615: 'ten', 616: 'nc-17', 617: 'audrey', 618: 'kick', 619: 'gun', 620: 'shows', 621: 'conclusion', 622: 'update', 623: 'playing', 624: 'none', 625: 'halloween', 626: 'suck..', 627: 'along', 628: 'short', 629: 'better..-we', 630: 'case', 631: 'death', 632: 'dont', 633: 'food', 634: 'need', 635: 'work', 636: 'cried', 637: 'rant', 638: 'comment', 639: 'hedge', 640: 'dan', 641: 'critics', 642: 'during', 643: 'eragon', 644: 'dragons', 645: 'sky', 646: 'issues', 647: 'ago', 648: 'compared', 649: 'drive', 650: 'house', 651: 'perhaps', 652: 'ones', 653: 'formed', 654: 'play', 655: 'ran', 656: 'overall', 657: 'robbed', 658: 'rented', 659: 'popular', 660: 'johnny', 661: 'asleep', 662: 'party', 663: 'k.', 664: 'tickets', 665: 'attempt', 666: 'lords', 667: 'requested', 668: 'ya', 669: 'twist', 670: 'future', 671: 'die', 672: 'thousand', 673: 'ticket', 674: 'simply', 675: 'less', 676: 'idk', 677: 'asian', 678: 'copy', 679: 'score', 680: 'actor', 681: 'color', 682: 'chinese', 683: 'wo', 684: 'showing', 685: \"y'all\", 686: 'quizzes', 687: 'nice', 688: 'adult', 689: 'coming', 690: 'proud', 691: 'it..', 692: 'wesley', 693: 'fault', 694: 'word', 695: 'body', 696: 'franchise', 697: 'speaking', 698: 'tea', 699: 'everybody', 700: 'gaither', 701: 'choice', 702: 'half-blood', 703: 'cut', 704: 'dance', 705: 'favorite', 706: 'capote', 707: 'hide', 708: 'industry', 709: 'disney', 710: 'student', 711: 'yesterday', 712: 'final', 713: 'funniest', 714: 'egg', 715: 'nor', 716: 'normal', 717: 'hardcore', 718: 'couple', 719: 'biased', 720: 'blame', 721: 'makes', 722: 'trailers', 723: 'tv', 724: 'friendships', 725: 'meeting', 726: 'generally', 727: 'stone', 728: 'yea', 729: 'super', 730: 'took', 731: 'kid', 732: 'brilliant', 733: 'writing', 734: 'use', 735: 'beautiful..', 736: 'religion', 737: 'butt', 738: 'loathe', 739: 'theaters', 740: 'run', 741: 'infuser', 742: 'job', 743: 'girls', 744: 'challenge', 745: 'heath', 746: 'wiccanism', 747: 'hating', 748: 'enough', 749: 'everything', 750: 'unbelievably', 751: 'fabulous', 752: 'recently', 753: 'whatever', 754: 'piece', 755: 'suppose', 756: 'n', 757: 'till', 758: 'laid', 759: 'education', 760: 'related', 761: 'book..', 762: 'impossible..', 763: 'due', 764: 'third', 765: 'saturday', 766: 'home', 767: 'tired', 768: 'kiss', 769: 'u', 770: 'fanfic', 771: 'whenever', 772: 'teaches', 773: 'figures', 774: 'pictures', 775: 'guys', 776: 'respect', 777: 'point', 778: 'gayness', 779: 'able', 780: 'against', 781: 'narnia', 782: 'shoes', 783: 'dictate', 784: 'bible', 785: 'lousy', 786: 'pocket', 787: 'cold', 788: 'prince', 789: 'boring..', 790: 'instead', 791: 'whistles', 792: 'j.', 793: 'royally', 794: 'knew', 795: 'sivullinen', 796: 'soon', 797: 'record', 798: 'christmas', 799: 'old', 800: 'x', 801: 'honor', 802: 'understand', 803: 'thinks', 804: 'carefully', 805: 'christian', 806: 'exquisite', 807: 're-reading', 808: '7', 809: 'full', 810: 'joke', 811: 'goth', 812: 'weekend', 813: 'ive', 814: 'costume', 815: 'tried', 816: '-and', 817: 'please', 818: 'strangely', 819: 'bangs', 820: 'author', 821: 'aaron', 822: 'tale', 823: '-we', 824: 'together', 825: 'colourfully', 826: 'lie', 827: 'article', 828: 'tc', 829: 'reaction', 830: 'definitely', 831: 'haunt', 832: 'shittiest', 833: 'often', 834: 'scar', 835: 'costumes', 836: 'craze', 837: 'dumb', 838: 'putting', 839: 'nerd', 840: 'although', 841: 'deserved', 842: 'awesomest', 843: 'awesomeness', 844: 'marcia', 845: 'definately', 846: 'sooo', 847: 'dream', 848: 'turn', 849: 'mention', 850: 'hoover', 851: 'queer', 852: 'draw', 853: 'emma', 854: 'actual', 855: 'witchcraft', 856: 'forgotten', 857: 'pop', 858: 'fit', 859: 'months', 860: 'phillip', 861: 'cocktail', 862: 'eating', 863: 'didnt', 864: 'mirror', 865: 'hopefully', 866: 'dick', 867: 'la', 868: 'ending', 869: 'geek', 870: 'captain', 871: 'problem', 872: 'hogwarts', 873: 'hp', 874: '10', 875: 'written', 876: 'special', 877: 'picard', 878: 'sounds', 879: 'ang', 880: 'class', 881: 'equal', 882: 'dislike', 883: 'takes', 884: 'academy', 885: 'catch', 886: 'rowling', 887: 'obnoxious', 888: 'scene', 889: 'tragic', 890: 'lah', 891: 'murderball-immediately', 892: 'adorable', 893: 'fic', 894: 'mainstream', 895: 'btw', 896: 'equally', 897: 'fireworks', 898: 'sometimes', 899: 'buy', 900: 'controversy', 901: 'happy', 902: 'aka', 903: 'fall', 904: 'events', 905: 'mentioned', 906: 'douche', 907: 'cringe', 908: 'cute', 909: 'favor', 910: 'working', 911: 'empty', 912: 'ron', 913: 'vampire', 914: 'cry', 915: 'rest', 916: 'decent', 917: 'soul', 918: 'friend', 919: 'expected', 920: '~', 921: 'whether', 922: 'watson', 923: 'getting', 924: 'tho', 925: 'hot', 926: 'het', 927: 'reply', 928: 'asking', 929: 'name', 930: 'white', 931: 'code-sucked', 932: 'sing', 933: 'accompaniment', 934: 'opened', 935: 'ruined', 936: 'feeling', 937: 'conquering', 938: 'beans', 939: 'hold', 940: 'chris', 941: 'hanks', 942: 'beat', 943: 'bought', 944: 'mi3', 945: 'acting', 946: 'flick', 947: 'page', 948: 'ultimate', 949: 'hero', 950: 'dementors', 951: 'libraries', 952: 'politics', 953: 'question', 954: 'maybe', 955: 'marvel', 956: 'favourite', 957: 'sense', 958: 'stopped', 959: 'hoffman', 960: 'cloak', 961: '2007', 962: '.-mission', 963: 'julia', 964: 'runaway', 965: 'usage', 966: 'fantasy', 967: 'lets', 968: 'offence', 969: 'xd', 970: 'lotr', 971: 'dressed', 972: '1', 973: '286', 974: '2..', 975: 'everytime', 976: 'leder', 977: 'gettting', 978: 'condemnation', 979: 'leads', 980: 'decaying', 981: 'prisoner', 982: 'melbourne', 983: 'homophobes', 984: 'bikes', 985: 'holy', 986: 'adore', 987: 'dress', 988: 'picturesque', 989: 'whos', 990: 'moving', 991: 'exhausted', 992: 'appeals', 993: 'soooooo', 994: 'wants', 995: 'shut', 996: 'harder', 997: 'latter', 998: 'dakota', 999: 'shattered-spine', 1000: 'study', 1001: 'soooo', 1002: 'games', 1003: 'dorks', 1004: 'patirot', 1005: 'bitter', 1006: 'causing', 1007: 'tiny', 1008: 'homophobic', 1009: 'malaguena', 1010: 'idiots', 1011: 'mph', 1012: 'jelly', 1013: 'stinkin', 1014: 'fade', 1015: 'trip', 1016: 'vic', 1017: 'eat', 1018: 'hermione', 1019: 'sister', 1020: 'huge', 1021: 'erin', 1022: 'heavy', 1023: 'abrams', 1024: 'keeps', 1025: 'portuguese', 1026: 'cast', 1027: 'inherently', 1028: 'o', 1029: 'frodo', 1030: 'drawn', 1031: 'therefor', 1032: 'meat', 1033: 'giving', 1034: 'man..', 1035: 'settin', 1036: 'personaly', 1037: 'kaka..', 1038: 'react', 1039: 'sis', 1040: 'rid', 1041: 'supporting', 1042: 'anne', 1043: 'richard', 1044: 'bond', 1045: 'jon', 1046: 'altogether', 1047: 'excited', 1048: 'unfortunately', 1049: 'nifty', 1050: 'runs', 1051: 'category', 1052: 'livejournal', 1053: 'shade', 1054: 'spanish', 1055: 'broom', 1056: 'nothin', 1057: '\\\\', 1058: 'devil', 1059: 'basically', 1060: 'seriously', 1061: 'clarksville', 1062: 'kept', 1063: 'summer', 1064: 'intellectual', 1065: 'topic', 1066: 'amazing..', 1067: 'anyhow', 1068: 'creatures', 1069: 'briefly', 1070: 'changed', 1071: 'truly', 1072: 'independant', 1073: 'incredible', 1074: 'score-brokeback', 1075: 'thoughts', 1076: 'liberal', 1077: 'joy', 1078: 'in-depth', 1079: 'section', 1080: 'christopher', 1081: 'returning', 1082: 'wonderful', 1083: 'portugal', 1084: 'silly', 1085: 'mi', 1086: '*..', 1087: 'picky', 1088: 'immortal', 1089: 'anime', 1090: 'mountain-beautiful', 1091: 'three-generation', 1092: 'waited', 1093: 'struggle', 1094: 'lately', 1095: 'mybutthole', 1096: \"ain't..\", 1097: 'gossip', 1098: \"saying'harry\", 1099: 'demeantor', 1100: 'wicca', 1101: 'afterschool', 1102: 'wrote', 1103: 'well-executed', 1104: 'lilo', 1105: 'feast', 1106: 'depp', 1107: 'ball', 1108: 'clearly', 1109: 'chicken', 1110: 'reasons', 1111: 'fowl', 1112: 'aniwae', 1113: 'updated', 1114: 'ended', 1115: 'musiclove..', 1116: 'reviews', 1117: 'kelse', 1118: 'packs', 1119: 'requiem', 1120: '8230', 1121: 'code-illustrated', 1122: 'mckellen', 1123: 'seems', 1124: 'places', 1125: 'forgot', 1126: 'sold', 1127: 'prime..', 1128: 'local', 1129: 'horridly', 1130: 'featured', 1131: 'haunted', 1132: 'mall', 1133: 'cars', 1134: '007..', 1135: 'w', 1136: 'blogbacklinksnippet', 1137: 'christianity', 1138: 'frog', 1139: '#', 1140: 'forget', 1141: 'deemed', 1142: 'didn', 1143: \"freagin'love\", 1144: 'bolsters', 1145: 'blows', 1146: 'kicked', 1147: 'extent', 1148: 'rosie', 1149: 'fire.-i', 1150: 'insane', 1151: 'alarm', 1152: 'confess', 1153: 'reopened', 1154: 'napoleon', 1155: 'pale', 1156: 'prediction', 1157: 'shame', 1158: 'listens', 1159: 'agreed', 1160: '-..', 1161: 'creature', 1162: 'c.', 1163: 'find', 1164: 'azkaban', 1165: 'heartbreaking', 1166: 'bentlys', 1167: 'decline', 1168: 'versa', 1169: 'mindless', 1170: 'coloured', 1171: 'illegally', 1172: 'transamerica', 1173: 'however', 1174: 'lame..', 1175: 'vito-being-gay', 1176: 'story-i', 1177: 'aside', 1178: 'believe', 1179: 'linked', 1180: 'overcoming', 1181: 'badness', 1182: 'kick-ass', 1183: 'unauthorized', 1184: 'murdered', 1185: '10.9', 1186: 'infiltrate', 1187: 'nans', 1188: 'mcmurtry', 1189: 'spite', 1190: 'simple', 1191: 'belong', 1192: 'tree', 1193: 'dumbledor', 1194: 'acoustic', 1195: 'interested', 1196: 'exponentially', 1197: 'chance', 1198: 'budget', 1199: 'discussing', 1200: 'state', 1201: 'ones..', 1202: 'reservations', 1203: 'version', 1204: 'et', 1205: 'loathed', 1206: 'code-that', 1207: 'theres', 1208: 'gn', 1209: 'rps', 1210: 'offense', 1211: 'tour', 1212: 'warns', 1213: 'mpreg', 1214: 'g', 1215: 'explore', 1216: 'ripping', 1217: 'ootp', 1218: 'rickards', 1219: 'believably', 1220: 'chunnel', 1221: 'starring', 1222: 'predictable', 1223: 'hours', 1224: 'facing', 1225: 'turner', 1226: 'touching', 1227: 'deciding', 1228: '385', 1229: \"called'harry\", 1230: 'christain', 1231: 'onto', 1232: 'ur', 1233: 'zach', 1234: '^', 1235: 'pop-culture', 1236: 'figured', 1237: 'truly-awful', 1238: 'date', 1239: 'panties', 1240: 'office', 1241: 'planning', 1242: 'trivia', 1243: 'hanging', 1244: 'predictability', 1245: 'seem', 1246: 'plus', 1247: 'fortress..', 1248: 'silver', 1249: 'spontaneously', 1250: 'stone.-chamber', 1251: 'seeking', 1252: 'eyes', 1253: 'lesson', 1254: 'pressing', 1255: 'optimus', 1256: 'dvd', 1257: 'haircut', 1258: 'lynn', 1259: 'wacked', 1260: 'grown', 1261: 'presented', 1262: 'consumed', 1263: 'land', 1264: 'lee..', 1265: 'mountain-which', 1266: 'search', 1267: 'task', 1268: 'brazil', 1269: 'lazy', 1270: 'died', 1271: 'blog', 1272: 'fairly', 1273: 'dating', 1274: 'crusade', 1275: 'clubbin', 1276: 'barnyard', 1277: 'beach', 1278: 'iron', 1279: 'writer', 1280: 'val', 1281: 'ultimatly', 1282: 'christmas..', 1283: 'vault', 1284: 'truth', 1285: 'loose', 1286: 'kite', 1287: 'atrocious', 1288: 'mang', 1289: 'mocking..', 1290: 'letter', 1291: 'artemis', 1292: 'dinner', 1293: 'attraction', 1294: 'boycotting', 1295: 'director', 1296: 'facile', 1297: 'latin', 1298: 'emo-mound', 1299: 'reader', 1300: 'dim', 1301: 'despise', 1302: 'halfway', 1303: '-sucked', 1304: 'amazes', 1305: 'completely', 1306: 'garrett', 1307: 'faked', 1308: 'younger', 1309: 'japenese', 1310: 'queens..', 1311: 'involve', 1312: 'total', 1313: 'lamest', 1314: 'actors', 1315: 'middle', 1316: 'thirdly-the', 1317: 'blashpemies', 1318: 'unfortunate', 1319: 'comparsions', 1320: 'esther', 1321: 'living', 1322: '.-wish', 1323: 'ruining', 1324: 'hogwash', 1325: 'performance', 1326: 'gosh', 1327: 'interview', 1328: 'moralistic', 1329: 'tech', 1330: 'disruption', 1331: 'chronicles', 1332: 'ground', 1333: 'preview', 1334: 'television', 1335: 'davinci', 1336: 'row', 1337: 'arse', 1338: 'radio', 1339: 'offensive', 1340: 'insurance', 1341: 'suing', 1342: \"you'and\", 1343: 'google', 1344: 'joiners', 1345: 'credit', 1346: 'knights', 1347: 'rare', 1348: 'facebook', 1349: 'books-not', 1350: 'poem', 1351: 'pudding', 1352: 'sucky', 1353: 'humor', 1354: 'apart', 1355: 'christ', 1356: 'closet', 1357: 'dynamite', 1358: 'messiah', 1359: 'knight', 1360: '517,648', 1361: 'jokes', 1362: 'scared', 1363: 'messy', 1364: 'theories', 1365: 'mary', 1366: 'german..', 1367: 'account', 1368: 'riding', 1369: 'pc', 1370: 'hall', 1371: 'lends', 1372: 'anax', 1373: 'shopping', 1374: 'ridiculous', 1375: 'shes', 1376: 'characters', 1377: 'started', 1378: 'semester', 1379: 'exelent', 1380: 'park', 1381: 'beatles', 1382: 'cant', 1383: 'van', 1384: 'remix..', 1385: 'five', 1386: 'yeah-i', 1387: 'dogfucking', 1388: 'style', 1389: 'hippie', 1390: 'romantic', 1391: 'afraid', 1392: 'following', 1393: 'occasional', 1394: 'purchase', 1395: 's.', 1396: 'apologized', 1397: 'race', 1398: 'hello', 1399: 'enjoyment', 1400: 'starred', 1401: 'kanye', 1402: 'town', 1403: '5', 1404: 'sitting', 1405: 'lynne', 1406: 'impossible-3..', 1407: 'harrison', 1408: 'hill-form', 1409: 'rofls', 1410: 'nicely', 1411: 'generated', 1412: 'plot', 1413: 'weeeellllllll', 1414: 'supposed', 1415: 'caribbean', 1416: 'genre', 1417: 'phase', 1418: 'latest', 1419: 'codes', 1420: 'writes', 1421: 'effort', 1422: 'public', 1423: 'post', 1424: 'um', 1425: 'dumbass', 1426: 'dearly', 1427: 'tan', 1428: 'kill', 1429: 'overexagerated', 1430: 'thanks', 1431: 'sale', 1432: 'hour', 1433: 'urls', 1434: 'jamie', 1435: 'juicy', 1436: '12', 1437: 'eh', 1438: 'doors', 1439: 'england', 1440: 'rife', 1441: 'sorcerer', 1442: 'mostly', 1443: 'lol..', 1444: 'casanova', 1445: 'wow', 1446: 'clean', 1447: 'chronological', 1448: 'funner', 1449: 'classic', 1450: 'snowing', 1451: 'halle', 1452: 'terrible..', 1453: 'btw..', 1454: 'amazingly', 1455: 'primary', 1456: 'cover', 1457: 'vintage', 1458: 'ps', 1459: 'discussed', 1460: 'today', 1461: \"watched'10\", 1462: 'surprised', 1463: 'career', 1464: 'd', 1465: 'more..', 1466: 'nd', 1467: 'dogtown', 1468: 'selfish', 1469: 'straight', 1470: 'place..-broke', 1471: 'lake', 1472: '700', 1473: 'outnumbered', 1474: 'entitled', 1475: 'achieved', 1476: 'laura', 1477: 'families', 1478: 'margaritas', 1479: 'shadeslayer', 1480: 'disappointed', 1481: 'horses', 1482: 'pic', 1483: 'scenario', 1484: 'angel', 1485: 'balls..-hooray', 1486: 'ew', 1487: \"was'harry\", 1488: 'derek', 1489: 'pirates', 1490: 'talked', 1491: 'aimee', 1492: 'joan', 1493: 'tragically', 1494: 'march', 1495: 'guys..', 1496: 'degraw', 1497: 'whom', 1498: 'revise', 1499: 'backdrop', 1500: 'random', 1501: 'screenplay', 1502: 'highly', 1503: '6', 1504: 'reference', 1505: 'madre', 1506: 'josie', 1507: 'mcphee', 1508: 'shaped', 1509: 'explains', 1510: 'campaign', 1511: 'monthly', 1512: 'holding', 1513: 'crack', 1514: 'happened', 1515: 'cars-good', 1516: 'longer', 1517: 'stupidest', 1518: 'worlds', 1519: 'pretending', 1520: 'conversations', 1521: 'undoubtedly', 1522: 'indoctrinate', 1523: \"of'brokeback\", 1524: 'rules', 1525: 'match', 1526: 'boycotted', 1527: 'iii-sucks', 1528: 'hooked', 1529: 'sucked..-love', 1530: 'phone', 1531: 'earrings', 1532: 'discuss', 1533: 'directed', 1534: 'drove', 1535: 'hahahahahaha', 1536: 'code-other', 1537: '31st', 1538: 'microsoft', 1539: 'shout', 1540: 'fears', 1541: 'gym', 1542: 'angle', 1543: 'creed', 1544: 'do..', 1545: 'judging', 1546: 'asshole', 1547: 'al', 1548: 'hammy', 1549: 'giants', 1550: 'master', 1551: 'sawyer', 1552: 'claiming', 1553: 'overslept', 1554: 'madly', 1555: \"him'i\", 1556: 'hugh', 1557: 'gyllenhaal', 1558: 'suspenseful', 1559: 'brother', 1560: 'danielle', 1561: 'questions', 1562: 'denial', 1563: 'attached', 1564: 'pleased', 1565: 'blogbacklinktitle', 1566: 'axes', 1567: 'luau', 1568: 'x3-good', 1569: 'spectacularly', 1570: 'mormon', 1571: 'break', 1572: 'radcliffe', 1573: 'parents', 1574: 'travel', 1575: 'expo', 1576: 'near', 1577: 'immensely', 1578: 'rep', 1579: 'calif.', 1580: 'look', 1581: 'vice', 1582: 'done', 1583: 'theatan', 1584: 'storytimes', 1585: 'rides', 1586: 'effects', 1587: 'mrs', 1588: 'dumbest', 1589: 'dungeons', 1590: 'lucky', 1591: 'drawing..', 1592: 'hookup', 1593: 'cinema', 1594: 'psychology', 1595: 'background', 1596: '7th', 1597: 'spec', 1598: 'rehearsal', 1599: 'robe', 1600: '50', 1601: 'songs', 1602: 'rocked', 1603: 'sceneries', 1604: 'rode', 1605: 'sent', 1606: 'low', 1607: 'inappropriate', 1608: 'pastings', 1609: 'success', 1610: 'twilight', 1611: 'frenzied', 1612: '~..', 1613: 'runner', 1614: 'gays', 1615: 'huh', 1616: 'shraddha', 1617: 'folows', 1618: 'chessboard', 1619: 'dissapointed', 1620: 'combonation', 1621: 'dumb..', 1622: 'partyin', 1623: 'hand..', 1624: 'center', 1625: 'friggin', 1626: 've', 1627: 'headmistress', 1628: 'staying', 1629: 'bits', 1630: 'heteronormativity', 1631: 'th', 1632: 'crafted', 1633: 'texts-fantasy', 1634: 'goes', 1635: 'baby', 1636: 'pull', 1637: 'specifically', 1638: 'protests', 1639: 'suncoast', 1640: 'quirky', 1641: 'azkaban.-goblet', 1642: 'fully', 1643: 'fair', 1644: 'yuh', 1645: 'sunday', 1646: 'phenomenon', 1647: 'changes', 1648: 'veil', 1649: 'desperate', 1650: 'stites', 1651: 'throw', 1652: 'place-there', 1653: 'showcasing', 1654: 'gadgets', 1655: 'correct', 1656: 'excersizing', 1657: 'sexual', 1658: 'canceled', 1659: 'dart', 1660: 'speaker', 1661: 'kelsey', 1662: 'paul', 1663: '33..', 1664: 'impressive', 1665: 'wranglers', 1666: 'admired', 1667: 'vacation', 1668: 'itz', 1669: 'delayed', 1670: 'power', 1671: 'dedicated', 1672: 'south', 1673: 'image', 1674: 'jay', 1675: 'tomorrow', 1676: 'adaptation', 1677: 'probable', 1678: 'tournament..', 1679: 'ah', 1680: 'icons', 1681: 'remix', 1682: 'book-i', 1683: 'chick', 1684: 'online', 1685: 'seymore', 1686: 'spy', 1687: 'symantec', 1688: 'bless', 1689: 'shameful', 1690: 'beyond', 1691: 'days..', 1692: 'easy', 1693: 'smoking-had', 1694: 'uh', 1695: 'spoke', 1696: 'change', 1697: 'wins', 1698: 'posted', 1699: 'cos', 1700: 'magic', 1701: 'decide', 1702: 'called', 1703: 'grow', 1704: '=..', 1705: 'scientology', 1706: 'talks', 1707: 'instead..', 1708: 'seymour', 1709: 'phoenix', 1710: 'tourist', 1711: 'drain', 1712: 'arenas', 1713: 'check', 1714: 'v', 1715: 'spend', 1716: 'eoin', 1717: 'kicking', 1718: 'unable', 1719: 'requim', 1720: 'reads', 1721: 'comprehend', 1722: 'wherever', 1723: 'unexpected', 1724: 'lapse', 1725: 'pegg', 1726: 'condeming', 1727: 'supper', 1728: 'literary', 1729: '10pm', 1730: 'magical', 1731: 'bday', 1732: 'walks', 1733: 'wondered', 1734: 'rachel', 1735: 'neither', 1736: 'smoked', 1737: 'project', 1738: 'tennis', 1739: 'increasing', 1740: '00', 1741: 'shipping', 1742: 'raises', 1743: 'yuck', 1744: 'screwed', 1745: 'sakes', 1746: 'war', 1747: 'decomposing', 1748: 'ian', 1749: 'wide', 1750: 'experience', 1751: 'sum', 1752: 'you..', 1753: 'festivities', 1754: 'postponed', 1755: 'ossana-the', 1756: 'generalized', 1757: 'mountain-hard', 1758: 'melandry', 1759: 'feathers', 1760: 'obviously-is', 1761: 'iq', 1762: 'cheapened', 1763: 'manga', 1764: 'explosions', 1765: 'moives', 1766: 'crash-and', 1767: 'oddly', 1768: 'light', 1769: 'walk', 1770: 'slow', 1771: 'backward', 1772: 'debates..', 1773: 'considered', 1774: 'exception', 1775: '.-i', 1776: 'sometime..', 1777: 'tiffani', 1778: 'ring', 1779: 'husband', 1780: 'honest', 1781: 'win..', 1782: 'defensive', 1783: 'hank', 1784: 'those..', 1785: 'hair', 1786: 'devastate', 1787: 'skin', 1788: 'monchel', 1789: 'relaxed', 1790: 'contains', 1791: 'weekends', 1792: 'collection', 1793: 'anatomy', 1794: 'share', 1795: 'close', 1796: 'track', 1797: 'witha', 1798: \"said'harry\", 1799: 'trece', 1800: 'intrigued', 1801: 'film..', 1802: 'tied', 1803: 'finshed', 1804: 'wif', 1805: 'nasy', 1806: 'darkness', 1807: 'inside', 1808: 'colfer', 1809: 'mountain-this', 1810: 'involving', 1811: '-ike..', 1812: 'exaggeration', 1813: 'entire', 1814: 'knowing', 1815: 'unless', 1816: 'secrets.-prisoner', 1817: 'small', 1818: 'enjoys', 1819: 'bound', 1820: 'fun..-the', 1821: 'scifi', 1822: 'figure', 1823: 'back.-jill', 1824: 'decides', 1825: '1984', 1826: 'jail', 1827: 'diana', 1828: 'subtitles', 1829: 'yip', 1830: 'paper', 1831: 'professors', 1832: '.-sean', 1833: 'sarcastic', 1834: 'edition', 1835: 'archive', 1836: 'teevee', 1837: 'motherfuckers', 1838: 'sports', 1839: 'legacy', 1840: 'possum', 1841: 'anywhere', 1842: 'childishly', 1843: 'glitz', 1844: 'yahoo', 1845: 'fyi-mission', 1846: 'lee', 1847: 'france', 1848: 'around..-the', 1849: 'machine', 1850: 'shipmates', 1851: 'lore', 1852: 'fuckers', 1853: 'whiny', 1854: 'cake', 1855: 'regardless..', 1856: 'save', 1857: 'explaination', 1858: 'kat-tun', 1859: 'ballz', 1860: 'oversimplifying', 1861: 'found', 1862: 'counting', 1863: 'standpoint', 1864: 'scent', 1865: 'deluded', 1866: 'thriller', 1867: 'mood', 1868: 'boyy', 1869: 'cool..', 1870: 'barry', 1871: 'ideas', 1872: 'bbm', 1873: 'villains', 1874: 'independent', 1875: 'tooo', 1876: 'targeted', 1877: 'irrespective', 1878: 'candy', 1879: 'brigid', 1880: 'calling', 1881: 'deals', 1882: 'ripper', 1883: 'plausible', 1884: 'genres', 1885: 'cousins', 1886: 'freezing', 1887: 'libre-sucked', 1888: '2nd', 1889: 'memoirs', 1890: 'mrs.', 1891: 'grand', 1892: 'mcgarther', 1893: 'strip', 1894: 'meganpenworthy', 1895: 'min', 1896: 'disappointing', 1897: 'gathered', 1898: \"book'da\", 1899: 'balls..-poseidon', 1900: 'weird', 1901: 'surprisingly', 1902: 'hype', 1903: 'coherent', 1904: 'appeal', 1905: 'setting', 1906: 'fer', 1907: 'jame', 1908: 'whatev', 1909: 'p.', 1910: 'pink', 1911: '1st', 1912: 'today..', 1913: 'tonite..-da', 1914: 'began', 1915: 'team', 1916: 'packed', 1917: 'awkward', 1918: 'usually', 1919: 'wicked', 1920: 'code-very', 1921: 'happen', 1922: 'cheap', 1923: 'happiness', 1924: 'lin', 1925: 'lama', 1926: 'soooooooo', 1927: 'threw', 1928: 'durno', 1929: 'larry', 1930: 'firstly', 1931: 'pretty-packaging', 1932: 'theological', 1933: '-brooke', 1934: 'cussler', 1935: 'cucumber', 1936: 'add', 1937: 'libarian', 1938: 'rocks..', 1939: 'roommate', 1940: 'intense', 1941: 'wept', 1942: 'thursday', 1943: 'million', 1944: 'ate', 1945: 'freshman', 1946: 'shields', 1947: 'four', 1948: 'finish', 1949: 'frakking', 1950: 'bridget', 1951: 'sisters', 1952: 'rv', 1953: 'allegory', 1954: 'others', 1955: 'matter', 1956: 'finals', 1957: 'ap', 1958: 'hahahaha', 1959: 'geisha', 1960: 'awesome-good', 1961: 'alright', 1962: 'mind', 1963: 'hilarious', 1964: '200', 1965: '3333', 1966: 'eek', 1967: 'supportive', 1968: 'bored', 1969: 'form', 1970: 'beating', 1971: 'wussies', 1972: 'lives', 1973: 'game', 1974: 'monsters', 1975: 'later', 1976: 'group', 1977: 'comments', 1978: 'hairy', 1979: 'food..', 1980: 'fabricated', 1981: 'week..-have', 1982: 'impossible-tom', 1983: 'dramatic', 1984: 'outside', 1985: '33', 1986: 'perfect', 1987: 'cobequid', 1988: 'ony', 1989: 'jenn', 1990: 'useless', 1991: 'tome', 1992: 'twice', 1993: 'street', 1994: 'bro', 1995: 'weekend.-mission', 1996: 'tests', 1997: 'rockets', 1998: 'fr', 1999: 'tons', 2000: 'field', 2001: 'unpredictable'}\n"
     ]
    }
   ],
   "source": [
    "MAX_FEATURES = 2000\n",
    "MAX_SENTENCE_LENGTH = 40\n",
    "\n",
    "vocab_size = min(len(word_freq), MAX_FEATURES) + 2\n",
    "\n",
    "word2index = { x[0]:i+2 for i,x in enumerate(word_freq.most_common(MAX_FEATURES))}\n",
    "word2index[\"UNK\"] = 0\n",
    "word2index[\"PAD\"] = 1\n",
    "index2word = { v:k for k,v in word2index.items()}\n",
    "\n",
    "print(len(word2index))\n",
    "print(len(index2word))\n",
    "# print(word2index)\n",
    "print(index2word)\n"
   ]
  },
  {
   "cell_type": "markdown",
   "metadata": {},
   "source": [
    "### Define each of the sentences to fixed length by padding"
   ]
  },
  {
   "cell_type": "code",
   "execution_count": 124,
   "metadata": {
    "collapsed": false
   },
   "outputs": [
    {
     "name": "stdout",
     "output_type": "stream",
     "text": [
      "(7086, 40)\n",
      "(7086,)\n",
      " \n",
      "[   0.    0.    0.    0.    0.    0.    0.    0.    0.    0.    0.    0.\n",
      "    0.    0.    0.    0.    0.    0.    0.    0.    0.    0.    0.    0.\n",
      "    0.    0.    0.    0.    0.    0.    0.    5.   10.    9.   12.  101.\n",
      "   17.   48.   22.    4.]\n",
      " \n",
      "1.0\n",
      " \n",
      "[    0.     0.     0.     0.     0.     0.     0.     0.     0.     0.\n",
      "     0.     0.     0.    67.    19.     5.   115.     0.  1934.     2.\n",
      "   362.   138.   110.     3.    44.   317.   318.    23.     0.     3.\n",
      "     6.    10.     9.    12.   136.   118.  1883.   343.    67.     4.]\n",
      " \n",
      "1.0\n",
      " \n",
      "[   0.    0.    0.    0.    0.    0.    0.    0.    0.    0.    0.    0.\n",
      "    0.    0.    0.    0.    0.    0.    0.    0.    0.    0.    0.    0.\n",
      "    0.    0.    0.    0.    0.    0.    0.    2.  125.    5.   10.    9.\n",
      "   12.   18.  324.    4.]\n",
      " \n",
      "1.0\n",
      " \n",
      "[   0.    0.    0.    0.    0.    0.    0.    0.    0.    0.    0.    0.\n",
      "    0.    0.    0.    0.    0.    0.    0.    0.    0.    0.    0.    0.\n",
      "    0.    0.    0.    0.    0.    0.    0.    2.  125.    5.   10.    9.\n",
      "   12.   18.  324.    4.]\n",
      " \n",
      "1.0\n",
      " \n",
      "[    0.     0.     0.     0.     0.     0.     0.     0.     0.     0.\n",
      "     0.     0.     0.     0.     0.     0.     0.     0.     0.     0.\n",
      "     0.     0.     2.   125.     5.    10.     9.    12.    44.    24.\n",
      "  1281.   312.    66.  1245.    25.   939.    24.    28.   494.     4.]\n",
      " \n",
      "1.0\n",
      " \n",
      "[    0.     0.     0.     0.     0.     0.     0.     0.     0.     0.\n",
      "     0.     0.     0.    27.    28.    72.   317.    65.  1812.   307.\n",
      "     6.   111.     0.    45.   108.    25.     0.    25.   899.     5.\n",
      "    10.     9.    12.     3.    62.    17.   337.    38.   409.     4.]\n",
      " \n",
      "1.0\n",
      " \n",
      "[   0.    0.    0.    0.    0.    0.    0.    0.    0.    0.    0.    0.\n",
      "    0.    0.    0.    0.    0.    0.    0.    0.    0.    0.    0.    2.\n",
      "   59.    5.   10.    9.   12.    3.   44.  325.    2.   60.  411.  144.\n",
      "    6.  496.    7.   91.]\n",
      " \n",
      "1.0\n",
      " \n",
      "[    0.     0.     0.     0.     0.     0.     0.     0.     0.     0.\n",
      "     0.     0.     0.     0.     0.     0.     0.     0.     0.     0.\n",
      "     0.     0.     0.     0.     0.     0.     0.     2.   121.    10.\n",
      "     9.    12.    19.   142.     3.   163.    47.  1286.  1613.     4.]\n",
      " \n",
      "1.0\n",
      " \n",
      "[   0.    0.    0.    0.    0.    0.    0.    0.    0.    0.    0.    0.\n",
      "    0.    0.    0.    0.    0.    0.    0.    0.    0.    0.    0.    0.\n",
      "    0.    0.    0.    0.    0.    0.    5.   10.    9.   12.   17.  340.\n",
      "   18.  104.   26.   15.]\n",
      " \n",
      "1.0\n",
      " \n",
      "[   0.    0.    0.    0.    0.    0.    0.    0.    0.    0.    0.    0.\n",
      "    0.    0.    0.    0.    0.    0.    0.    0.    0.    0.    0.    0.\n",
      "    0.    0.    0.    0.    2.  121.    5.   10.    9.   12.   19.   18.\n",
      "  313.  104.  101.    4.]\n",
      " \n",
      "1.0\n"
     ]
    }
   ],
   "source": [
    "X = np.empty((numrecs, MAX_SENTENCE_LENGTH))\n",
    "Y = np.zeros((numrecs, ))\n",
    "\n",
    "print(X.shape)\n",
    "print(Y.shape)\n",
    "\n",
    "fsenti = open(\"/Users/tkmacl9/Desktop/FastAIDLCourse/datasets/umich_sentiment_dataset/train.txt\", \"rb\")\n",
    "i = 0\n",
    "for line in fsenti:\n",
    "    seq = []\n",
    "    label, text = line.lower().decode(encoding='ascii', errors='ignore').split(\"\\t\")\n",
    "    words = nltk.word_tokenize(text)\n",
    "    for word in words:\n",
    "        if word in word2index:\n",
    "            seq.append(word2index[word])\n",
    "        else:\n",
    "            seq.append(word2index[\"UNK\"])\n",
    "    X[i] = pad_sequences([seq], maxlen=MAX_SENTENCE_LENGTH)\n",
    "    Y[i] = int(label)\n",
    "    i+=1\n",
    "\n",
    "# print(X.shape)\n",
    "# print(Y.shape)\n",
    "# print(\"\")    \n",
    "for i in range(10):\n",
    "    print(\" \")\n",
    "    print(X[i])\n",
    "    print(\" \")\n",
    "    print(Y[i])"
   ]
  },
  {
   "cell_type": "code",
   "execution_count": 125,
   "metadata": {
    "collapsed": true
   },
   "outputs": [],
   "source": [
    "# divide the train and test sets\n",
    "\n",
    "X_train, X_test, Y_train, Y_test = train_test_split(X, Y , test_size=0.2)"
   ]
  },
  {
   "cell_type": "code",
   "execution_count": 126,
   "metadata": {
    "collapsed": false
   },
   "outputs": [
    {
     "name": "stdout",
     "output_type": "stream",
     "text": [
      "(5668, 40)\n",
      "(1418, 40)\n",
      "(5668,)\n",
      "(1418,)\n"
     ]
    }
   ],
   "source": [
    "print(X_train.shape)\n",
    "print(X_test.shape)\n",
    "print(Y_train.shape)\n",
    "print(Y_test.shape)\n"
   ]
  },
  {
   "cell_type": "markdown",
   "metadata": {},
   "source": [
    "### Define the LSTM model before training"
   ]
  },
  {
   "cell_type": "code",
   "execution_count": 127,
   "metadata": {
    "collapsed": false
   },
   "outputs": [
    {
     "name": "stdout",
     "output_type": "stream",
     "text": [
      "_________________________________________________________________\n",
      "Layer (type)                 Output Shape              Param #   \n",
      "=================================================================\n",
      "embedding_4 (Embedding)      (None, 40, 128)           256256    \n",
      "_________________________________________________________________\n",
      "spatial_dropout1d_4 (Spatial (None, 40, 128)           0         \n",
      "_________________________________________________________________\n",
      "lstm_4 (LSTM)                (None, 64)                49408     \n",
      "_________________________________________________________________\n",
      "dense_3 (Dense)              (None, 1)                 65        \n",
      "_________________________________________________________________\n",
      "activation_3 (Activation)    (None, 1)                 0         \n",
      "=================================================================\n",
      "Total params: 305,729\n",
      "Trainable params: 305,729\n",
      "Non-trainable params: 0\n",
      "_________________________________________________________________\n"
     ]
    }
   ],
   "source": [
    "EMBEDDING_SIZE = 128\n",
    "HIDDEN_SIZE = 64\n",
    "BATCH_SIZE = 32\n",
    "NUM_EPOCHS = 10\n",
    "\n",
    "model = Sequential()\n",
    "model.add(Embedding(vocab_size, EMBEDDING_SIZE, input_length=MAX_SENTENCE_LENGTH))\n",
    "model.add(SpatialDropout1D(0.2))\n",
    "model.add(LSTM(HIDDEN_SIZE, dropout=0.2, recurrent_dropout=0.2 ))\n",
    "model.add(Dense(1))\n",
    "model.add(Activation(\"sigmoid\"))\n",
    "\n",
    "model.compile(loss='binary_crossentropy', optimizer='adam', metrics=['accuracy'])\n",
    "\n",
    "model.summary()"
   ]
  },
  {
   "cell_type": "markdown",
   "metadata": {},
   "source": [
    "### Training the model and testing it on validation set and plotting the accuracy and loss curves"
   ]
  },
  {
   "cell_type": "code",
   "execution_count": 128,
   "metadata": {
    "collapsed": false
   },
   "outputs": [
    {
     "name": "stdout",
     "output_type": "stream",
     "text": [
      "Train on 5668 samples, validate on 1418 samples\n",
      "Epoch 1/10\n",
      "5668/5668 [==============================] - 8s - loss: 0.2538 - acc: 0.8940 - val_loss: 0.0887 - val_acc: 0.9732\n",
      "Epoch 2/10\n",
      "5668/5668 [==============================] - 8s - loss: 0.0329 - acc: 0.9906 - val_loss: 0.0443 - val_acc: 0.9852\n",
      "Epoch 3/10\n",
      "5668/5668 [==============================] - 8s - loss: 0.0120 - acc: 0.9963 - val_loss: 0.0501 - val_acc: 0.9824\n",
      "Epoch 4/10\n",
      "5668/5668 [==============================] - 8s - loss: 0.0086 - acc: 0.9981 - val_loss: 0.0456 - val_acc: 0.9831\n",
      "Epoch 5/10\n",
      "5668/5668 [==============================] - 8s - loss: 0.0075 - acc: 0.9984 - val_loss: 0.0439 - val_acc: 0.9866\n",
      "Epoch 6/10\n",
      "5668/5668 [==============================] - 8s - loss: 0.0039 - acc: 0.9993 - val_loss: 0.0575 - val_acc: 0.9859\n",
      "Epoch 7/10\n",
      "5668/5668 [==============================] - 8s - loss: 0.0049 - acc: 0.9988 - val_loss: 0.0342 - val_acc: 0.9887\n",
      "Epoch 8/10\n",
      "5668/5668 [==============================] - 8s - loss: 0.0012 - acc: 0.9998 - val_loss: 0.0416 - val_acc: 0.9873\n",
      "Epoch 9/10\n",
      "5668/5668 [==============================] - 8s - loss: 8.1484e-04 - acc: 0.9998 - val_loss: 0.0471 - val_acc: 0.9845\n",
      "Epoch 10/10\n",
      "5668/5668 [==============================] - 8s - loss: 0.0015 - acc: 0.9996 - val_loss: 0.0590 - val_acc: 0.9852\n"
     ]
    }
   ],
   "source": [
    "history = model.fit(X_train, Y_train, batch_size=BATCH_SIZE, epochs=NUM_EPOCH, validation_data=(X_test, Y_test))"
   ]
  },
  {
   "cell_type": "code",
   "execution_count": 129,
   "metadata": {
    "collapsed": false
   },
   "outputs": [
    {
     "data": {
      "image/png": "[encoded data removed]",
      "text/plain": [
       "<matplotlib.figure.Figure at 0x122776ba8>"
      ]
     },
     "metadata": {},
     "output_type": "display_data"
    }
   ],
   "source": [
    "# plotting the results of loss and Accuracy\n",
    "plt.subplot(211)\n",
    "plt.title('Accuracy')\n",
    "plt.plot(history.history['acc'], color='r', label='train')\n",
    "plt.plot(history.history['val_acc'], color='g', label='validation')\n",
    "plt.legend(loc='best')\n",
    "\n",
    "plt.subplot(212)\n",
    "plt.title('Loss')\n",
    "plt.plot(history.history['loss'], color='r', label='train')\n",
    "plt.plot(history.history['val_loss'], color='g', label='validation')\n",
    "plt.legend(loc='best')\n",
    "\n",
    "plt.tight_layout()\n",
    "plt.show()\n"
   ]
  },
  {
   "cell_type": "markdown",
   "metadata": {},
   "source": [
    "### Test the model on the test data and output some random predictions and labels for some samples"
   ]
  },
  {
   "cell_type": "code",
   "execution_count": 130,
   "metadata": {
    "collapsed": false
   },
   "outputs": [
    {
     "name": "stdout",
     "output_type": "stream",
     "text": [
      "1376/1418 [============================>.] - ETA: 0sScore and Accuracy\n",
      "0.0590375114702  -  0.985190409027\n",
      "1418\n",
      "(1418, 40)\n"
     ]
    }
   ],
   "source": [
    "score, accuracy = model.evaluate(X_test, Y_test)\n",
    "print(\"Score and Accuracy\")\n",
    "print(score, \" - \", accuracy)\n",
    "\n",
    "print(len(X_test))\n",
    "print(X_test.shape)\n"
   ]
  },
  {
   "cell_type": "code",
   "execution_count": 138,
   "metadata": {
    "collapsed": false
   },
   "outputs": [
    {
     "name": "stdout",
     "output_type": "stream",
     "text": [
      "prediction - label - sentence\n",
      "0.000447229  -  0.0  -  brokeback mountain was boring .\n",
      "0.999999  -  1.0  -  besides myself in the da vinci code -- which , by the way , was awesome ! ) .\n",
      "0.999999  -  1.0  -  i want to be here because i love harry potter , and i really want a place where people take it serious , but it is still so much fun .\n",
      "0.999999  -  1.0  -  because i would like to make friends who like the same things i like , and i really like harry potter , so i thought that joining a community like this would be a good start .\n",
      "0.999999  -  1.0  -  i wanted desperately to love'the da vinci code as a film .\n",
      "2.07986e-05  -  0.0  -  my dad 's being stupid about brokeback mountain ...\n",
      "2.81518e-06  -  0.0  -  i hate harry potter , that daniel wotshisface needs a fucking slap ...\n",
      "0.00016993  -  0.0  -  i had to go to work at for stupid mission impossible 3 .\n",
      "0.999999  -  1.0  -  mission impossible 3 was excellent .\n",
      "0.999996  -  1.0  -  the da vinci code is awesome ! !\n"
     ]
    }
   ],
   "source": [
    "# print some sample predictions and their actual labels\n",
    "print(\"prediction - label - sentence\")\n",
    "for iter in range(10):\n",
    "    idx = np.random.randint(len(X_test))\n",
    "    x_test = (X_test[idx].reshape(1,40)).astype(int)\n",
    "#     print(X_test[idx])\n",
    "#     print(x_test)\n",
    "  \n",
    "## This one displays an array of words in the sentence and does not form sentences    \n",
    "#     sent = []\n",
    "#     for i in x_test[0]:\n",
    "#         if i != 0:\n",
    "#             sent.append(index2word[i])\n",
    "\n",
    "    sentence = \" \".join([index2word[int(x)] for x in x_test[0].tolist() if x != 0])\n",
    "\n",
    "    label = Y_test[idx]\n",
    "    pred = model.predict(x_test)[0][0]  # as the prediction is having a shape of (1,1)\n",
    "    print(pred, \" - \", label, \" - \", sentence)\n",
    "    \n",
    "#   print(pred, \" - \", label, \" - \", sent)"
   ]
  },
  {
   "cell_type": "code",
   "execution_count": null,
   "metadata": {
    "collapsed": true
   },
   "outputs": [],
   "source": []
  }
 ],
 "metadata": {
  "anaconda-cloud": {},
  "kernelspec": {
   "display_name": "Python [Root]",
   "language": "python",
   "name": "Python [Root]"
  },
  "language_info": {
   "codemirror_mode": {
    "name": "ipython",
    "version": 3
   },
   "file_extension": ".py",
   "mimetype": "text/x-python",
   "name": "python",
   "nbconvert_exporter": "python",
   "pygments_lexer": "ipython3",
   "version": "3.5.2"
  }
 },
 "nbformat": 4,
 "nbformat_minor": 0
}
