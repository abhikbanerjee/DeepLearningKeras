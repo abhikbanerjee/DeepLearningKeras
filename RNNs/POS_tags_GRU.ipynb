{
 "cells": [
  {
   "cell_type": "markdown",
   "metadata": {},
   "source": [
    "# This notebook is trained to predict POS tags for sentences using GRU cells in a RNN network"
   ]
  },
  {
   "cell_type": "markdown",
   "metadata": {},
   "source": [
    "### Necessary imports"
   ]
  },
  {
   "cell_type": "code",
   "execution_count": 1,
   "metadata": {
    "collapsed": false
   },
   "outputs": [
    {
     "name": "stderr",
     "output_type": "stream",
     "text": [
      "Using Theano backend.\n"
     ]
    }
   ],
   "source": [
    "from keras.layers.core import Activation, Dense, SpatialDropout1D, RepeatVector\n",
    "from keras.utils import np_utils\n",
    "from keras.models import Sequential\n",
    "from keras.layers.recurrent import GRU, LSTM\n",
    "\n",
    "import collections\n",
    "import numpy as np\n",
    "import matplotlib.pyplot as plt\n",
    "import os\n",
    "\n",
    "%matplotlib inline"
   ]
  },
  {
   "cell_type": "markdown",
   "metadata": {},
   "source": [
    "### Download the sentences and their pos tags from nltk (10% sample)"
   ]
  },
  {
   "cell_type": "code",
   "execution_count": 13,
   "metadata": {
    "collapsed": false
   },
   "outputs": [],
   "source": [
    "import nltk\n",
    "\n",
    "DATA_DIR = \"/Users/tkmacl9/Desktop\"\n",
    "\n",
    "# fs_data = open(os.path.join(DATA_DIR, \"/sentence_data.txt\"), \"w\")\n",
    "# fs_pos_tags = open(os.path.join(DATA_DIR, \"/sentence_pos_tags.txt\"), \"w\")\n",
    "\n",
    "fs_data = open(\"sentence_data.txt\", \"w\")\n",
    "fs_pos_tags = open(\"sentence_pos_tags.txt\", \"w\")\n",
    "\n",
    "sents = nltk.corpus.treebank.tagged_sents()\n",
    "for sent in sents:\n",
    "    words = []\n",
    "    poss = []\n",
    "    for word, pos in sent:\n",
    "        if pos == \"-NONE-\":\n",
    "            continue;\n",
    "        words.append(word)\n",
    "        poss.append(pos)\n",
    "    fs_data.write(\"{:s}\".format(\" \".join(words)))\n",
    "    fs_pos_tags.write(\"{:s}\".format(\" \".join(poss)))\n",
    "    \n",
    "fs_data.close()\n",
    "fs_pos_tags.close()"
   ]
  },
  {
   "cell_type": "code",
   "execution_count": null,
   "metadata": {
    "collapsed": true
   },
   "outputs": [],
   "source": []
  }
 ],
 "metadata": {
  "anaconda-cloud": {},
  "kernelspec": {
   "display_name": "Python [Root]",
   "language": "python",
   "name": "Python [Root]"
  },
  "language_info": {
   "codemirror_mode": {
    "name": "ipython",
    "version": 3
   },
   "file_extension": ".py",
   "mimetype": "text/x-python",
   "name": "python",
   "nbconvert_exporter": "python",
   "pygments_lexer": "ipython3",
   "version": "3.5.2"
  }
 },
 "nbformat": 4,
 "nbformat_minor": 0
}
