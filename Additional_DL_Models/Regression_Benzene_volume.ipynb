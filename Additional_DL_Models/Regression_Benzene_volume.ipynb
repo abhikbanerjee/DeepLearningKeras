{
 "cells": [
  {
   "cell_type": "markdown",
   "metadata": {},
   "source": [
    "# This notebook uses Keras Functional API's to predict Benzene Levels in the air"
   ]
  },
  {
   "cell_type": "markdown",
   "metadata": {},
   "source": [
    "### Include necesary Imports"
   ]
  },
  {
   "cell_type": "code",
   "execution_count": 10,
   "metadata": {
    "collapsed": false
   },
   "outputs": [],
   "source": [
    "from keras.models import Model\n",
    "from keras.layers.core import Dense\n",
    "from keras.layers import Input\n",
    "from keras.models import Sequential\n",
    "\n",
    "import matplotlib.pyplot as plt\n",
    "import numpy as np\n",
    "import pandas as pd\n",
    "from sklearn.preprocessing import StandardScaler"
   ]
  },
  {
   "cell_type": "markdown",
   "metadata": {},
   "source": [
    "### Read  the csv and preprocess the data"
   ]
  },
  {
   "cell_type": "code",
   "execution_count": 13,
   "metadata": {
    "collapsed": false
   },
   "outputs": [
    {
     "name": "stdout",
     "output_type": "stream",
     "text": [
      "   CO(GT)  PT08.S1(CO)  NMHC(GT)  C6H6(GT)  PT08.S2(NMHC)  NOx(GT)  \\\n",
      "0     2.6       1360.0     150.0      11.9         1046.0    166.0   \n",
      "1     2.0       1292.0     112.0       9.4          955.0    103.0   \n",
      "2     2.2       1402.0      88.0       9.0          939.0    131.0   \n",
      "3     2.2       1376.0      80.0       9.2          948.0    172.0   \n",
      "4     1.6       1272.0      51.0       6.5          836.0    131.0   \n",
      "\n",
      "   PT08.S3(NOx)  NO2(GT)  PT08.S4(NO2)  PT08.S5(O3)     T    RH      AH  \n",
      "0        1056.0    113.0        1692.0       1268.0  13.6  48.9  0.7578  \n",
      "1        1174.0     92.0        1559.0        972.0  13.3  47.7  0.7255  \n",
      "2        1140.0    114.0        1555.0       1074.0  11.9  54.0  0.7502  \n",
      "3        1092.0    122.0        1584.0       1203.0  11.0  60.0  0.7867  \n",
      "4        1205.0    116.0        1490.0       1110.0  11.2  59.6  0.7888  \n",
      "(9471, 13)\n"
     ]
    }
   ],
   "source": [
    "BENZENE_FILE = \"/Users/tkmacl9/Desktop/FastAIDLCourse/nbs/datasets/UCI_benzene_levels/AirQualityUCI.csv\"\n",
    "\n",
    "bldf = pd.read_csv(BENZENE_FILE, delimiter=\";\", decimal=',', header=0)\n",
    "bldf.head()\n",
    "\n",
    "del bldf['Date']\n",
    "del bldf['Time']\n",
    "\n",
    "del bldf['Unnamed: 15']\n",
    "del bldf['Unnamed: 16']\n",
    "\n",
    "# fill NaNs in each column with the mean value and convert them as a matrix\n",
    "print(bldf.head())\n",
    "bldf = bldf.fillna(bldf.mean())\n",
    "Xorig = bldf.as_matrix()\n",
    "print(Xorig.shape)"
   ]
  },
  {
   "cell_type": "markdown",
   "metadata": {},
   "source": [
    "### Use StandardScaler to normalize the columns and spli the data"
   ]
  },
  {
   "cell_type": "code",
   "execution_count": 34,
   "metadata": {
    "collapsed": false
   },
   "outputs": [
    {
     "name": "stdout",
     "output_type": "stream",
     "text": [
      "(13,)\n",
      "(13,)\n"
     ]
    },
    {
     "name": "stderr",
     "output_type": "stream",
     "text": [
      "/Users/tkmacl9/anaconda/lib/python3.5/site-packages/sklearn/utils/deprecation.py:70: DeprecationWarning: Function std_ is deprecated; Attribute ``std_`` will be removed in 0.19. Use ``scale_`` instead\n",
      "  warnings.warn(msg, category=DeprecationWarning)\n"
     ]
    }
   ],
   "source": [
    "# Use the Z- normalization on the data\n",
    "\n",
    "scaler = StandardScaler()\n",
    "X_scaled = scaler.fit_transform(Xorig)\n",
    "\n",
    "#store the mean and std for later usage\n",
    "X_mean = scaler.mean_\n",
    "X_std = scaler.std_\n",
    "\n",
    "print(X_mean.shape)\n",
    "print(X_std.shape)"
   ]
  },
  {
   "cell_type": "code",
   "execution_count": 24,
   "metadata": {
    "collapsed": false
   },
   "outputs": [
    {
     "name": "stdout",
     "output_type": "stream",
     "text": [
      "(6629, 12)\n",
      "(2842, 12)\n",
      "(6629,)\n",
      "(2842,)\n"
     ]
    }
   ],
   "source": [
    "# pull out the benzene column as the target variable, and take the all other columns as the input data.\n",
    "\n",
    "Y = X_scaled[:, 3]\n",
    "X = np.delete(X_scaled, 3, axis=1)\n",
    "\n",
    "split_data = int(0.7 * X.shape[0])\n",
    "X_train, X_test, Y_train, Y_test = X[:split_data], X[split_data:], Y[:split_data], Y[split_data:]\n",
    "\n",
    "print(X_train.shape)\n",
    "print(X_test.shape)\n",
    "print(Y_train.shape)\n",
    "print(Y_test.shape)"
   ]
  },
  {
   "cell_type": "markdown",
   "metadata": {},
   "source": [
    "### Now define the model - a simple single layer and train the model"
   ]
  },
  {
   "cell_type": "code",
   "execution_count": 25,
   "metadata": {
    "collapsed": true
   },
   "outputs": [],
   "source": [
    "inputs = Input(shape=(12,))\n",
    "x = Dense(8, activation='relu', kernel_initializer='glorot_uniform')(inputs)\n",
    "benzene = Dense(1, kernel_initializer='glorot_uniform')(x)\n",
    "\n",
    "model = Model(inputs=[inputs], outputs=[benzene])\n",
    "\n",
    "model.compile(loss='mse', optimizer='adam')"
   ]
  },
  {
   "cell_type": "code",
   "execution_count": 26,
   "metadata": {
    "collapsed": false
   },
   "outputs": [
    {
     "name": "stdout",
     "output_type": "stream",
     "text": [
      "_________________________________________________________________\n",
      "Layer (type)                 Output Shape              Param #   \n",
      "=================================================================\n",
      "input_1 (InputLayer)         (None, 12)                0         \n",
      "_________________________________________________________________\n",
      "dense_1 (Dense)              (None, 8)                 104       \n",
      "_________________________________________________________________\n",
      "dense_2 (Dense)              (None, 1)                 9         \n",
      "=================================================================\n",
      "Total params: 113\n",
      "Trainable params: 113\n",
      "Non-trainable params: 0\n",
      "_________________________________________________________________\n"
     ]
    }
   ],
   "source": [
    "model.summary()"
   ]
  },
  {
   "cell_type": "code",
   "execution_count": 27,
   "metadata": {
    "collapsed": false
   },
   "outputs": [
    {
     "name": "stdout",
     "output_type": "stream",
     "text": [
      "Train on 5303 samples, validate on 1326 samples\n",
      "Epoch 1/20\n",
      "5303/5303 [==============================] - 0s - loss: 0.8021 - val_loss: 0.1847\n",
      "Epoch 2/20\n",
      "5303/5303 [==============================] - 0s - loss: 0.0423 - val_loss: 0.1119\n",
      "Epoch 3/20\n",
      "5303/5303 [==============================] - 0s - loss: 0.0241 - val_loss: 0.0808\n",
      "Epoch 4/20\n",
      "5303/5303 [==============================] - 0s - loss: 0.0154 - val_loss: 0.0716\n",
      "Epoch 5/20\n",
      "5303/5303 [==============================] - 0s - loss: 0.0100 - val_loss: 0.0647\n",
      "Epoch 6/20\n",
      "5303/5303 [==============================] - 0s - loss: 0.0066 - val_loss: 0.0567\n",
      "Epoch 7/20\n",
      "5303/5303 [==============================] - 0s - loss: 0.0046 - val_loss: 0.0499\n",
      "Epoch 8/20\n",
      "5303/5303 [==============================] - 0s - loss: 0.0032 - val_loss: 0.0430\n",
      "Epoch 9/20\n",
      "5303/5303 [==============================] - 0s - loss: 0.0024 - val_loss: 0.0381\n",
      "Epoch 10/20\n",
      "5303/5303 [==============================] - 0s - loss: 0.0018 - val_loss: 0.0311\n",
      "Epoch 11/20\n",
      "5303/5303 [==============================] - 0s - loss: 0.0015 - val_loss: 0.0260\n",
      "Epoch 12/20\n",
      "5303/5303 [==============================] - 0s - loss: 0.0012 - val_loss: 0.0224\n",
      "Epoch 13/20\n",
      "5303/5303 [==============================] - 0s - loss: 0.0010 - val_loss: 0.0192\n",
      "Epoch 14/20\n",
      "5303/5303 [==============================] - 0s - loss: 8.3554e-04 - val_loss: 0.0184\n",
      "Epoch 15/20\n",
      "5303/5303 [==============================] - 0s - loss: 7.3868e-04 - val_loss: 0.0172\n",
      "Epoch 16/20\n",
      "5303/5303 [==============================] - 0s - loss: 6.1430e-04 - val_loss: 0.0155\n",
      "Epoch 17/20\n",
      "5303/5303 [==============================] - 0s - loss: 5.1509e-04 - val_loss: 0.0145\n",
      "Epoch 18/20\n",
      "5303/5303 [==============================] - 0s - loss: 4.9148e-04 - val_loss: 0.0126\n",
      "Epoch 19/20\n",
      "5303/5303 [==============================] - 0s - loss: 3.9463e-04 - val_loss: 0.0120\n",
      "Epoch 20/20\n",
      "5303/5303 [==============================] - 0s - loss: 4.0092e-04 - val_loss: 0.0118\n"
     ]
    }
   ],
   "source": [
    "NUM_EPOCHS = 20\n",
    "BATCH_SIZE = 10\n",
    "\n",
    "history = model.fit(X_train, Y_train, epochs=NUM_EPOCHS, batch_size=BATCH_SIZE, validation_split=0.2)"
   ]
  },
  {
   "cell_type": "code",
   "execution_count": 37,
   "metadata": {
    "collapsed": false
   },
   "outputs": [
    {
     "name": "stdout",
     "output_type": "stream",
     "text": [
      "Actual Value - 11.600, Prediction Value - 4.852\n",
      "Actual Value - 11.700, Prediction Value - 4.200\n",
      "Actual Value - 11.300, Prediction Value - 5.871\n",
      "Actual Value - 10.400, Prediction Value - 3.727\n",
      "Actual Value - 6.400, Prediction Value - 0.335\n",
      "Actual Value - 9.800, Prediction Value - 3.313\n",
      "Actual Value - 5.800, Prediction Value - 1.665\n",
      "Actual Value - 7.000, Prediction Value - 2.102\n",
      "Actual Value - 4.000, Prediction Value - 1.427\n",
      "Actual Value - 6.900, Prediction Value - 3.070\n"
     ]
    }
   ],
   "source": [
    "y_test_ = model.predict(X_test).flatten()\n",
    "for i in range(10):\n",
    "    label = (Y_test[i] * X_std[3]) + X_mean[3]\n",
    "    prediction = (y_test_[i] * X_std[3]) + X_mean[3]    \n",
    "    print(\"Actual Value - {:.3f}, Prediction Value - {:.3f}\".format(label, prediction))\n",
    "    "
   ]
  },
  {
   "cell_type": "code",
   "execution_count": 38,
   "metadata": {
    "collapsed": true
   },
   "outputs": [],
   "source": [
    "# plot the data on plot graphs\n"
   ]
  },
  {
   "cell_type": "code",
   "execution_count": null,
   "metadata": {
    "collapsed": true
   },
   "outputs": [],
   "source": []
  }
 ],
 "metadata": {
  "anaconda-cloud": {},
  "kernelspec": {
   "display_name": "Python [Root]",
   "language": "python",
   "name": "Python [Root]"
  },
  "language_info": {
   "codemirror_mode": {
    "name": "ipython",
    "version": 3
   },
   "file_extension": ".py",
   "mimetype": "text/x-python",
   "name": "python",
   "nbconvert_exporter": "python",
   "pygments_lexer": "ipython3",
   "version": "3.5.2"
  }
 },
 "nbformat": 4,
 "nbformat_minor": 0
}
