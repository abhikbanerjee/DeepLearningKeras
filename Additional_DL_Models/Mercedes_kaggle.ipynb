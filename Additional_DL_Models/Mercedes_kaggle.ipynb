{
 "cells": [
  {
   "cell_type": "markdown",
   "metadata": {},
   "source": [
    "# This notebook uses Keras Functional API's to predict Mercedes Kaggle challenge"
   ]
  },
  {
   "cell_type": "markdown",
   "metadata": {},
   "source": [
    "### Include necesary Imports"
   ]
  },
  {
   "cell_type": "code",
   "execution_count": 10,
   "metadata": {
    "collapsed": false
   },
   "outputs": [],
   "source": [
    "from keras.models import Model\n",
    "from keras.layers.core import Dense\n",
    "from keras.layers import Input\n",
    "from keras.models import Sequential\n",
    "\n",
    "import matplotlib.pyplot as plt\n",
    "import numpy as np\n",
    "import pandas as pd\n",
    "from sklearn.preprocessing import StandardScaler\n",
    "from sklearn.model_selection import train_test_split\n",
    "\n",
    "%matplotlib inline"
   ]
  },
  {
   "cell_type": "markdown",
   "metadata": {},
   "source": [
    "### Read  the csv and preprocess the data"
   ]
  },
  {
   "cell_type": "code",
   "execution_count": 8,
   "metadata": {
    "collapsed": false
   },
   "outputs": [
    {
     "name": "stdout",
     "output_type": "stream",
     "text": [
      "(4209, 369)\n",
      "        y  X10  X11  X12  X13  X14  X15  X16  X17  X18  ...   X375  X376  \\\n",
      "0  130.81    0    0    0    1    0    0    0    0    1  ...      0     0   \n",
      "1   88.53    0    0    0    0    0    0    0    0    1  ...      1     0   \n",
      "2   76.26    0    0    0    0    0    0    0    1    0  ...      0     0   \n",
      "3   80.62    0    0    0    0    0    0    0    0    0  ...      0     0   \n",
      "4   78.02    0    0    0    0    0    0    0    0    0  ...      0     0   \n",
      "\n",
      "   X377  X378  X379  X380  X382  X383  X384  X385  \n",
      "0     1     0     0     0     0     0     0     0  \n",
      "1     0     0     0     0     0     0     0     0  \n",
      "2     0     0     0     0     1     0     0     0  \n",
      "3     0     0     0     0     0     0     0     0  \n",
      "4     0     0     0     0     0     0     0     0  \n",
      "\n",
      "[5 rows x 369 columns]\n",
      " \n",
      "   X10  X11  X12  X13  X14  X15  X16  X17  X18  X19  ...   X375  X376  X377  \\\n",
      "0    0    0    0    0    0    0    0    0    0    0  ...      0     0     0   \n",
      "1    0    0    0    0    0    0    0    0    0    1  ...      0     0     1   \n",
      "2    0    0    0    0    1    0    0    0    0    0  ...      0     0     0   \n",
      "3    0    0    0    0    0    0    0    0    0    0  ...      0     0     0   \n",
      "4    0    0    0    0    1    0    0    0    0    0  ...      1     0     0   \n",
      "\n",
      "   X378  X379  X380  X382  X383  X384  X385  \n",
      "0     1     0     0     0     0     0     0  \n",
      "1     0     0     0     0     0     0     0  \n",
      "2     1     0     0     0     0     0     0  \n",
      "3     1     0     0     0     0     0     0  \n",
      "4     0     0     0     0     0     0     0  \n",
      "\n",
      "[5 rows x 368 columns]\n"
     ]
    }
   ],
   "source": [
    "merc_train_FILE = \"/Users/tkmacl9/Desktop/Kaggle_Competitions/Mercedes_regression/train.csv\"\n",
    "merc_test_FILE = \"/Users/tkmacl9/Desktop/Kaggle_Competitions/Mercedes_regression/test.csv\"\n",
    "\n",
    "merc_train = pd.read_csv(merc_train_FILE, delimiter=\",\", header=0)\n",
    "merc_test = pd.read_csv(merc_test_FILE, delimiter=\",\", header=0)\n",
    "\n",
    "\n",
    "del merc_train['ID']\n",
    "del merc_train['X0']\n",
    "del merc_train['X1']\n",
    "del merc_train['X2']\n",
    "del merc_train['X3']\n",
    "del merc_train['X4']\n",
    "del merc_train['X5']\n",
    "del merc_train['X6']\n",
    "del merc_train['X8']\n",
    "\n",
    "del merc_test['ID']\n",
    "del merc_test['X0']\n",
    "del merc_test['X1']\n",
    "del merc_test['X2']\n",
    "del merc_test['X3']\n",
    "del merc_test['X4']\n",
    "del merc_test['X5']\n",
    "del merc_test['X6']\n",
    "del merc_test['X8']\n",
    "\n",
    "# fill NaNs in each column with the mean value and convert them as a matrix\n",
    "# print(bldf.head())\n",
    "merc_train = merc_train.fillna(merc_train.mean())\n",
    "Xorig = merc_train.as_matrix()\n",
    "print(merc_train.shape)\n",
    "\n",
    "print(merc_train.head())\n",
    "print(\" \")\n",
    "print(merc_test.head())"
   ]
  },
  {
   "cell_type": "markdown",
   "metadata": {},
   "source": [
    "### Use StandardScaler to normalize the columns and spli the data"
   ]
  },
  {
   "cell_type": "code",
   "execution_count": 9,
   "metadata": {
    "collapsed": false
   },
   "outputs": [
    {
     "name": "stdout",
     "output_type": "stream",
     "text": [
      "(369,)\n",
      "(369,)\n"
     ]
    },
    {
     "name": "stderr",
     "output_type": "stream",
     "text": [
      "/Users/tkmacl9/anaconda/lib/python3.5/site-packages/sklearn/utils/deprecation.py:70: DeprecationWarning: Function std_ is deprecated; Attribute ``std_`` will be removed in 0.19. Use ``scale_`` instead\n",
      "  warnings.warn(msg, category=DeprecationWarning)\n"
     ]
    }
   ],
   "source": [
    "# Use the Z- normalization on the data\n",
    "\n",
    "scaler = StandardScaler()\n",
    "X_scaled = scaler.fit_transform(Xorig)\n",
    "\n",
    "#store the mean and std for later usage\n",
    "X_mean = scaler.mean_\n",
    "X_std = scaler.std_\n",
    "\n",
    "print(X_mean.shape)\n",
    "print(X_std.shape)"
   ]
  },
  {
   "cell_type": "code",
   "execution_count": 26,
   "metadata": {
    "collapsed": false
   },
   "outputs": [
    {
     "data": {
      "text/plain": [
       "(4209, 368)"
      ]
     },
     "execution_count": 26,
     "metadata": {},
     "output_type": "execute_result"
    }
   ],
   "source": [
    "# pull out the benzene column as the target variable, and take the all other columns as the input data.\n",
    "\n",
    "Y = X_scaled[:, 0]\n",
    "X = np.delete(X_scaled, 0, axis=1)\n",
    "\n",
    "X.shape\n",
    "\n",
    "# split_data = 0.3\n",
    "# X_train, X_test, Y_train, Y_test = train_test_split(X, Y, test_size=split_data)\n",
    "\n",
    "# print(X_train.shape)\n",
    "# print(X_test.shape)\n",
    "# print(Y_train.shape)\n",
    "# print(Y_test.shape)\n",
    "\n",
    "# X_train[0]\n",
    "# Y_train[0]"
   ]
  },
  {
   "cell_type": "markdown",
   "metadata": {},
   "source": [
    "### Now define the model - a simple single layer and train the model"
   ]
  },
  {
   "cell_type": "code",
   "execution_count": 27,
   "metadata": {
    "collapsed": true
   },
   "outputs": [],
   "source": [
    "inputs = Input(shape=(368,))\n",
    "x1 = Dense(8, activation='relu', kernel_initializer='glorot_uniform')(inputs)\n",
    "x2 = Dense(12, activation='relu', kernel_initializer='glorot_uniform')(x1)\n",
    "benzene = Dense(1, kernel_initializer='glorot_uniform')(x2)\n",
    "\n",
    "model = Model(inputs=[inputs], outputs=[benzene])\n",
    "\n",
    "model.compile(loss='mse', optimizer='adam')"
   ]
  },
  {
   "cell_type": "code",
   "execution_count": 28,
   "metadata": {
    "collapsed": false
   },
   "outputs": [
    {
     "name": "stdout",
     "output_type": "stream",
     "text": [
      "_________________________________________________________________\n",
      "Layer (type)                 Output Shape              Param #   \n",
      "=================================================================\n",
      "input_3 (InputLayer)         (None, 368)               0         \n",
      "_________________________________________________________________\n",
      "dense_7 (Dense)              (None, 8)                 2952      \n",
      "_________________________________________________________________\n",
      "dense_8 (Dense)              (None, 12)                108       \n",
      "_________________________________________________________________\n",
      "dense_9 (Dense)              (None, 1)                 13        \n",
      "=================================================================\n",
      "Total params: 3,073\n",
      "Trainable params: 3,073\n",
      "Non-trainable params: 0\n",
      "_________________________________________________________________\n"
     ]
    }
   ],
   "source": [
    "model.summary()"
   ]
  },
  {
   "cell_type": "code",
   "execution_count": 33,
   "metadata": {
    "collapsed": false
   },
   "outputs": [
    {
     "name": "stdout",
     "output_type": "stream",
     "text": [
      "Train on 2946 samples, validate on 1263 samples\n",
      "Epoch 1/50\n",
      "2946/2946 [==============================] - 0s - loss: 0.0032 - val_loss: 3.4910\n",
      "Epoch 2/50\n",
      "2946/2946 [==============================] - 0s - loss: 0.0013 - val_loss: 3.9180\n",
      "Epoch 3/50\n",
      "2946/2946 [==============================] - 0s - loss: 0.0022 - val_loss: 3.8593\n",
      "Epoch 4/50\n",
      "2946/2946 [==============================] - 0s - loss: 0.0023 - val_loss: 3.8145\n",
      "Epoch 5/50\n",
      "2946/2946 [==============================] - 0s - loss: 0.0021 - val_loss: 3.6531\n",
      "Epoch 6/50\n",
      "2946/2946 [==============================] - 0s - loss: 0.0026 - val_loss: 3.7519\n",
      "Epoch 7/50\n",
      "2946/2946 [==============================] - 0s - loss: 0.0025 - val_loss: 3.4688\n",
      "Epoch 8/50\n",
      "2946/2946 [==============================] - 0s - loss: 0.0030 - val_loss: 3.6330\n",
      "Epoch 9/50\n",
      "2946/2946 [==============================] - 0s - loss: 0.0013 - val_loss: 3.4752\n",
      "Epoch 10/50\n",
      "2946/2946 [==============================] - 0s - loss: 0.0052 - val_loss: 3.7864\n",
      "Epoch 11/50\n",
      "2946/2946 [==============================] - 0s - loss: 0.0028 - val_loss: 3.5859\n",
      "Epoch 12/50\n",
      "2946/2946 [==============================] - 0s - loss: 0.0012 - val_loss: 3.7495\n",
      "Epoch 13/50\n",
      "2946/2946 [==============================] - 0s - loss: 0.0023 - val_loss: 3.3999\n",
      "Epoch 14/50\n",
      "2946/2946 [==============================] - 0s - loss: 0.0047 - val_loss: 3.4870\n",
      "Epoch 15/50\n",
      "2946/2946 [==============================] - 0s - loss: 9.2590e-04 - val_loss: 3.3601\n",
      "Epoch 16/50\n",
      "2946/2946 [==============================] - 0s - loss: 0.0098 - val_loss: 3.1001\n",
      "Epoch 17/50\n",
      "2946/2946 [==============================] - 0s - loss: 0.0015 - val_loss: 2.7941\n",
      "Epoch 18/50\n",
      "2946/2946 [==============================] - 0s - loss: 5.0824e-04 - val_loss: 2.9716\n",
      "Epoch 19/50\n",
      "2946/2946 [==============================] - 0s - loss: 5.8435e-04 - val_loss: 2.9823\n",
      "Epoch 20/50\n",
      "2946/2946 [==============================] - 0s - loss: 0.0010 - val_loss: 3.0766\n",
      "Epoch 21/50\n",
      "2946/2946 [==============================] - 0s - loss: 0.0014 - val_loss: 3.0027\n",
      "Epoch 22/50\n",
      "2946/2946 [==============================] - 0s - loss: 0.0040 - val_loss: 2.9220\n",
      "Epoch 23/50\n",
      "2946/2946 [==============================] - 0s - loss: 0.0015 - val_loss: 2.5756\n",
      "Epoch 24/50\n",
      "2946/2946 [==============================] - 0s - loss: 0.0023 - val_loss: 2.6382\n",
      "Epoch 25/50\n",
      "2946/2946 [==============================] - 0s - loss: 0.0036 - val_loss: 2.9374\n",
      "Epoch 26/50\n",
      "2946/2946 [==============================] - 0s - loss: 0.0018 - val_loss: 2.7354\n",
      "Epoch 27/50\n",
      "2946/2946 [==============================] - 0s - loss: 0.0028 - val_loss: 2.6906\n",
      "Epoch 28/50\n",
      "2946/2946 [==============================] - 0s - loss: 0.0011 - val_loss: 2.6557\n",
      "Epoch 29/50\n",
      "2946/2946 [==============================] - 0s - loss: 9.8588e-04 - val_loss: 2.5000\n",
      "Epoch 30/50\n",
      "2946/2946 [==============================] - 0s - loss: 0.0023 - val_loss: 2.5532\n",
      "Epoch 31/50\n",
      "2946/2946 [==============================] - 0s - loss: 0.0017 - val_loss: 2.3795\n",
      "Epoch 32/50\n",
      "2946/2946 [==============================] - 0s - loss: 7.8188e-04 - val_loss: 2.3099\n",
      "Epoch 33/50\n",
      "2946/2946 [==============================] - 0s - loss: 0.0012 - val_loss: 2.3357\n",
      "Epoch 34/50\n",
      "2946/2946 [==============================] - 0s - loss: 6.8589e-04 - val_loss: 1.9482\n",
      "Epoch 35/50\n",
      "2946/2946 [==============================] - 0s - loss: 0.0034 - val_loss: 2.1643\n",
      "Epoch 36/50\n",
      "2946/2946 [==============================] - 0s - loss: 0.0014 - val_loss: 2.1488\n",
      "Epoch 37/50\n",
      "2946/2946 [==============================] - 0s - loss: 6.1182e-04 - val_loss: 2.5386\n",
      "Epoch 38/50\n",
      "2946/2946 [==============================] - 0s - loss: 0.0018 - val_loss: 2.2901\n",
      "Epoch 39/50\n",
      "2946/2946 [==============================] - 0s - loss: 0.0033 - val_loss: 2.0818\n",
      "Epoch 40/50\n",
      "2946/2946 [==============================] - 0s - loss: 0.0019 - val_loss: 2.0451\n",
      "Epoch 41/50\n",
      "2946/2946 [==============================] - 0s - loss: 8.7623e-04 - val_loss: 1.7808\n",
      "Epoch 42/50\n",
      "2946/2946 [==============================] - 0s - loss: 8.9107e-04 - val_loss: 1.9953\n",
      "Epoch 43/50\n",
      "2946/2946 [==============================] - 0s - loss: 7.0380e-04 - val_loss: 1.8094\n",
      "Epoch 44/50\n",
      "2946/2946 [==============================] - 0s - loss: 0.0011 - val_loss: 1.8232\n",
      "Epoch 45/50\n",
      "2946/2946 [==============================] - 0s - loss: 8.4836e-04 - val_loss: 1.4768\n",
      "Epoch 46/50\n",
      "2946/2946 [==============================] - 0s - loss: 0.0012 - val_loss: 1.4297\n",
      "Epoch 47/50\n",
      "2946/2946 [==============================] - 0s - loss: 6.7064e-04 - val_loss: 1.4592\n",
      "Epoch 48/50\n",
      "2946/2946 [==============================] - 0s - loss: 0.0014 - val_loss: 1.3186\n",
      "Epoch 49/50\n",
      "2946/2946 [==============================] - 0s - loss: 0.0020 - val_loss: 1.5594\n",
      "Epoch 50/50\n",
      "2946/2946 [==============================] - 0s - loss: 0.0032 - val_loss: 1.5198\n"
     ]
    }
   ],
   "source": [
    "NUM_EPOCHS = 50\n",
    "BATCH_SIZE = 10\n",
    "\n",
    "history = model.fit(X_train, Y_train, epochs=NUM_EPOCHS, batch_size=BATCH_SIZE, validation_data=(X_test, Y_test))"
   ]
  },
  {
   "cell_type": "code",
   "execution_count": 34,
   "metadata": {
    "collapsed": false
   },
   "outputs": [
    {
     "name": "stdout",
     "output_type": "stream",
     "text": [
      "Actual Value - 0.044, Prediction Value - 0.045\n",
      "Actual Value - 0.044, Prediction Value - 0.045\n",
      "Actual Value - 0.044, Prediction Value - 0.048\n",
      "Actual Value - 0.044, Prediction Value - 0.044\n",
      "Actual Value - 0.044, Prediction Value - 0.044\n",
      "Actual Value - 0.044, Prediction Value - 0.044\n",
      "Actual Value - 0.044, Prediction Value - 0.043\n",
      "Actual Value - 0.044, Prediction Value - 0.044\n",
      "Actual Value - 0.044, Prediction Value - 0.045\n",
      "Actual Value - 0.044, Prediction Value - 0.033\n",
      " \n",
      "(1263,)\n",
      "(1263,)\n"
     ]
    }
   ],
   "source": [
    "y_test_ = model.predict(X_test).flatten()\n",
    "for i in range(10):\n",
    "    label = (Y_test[i] * X_std[3]) + X_mean[3]\n",
    "    prediction = (y_test_[i] * X_std[3]) + X_mean[3]    \n",
    "    print(\"Actual Value - {:.3f}, Prediction Value - {:.3f}\".format(label, prediction))\n",
    "    \n",
    "print(\" \")\n",
    "print(Y_test.shape)\n",
    "print(y_test_.shape)"
   ]
  },
  {
   "cell_type": "code",
   "execution_count": 35,
   "metadata": {
    "collapsed": false
   },
   "outputs": [
    {
     "data": {
      "image/png": "[encoded data removed]",
      "text/plain": [
       "<matplotlib.figure.Figure at 0x126f1f588>"
      ]
     },
     "metadata": {},
     "output_type": "display_data"
    }
   ],
   "source": [
    "# plot the data on plot graphs\n",
    "\n",
    "plt.plot(np.arange(Y_test.shape[0]),(Y_test * X_std[3]) + X_mean[3], color='r', label='Actual')\n",
    "plt.plot(np.arange(y_test_.shape[0]),(y_test_ * X_std[3]) + X_mean[3], color='b', label='Predicted')\n",
    "plt.xlabel(\"Time\")\n",
    "plt.ylabel(\"C6H6 - Benzene Levels\")\n",
    "plt.legend(loc='best')\n",
    "plt.show()"
   ]
  },
  {
   "cell_type": "code",
   "execution_count": null,
   "metadata": {
    "collapsed": true
   },
   "outputs": [],
   "source": []
  }
 ],
 "metadata": {
  "anaconda-cloud": {},
  "kernelspec": {
   "display_name": "Python [Root]",
   "language": "python",
   "name": "Python [Root]"
  },
  "language_info": {
   "codemirror_mode": {
    "name": "ipython",
    "version": 3
   },
   "file_extension": ".py",
   "mimetype": "text/x-python",
   "name": "python",
   "nbconvert_exporter": "python",
   "pygments_lexer": "ipython3",
   "version": "3.5.2"
  }
 },
 "nbformat": 4,
 "nbformat_minor": 0
}
