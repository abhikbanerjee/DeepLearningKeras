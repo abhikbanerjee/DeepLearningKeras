{
 "cells": [
  {
   "cell_type": "markdown",
   "metadata": {},
   "source": [
    "# Notebook Memory Networks - Question Answering"
   ]
  },
  {
   "cell_type": "markdown",
   "metadata": {},
   "source": [
    "### The dataset can be downloaded - https://s3.amazonaws.com/text-datasets/babi_tasks_1-20_v1-2.tar.gz"
   ]
  },
  {
   "cell_type": "code",
   "execution_count": 95,
   "metadata": {
    "collapsed": false
   },
   "outputs": [],
   "source": [
    "# import the necessary packages\n",
    "\n",
    "from keras.layers import Input\n",
    "from __future__ import division, print_function\n",
    "from keras.layers.core import Dense, Activation, Dropout, Permute\n",
    "from keras.layers.recurrent import LSTM\n",
    "from keras.layers.embeddings import Embedding\n",
    "from keras.utils import np_utils\n",
    "from keras.models import Model\n",
    "from keras.models import Sequential\n",
    "from keras.preprocessing.sequence import pad_sequences\n",
    "from keras.layers.merge import add,dot, concatenate\n",
    "import os\n",
    "\n",
    "import collections\n",
    "import nltk\n",
    "import numpy as np\n",
    "import itertools\n",
    "import matplotlib.pyplot as plt\n",
    "\n",
    "%matplotlib inline"
   ]
  },
  {
   "cell_type": "markdown",
   "metadata": {},
   "source": [
    "### Read the files to create train and test data"
   ]
  },
  {
   "cell_type": "code",
   "execution_count": 101,
   "metadata": {
    "collapsed": false
   },
   "outputs": [],
   "source": [
    "TRAIN_FILE = \"/Users/tkmacl9/Desktop/FastAIDLCourse/nbs/datasets/FB_BABL_Ques_Answering/tasks_1-20_v1-2/en/qa1_single-supporting-fact_train.txt\"\n",
    "TEST_FILE = \"/Users/tkmacl9/Desktop/FastAIDLCourse/nbs/datasets/FB_BABL_Ques_Answering/tasks_1-20_v1-2/en/qa1_single-supporting-fact_test.txt\"\n",
    "\n",
    "def parseFile(infile):\n",
    "    stories = []\n",
    "    ques = []\n",
    "    answers = []\n",
    "    story_text = []\n",
    "    # This parses each line and creates the stories, questions and answers tuple\n",
    "    for line in open(infile, 'rb'):\n",
    "        line = line.decode(\"utf-8\").strip()\n",
    "        lno, text = line.split(\" \", 1)\n",
    "        if \"\\t\" in text:\n",
    "            question, answer, _ = text.split(\"\\t\")\n",
    "            ques.append(question)\n",
    "            answers.append(answer)\n",
    "            stories.append(story_text)\n",
    "            story_text = []\n",
    "        else:\n",
    "            story_text.append(text)\n",
    "#     print(ques)\n",
    "    return stories, ques, answers\n",
    "    \n",
    "train_data = parseFile(TRAIN_FILE)\n",
    "test_data = parseFile(TEST_FILE)"
   ]
  },
  {
   "cell_type": "code",
   "execution_count": 103,
   "metadata": {
    "collapsed": false
   },
   "outputs": [
    {
     "name": "stdout",
     "output_type": "stream",
     "text": [
      "1000\n",
      " \n",
      "1000\n",
      "[['Mary moved to the bathroom.', 'John went to the hallway.'], ['Daniel went back to the hallway.', 'Sandra moved to the garden.'], ['John moved to the office.', 'Sandra journeyed to the bathroom.'], ['Mary moved to the hallway.', 'Daniel travelled to the office.'], ['John went back to the garden.', 'John moved to the bedroom.'], ['Sandra travelled to the office.', 'Sandra went to the bathroom.'], ['Mary went to the bedroom.', 'Daniel moved to the hallway.'], ['John went to the garden.', 'John travelled to the office.'], ['Daniel journeyed to the bedroom.', 'Daniel travelled to the hallway.'], ['John went to the bedroom.', 'John travelled to the office.'], ['Mary went to the bedroom.', 'John journeyed to the bathroom.'], ['Sandra journeyed to the hallway.', 'John journeyed to the garden.'], ['John journeyed to the bathroom.', 'Sandra journeyed to the garden.'], ['Sandra went back to the bedroom.', 'Daniel travelled to the bathroom.'], ['John went to the office.', 'Mary moved to the office.'], ['Daniel journeyed to the kitchen.', 'Daniel journeyed to the bedroom.'], ['Sandra moved to the garden.', 'Sandra went back to the kitchen.'], ['Daniel travelled to the office.', 'Sandra went back to the hallway.'], ['Daniel journeyed to the hallway.', 'Daniel went to the bathroom.'], ['John travelled to the garden.', 'Daniel moved to the hallway.'], ['Mary moved to the garden.', 'John journeyed to the bathroom.'], ['Sandra moved to the office.', 'John moved to the kitchen.'], ['Sandra went to the hallway.', 'Mary travelled to the bedroom.'], ['Mary moved to the office.', 'John moved to the garden.'], ['John journeyed to the office.', 'Sandra went to the office.'], ['Mary moved to the garden.', 'Daniel journeyed to the bathroom.'], ['John travelled to the kitchen.', 'John went back to the bedroom.'], ['John moved to the office.', 'Daniel went back to the garden.'], ['John went back to the hallway.', 'Mary went to the office.'], ['Sandra travelled to the bedroom.', 'John travelled to the garden.'], ['John moved to the bedroom.', 'Mary moved to the hallway.'], ['Sandra moved to the bedroom.', 'Sandra travelled to the kitchen.'], ['Daniel journeyed to the bathroom.', 'Sandra moved to the bathroom.'], ['Daniel went back to the garden.', 'John moved to the kitchen.'], ['Daniel journeyed to the kitchen.', 'Daniel journeyed to the garden.'], ['Mary went to the kitchen.', 'John went back to the bedroom.'], ['Mary went back to the bathroom.', 'Mary moved to the hallway.'], ['John went to the kitchen.', 'Daniel travelled to the bedroom.'], ['Mary travelled to the office.', 'Sandra moved to the bedroom.'], ['John moved to the bedroom.', 'Sandra journeyed to the kitchen.'], ['Daniel moved to the hallway.', 'Daniel travelled to the office.'], ['Daniel went to the bedroom.', 'Daniel journeyed to the office.'], ['Sandra went back to the bathroom.', 'Sandra journeyed to the kitchen.'], ['Daniel moved to the bedroom.', 'Daniel journeyed to the hallway.'], ['Sandra travelled to the garden.', 'Sandra went back to the bathroom.'], ['Sandra went to the garden.', 'Sandra journeyed to the bedroom.'], ['Mary travelled to the bathroom.', 'John journeyed to the bedroom.'], ['Mary went back to the kitchen.', 'John went to the kitchen.'], ['Daniel travelled to the kitchen.', 'Sandra travelled to the bathroom.'], ['Sandra went back to the garden.', 'John went back to the garden.'], ['Sandra went back to the bathroom.', 'Mary moved to the garden.'], ['Mary went back to the hallway.', 'Sandra went to the office.'], ['John went back to the hallway.', 'John travelled to the office.'], ['Sandra journeyed to the hallway.', 'Daniel moved to the office.'], ['Mary went to the office.', 'Sandra went to the office.'], ['Mary went back to the office.', 'John went back to the bathroom.'], ['John went to the hallway.', 'Mary journeyed to the hallway.'], ['Sandra travelled to the hallway.', 'Mary travelled to the office.'], ['Mary went back to the hallway.', 'Sandra travelled to the office.'], ['John went to the kitchen.', 'Sandra went to the hallway.'], ['Sandra moved to the hallway.', 'John moved to the hallway.'], ['John journeyed to the bathroom.', 'Daniel went back to the bedroom.'], ['Mary travelled to the bedroom.', 'Mary journeyed to the garden.'], ['John travelled to the bedroom.', 'Sandra journeyed to the garden.'], ['John journeyed to the kitchen.', 'Sandra went to the kitchen.'], ['Daniel went to the kitchen.', 'Mary travelled to the hallway.'], ['Daniel went back to the garden.', 'Mary went back to the bathroom.'], ['Sandra moved to the hallway.', 'John moved to the garden.'], ['Daniel moved to the kitchen.', 'Mary travelled to the office.'], ['Daniel travelled to the hallway.', 'Sandra travelled to the bathroom.'], ['Sandra moved to the kitchen.', 'Sandra went back to the garden.'], ['Sandra journeyed to the office.', 'Mary moved to the office.'], ['Sandra journeyed to the bathroom.', 'Daniel moved to the office.'], ['Daniel went back to the kitchen.', 'Mary moved to the hallway.'], ['John went to the office.', 'Sandra went to the office.'], ['Sandra went to the garden.', 'Mary travelled to the bathroom.'], ['Sandra moved to the bathroom.', 'Mary travelled to the hallway.'], ['Mary went back to the kitchen.', 'Daniel travelled to the bedroom.'], ['Mary journeyed to the bedroom.', 'Mary journeyed to the office.'], ['Mary went back to the bedroom.', 'Daniel went to the garden.'], ['Mary journeyed to the garden.', 'Sandra went back to the office.'], ['Sandra went to the bathroom.', 'John travelled to the bathroom.'], ['Sandra moved to the bedroom.', 'Sandra travelled to the hallway.'], ['Mary moved to the bathroom.', 'John went to the kitchen.'], ['Daniel moved to the bathroom.', 'Daniel went to the office.'], ['Mary moved to the office.', 'Daniel went to the kitchen.'], ['Sandra went to the bathroom.', 'Daniel moved to the office.'], ['Sandra went to the office.', 'Sandra went to the hallway.'], ['Mary went to the garden.', 'Daniel moved to the kitchen.'], ['Mary went back to the kitchen.', 'John journeyed to the hallway.'], ['John went back to the bathroom.', 'Mary travelled to the bathroom.'], ['Mary went to the garden.', 'Sandra moved to the garden.'], ['John went to the kitchen.', 'Daniel moved to the bathroom.'], ['Daniel went back to the hallway.', 'Mary went to the kitchen.'], ['Daniel went to the garden.', 'Daniel travelled to the hallway.'], ['Mary went back to the bedroom.', 'Mary travelled to the bathroom.'], ['John travelled to the office.', 'Mary travelled to the bedroom.'], ['John journeyed to the kitchen.', 'John moved to the hallway.'], ['Daniel moved to the hallway.', 'Mary went back to the garden.'], ['Daniel went back to the office.', 'Daniel travelled to the kitchen.'], ['Daniel moved to the garden.', 'Mary went back to the bathroom.'], ['Daniel travelled to the kitchen.', 'Sandra went to the kitchen.'], ['Daniel journeyed to the garden.', 'Mary journeyed to the kitchen.'], ['Mary moved to the hallway.', 'John went back to the bedroom.'], ['John moved to the office.', 'John travelled to the bathroom.'], ['Mary went back to the hallway.', 'Sandra journeyed to the garden.'], ['Sandra travelled to the bathroom.', 'John travelled to the hallway.'], ['John travelled to the garden.', 'Mary journeyed to the bedroom.'], ['Sandra journeyed to the office.', 'Daniel journeyed to the hallway.'], ['Mary journeyed to the hallway.', 'Mary moved to the bedroom.'], ['Sandra journeyed to the kitchen.', 'Sandra journeyed to the garden.'], ['Daniel travelled to the kitchen.', 'Mary moved to the bedroom.'], ['Sandra moved to the bedroom.', 'John travelled to the garden.'], ['Sandra went back to the kitchen.', 'John journeyed to the bedroom.'], ['Daniel went back to the bathroom.', 'Sandra journeyed to the bedroom.'], ['Mary went back to the hallway.', 'Daniel went back to the bedroom.'], ['Sandra moved to the bathroom.', 'Sandra journeyed to the hallway.'], ['Mary went back to the bedroom.', 'Mary went back to the garden.'], ['Sandra went back to the bathroom.', 'John went to the office.'], ['Daniel travelled to the garden.', 'Sandra travelled to the hallway.'], ['John went back to the hallway.', 'Sandra journeyed to the kitchen.'], ['Daniel journeyed to the office.', 'John went to the kitchen.'], ['Daniel journeyed to the garden.', 'John travelled to the bedroom.'], ['Daniel journeyed to the office.', 'Daniel went to the bedroom.'], ['Sandra travelled to the hallway.', 'Sandra journeyed to the bedroom.'], ['John moved to the kitchen.', 'Daniel travelled to the garden.'], ['Daniel went to the kitchen.', 'Daniel travelled to the bathroom.'], ['John moved to the bathroom.', 'Mary journeyed to the bathroom.'], ['Mary went to the kitchen.', 'Daniel journeyed to the garden.'], ['Daniel went to the kitchen.', 'John went to the hallway.'], ['Sandra went back to the kitchen.', 'Sandra travelled to the bathroom.'], ['John travelled to the garden.', 'Daniel moved to the hallway.'], ['John went to the kitchen.', 'Daniel journeyed to the garden.'], ['Daniel journeyed to the hallway.', 'Sandra journeyed to the garden.'], ['John went back to the hallway.', 'Mary travelled to the office.'], ['Daniel moved to the bedroom.', 'John went back to the garden.'], ['John travelled to the bathroom.', 'John travelled to the garden.'], ['John went to the kitchen.', 'Daniel journeyed to the garden.'], ['John went back to the garden.', 'Sandra went back to the kitchen.'], ['Daniel journeyed to the hallway.', 'Daniel moved to the bathroom.'], ['Mary travelled to the hallway.', 'Mary moved to the garden.'], ['Sandra went to the kitchen.', 'Sandra moved to the bathroom.'], ['Daniel went back to the bedroom.', 'John went back to the office.'], ['Mary went back to the office.', 'Mary went to the bathroom.'], ['Daniel went back to the kitchen.', 'Mary moved to the kitchen.'], ['Daniel went to the office.', 'John journeyed to the garden.'], ['John travelled to the bathroom.', 'Daniel moved to the bedroom.'], ['Mary travelled to the kitchen.', 'John journeyed to the kitchen.'], ['John travelled to the office.', 'Sandra moved to the office.'], ['John moved to the garden.', 'Mary journeyed to the bedroom.'], ['Sandra journeyed to the hallway.', 'Daniel travelled to the hallway.'], ['John travelled to the hallway.', 'Sandra went to the bedroom.'], ['John travelled to the office.', 'Sandra went to the kitchen.'], ['Mary moved to the office.', 'Daniel moved to the office.'], ['Daniel went back to the bathroom.', 'Daniel travelled to the office.'], ['Mary went to the bathroom.', 'John travelled to the hallway.'], ['John moved to the kitchen.', 'Mary went back to the hallway.'], ['Daniel went back to the bedroom.', 'Mary journeyed to the garden.'], ['Mary went back to the office.', 'Daniel went back to the bathroom.'], ['Sandra moved to the hallway.', 'John went back to the bedroom.'], ['Daniel journeyed to the bedroom.', 'John went to the kitchen.'], ['Mary moved to the office.', 'Sandra travelled to the bathroom.'], ['Mary went to the kitchen.', 'Sandra journeyed to the bedroom.'], ['Sandra journeyed to the office.', 'Daniel went back to the bathroom.'], ['Mary went back to the office.', 'John went back to the office.'], ['Mary moved to the garden.', 'John went to the bedroom.'], ['Daniel journeyed to the kitchen.', 'Sandra went to the bathroom.'], ['Daniel journeyed to the bathroom.', 'Daniel moved to the garden.'], ['Daniel went to the kitchen.', 'Mary journeyed to the bathroom.'], ['Sandra travelled to the garden.', 'Sandra went to the hallway.'], ['Sandra travelled to the office.', 'Sandra travelled to the bathroom.'], ['Mary went back to the hallway.', 'Mary travelled to the bathroom.'], ['Daniel went to the bedroom.', 'Mary went to the office.'], ['Mary travelled to the hallway.', 'John moved to the garden.'], ['Sandra journeyed to the office.', 'Sandra moved to the bathroom.'], ['Sandra journeyed to the garden.', 'Mary travelled to the hallway.'], ['John travelled to the bathroom.', 'Sandra went back to the kitchen.'], ['Daniel travelled to the bathroom.', 'Daniel travelled to the kitchen.'], ['John went back to the hallway.', 'John travelled to the bathroom.'], ['Mary journeyed to the bathroom.', 'Mary travelled to the bedroom.'], ['John went to the office.', 'Daniel journeyed to the kitchen.'], ['John travelled to the bedroom.', 'John moved to the garden.'], ['Daniel journeyed to the bathroom.', 'John journeyed to the bedroom.'], ['Sandra journeyed to the kitchen.', 'Mary moved to the garden.'], ['Sandra journeyed to the bathroom.', 'Sandra went back to the bedroom.'], ['Daniel went back to the bedroom.', 'Sandra travelled to the bedroom.'], ['Sandra went to the office.', 'Mary went to the office.'], ['John journeyed to the garden.', 'Mary journeyed to the garden.'], ['Daniel travelled to the bathroom.', 'John moved to the kitchen.'], ['Sandra went back to the kitchen.', 'Daniel journeyed to the hallway.'], ['Daniel moved to the bathroom.', 'John moved to the office.'], ['Mary went back to the office.', 'John went back to the hallway.'], ['Mary moved to the hallway.', 'Mary journeyed to the kitchen.'], ['Daniel went to the office.', 'Daniel moved to the bedroom.'], ['Sandra journeyed to the hallway.', 'Daniel travelled to the garden.'], ['Mary travelled to the hallway.', 'Sandra went to the garden.'], ['Daniel travelled to the bedroom.', 'Mary went to the bedroom.'], ['Daniel moved to the hallway.', 'John travelled to the bathroom.'], ['Daniel journeyed to the bathroom.', 'John journeyed to the office.'], ['Mary went back to the garden.', 'John went to the kitchen.'], ['Daniel travelled to the kitchen.', 'Daniel journeyed to the garden.'], ['John journeyed to the office.', 'John travelled to the garden.'], ['Daniel moved to the office.', 'John went to the hallway.'], ['John moved to the office.', 'Daniel journeyed to the kitchen.'], ['Daniel went to the garden.', 'John went back to the bathroom.'], ['Mary went to the bathroom.', 'John went to the kitchen.'], ['Daniel moved to the office.', 'Daniel moved to the bathroom.'], ['Sandra travelled to the bathroom.', 'Mary travelled to the kitchen.'], ['Mary went to the garden.', 'Sandra moved to the bedroom.'], ['Sandra journeyed to the kitchen.', 'Daniel travelled to the garden.'], ['Daniel moved to the garden.', 'John went to the kitchen.'], ['Mary went to the office.', 'Sandra travelled to the bedroom.'], ['Mary went to the bathroom.', 'John journeyed to the bathroom.'], ['Mary went back to the office.', 'John went back to the kitchen.'], ['John moved to the office.', 'Mary journeyed to the bathroom.'], ['Mary travelled to the kitchen.', 'Mary moved to the bedroom.'], ['Mary went to the hallway.', 'Sandra went back to the bathroom.'], ['John went to the bedroom.', 'Daniel travelled to the garden.'], ['Daniel went to the hallway.', 'Sandra went to the office.'], ['Sandra journeyed to the bedroom.', 'John travelled to the bathroom.'], ['John journeyed to the kitchen.', 'John journeyed to the garden.'], ['Mary went back to the bathroom.', 'Mary moved to the garden.'], ['Daniel travelled to the bedroom.', 'John moved to the kitchen.'], ['John journeyed to the hallway.', 'Mary went back to the bathroom.'], ['John journeyed to the bathroom.', 'Sandra moved to the kitchen.'], ['Mary journeyed to the office.', 'Daniel journeyed to the bedroom.'], ['Mary went to the bedroom.', 'Sandra went to the bedroom.'], ['John went back to the hallway.', 'Daniel went back to the bathroom.'], ['Mary travelled to the garden.', 'Daniel moved to the hallway.'], ['Sandra travelled to the office.', 'Daniel moved to the bathroom.'], ['Mary moved to the kitchen.', 'Sandra moved to the kitchen.'], ['Mary went to the garden.', 'John moved to the bedroom.'], ['Mary journeyed to the office.', 'Mary went to the bathroom.'], ['Sandra travelled to the garden.', 'Daniel went back to the hallway.'], ['Daniel went to the bedroom.', 'Sandra journeyed to the hallway.'], ['John went to the kitchen.', 'John went to the hallway.'], ['John travelled to the bathroom.', 'Sandra travelled to the kitchen.'], ['John journeyed to the garden.', 'Sandra went back to the bedroom.'], ['Mary moved to the hallway.', 'Mary went to the bedroom.'], ['Mary went back to the garden.', 'Sandra travelled to the hallway.'], ['Daniel went back to the bathroom.', 'Mary journeyed to the office.'], ['Sandra went back to the garden.', 'Daniel moved to the garden.'], ['Daniel journeyed to the hallway.', 'John moved to the garden.'], ['Sandra went back to the hallway.', 'Mary went back to the bedroom.'], ['John journeyed to the office.', 'John went to the bathroom.'], ['Sandra moved to the bathroom.', 'Daniel journeyed to the garden.'], ['Mary journeyed to the bathroom.', 'Sandra moved to the hallway.'], ['Daniel moved to the office.', 'Daniel went to the garden.'], ['John travelled to the bathroom.', 'Mary moved to the bedroom.'], ['Sandra went back to the bathroom.', 'Sandra went to the garden.'], ['John journeyed to the hallway.', 'Daniel journeyed to the hallway.'], ['Daniel went to the office.', 'Sandra moved to the bedroom.'], ['John went to the bedroom.', 'Daniel went back to the kitchen.'], ['John journeyed to the kitchen.', 'Mary went to the hallway.'], ['Sandra went back to the bathroom.', 'Mary went to the office.'], ['Daniel journeyed to the office.', 'Mary went back to the garden.'], ['Daniel went back to the garden.', 'John moved to the hallway.'], ['John travelled to the bathroom.', 'Mary moved to the kitchen.'], ['Daniel travelled to the bathroom.', 'Sandra journeyed to the bedroom.'], ['Daniel journeyed to the garden.', 'Sandra travelled to the office.'], ['Daniel went back to the bathroom.', 'John moved to the bathroom.'], ['Mary journeyed to the bathroom.', 'Sandra went to the kitchen.'], ['Mary went back to the kitchen.', 'Daniel travelled to the office.'], ['Sandra went back to the office.', 'Mary went back to the garden.'], ['Mary moved to the bedroom.', 'Daniel moved to the hallway.'], ['Sandra went to the hallway.', 'Sandra journeyed to the kitchen.'], ['Sandra travelled to the garden.', 'Mary journeyed to the garden.'], ['Daniel went back to the bathroom.', 'Daniel went to the garden.'], ['John went back to the garden.', 'John travelled to the bedroom.'], ['Mary went to the kitchen.', 'Sandra moved to the hallway.'], ['John went back to the garden.', 'Sandra went back to the bedroom.'], ['Sandra went to the bathroom.', 'John went back to the kitchen.'], ['Mary went back to the hallway.', 'Daniel travelled to the kitchen.'], ['Sandra went back to the bedroom.', 'Sandra went to the office.'], ['Sandra went to the kitchen.', 'Daniel travelled to the hallway.'], ['Sandra journeyed to the office.', 'John moved to the bathroom.'], ['Daniel moved to the hallway.', 'John moved to the hallway.'], ['John travelled to the kitchen.', 'John went to the bedroom.'], ['Daniel journeyed to the kitchen.', 'John journeyed to the kitchen.'], ['John travelled to the bathroom.', 'John travelled to the kitchen.'], ['Mary moved to the hallway.', 'John travelled to the hallway.'], ['Daniel travelled to the bedroom.', 'Daniel went to the garden.'], ['John went back to the bathroom.', 'Sandra moved to the hallway.'], ['Daniel moved to the hallway.', 'Mary went to the office.'], ['Mary journeyed to the garden.', 'John went to the hallway.'], ['John journeyed to the bathroom.', 'Daniel went back to the kitchen.'], ['John journeyed to the office.', 'Sandra travelled to the bedroom.'], ['Daniel moved to the bathroom.', 'Daniel went to the hallway.'], ['Mary went back to the office.', 'Mary went to the bathroom.'], ['Mary journeyed to the kitchen.', 'Mary moved to the bedroom.'], ['Mary journeyed to the bathroom.', 'Mary moved to the hallway.'], ['Daniel moved to the bathroom.', 'Sandra went back to the bathroom.'], ['Sandra went to the kitchen.', 'Mary travelled to the kitchen.'], ['Daniel journeyed to the kitchen.', 'Sandra went to the garden.'], ['Daniel went to the bedroom.', 'Sandra went to the bathroom.'], ['Mary travelled to the garden.', 'John journeyed to the bathroom.'], ['Mary journeyed to the kitchen.', 'John travelled to the kitchen.'], ['Mary moved to the bedroom.', 'Mary travelled to the garden.'], ['John went back to the bedroom.', 'Daniel went back to the bedroom.'], ['John went back to the kitchen.', 'Mary went to the bedroom.'], ['Mary went back to the bedroom.', 'Daniel travelled to the office.'], ['Mary journeyed to the hallway.', 'Sandra went back to the garden.'], ['Mary moved to the garden.', 'Daniel moved to the kitchen.'], ['John went to the office.', 'Sandra journeyed to the office.'], ['John travelled to the hallway.', 'Sandra travelled to the bathroom.'], ['Sandra journeyed to the bathroom.', 'John went to the hallway.'], ['Mary travelled to the garden.', 'Mary went back to the kitchen.'], ['Daniel travelled to the bathroom.', 'John moved to the garden.'], ['Daniel moved to the kitchen.', 'Sandra journeyed to the hallway.'], ['Daniel moved to the bedroom.', 'John went back to the office.'], ['John went back to the kitchen.', 'John moved to the office.'], ['John journeyed to the garden.', 'Sandra journeyed to the bedroom.'], ['Mary went back to the garden.', 'John journeyed to the bedroom.'], ['John went to the hallway.', 'Sandra went back to the hallway.'], ['John journeyed to the bathroom.', 'Mary went to the hallway.'], ['John went back to the bedroom.', 'John moved to the kitchen.'], ['John journeyed to the garden.', 'Mary went back to the hallway.'], ['Daniel went back to the bedroom.', 'John went to the bedroom.'], ['Sandra travelled to the garden.', 'Daniel went back to the office.'], ['Mary went back to the bedroom.', 'Daniel journeyed to the kitchen.'], ['Mary went to the garden.', 'Daniel journeyed to the bathroom.'], ['John went to the office.', 'Mary moved to the hallway.'], ['John went to the bathroom.', 'Daniel moved to the kitchen.'], ['John went to the kitchen.', 'Daniel went to the bedroom.'], ['Mary went to the kitchen.', 'Sandra journeyed to the garden.'], ['Daniel went back to the kitchen.', 'Daniel moved to the garden.'], ['Sandra journeyed to the bedroom.', 'Mary moved to the bathroom.'], ['John went back to the office.', 'Daniel went back to the bathroom.'], ['Daniel travelled to the bedroom.', 'Sandra went to the bathroom.'], ['Daniel went back to the hallway.', 'Sandra travelled to the kitchen.'], ['Sandra moved to the bedroom.', 'Mary journeyed to the bedroom.'], ['Mary moved to the bathroom.', 'Daniel travelled to the bedroom.'], ['Mary moved to the bedroom.', 'Sandra went to the kitchen.'], ['Sandra went to the garden.', 'Daniel moved to the kitchen.'], ['Sandra went back to the bedroom.', 'Sandra went to the hallway.'], ['John journeyed to the bedroom.', 'Daniel moved to the office.'], ['John went to the hallway.', 'John journeyed to the kitchen.'], ['Mary went to the office.', 'Daniel went back to the bedroom.'], ['Daniel moved to the hallway.', 'John went to the bedroom.'], ['Sandra moved to the kitchen.', 'Daniel moved to the office.'], ['Mary journeyed to the office.', 'Daniel went to the bedroom.'], ['Daniel journeyed to the bathroom.', 'Sandra went to the bedroom.'], ['Mary journeyed to the hallway.', 'Daniel travelled to the kitchen.'], ['Sandra journeyed to the bathroom.', 'Sandra moved to the bedroom.'], ['John moved to the garden.', 'Daniel travelled to the bathroom.'], ['John journeyed to the garden.', 'John travelled to the office.'], ['Mary travelled to the hallway.', 'John journeyed to the bedroom.'], ['Daniel moved to the garden.', 'Mary journeyed to the bedroom.'], ['Daniel went to the office.', 'Daniel journeyed to the kitchen.'], ['John travelled to the hallway.', 'Daniel went back to the garden.'], ['Daniel journeyed to the garden.', 'John moved to the garden.'], ['Daniel travelled to the bathroom.', 'Sandra went back to the garden.'], ['Daniel went back to the office.', 'Mary journeyed to the bedroom.'], ['Daniel went to the kitchen.', 'John journeyed to the kitchen.'], ['Sandra journeyed to the kitchen.', 'Sandra went back to the office.'], ['Sandra moved to the bathroom.', 'John journeyed to the office.'], ['Sandra went back to the hallway.', 'John moved to the bedroom.'], ['Daniel moved to the garden.', 'Daniel went back to the kitchen.'], ['Mary went back to the bedroom.', 'John went back to the office.'], ['Mary travelled to the office.', 'Sandra went back to the bedroom.'], ['Sandra journeyed to the bathroom.', 'Mary travelled to the hallway.'], ['Sandra moved to the kitchen.', 'Mary journeyed to the garden.'], ['John travelled to the office.', 'John went to the hallway.'], ['Daniel travelled to the bedroom.', 'John went back to the office.'], ['Sandra went back to the bedroom.', 'John went to the bedroom.'], ['Mary went to the hallway.', 'Daniel went to the bathroom.'], ['Mary went to the bedroom.', 'Mary went to the kitchen.'], ['Daniel moved to the garden.', 'Daniel went to the office.'], ['John went to the kitchen.', 'Sandra travelled to the garden.'], ['Mary journeyed to the hallway.', 'Sandra went back to the hallway.'], ['Mary went back to the hallway.', 'Sandra journeyed to the bedroom.'], ['Sandra travelled to the kitchen.', 'John went back to the hallway.'], ['Daniel went back to the office.', 'Mary moved to the kitchen.'], ['Daniel went back to the bathroom.', 'Daniel travelled to the office.'], ['Daniel went to the hallway.', 'Daniel went to the bathroom.'], ['Daniel went to the office.', 'Mary went back to the office.'], ['Sandra travelled to the bedroom.', 'John journeyed to the bedroom.'], ['Mary moved to the bedroom.', 'Daniel travelled to the kitchen.'], ['Sandra journeyed to the garden.', 'Sandra journeyed to the office.'], ['Sandra journeyed to the garden.', 'Sandra travelled to the hallway.'], ['John travelled to the bedroom.', 'Mary moved to the bedroom.'], ['John went back to the bathroom.', 'Sandra moved to the bathroom.'], ['John journeyed to the office.', 'Daniel journeyed to the office.'], ['John went back to the garden.', 'John journeyed to the bedroom.'], ['John went to the bathroom.', 'Mary moved to the office.'], ['John went to the bathroom.', 'John moved to the office.'], ['John went to the hallway.', 'Sandra journeyed to the hallway.'], ['John journeyed to the bathroom.', 'Daniel went to the bathroom.'], ['Sandra moved to the garden.', 'John moved to the office.'], ['Sandra moved to the hallway.', 'Daniel went to the kitchen.'], ['Mary travelled to the garden.', 'Daniel moved to the bathroom.'], ['John went to the hallway.', 'Sandra went back to the kitchen.'], ['Daniel went back to the garden.', 'John travelled to the garden.'], ['Mary went to the bathroom.', 'Sandra went back to the hallway.'], ['Daniel travelled to the office.', 'Daniel travelled to the bathroom.'], ['John moved to the hallway.', 'Mary travelled to the hallway.'], ['Sandra went to the bedroom.', 'Sandra went back to the hallway.'], ['John went back to the office.', 'Daniel travelled to the kitchen.'], ['John travelled to the hallway.', 'Mary journeyed to the kitchen.'], ['John travelled to the office.', 'John travelled to the kitchen.'], ['Mary moved to the bedroom.', 'Sandra went back to the garden.'], ['Daniel went to the bedroom.', 'Mary journeyed to the hallway.'], ['Mary went back to the bathroom.', 'Daniel journeyed to the office.'], ['Daniel went back to the bedroom.', 'Mary went back to the office.'], ['John journeyed to the garden.', 'John moved to the office.'], ['John travelled to the bathroom.', 'Sandra moved to the hallway.'], ['Daniel travelled to the kitchen.', 'Daniel travelled to the hallway.'], ['John moved to the hallway.', 'Mary went to the hallway.'], ['Daniel journeyed to the office.', 'Daniel journeyed to the kitchen.'], ['Mary moved to the office.', 'Mary went to the bedroom.'], ['Daniel journeyed to the hallway.', 'Sandra travelled to the kitchen.'], ['John journeyed to the hallway.', 'Sandra travelled to the office.'], ['Sandra went to the hallway.', 'Daniel journeyed to the office.'], ['Daniel went back to the bedroom.', 'Sandra moved to the bedroom.'], ['John moved to the office.', 'Daniel travelled to the kitchen.'], ['Sandra travelled to the bedroom.', 'Mary went to the hallway.'], ['Sandra went to the office.', 'Sandra journeyed to the kitchen.'], ['Sandra travelled to the bathroom.', 'Daniel journeyed to the office.'], ['John went back to the hallway.', 'Daniel journeyed to the bedroom.'], ['Sandra moved to the garden.', 'Mary went back to the bathroom.'], ['Daniel journeyed to the bathroom.', 'Daniel travelled to the hallway.'], ['Sandra went back to the bedroom.', 'Sandra travelled to the bathroom.'], ['John went to the bathroom.', 'Sandra went to the garden.'], ['Mary journeyed to the hallway.', 'Mary travelled to the garden.'], ['Mary went back to the bedroom.', 'John went back to the bedroom.'], ['John moved to the bedroom.', 'Mary went back to the bedroom.'], ['Daniel moved to the bathroom.', 'Daniel moved to the office.'], ['Sandra journeyed to the bedroom.', 'Mary moved to the garden.'], ['John went back to the garden.', 'Sandra went to the bathroom.'], ['John travelled to the bedroom.', 'Sandra travelled to the kitchen.'], ['Daniel moved to the garden.', 'Sandra moved to the bedroom.'], ['Daniel journeyed to the hallway.', 'Sandra went to the office.'], ['Daniel moved to the bedroom.', 'John went back to the bathroom.'], ['Sandra travelled to the kitchen.', 'Sandra went back to the bedroom.'], ['John journeyed to the garden.', 'Daniel went back to the garden.'], ['Daniel went back to the office.', 'Mary went back to the hallway.'], ['Sandra journeyed to the bathroom.', 'Sandra travelled to the hallway.'], ['Mary went back to the office.', 'Daniel went to the bathroom.'], ['Mary moved to the bathroom.', 'John went to the bedroom.'], ['Daniel went back to the bedroom.', 'Sandra travelled to the office.'], ['John went to the office.', 'Mary journeyed to the garden.'], ['John went to the garden.', 'John journeyed to the hallway.'], ['Sandra went to the hallway.', 'John went to the bedroom.'], ['Sandra moved to the bedroom.', 'Mary travelled to the hallway.'], ['John travelled to the garden.', 'Daniel went back to the bedroom.'], ['Sandra travelled to the bathroom.', 'Mary travelled to the office.'], ['Sandra travelled to the hallway.', 'Mary moved to the bathroom.'], ['John went to the office.', 'Sandra journeyed to the office.'], ['John went back to the bathroom.', 'John travelled to the kitchen.'], ['John moved to the office.', 'Daniel went back to the kitchen.'], ['Mary went back to the bedroom.', 'Mary moved to the bathroom.'], ['Sandra travelled to the bedroom.', 'Sandra went to the office.'], ['Daniel went to the garden.', 'Daniel journeyed to the bathroom.'], ['Sandra moved to the hallway.', 'John journeyed to the kitchen.'], ['Sandra went to the office.', 'John moved to the bathroom.'], ['Daniel went to the kitchen.', 'Sandra went to the kitchen.'], ['John moved to the bedroom.', 'Mary went to the hallway.'], ['Mary travelled to the kitchen.', 'Sandra journeyed to the hallway.'], ['Sandra travelled to the bedroom.', 'Daniel journeyed to the garden.'], ['Sandra journeyed to the office.', 'Sandra journeyed to the kitchen.'], ['Daniel travelled to the kitchen.', 'Daniel went to the hallway.'], ['Mary travelled to the hallway.', 'John went to the hallway.'], ['Sandra moved to the garden.', 'Mary went to the kitchen.'], ['John moved to the garden.', 'John went back to the bathroom.'], ['Mary went to the hallway.', 'Daniel moved to the kitchen.'], ['John went back to the hallway.', 'Daniel journeyed to the bedroom.'], ['Sandra went back to the bedroom.', 'Sandra moved to the bathroom.'], ['John went to the office.', 'John travelled to the garden.'], ['John went to the bedroom.', 'Mary went back to the kitchen.'], ['Mary went back to the garden.', 'Mary journeyed to the bedroom.'], ['Daniel journeyed to the kitchen.', 'Daniel went back to the bedroom.'], ['Sandra travelled to the bathroom.', 'Sandra moved to the kitchen.'], ['Sandra journeyed to the bedroom.', 'Mary went to the kitchen.'], ['Daniel moved to the bathroom.', 'Sandra moved to the office.'], ['Sandra travelled to the hallway.', 'John went to the kitchen.'], ['John went to the hallway.', 'Daniel moved to the garden.'], ['John went back to the bedroom.', 'Mary journeyed to the garden.'], ['Sandra went back to the kitchen.', 'Daniel went to the hallway.'], ['John went back to the bathroom.', 'Daniel went back to the kitchen.'], ['Daniel went to the bedroom.', 'John travelled to the hallway.'], ['Daniel travelled to the bathroom.', 'Sandra moved to the kitchen.'], ['Mary moved to the bedroom.', 'Mary journeyed to the garden.'], ['Mary moved to the hallway.', 'Sandra went back to the hallway.'], ['Mary went to the kitchen.', 'John went to the garden.'], ['John moved to the office.', 'Daniel went back to the bedroom.'], ['Sandra moved to the office.', 'John went back to the garden.'], ['Daniel travelled to the office.', 'Sandra journeyed to the bathroom.'], ['John moved to the kitchen.', 'John moved to the bathroom.'], ['Sandra journeyed to the hallway.', 'Daniel went to the bathroom.'], ['Sandra went to the bathroom.', 'Sandra journeyed to the hallway.'], ['John travelled to the kitchen.', 'John went to the bathroom.'], ['Sandra travelled to the bedroom.', 'Sandra journeyed to the garden.'], ['John journeyed to the bedroom.', 'John journeyed to the bathroom.'], ['Mary travelled to the kitchen.', 'Mary journeyed to the garden.'], ['John journeyed to the office.', 'Daniel journeyed to the bathroom.'], ['Mary moved to the bedroom.', 'Sandra travelled to the garden.'], ['Sandra journeyed to the kitchen.', 'Sandra moved to the garden.'], ['Sandra travelled to the kitchen.', 'Daniel went to the garden.'], ['John went to the hallway.', 'Mary travelled to the hallway.'], ['Daniel went back to the hallway.', 'Daniel moved to the bathroom.'], ['Daniel went to the bedroom.', 'Mary went to the kitchen.'], ['Mary travelled to the bedroom.', 'John journeyed to the bathroom.'], ['Sandra moved to the garden.', 'Sandra went to the office.'], ['Daniel went back to the hallway.', 'Sandra moved to the kitchen.'], ['Mary travelled to the bathroom.', 'Sandra journeyed to the bedroom.'], ['Daniel went to the kitchen.', 'Daniel went back to the garden.'], ['Daniel went back to the office.', 'John travelled to the kitchen.'], ['Sandra moved to the bedroom.', 'John went to the office.'], ['Mary journeyed to the office.', 'Sandra moved to the kitchen.'], ['Sandra moved to the office.', 'John travelled to the garden.'], ['Sandra journeyed to the hallway.', 'Mary travelled to the bathroom.'], ['John moved to the office.', 'Mary moved to the bedroom.'], ['Mary journeyed to the kitchen.', 'Mary went back to the bathroom.'], ['John moved to the bathroom.', 'Mary went back to the kitchen.'], ['Sandra journeyed to the bedroom.', 'Daniel went back to the kitchen.'], ['Sandra moved to the hallway.', 'John went back to the hallway.'], ['Daniel moved to the garden.', 'Daniel went to the bathroom.'], ['Daniel moved to the hallway.', 'Sandra went to the kitchen.'], ['Daniel journeyed to the kitchen.', 'Daniel went to the garden.'], ['Daniel moved to the bathroom.', 'Mary went to the office.'], ['Sandra travelled to the office.', 'Sandra went to the garden.'], ['Mary went back to the garden.', 'Daniel went to the kitchen.'], ['Sandra moved to the bathroom.', 'Sandra travelled to the garden.'], ['Mary went to the bedroom.', 'Mary went to the garden.'], ['Sandra moved to the hallway.', 'Mary moved to the bathroom.'], ['Daniel journeyed to the kitchen.', 'John went back to the kitchen.'], ['Mary went to the hallway.', 'John moved to the office.'], ['Daniel travelled to the hallway.', 'Mary went to the garden.'], ['Mary went back to the office.', 'Mary went to the garden.'], ['Sandra moved to the bathroom.', 'Daniel moved to the office.'], ['John went to the kitchen.', 'John moved to the garden.'], ['Daniel went back to the bedroom.', 'Sandra moved to the office.'], ['Sandra journeyed to the garden.', 'John moved to the bathroom.'], ['Daniel travelled to the bathroom.', 'John travelled to the garden.'], ['Mary went back to the bathroom.', 'Sandra travelled to the hallway.'], ['Sandra went to the garden.', 'Mary travelled to the garden.'], ['Sandra travelled to the kitchen.', 'Daniel went back to the bedroom.'], ['Daniel went to the kitchen.', 'Sandra travelled to the garden.'], ['Mary went back to the bedroom.', 'Mary travelled to the kitchen.'], ['John travelled to the bathroom.', 'Mary travelled to the hallway.'], ['Daniel travelled to the bathroom.', 'Sandra moved to the hallway.'], ['Sandra went to the office.', 'Mary journeyed to the kitchen.'], ['Daniel went to the kitchen.', 'Mary went back to the garden.'], ['Daniel moved to the bedroom.', 'Sandra travelled to the garden.'], ['Daniel went back to the hallway.', 'John moved to the bedroom.'], ['Mary travelled to the bedroom.', 'Daniel travelled to the office.'], ['Daniel journeyed to the hallway.', 'Mary travelled to the hallway.'], ['Sandra travelled to the kitchen.', 'Mary travelled to the kitchen.'], ['John journeyed to the garden.', 'Daniel went to the bathroom.'], ['Daniel moved to the garden.', 'John went to the kitchen.'], ['Sandra went back to the office.', 'Sandra moved to the bathroom.'], ['Mary travelled to the office.', 'Mary moved to the hallway.'], ['Mary went to the bedroom.', 'Mary journeyed to the office.'], ['Mary journeyed to the bathroom.', 'Sandra travelled to the garden.'], ['Mary went to the kitchen.', 'John travelled to the hallway.'], ['Sandra went to the kitchen.', 'Daniel went back to the bathroom.'], ['Daniel journeyed to the hallway.', 'Mary journeyed to the kitchen.'], ['Sandra travelled to the bedroom.', 'Sandra went to the office.'], ['Mary moved to the office.', 'Sandra went back to the hallway.'], ['John travelled to the bedroom.', 'Daniel journeyed to the office.'], ['John travelled to the hallway.', 'Mary travelled to the bathroom.'], ['Sandra went to the bedroom.', 'Daniel moved to the office.'], ['Daniel travelled to the hallway.', 'Daniel journeyed to the bathroom.'], ['Daniel went to the hallway.', 'Mary journeyed to the office.'], ['Mary travelled to the bathroom.', 'Sandra journeyed to the garden.'], ['Daniel journeyed to the bedroom.', 'Daniel moved to the kitchen.'], ['Mary travelled to the kitchen.', 'Mary moved to the bathroom.'], ['John travelled to the office.', 'Daniel went to the hallway.'], ['John went back to the garden.', 'Sandra travelled to the bathroom.'], ['Sandra journeyed to the office.', 'John went to the bathroom.'], ['Sandra travelled to the bathroom.', 'Sandra moved to the kitchen.'], ['Sandra journeyed to the bathroom.', 'Sandra journeyed to the bedroom.'], ['Sandra journeyed to the hallway.', 'Mary went to the kitchen.'], ['John went back to the garden.', 'Mary went to the office.'], ['Daniel journeyed to the office.', 'Mary went back to the bedroom.'], ['John travelled to the office.', 'Daniel went back to the bedroom.'], ['Sandra travelled to the hallway.', 'Daniel journeyed to the office.'], ['Daniel travelled to the bathroom.', 'Mary travelled to the garden.'], ['Mary went to the bedroom.', 'Sandra moved to the office.'], ['Mary went to the kitchen.', 'Sandra went to the kitchen.'], ['John went back to the hallway.', 'Sandra moved to the bedroom.'], ['Sandra went to the bathroom.', 'Daniel went back to the office.'], ['Sandra went to the kitchen.', 'Sandra moved to the bedroom.'], ['John journeyed to the garden.', 'Mary travelled to the hallway.'], ['Mary went to the office.', 'Daniel travelled to the bedroom.'], ['Mary travelled to the kitchen.', 'Mary moved to the hallway.'], ['John went to the office.', 'John went back to the garden.'], ['John moved to the hallway.', 'Sandra travelled to the hallway.'], ['Mary moved to the garden.', 'Daniel journeyed to the hallway.'], ['Daniel went to the bedroom.', 'Mary travelled to the bedroom.'], ['Mary journeyed to the office.', 'Sandra travelled to the bathroom.'], ['Sandra travelled to the office.', 'Mary went back to the hallway.'], ['Daniel went back to the office.', 'Sandra went to the bathroom.'], ['John journeyed to the bedroom.', 'Sandra went back to the office.'], ['Daniel went to the bedroom.', 'Sandra travelled to the garden.'], ['Mary journeyed to the hallway.', 'Sandra went to the garden.'], ['Sandra journeyed to the hallway.', 'Mary journeyed to the bathroom.'], ['John went to the bathroom.', 'Mary went back to the kitchen.'], ['Daniel went back to the bedroom.', 'Sandra travelled to the bathroom.'], ['Sandra journeyed to the bedroom.', 'Sandra went to the office.'], ['Mary went back to the bedroom.', 'Mary travelled to the garden.'], ['John journeyed to the kitchen.', 'Sandra went back to the office.'], ['Mary journeyed to the bedroom.', 'Sandra travelled to the bathroom.'], ['Daniel journeyed to the garden.', 'Mary went back to the hallway.'], ['John moved to the bedroom.', 'Mary travelled to the kitchen.'], ['Sandra went back to the garden.', 'Sandra went to the hallway.'], ['Mary went back to the garden.', 'Sandra journeyed to the office.'], ['Sandra travelled to the hallway.', 'Sandra moved to the bedroom.'], ['Daniel moved to the office.', 'Mary journeyed to the hallway.'], ['Mary journeyed to the bedroom.', 'Daniel went back to the kitchen.'], ['Sandra journeyed to the garden.', 'Sandra journeyed to the kitchen.'], ['Daniel journeyed to the bedroom.', 'Sandra moved to the garden.'], ['Mary journeyed to the office.', 'Mary journeyed to the bathroom.'], ['Daniel journeyed to the garden.', 'Mary went back to the bedroom.'], ['Sandra went back to the kitchen.', 'Sandra travelled to the bedroom.'], ['Daniel went to the hallway.', 'Daniel moved to the bedroom.'], ['Sandra moved to the office.', 'Daniel journeyed to the hallway.'], ['John journeyed to the bathroom.', 'Sandra went to the garden.'], ['John moved to the garden.', 'Mary journeyed to the garden.'], ['Mary went to the office.', 'Sandra journeyed to the hallway.'], ['John travelled to the garden.', 'Daniel journeyed to the bedroom.'], ['Sandra went back to the garden.', 'Mary went to the kitchen.'], ['John travelled to the kitchen.', 'Sandra moved to the bedroom.'], ['Daniel moved to the garden.', 'Daniel travelled to the bedroom.'], ['Mary journeyed to the office.', 'Sandra moved to the bathroom.'], ['John travelled to the bathroom.', 'Sandra went to the kitchen.'], ['Daniel went to the garden.', 'Mary moved to the bedroom.'], ['Sandra moved to the bathroom.', 'John moved to the hallway.'], ['John went back to the kitchen.', 'Daniel journeyed to the hallway.'], ['Daniel went back to the office.', 'Sandra went back to the hallway.'], ['Sandra moved to the office.', 'Mary went back to the bathroom.'], ['Mary travelled to the office.', 'Sandra moved to the kitchen.'], ['Sandra moved to the bedroom.', 'Mary went back to the garden.'], ['John went to the hallway.', 'Daniel went back to the bathroom.'], ['John travelled to the garden.', 'John went back to the bathroom.'], ['Mary travelled to the garden.', 'Daniel went to the garden.'], ['Mary journeyed to the kitchen.', 'Mary went back to the hallway.'], ['Daniel travelled to the office.', 'Daniel moved to the garden.'], ['Sandra went back to the kitchen.', 'John travelled to the bathroom.'], ['Daniel went to the kitchen.', 'Mary moved to the office.'], ['Mary went to the office.', 'Sandra travelled to the bathroom.'], ['Sandra went to the hallway.', 'Daniel journeyed to the kitchen.'], ['Sandra travelled to the office.', 'John journeyed to the bedroom.'], ['Daniel moved to the hallway.', 'Sandra went to the hallway.'], ['John journeyed to the garden.', 'Sandra went back to the garden.'], ['Sandra journeyed to the garden.', 'Daniel travelled to the bathroom.'], ['Sandra went to the bedroom.', 'Sandra travelled to the hallway.'], ['Sandra travelled to the office.', 'Sandra went back to the garden.'], ['John journeyed to the hallway.', 'John moved to the bedroom.'], ['Sandra moved to the kitchen.', 'John journeyed to the kitchen.'], ['Sandra went to the bedroom.', 'Mary moved to the bedroom.'], ['John went to the office.', 'Daniel journeyed to the garden.'], ['Mary travelled to the bathroom.', 'Daniel moved to the hallway.'], ['Daniel travelled to the garden.', 'John moved to the garden.'], ['Mary went to the garden.', 'Mary went to the bedroom.'], ['Mary moved to the kitchen.', 'John travelled to the office.'], ['Daniel went to the hallway.', 'Daniel went back to the kitchen.'], ['Sandra went back to the hallway.', 'John travelled to the bedroom.'], ['Daniel travelled to the garden.', 'Mary moved to the office.'], ['Mary journeyed to the garden.', 'John went to the office.'], ['Daniel went to the bedroom.', 'Mary travelled to the bathroom.'], ['John went back to the kitchen.', 'John travelled to the hallway.'], ['Mary travelled to the hallway.', 'John travelled to the garden.'], ['Sandra went to the office.', 'Mary moved to the bathroom.'], ['Mary journeyed to the garden.', 'John went to the hallway.'], ['John moved to the hallway.', 'Mary moved to the garden.'], ['Daniel travelled to the garden.', 'Mary went to the bathroom.'], ['Mary went back to the bedroom.', 'John went to the kitchen.'], ['Sandra went back to the hallway.', 'John went to the bathroom.'], ['Mary went back to the office.', 'John travelled to the bedroom.'], ['John went to the bedroom.', 'Daniel journeyed to the bedroom.'], ['Daniel journeyed to the kitchen.', 'Sandra went back to the bedroom.'], ['Mary journeyed to the hallway.', 'Daniel journeyed to the hallway.'], ['Daniel went to the bedroom.', 'Mary journeyed to the garden.'], ['John went to the office.', 'John moved to the hallway.'], ['John went back to the hallway.', 'Daniel moved to the garden.'], ['Sandra travelled to the bathroom.', 'Mary went back to the office.'], ['Sandra travelled to the hallway.', 'Sandra went back to the bedroom.'], ['Daniel moved to the bedroom.', 'Daniel travelled to the hallway.'], ['Daniel travelled to the garden.', 'Daniel moved to the hallway.'], ['Mary went back to the kitchen.', 'Sandra travelled to the kitchen.'], ['John moved to the bathroom.', 'Sandra travelled to the bedroom.'], ['John went to the hallway.', 'Daniel went to the hallway.'], ['John went to the kitchen.', 'Sandra moved to the kitchen.'], ['Daniel travelled to the kitchen.', 'Daniel moved to the office.'], ['Sandra went to the kitchen.', 'Mary moved to the kitchen.'], ['Sandra moved to the hallway.', 'Mary went to the office.'], ['Daniel journeyed to the garden.', 'Sandra journeyed to the garden.'], ['Daniel went back to the kitchen.', 'Sandra moved to the office.'], ['Daniel moved to the bedroom.', 'John travelled to the bathroom.'], ['Daniel went back to the hallway.', 'Mary travelled to the kitchen.'], ['John went back to the office.', 'John journeyed to the bathroom.'], ['John travelled to the kitchen.', 'John went to the bedroom.'], ['Mary moved to the bathroom.', 'John journeyed to the garden.'], ['Daniel journeyed to the kitchen.', 'Daniel travelled to the bathroom.'], ['Daniel travelled to the hallway.', 'John journeyed to the hallway.'], ['John journeyed to the office.', 'Daniel went to the kitchen.'], ['Daniel travelled to the hallway.', 'John journeyed to the hallway.'], ['Daniel travelled to the kitchen.', 'Daniel went back to the hallway.'], ['John went to the office.', 'John went to the bathroom.'], ['John went to the bedroom.', 'John went back to the office.'], ['Daniel moved to the bathroom.', 'Mary journeyed to the garden.'], ['Sandra moved to the kitchen.', 'Sandra went to the bathroom.'], ['Daniel went to the bedroom.', 'Sandra went to the hallway.'], ['John went back to the bedroom.', 'Mary moved to the kitchen.'], ['Mary went back to the kitchen.', 'John went back to the office.'], ['Daniel journeyed to the bedroom.', 'Mary travelled to the bathroom.'], ['John journeyed to the kitchen.', 'Sandra journeyed to the kitchen.'], ['Daniel travelled to the office.', 'Daniel journeyed to the bathroom.'], ['John travelled to the office.', 'Daniel went back to the kitchen.'], ['Mary moved to the bedroom.', 'Sandra moved to the garden.'], ['John travelled to the office.', 'Sandra journeyed to the office.'], ['Mary journeyed to the garden.', 'Sandra journeyed to the hallway.'], ['Daniel went back to the kitchen.', 'Sandra went back to the garden.'], ['Sandra moved to the kitchen.', 'John went back to the bathroom.'], ['Sandra went to the garden.', 'Mary journeyed to the office.'], ['John went to the hallway.', 'Sandra journeyed to the bathroom.'], ['Daniel went to the hallway.', 'Daniel went to the office.'], ['Mary moved to the garden.', 'Mary moved to the office.'], ['Sandra moved to the hallway.', 'John travelled to the office.'], ['Sandra travelled to the hallway.', 'Mary moved to the office.'], ['John went back to the kitchen.', 'John went to the office.'], ['Mary went back to the kitchen.', 'John journeyed to the hallway.'], ['Daniel moved to the office.', 'John journeyed to the bathroom.'], ['Daniel journeyed to the bedroom.', 'Sandra travelled to the garden.'], ['Daniel went to the bedroom.', 'John went back to the kitchen.'], ['John moved to the bedroom.', 'Mary travelled to the office.'], ['Sandra went to the office.', 'Sandra went back to the hallway.'], ['John went back to the kitchen.', 'Mary went back to the garden.'], ['Mary journeyed to the bathroom.', 'Daniel travelled to the hallway.'], ['John went to the bathroom.', 'John went back to the hallway.'], ['Sandra went back to the kitchen.', 'Daniel went back to the office.'], ['Daniel went back to the bathroom.', 'Daniel moved to the bedroom.'], ['Mary went to the office.', 'Sandra travelled to the office.'], ['John moved to the bedroom.', 'Mary went back to the kitchen.'], ['Sandra went to the garden.', 'John journeyed to the kitchen.'], ['John went back to the office.', 'Daniel moved to the garden.'], ['Mary went back to the hallway.', 'Sandra moved to the bedroom.'], ['Daniel journeyed to the hallway.', 'Sandra travelled to the bathroom.'], ['Daniel moved to the kitchen.', 'Sandra went to the garden.'], ['Daniel travelled to the hallway.', 'John travelled to the office.'], ['Daniel went to the bedroom.', 'Daniel went back to the office.'], ['Mary went to the bedroom.', 'Mary went to the hallway.'], ['Mary travelled to the office.', 'Sandra went to the garden.'], ['Daniel journeyed to the bedroom.', 'John journeyed to the bedroom.'], ['Daniel journeyed to the hallway.', 'Sandra went back to the bathroom.'], ['John went to the bedroom.', 'Sandra moved to the office.'], ['Daniel went to the bathroom.', 'Mary travelled to the bathroom.'], ['Sandra went back to the hallway.', 'John went to the office.'], ['John moved to the kitchen.', 'John went back to the hallway.'], ['Daniel went to the bathroom.', 'Sandra went to the hallway.'], ['John went to the office.', 'Sandra journeyed to the garden.'], ['Mary went back to the garden.', 'Mary went to the bedroom.'], ['Daniel went to the bedroom.', 'Sandra journeyed to the hallway.'], ['Sandra went back to the kitchen.', 'Daniel journeyed to the hallway.'], ['Mary moved to the bathroom.', 'Sandra went to the hallway.'], ['Mary went back to the kitchen.', 'Daniel went back to the kitchen.'], ['John went back to the bathroom.', 'Daniel journeyed to the office.'], ['Daniel journeyed to the bathroom.', 'Daniel went back to the garden.'], ['Sandra moved to the bathroom.', 'Mary went to the office.'], ['Daniel went to the office.', 'Mary went back to the bedroom.'], ['Mary journeyed to the garden.', 'John moved to the kitchen.'], ['Sandra moved to the garden.', 'Sandra journeyed to the hallway.'], ['Sandra went back to the bathroom.', 'Mary went to the bathroom.'], ['Daniel went to the garden.', 'John moved to the bedroom.'], ['Mary went back to the office.', 'Mary went to the bathroom.'], ['Mary went back to the hallway.', 'John journeyed to the hallway.'], ['John travelled to the garden.', 'Sandra went back to the office.'], ['Daniel went back to the garden.', 'Mary journeyed to the garden.'], ['Daniel journeyed to the bedroom.', 'Mary went back to the office.'], ['Mary moved to the hallway.', 'Mary travelled to the kitchen.'], ['John went to the kitchen.', 'Sandra moved to the bedroom.'], ['Mary travelled to the garden.', 'Mary went back to the office.'], ['Sandra moved to the hallway.', 'Mary went to the garden.'], ['Sandra journeyed to the office.', 'Mary moved to the bedroom.'], ['Sandra went to the garden.', 'Daniel journeyed to the office.'], ['Sandra travelled to the bathroom.', 'Sandra travelled to the kitchen.'], ['John travelled to the bedroom.', 'Sandra went to the hallway.'], ['John went back to the office.', 'Mary travelled to the hallway.'], ['John went to the bedroom.', 'Sandra journeyed to the bathroom.'], ['John journeyed to the hallway.', 'Daniel travelled to the office.'], ['Mary moved to the garden.', 'Mary moved to the bedroom.'], ['Mary went back to the hallway.', 'John journeyed to the bathroom.'], ['John moved to the kitchen.', 'John went to the office.'], ['Daniel moved to the garden.', 'Sandra went back to the office.'], ['Sandra journeyed to the bathroom.', 'Daniel moved to the garden.'], ['John travelled to the garden.', 'Daniel went to the office.'], ['Daniel went back to the hallway.', 'Mary went back to the hallway.'], ['Mary went back to the kitchen.', 'John went to the bedroom.'], ['Mary journeyed to the garden.', 'John travelled to the hallway.'], ['Sandra travelled to the kitchen.', 'John journeyed to the bedroom.'], ['Sandra journeyed to the office.', 'John journeyed to the hallway.'], ['Daniel journeyed to the office.', 'Mary moved to the office.'], ['Sandra went to the kitchen.', 'John went back to the kitchen.'], ['Sandra went back to the hallway.', 'Mary travelled to the bathroom.'], ['Sandra travelled to the hallway.', 'John journeyed to the bathroom.'], ['John went to the garden.', 'John went to the kitchen.'], ['Mary journeyed to the garden.', 'John journeyed to the hallway.'], ['Daniel travelled to the kitchen.', 'Sandra moved to the kitchen.'], ['Daniel travelled to the office.', 'Daniel journeyed to the garden.'], ['Sandra went to the bedroom.', 'John went to the hallway.'], ['John moved to the garden.', 'Sandra journeyed to the office.'], ['Mary went to the garden.', 'John journeyed to the bathroom.'], ['Mary travelled to the bathroom.', 'Mary moved to the office.'], ['John went to the kitchen.', 'Sandra went to the garden.'], ['Mary moved to the bedroom.', 'John journeyed to the hallway.'], ['Sandra went to the garden.', 'John went back to the bathroom.'], ['Sandra travelled to the office.', 'Daniel journeyed to the bathroom.'], ['Daniel went back to the office.', 'Mary travelled to the bathroom.'], ['Sandra went to the bathroom.', 'Mary went to the hallway.'], ['Daniel went to the kitchen.', 'Mary went back to the bedroom.'], ['Sandra travelled to the kitchen.', 'Daniel moved to the garden.'], ['Sandra moved to the hallway.', 'Mary moved to the kitchen.'], ['Mary went back to the hallway.', 'Mary moved to the office.'], ['Daniel went to the bedroom.', 'Daniel moved to the kitchen.'], ['Mary went back to the kitchen.', 'Sandra travelled to the bathroom.'], ['Mary moved to the garden.', 'John journeyed to the office.'], ['Sandra travelled to the bedroom.', 'Sandra journeyed to the bathroom.'], ['John moved to the garden.', 'Daniel went back to the hallway.'], ['Mary went to the office.', 'Daniel went back to the bedroom.'], ['John went back to the garden.', 'Daniel moved to the office.'], ['Sandra went to the hallway.', 'John went back to the bathroom.'], ['Mary moved to the kitchen.', 'Mary travelled to the garden.'], ['Sandra went back to the bathroom.', 'John went back to the office.'], ['Daniel went to the bathroom.', 'Sandra went to the office.'], ['Daniel travelled to the garden.', 'Mary went back to the kitchen.'], ['Mary went to the office.', 'Mary travelled to the garden.'], ['Daniel journeyed to the hallway.', 'John went back to the bedroom.'], ['Daniel moved to the bedroom.', 'Sandra travelled to the kitchen.'], ['John went to the garden.', 'John moved to the hallway.'], ['John journeyed to the bedroom.', 'Mary went to the office.'], ['John moved to the office.', 'Mary went to the hallway.'], ['Sandra travelled to the office.', 'John travelled to the bedroom.'], ['Daniel travelled to the kitchen.', 'Mary went to the kitchen.'], ['John travelled to the kitchen.', 'Sandra journeyed to the bedroom.'], ['Daniel moved to the kitchen.', 'Sandra went to the kitchen.'], ['John went back to the bedroom.', 'Daniel went to the bathroom.'], ['Sandra moved to the garden.', 'Daniel went back to the office.'], ['Mary went to the kitchen.', 'Daniel went to the hallway.'], ['Daniel went back to the bathroom.', 'Sandra moved to the office.'], ['Mary journeyed to the hallway.', 'John went back to the bathroom.'], ['John went back to the bedroom.', 'Daniel travelled to the bedroom.'], ['Mary went to the garden.', 'Daniel moved to the kitchen.'], ['Daniel went to the hallway.', 'Mary journeyed to the kitchen.'], ['Daniel travelled to the kitchen.', 'Mary went back to the hallway.'], ['John went back to the garden.', 'John travelled to the hallway.'], ['John journeyed to the office.', 'John journeyed to the kitchen.'], ['Sandra journeyed to the hallway.', 'Sandra went to the bedroom.'], ['Sandra journeyed to the hallway.', 'Daniel went back to the kitchen.'], ['Daniel moved to the bathroom.', 'Mary went back to the bathroom.'], ['John travelled to the bathroom.', 'Daniel went to the hallway.'], ['John moved to the kitchen.', 'Mary journeyed to the kitchen.'], ['Daniel travelled to the bathroom.', 'John travelled to the bathroom.'], ['Daniel went to the garden.', 'Sandra travelled to the hallway.'], ['Mary travelled to the hallway.', 'John journeyed to the bedroom.'], ['John went to the bedroom.', 'Daniel went to the bedroom.'], ['John travelled to the office.', 'John went back to the bedroom.'], ['Mary went to the bedroom.', 'John went to the garden.'], ['Daniel went back to the garden.', 'Daniel went to the office.'], ['John moved to the hallway.', 'John moved to the office.'], ['Daniel moved to the garden.', 'Sandra moved to the hallway.'], ['John went to the hallway.', 'John went to the office.'], ['John went to the kitchen.', 'John went back to the hallway.'], ['Sandra journeyed to the office.', 'Mary journeyed to the bedroom.'], ['Sandra travelled to the hallway.', 'Mary went back to the bathroom.'], ['Mary journeyed to the bedroom.', 'Sandra moved to the kitchen.'], ['Mary journeyed to the garden.', 'Sandra moved to the garden.'], ['John moved to the office.', 'Sandra moved to the bedroom.'], ['Daniel moved to the bedroom.', 'Sandra moved to the bathroom.'], ['Daniel travelled to the office.', 'John went to the garden.'], ['John moved to the hallway.', 'Sandra went to the hallway.'], ['John went back to the garden.', 'Daniel journeyed to the office.'], ['Daniel moved to the bedroom.', 'Mary journeyed to the bathroom.'], ['John went back to the kitchen.', 'Daniel went back to the office.'], ['Sandra moved to the kitchen.', 'Daniel went to the kitchen.'], ['Mary travelled to the bedroom.', 'Daniel moved to the hallway.'], ['Daniel journeyed to the garden.', 'Daniel journeyed to the hallway.'], ['Sandra journeyed to the hallway.', 'John went to the garden.'], ['John moved to the hallway.', 'Daniel journeyed to the bathroom.'], ['Daniel moved to the hallway.', 'John travelled to the kitchen.'], ['Sandra went to the bathroom.', 'Daniel went to the bedroom.'], ['Mary went to the garden.', 'Sandra moved to the hallway.'], ['Daniel journeyed to the bathroom.', 'Mary journeyed to the kitchen.'], ['Sandra went to the bathroom.', 'John went to the kitchen.'], ['Sandra went back to the kitchen.', 'Sandra went to the office.'], ['Mary went to the hallway.', 'Daniel travelled to the bathroom.'], ['Mary journeyed to the bathroom.', 'Daniel journeyed to the hallway.'], ['Daniel went back to the garden.', 'Daniel travelled to the office.'], ['Mary went to the office.', 'Mary went back to the bathroom.'], ['Mary went to the hallway.', 'Daniel went to the bedroom.'], ['John travelled to the kitchen.', 'Daniel went to the kitchen.'], ['John went back to the hallway.', 'John moved to the office.'], ['Mary moved to the bedroom.', 'John travelled to the bedroom.'], ['John went back to the bathroom.', 'Sandra moved to the kitchen.'], ['John journeyed to the garden.', 'Sandra went to the office.'], ['Mary travelled to the garden.', 'Daniel went to the office.'], ['Daniel travelled to the kitchen.', 'Sandra journeyed to the kitchen.'], ['Mary went back to the hallway.', 'Daniel went to the bedroom.'], ['Mary moved to the bathroom.', 'Sandra journeyed to the bathroom.'], ['John journeyed to the garden.', 'Sandra went to the garden.'], ['Mary went back to the hallway.', 'John went to the garden.'], ['Sandra travelled to the bedroom.', 'Mary travelled to the bedroom.'], ['Sandra moved to the kitchen.', 'Daniel went back to the bedroom.'], ['Mary went back to the garden.', 'Daniel went to the office.'], ['Daniel moved to the garden.', 'Sandra travelled to the hallway.'], ['Sandra went back to the office.', 'Daniel moved to the hallway.'], ['Daniel travelled to the garden.', 'Mary moved to the bathroom.'], ['Sandra went back to the kitchen.', 'Sandra moved to the garden.'], ['Sandra went to the kitchen.', 'Daniel went to the bathroom.'], ['John journeyed to the bathroom.', 'John went back to the garden.'], ['Sandra went back to the bedroom.', 'Mary went back to the hallway.'], ['Mary moved to the bathroom.', 'Mary went to the hallway.'], ['Daniel travelled to the bathroom.', 'Sandra went back to the office.'], ['Mary moved to the kitchen.', 'John journeyed to the bathroom.'], ['Mary moved to the bathroom.', 'Sandra went back to the kitchen.'], ['John went to the kitchen.', 'John went to the hallway.'], ['Sandra moved to the garden.', 'Sandra went back to the kitchen.'], ['John moved to the bedroom.', 'Sandra went back to the bathroom.'], ['Sandra went to the hallway.', 'Daniel journeyed to the office.'], ['Daniel travelled to the bedroom.', 'Daniel travelled to the garden.'], ['Sandra journeyed to the bathroom.', 'Daniel moved to the garden.'], ['Mary went back to the garden.', 'Daniel went back to the kitchen.'], ['Mary went back to the bedroom.', 'Mary went back to the bathroom.'], ['John journeyed to the hallway.', 'John went back to the bedroom.'], ['Daniel journeyed to the bathroom.', 'John went back to the office.'], ['John went to the kitchen.', 'John journeyed to the office.'], ['Daniel travelled to the bedroom.', 'John journeyed to the kitchen.'], ['John journeyed to the office.', 'Mary went back to the bathroom.'], ['John journeyed to the garden.', 'Sandra went to the bathroom.'], ['Sandra journeyed to the office.', 'John went back to the bathroom.'], ['Mary journeyed to the bedroom.', 'Mary journeyed to the garden.'], ['Daniel went back to the garden.', 'Mary went back to the hallway.'], ['Daniel went to the hallway.', 'John travelled to the bedroom.'], ['Mary went to the garden.', 'Mary went to the kitchen.'], ['John moved to the kitchen.', 'John went back to the garden.'], ['John journeyed to the bedroom.', 'Mary moved to the garden.'], ['Mary journeyed to the bathroom.', 'Mary travelled to the garden.'], ['Mary went back to the bedroom.', 'Sandra went back to the office.'], ['Sandra travelled to the bathroom.', 'Sandra travelled to the kitchen.'], ['Sandra moved to the hallway.', 'Mary went to the bathroom.'], ['Mary travelled to the kitchen.', 'Sandra moved to the office.'], ['Mary went back to the bedroom.', 'Mary journeyed to the kitchen.'], ['John travelled to the bedroom.', 'Daniel went to the bedroom.'], ['Sandra journeyed to the garden.', 'Sandra travelled to the office.'], ['Mary travelled to the office.', 'Mary journeyed to the kitchen.'], ['Daniel journeyed to the kitchen.', 'John journeyed to the office.'], ['Daniel travelled to the bedroom.', 'Sandra journeyed to the bathroom.'], ['Mary travelled to the bedroom.', 'John travelled to the kitchen.'], ['Mary went back to the garden.', 'Sandra went back to the bedroom.'], ['Sandra journeyed to the bathroom.', 'Daniel moved to the bathroom.'], ['Sandra journeyed to the hallway.', 'Mary moved to the bedroom.'], ['Mary went back to the office.', 'Sandra moved to the bedroom.'], ['Sandra moved to the kitchen.', 'Daniel moved to the bedroom.'], ['Sandra went to the hallway.', 'Mary journeyed to the bathroom.'], ['John went back to the bathroom.', 'John travelled to the hallway.'], ['Sandra moved to the office.', 'John went to the kitchen.'], ['John travelled to the garden.', 'Mary moved to the office.'], ['John went to the bedroom.', 'John went back to the kitchen.'], ['Daniel went to the garden.', 'John went to the office.'], ['Mary went back to the bathroom.', 'Sandra journeyed to the garden.'], ['Mary went back to the bedroom.', 'Daniel travelled to the office.'], ['Daniel went back to the garden.', 'John journeyed to the office.'], ['Daniel moved to the kitchen.', 'Mary journeyed to the garden.'], ['Sandra went back to the bedroom.', 'John went to the garden.'], ['John journeyed to the bathroom.', 'Sandra journeyed to the office.'], ['John moved to the garden.', 'Daniel went back to the office.'], ['Sandra travelled to the office.', 'Mary went back to the garden.'], ['Daniel went back to the hallway.', 'Sandra travelled to the kitchen.'], ['Sandra journeyed to the bathroom.', 'Sandra went to the kitchen.'], ['Sandra went to the bathroom.', 'Mary moved to the bathroom.'], ['Sandra went to the bathroom.', 'John journeyed to the hallway.'], ['Daniel went to the office.', 'John went to the kitchen.'], ['Daniel travelled to the kitchen.', 'Mary journeyed to the bedroom.'], ['Daniel went back to the office.', 'Mary travelled to the garden.'], ['John journeyed to the hallway.', 'John travelled to the office.'], ['Sandra went to the kitchen.', 'John journeyed to the kitchen.'], ['Sandra went back to the garden.', 'Mary travelled to the hallway.'], ['Sandra went back to the bathroom.', 'Daniel journeyed to the garden.'], ['John moved to the hallway.', 'Mary moved to the bathroom.'], ['John went back to the office.', 'Mary went to the kitchen.'], ['Sandra moved to the bedroom.', 'John travelled to the office.'], ['Daniel travelled to the hallway.', 'Mary went to the hallway.'], ['Mary travelled to the office.', 'Sandra moved to the kitchen.'], ['John went back to the hallway.', 'Daniel moved to the garden.'], ['Daniel moved to the office.', 'Daniel travelled to the bedroom.'], ['Mary went to the kitchen.', 'John travelled to the hallway.'], ['Sandra went back to the bedroom.', 'John travelled to the kitchen.'], ['Mary went back to the garden.', 'Mary travelled to the office.'], ['John journeyed to the office.', 'Sandra went to the office.'], ['Sandra journeyed to the kitchen.', 'John travelled to the hallway.'], ['Daniel went back to the office.', 'Sandra went to the garden.'], ['John journeyed to the bedroom.', 'Mary went back to the bathroom.'], ['Daniel went back to the kitchen.', 'Mary travelled to the bedroom.'], ['John went back to the office.', 'Sandra went to the bedroom.'], ['Daniel went to the bedroom.', 'John went back to the garden.'], ['Sandra travelled to the hallway.', 'Sandra went to the bedroom.'], ['Daniel moved to the office.', 'Mary went to the hallway.'], ['Mary journeyed to the kitchen.', 'John went back to the bedroom.'], ['Daniel travelled to the kitchen.', 'Sandra travelled to the kitchen.'], ['Sandra travelled to the hallway.', 'Daniel went to the garden.']]\n"
     ]
    }
   ],
   "source": [
    "# swap the subscript for the train_data and test_data to 0 or 1 or 2 to get the Stories, Questions or Answers\n",
    "\n",
    "print(len(train_data[0]))\n",
    "print(\" \")\n",
    "print(len(test_data[0]))\n",
    "\n",
    "print(train_data[0])"
   ]
  },
  {
   "cell_type": "markdown",
   "metadata": {},
   "source": [
    "### Build Vocab from train and test data"
   ]
  },
  {
   "cell_type": "code",
   "execution_count": 106,
   "metadata": {
    "collapsed": false
   },
   "outputs": [
    {
     "name": "stdout",
     "output_type": "stream",
     "text": [
      "21\n",
      " \n",
      "Counter({'to': 4000, '.': 4000, 'the': 4000, 'Where': 2000, '?': 2000, 'is': 2000, 'went': 1604, 'Sandra': 1562, 'Daniel': 1508, 'John': 1507, 'Mary': 1423, 'garden': 1040, 'office': 1019, 'kitchen': 1010, 'bedroom': 984, 'hallway': 981, 'bathroom': 966, 'travelled': 827, 'journeyed': 793, 'moved': 776, 'back': 773})\n",
      " \n",
      "{0: 'PAD', 'John': 10, 'to': 1, 'journeyed': 19, '?': 5, 'travelled': 18, 'bedroom': 15, 'Sandra': 8, 'garden': 12, 'hallway': 16, 'Daniel': 9, 'office': 13, 'the': 3, 'is': 6, 'went': 7, 'back': 21, 'kitchen': 14, '.': 2, 'moved': 20, 'bathroom': 17, 'Mary': 11, 'Where': 4}\n",
      " \n",
      "{1: 'to', 2: '.', 3: 'the', 4: 'Where', 'PAD': 0, 6: 'is', 7: 'went', 8: 'Sandra', 9: 'Daniel', 10: 'John', 11: 'Mary', 12: 'garden', 13: 'office', 14: 'kitchen', 15: 'bedroom', 16: 'hallway', 17: 'bathroom', 18: 'travelled', 19: 'journeyed', 20: 'moved', 21: 'back', 5: '?'}\n",
      "22\n"
     ]
    }
   ],
   "source": [
    "def buildVocab(train_data, test_data):\n",
    "    # this loop runs through all the sentences , questions and answers and creates a counter with the counts for \n",
    "    # unique words and their counts.\n",
    "    # this method returns the word2index and index2word mappings \n",
    "    word_counts = collections.Counter()\n",
    "    for stories, questions, answers in [train_data, test_data]:\n",
    "        for story in stories:\n",
    "            for sent in story:\n",
    "                for word in nltk.word_tokenize(sent):\n",
    "                    word_counts[word] += 1\n",
    "        for ques in questions:\n",
    "            for word in nltk.word_tokenize(ques):\n",
    "                word_counts[word] += 1\n",
    "        for ans in answers:\n",
    "            for word in nltk.word_tokenize(ans):\n",
    "                word_counts[word] += 1\n",
    "    print(len(word_counts))\n",
    "    print(\" \")\n",
    "    print(word_counts)\n",
    "    \n",
    "    # now create the word2index and index2word maps\n",
    "    i=0\n",
    "    word2index = {w:i+1 for i,(w, _) in enumerate(word_counts.most_common())}\n",
    "    word2index[0] = \"PAD\"\n",
    "#     print(\" \")\n",
    "#     print(len(word2index))\n",
    "#     print(word2index)\n",
    "    \n",
    "    index2word = {v:k for k,v in word2index.items()}\n",
    "#     print(\" \")\n",
    "#     print(len(index2word))\n",
    "#     print(index2word)\n",
    "    return word2index, index2word\n",
    "\n",
    "word2index, index2word = buildVocab(train_data, test_data)\n",
    "print(\" \")\n",
    "print(word2index)\n",
    "print(\" \")\n",
    "print(index2word)\n",
    "\n",
    "vocab_size = len(word2index)\n",
    "print(vocab_size)        "
   ]
  },
  {
   "cell_type": "markdown",
   "metadata": {},
   "source": [
    "### Get Maximum Lengths for the story and Question"
   ]
  },
  {
   "cell_type": "code",
   "execution_count": 115,
   "metadata": {
    "collapsed": false
   },
   "outputs": [
    {
     "name": "stdout",
     "output_type": "stream",
     "text": [
      "14   4\n"
     ]
    }
   ],
   "source": [
    "# this function finds the maximum length of a sentence (number of words in a sentence or questions)\n",
    "def getMaXLength(train_data, test_data):\n",
    "    s_maxlength =0\n",
    "    q_maxlength=0\n",
    "    for stories, questions, answers in [train_data, test_data]:\n",
    "        for story in stories:\n",
    "            story_len = 0\n",
    "            for sen in story:\n",
    "                story_len += len(nltk.word_tokenize(sen))\n",
    "            if story_len > s_maxlength:\n",
    "                    s_maxlength = story_len\n",
    "        for ques in questions:\n",
    "            ques_length = len(nltk.word_tokenize(ques))\n",
    "            if ques_length > q_maxlength:\n",
    "                q_maxlength = ques_length    \n",
    "    return s_maxlength, q_maxlength\n",
    "\n",
    "story_maxlength, ques_maxlength = getMaXLength(train_data, test_data)\n",
    "print(story_maxlength,\" \", ques_maxlength)"
   ]
  },
  {
   "cell_type": "markdown",
   "metadata": {},
   "source": [
    "### Vectorize the Inputs and Pad the sequences"
   ]
  },
  {
   "cell_type": "code",
   "execution_count": 116,
   "metadata": {
    "collapsed": false
   },
   "outputs": [],
   "source": [
    "# Vectorize the inputs by padding the data to the same sizes.\n",
    "def vectorize(data, word2index, story_maxlength, ques_maxlength):\n",
    "    Xs, Xq, Y =[], [], []\n",
    "    k=0\n",
    "    stories, questions, answers = data\n",
    "    \n",
    "#     print(stories)\n",
    "#     print(\" \")\n",
    "#     print(questions)\n",
    "#     print(\" \")\n",
    "#     print(answers)\n",
    "#     print(\" \")\n",
    "    \n",
    "    for story, ques, ans in zip(stories, questions, answers):\n",
    "        \n",
    "        # loop through each of the sentences, questions and snwers and append them to the list\n",
    "        # their indexes\n",
    "        xs = [[word2index[w] for w in nltk.word_tokenize(s)] for s in story]\n",
    "        xs = list(itertools.chain.from_iterable(xs))\n",
    "        xq = [word2index[w] for w in nltk.word_tokenize(ques)]\n",
    "        Xs.append(xs)\n",
    "        Xq.append(xq)\n",
    "        Y.append(word2index[ans])\n",
    "#         Y = np_utils.to_categorical(Y_indexes)\n",
    "    # pad the sequences for sentences and questions and change answers to categorical values    \n",
    "    return pad_sequences(Xs, story_maxlength), pad_sequences(Xq, ques_maxlength), np_utils.to_categorical(Y, num_classes=len(word2index))\n",
    "    \n",
    "Xstrain, Xqtrain, Ytrain = vectorize(train_data, word2index, story_maxlength, ques_maxlength)\n",
    "Xstest, Xqtest, Ytest = vectorize(test_data, word2index, story_maxlength, ques_maxlength)"
   ]
  },
  {
   "cell_type": "code",
   "execution_count": 117,
   "metadata": {
    "collapsed": false
   },
   "outputs": [
    {
     "name": "stdout",
     "output_type": "stream",
     "text": [
      "(1000, 14)\n",
      "(1000, 4)\n",
      "(1000, 22)\n",
      " \n",
      "(1000, 14)\n",
      "(1000, 4)\n",
      "(1000, 22)\n",
      " \n",
      "[ 0  9  7 21  1  3 16  2  8 20  1  3 12  2]\n",
      " \n",
      "[ 0.  0.  0.  0.  0.  0.  0.  0.  0.  0.  0.  0.  0.  0.  0.  0.  0.  1.\n",
      "  0.  0.  0.  0.]\n"
     ]
    }
   ],
   "source": [
    "print(Xstrain.shape)\n",
    "print(Xqtrain.shape)\n",
    "print(Ytrain.shape)\n",
    "\n",
    "print(\" \")\n",
    "\n",
    "print(Xstest.shape)\n",
    "print(Xqtest.shape)\n",
    "print(Ytest.shape)\n",
    "\n",
    "print(\" \")\n",
    "print(Xstrain[1])\n",
    "\n",
    "print(\" \")\n",
    "print(Ytrain[0])"
   ]
  },
  {
   "cell_type": "markdown",
   "metadata": {},
   "source": [
    "### Define the Model Architecture"
   ]
  },
  {
   "cell_type": "code",
   "execution_count": 118,
   "metadata": {
    "collapsed": false
   },
   "outputs": [
    {
     "name": "stdout",
     "output_type": "stream",
     "text": [
      "Ques Encoder -  (?, 4, 64)\n",
      "Story Encoder -  (?, 14, 64)\n",
      "Match -  (?, 14, 4)\n",
      "Story Encoder 2 -  (?, 14, 4)\n",
      "Response shape -  (?, 14, 4)\n",
      "Response Shape after Permute -  (?, 4, 14)\n",
      "Concatenate -  (?, 4, 78)\n",
      "Output Shape -  (?, 22)\n"
     ]
    }
   ],
   "source": [
    "# check the complex model architecture and define the architecture\n",
    "# the detailed architecture can be found from the paper - memory networks\n",
    "\n",
    "EMBEDDING_SIZE = 64\n",
    "LSTM_NEURONS = 32\n",
    "DROPOUT_RATE = 0.3\n",
    "BATCH_SIZE = 32\n",
    "NUM_EPOCHS = 50\n",
    "\n",
    "# define the inputs\n",
    "story_input = Input(shape=(story_maxlength,))\n",
    "ques_input = Input(shape=(ques_maxlength,))\n",
    "\n",
    "# define the Embeddings for the questions and the stories\n",
    "story_encoder = Embedding(input_dim=vocab_size, output_dim=EMBEDDING_SIZE, input_length=story_maxlength) (story_input)\n",
    "story_encoder = Dropout(DROPOUT_RATE)(story_encoder)\n",
    "\n",
    "ques_encoder = Embedding(input_dim=vocab_size, output_dim=EMBEDDING_SIZE, input_length=ques_maxlength) (ques_input)\n",
    "ques_encoder = Dropout(DROPOUT_RATE)(ques_encoder)\n",
    "\n",
    "print(\"Ques Encoder - \",ques_encoder.shape)\n",
    "print(\"Story Encoder - \", story_encoder.shape)\n",
    "\n",
    "# use the dot operator\n",
    "match = dot([story_encoder, ques_encoder], axes=[2,2])\n",
    "print(\"Match - \",match.shape)\n",
    "\n",
    "# define the second embedding of the story vector\n",
    "story_encoder_2 = Embedding(input_dim=vocab_size, output_dim=ques_maxlength, input_length=story_maxlength)(story_input)\n",
    "story_encoder_2 = Dropout(DROPOUT_RATE)(story_encoder_2)\n",
    "print(\"Story Encoder 2 - \",story_encoder_2.shape)\n",
    "\n",
    "# create the response tensor\n",
    "response = add([ match, story_encoder_2])\n",
    "print(\"Response shape - \", response.shape)\n",
    "response = Permute((2,1))(response)\n",
    "print(\"Response Shape after Permute - \",response.shape)\n",
    "answer = concatenate([response, ques_encoder,], axis=-1)\n",
    "print(\"Concatenate - \",answer.shape)\n",
    "answer = LSTM(LSTM_NEURONS) (answer)\n",
    "answer = Dropout(DROPOUT_RATE)(answer)\n",
    "answer = Dense(vocab_size)(answer)\n",
    "output = Activation('softmax')(answer)\n",
    "print(\"Output Shape - \",output.shape)\n",
    "\n",
    "model = Model(inputs=[story_input, ques_input], outputs=output)\n",
    "model.compile(optimizer='rmsprop',loss='categorical_crossentropy', metrics=['accuracy'])\n"
   ]
  },
  {
   "cell_type": "markdown",
   "metadata": {},
   "source": [
    "### Fit the Model and Plot the Graphs"
   ]
  },
  {
   "cell_type": "code",
   "execution_count": 119,
   "metadata": {
    "collapsed": false
   },
   "outputs": [
    {
     "name": "stdout",
     "output_type": "stream",
     "text": [
      "Train on 1000 samples, validate on 1000 samples\n",
      "Epoch 1/50\n",
      "1000/1000 [==============================] - 1s - loss: 2.6922 - acc: 0.1510 - val_loss: 2.0649 - val_acc: 0.1870\n",
      "Epoch 2/50\n",
      "1000/1000 [==============================] - 0s - loss: 1.9820 - acc: 0.1830 - val_loss: 1.8500 - val_acc: 0.1870\n",
      "Epoch 3/50\n",
      "1000/1000 [==============================] - 0s - loss: 1.9079 - acc: 0.1730 - val_loss: 1.8185 - val_acc: 0.1800\n",
      "Epoch 4/50\n",
      "1000/1000 [==============================] - 0s - loss: 1.8541 - acc: 0.1950 - val_loss: 1.7913 - val_acc: 0.1680\n",
      "Epoch 5/50\n",
      "1000/1000 [==============================] - 0s - loss: 1.8388 - acc: 0.1970 - val_loss: 1.7642 - val_acc: 0.2810\n",
      "Epoch 6/50\n",
      "1000/1000 [==============================] - 0s - loss: 1.7986 - acc: 0.2220 - val_loss: 1.7333 - val_acc: 0.2720\n",
      "Epoch 7/50\n",
      "1000/1000 [==============================] - 0s - loss: 1.7383 - acc: 0.2280 - val_loss: 1.6881 - val_acc: 0.2680\n",
      "Epoch 8/50\n",
      "1000/1000 [==============================] - 0s - loss: 1.6976 - acc: 0.2560 - val_loss: 1.6607 - val_acc: 0.2980\n",
      "Epoch 9/50\n",
      "1000/1000 [==============================] - 0s - loss: 1.6605 - acc: 0.3040 - val_loss: 1.6531 - val_acc: 0.3190\n",
      "Epoch 10/50\n",
      "1000/1000 [==============================] - 0s - loss: 1.6403 - acc: 0.3310 - val_loss: 1.6421 - val_acc: 0.3040\n",
      "Epoch 11/50\n",
      "1000/1000 [==============================] - 0s - loss: 1.6385 - acc: 0.3300 - val_loss: 1.6364 - val_acc: 0.3390\n",
      "Epoch 12/50\n",
      "1000/1000 [==============================] - 0s - loss: 1.6314 - acc: 0.3380 - val_loss: 1.6262 - val_acc: 0.3300\n",
      "Epoch 13/50\n",
      "1000/1000 [==============================] - 0s - loss: 1.6151 - acc: 0.3370 - val_loss: 1.6221 - val_acc: 0.3310\n",
      "Epoch 14/50\n",
      "1000/1000 [==============================] - 0s - loss: 1.5974 - acc: 0.3610 - val_loss: 1.6136 - val_acc: 0.3470\n",
      "Epoch 15/50\n",
      "1000/1000 [==============================] - 0s - loss: 1.5904 - acc: 0.3510 - val_loss: 1.6108 - val_acc: 0.3710\n",
      "Epoch 16/50\n",
      "1000/1000 [==============================] - 0s - loss: 1.5781 - acc: 0.3610 - val_loss: 1.6063 - val_acc: 0.3710\n",
      "Epoch 17/50\n",
      "1000/1000 [==============================] - 0s - loss: 1.5690 - acc: 0.3680 - val_loss: 1.6059 - val_acc: 0.3690\n",
      "Epoch 18/50\n",
      "1000/1000 [==============================] - 0s - loss: 1.5606 - acc: 0.4010 - val_loss: 1.6057 - val_acc: 0.3760\n",
      "Epoch 19/50\n",
      "1000/1000 [==============================] - 0s - loss: 1.5443 - acc: 0.3940 - val_loss: 1.5977 - val_acc: 0.3740\n",
      "Epoch 20/50\n",
      "1000/1000 [==============================] - 0s - loss: 1.5495 - acc: 0.3850 - val_loss: 1.5962 - val_acc: 0.3780\n",
      "Epoch 21/50\n",
      "1000/1000 [==============================] - 0s - loss: 1.5638 - acc: 0.3940 - val_loss: 1.5892 - val_acc: 0.3890\n",
      "Epoch 22/50\n",
      "1000/1000 [==============================] - 0s - loss: 1.5153 - acc: 0.4290 - val_loss: 1.5851 - val_acc: 0.4060\n",
      "Epoch 23/50\n",
      "1000/1000 [==============================] - 0s - loss: 1.5300 - acc: 0.4300 - val_loss: 1.5789 - val_acc: 0.4020\n",
      "Epoch 24/50\n",
      "1000/1000 [==============================] - 0s - loss: 1.5269 - acc: 0.4170 - val_loss: 1.5754 - val_acc: 0.3910\n",
      "Epoch 25/50\n",
      "1000/1000 [==============================] - 0s - loss: 1.5137 - acc: 0.4220 - val_loss: 1.5710 - val_acc: 0.4050\n",
      "Epoch 26/50\n",
      "1000/1000 [==============================] - 0s - loss: 1.4928 - acc: 0.4360 - val_loss: 1.5666 - val_acc: 0.4150\n",
      "Epoch 27/50\n",
      "1000/1000 [==============================] - 0s - loss: 1.4974 - acc: 0.4670 - val_loss: 1.5662 - val_acc: 0.4090\n",
      "Epoch 28/50\n",
      "1000/1000 [==============================] - 0s - loss: 1.4666 - acc: 0.4660 - val_loss: 1.5446 - val_acc: 0.4320\n",
      "Epoch 29/50\n",
      "1000/1000 [==============================] - 0s - loss: 1.4899 - acc: 0.4470 - val_loss: 1.5365 - val_acc: 0.4240\n",
      "Epoch 30/50\n",
      "1000/1000 [==============================] - 0s - loss: 1.4656 - acc: 0.4750 - val_loss: 1.5217 - val_acc: 0.4340\n",
      "Epoch 31/50\n",
      "1000/1000 [==============================] - 0s - loss: 1.4464 - acc: 0.4770 - val_loss: 1.5140 - val_acc: 0.4370\n",
      "Epoch 32/50\n",
      "1000/1000 [==============================] - 0s - loss: 1.4426 - acc: 0.4870 - val_loss: 1.5127 - val_acc: 0.4430\n",
      "Epoch 33/50\n",
      "1000/1000 [==============================] - 0s - loss: 1.4452 - acc: 0.4740 - val_loss: 1.5039 - val_acc: 0.4340\n",
      "Epoch 34/50\n",
      "1000/1000 [==============================] - 0s - loss: 1.4303 - acc: 0.4850 - val_loss: 1.4966 - val_acc: 0.4580\n",
      "Epoch 35/50\n",
      "1000/1000 [==============================] - 0s - loss: 1.4030 - acc: 0.5030 - val_loss: 1.4890 - val_acc: 0.4430\n",
      "Epoch 36/50\n",
      "1000/1000 [==============================] - 0s - loss: 1.4160 - acc: 0.4800 - val_loss: 1.4840 - val_acc: 0.4500\n",
      "Epoch 37/50\n",
      "1000/1000 [==============================] - 0s - loss: 1.4083 - acc: 0.5090 - val_loss: 1.4772 - val_acc: 0.4520\n",
      "Epoch 38/50\n",
      "1000/1000 [==============================] - 0s - loss: 1.4125 - acc: 0.4910 - val_loss: 1.4729 - val_acc: 0.4600\n",
      "Epoch 39/50\n",
      "1000/1000 [==============================] - 0s - loss: 1.3748 - acc: 0.5080 - val_loss: 1.4849 - val_acc: 0.4640\n",
      "Epoch 40/50\n",
      "1000/1000 [==============================] - 0s - loss: 1.3842 - acc: 0.4980 - val_loss: 1.4655 - val_acc: 0.4790\n",
      "Epoch 41/50\n",
      "1000/1000 [==============================] - 0s - loss: 1.3581 - acc: 0.5240 - val_loss: 1.4572 - val_acc: 0.4680\n",
      "Epoch 42/50\n",
      "1000/1000 [==============================] - 0s - loss: 1.3579 - acc: 0.5260 - val_loss: 1.4510 - val_acc: 0.4760\n",
      "Epoch 43/50\n",
      "1000/1000 [==============================] - 0s - loss: 1.3686 - acc: 0.5240 - val_loss: 1.4430 - val_acc: 0.4850\n",
      "Epoch 44/50\n",
      "1000/1000 [==============================] - 0s - loss: 1.3398 - acc: 0.5210 - val_loss: 1.4457 - val_acc: 0.4820\n",
      "Epoch 45/50\n",
      "1000/1000 [==============================] - 0s - loss: 1.3484 - acc: 0.5190 - val_loss: 1.4384 - val_acc: 0.5050\n",
      "Epoch 46/50\n",
      "1000/1000 [==============================] - 0s - loss: 1.3220 - acc: 0.5310 - val_loss: 1.4358 - val_acc: 0.4840\n",
      "Epoch 47/50\n",
      "1000/1000 [==============================] - 0s - loss: 1.3300 - acc: 0.5340 - val_loss: 1.4212 - val_acc: 0.4930\n",
      "Epoch 48/50\n",
      "1000/1000 [==============================] - 0s - loss: 1.3310 - acc: 0.5240 - val_loss: 1.4110 - val_acc: 0.5030\n",
      "Epoch 49/50\n",
      "1000/1000 [==============================] - 0s - loss: 1.3241 - acc: 0.5360 - val_loss: 1.4088 - val_acc: 0.5090\n",
      "Epoch 50/50\n",
      "1000/1000 [==============================] - 0s - loss: 1.2854 - acc: 0.5520 - val_loss: 1.3986 - val_acc: 0.5150\n"
     ]
    }
   ],
   "source": [
    "# fitting the model and evaluatig the Graph plots and the output on the test data\n",
    "history = model.fit([Xstrain, Xqtrain], [Ytrain], batch_size=BATCH_SIZE, epochs=NUM_EPOCHS, validation_data=([Xstest,Xqtest], [Ytest]))"
   ]
  },
  {
   "cell_type": "markdown",
   "metadata": {},
   "source": [
    "### Plot the validation and the train losses and accuracies"
   ]
  },
  {
   "cell_type": "code",
   "execution_count": 120,
   "metadata": {
    "collapsed": false
   },
   "outputs": [
    {
     "data": {
      "image/png": "[encoded data removed]",
      "text/plain": [
       "<matplotlib.figure.Figure at 0x135a16940>"
      ]
     },
     "metadata": {},
     "output_type": "display_data"
    }
   ],
   "source": [
    "plt.subplot(211)\n",
    "plt.title('Accuracy')\n",
    "plt.plot(history.history['acc'], color='g', label='train')\n",
    "plt.plot(history.history['val_acc'], color='b', label='validation')\n",
    "plt.legend(loc='best')\n",
    "\n",
    "plt.subplot(212)\n",
    "plt.title('Loss')\n",
    "plt.plot(history.history['loss'], color='g', label='train')\n",
    "plt.plot(history.history['val_loss'], color='b', label='validation')\n",
    "plt.legend(loc='best')\n",
    "\n",
    "plt.tight_layout()\n",
    "plt.show()"
   ]
  },
  {
   "cell_type": "markdown",
   "metadata": {},
   "source": [
    "\n",
    "### Print some of the predicted sample values from the trained network"
   ]
  },
  {
   "cell_type": "code",
   "execution_count": 121,
   "metadata": {
    "collapsed": false
   },
   "outputs": [
    {
     "name": "stdout",
     "output_type": "stream",
     "text": [
      "(1000,)\n",
      "(1000,)\n",
      "John travelled to the hallway . Mary journeyed to the bathroom .   Where is John ?   hallway   bathroom\n",
      "Daniel went back to the bathroom . John moved to the bedroom .   Where is Mary ?   bathroom   bedroom\n",
      "John went to the hallway . Sandra journeyed to the kitchen .   Where is Sandra ?   kitchen   kitchen\n",
      "Sandra travelled to the hallway . John went to the garden .   Where is Sandra ?   hallway   garden\n",
      "Sandra went back to the bathroom . Sandra moved to the kitchen .   Where is Sandra ?   kitchen   kitchen\n",
      "Sandra travelled to the kitchen . Sandra travelled to the hallway .   Where is Sandra ?   hallway   hallway\n",
      "Mary went to the bathroom . Sandra moved to the garden .   Where is Sandra ?   garden   garden\n",
      "Sandra travelled to the office . Daniel journeyed to the hallway .   Where is Daniel ?   hallway   office\n",
      "Daniel journeyed to the office . John moved to the hallway .   Where is Sandra ?   office   hallway\n",
      "John travelled to the bathroom . John journeyed to the office .   Where is Daniel ?   office   bathroom\n",
      "John travelled to the office . Mary journeyed to the kitchen .   Where is Mary ?   kitchen   kitchen\n",
      "Mary moved to the garden . Daniel went to the office .   Where is Mary ?   garden   office\n",
      "John went to the hallway . Mary moved to the kitchen .   Where is Daniel ?   office   kitchen\n",
      "Mary travelled to the bedroom . Daniel journeyed to the garden .   Where is Mary ?   bedroom   garden\n",
      "John journeyed to the garden . Sandra journeyed to the bedroom .   Where is Mary ?   bedroom   bedroom\n",
      "John moved to the hallway . John journeyed to the kitchen .   Where is John ?   kitchen   kitchen\n",
      "Sandra travelled to the garden . John journeyed to the garden .   Where is John ?   garden   garden\n",
      "Daniel journeyed to the office . John went to the kitchen .   Where is John ?   kitchen   kitchen\n",
      "Sandra journeyed to the hallway . Mary went to the hallway .   Where is Daniel ?   office   hallway\n",
      "Mary went to the kitchen . Sandra travelled to the garden .   Where is John ?   kitchen   kitchen\n"
     ]
    }
   ],
   "source": [
    "y_test = np.argmax(Ytest, axis=1)\n",
    "Y_test_ = model.predict([Xstest, Xqtest])\n",
    "y_test_ = np.argmax(Y_test_, axis=1)\n",
    "\n",
    "print(y_test.shape)\n",
    "print(y_test_.shape)\n",
    "\n",
    "NUM_SAMPLES = 20\n",
    "\n",
    "for i in range(NUM_SAMPLES):\n",
    "#     print(Xstest[i])\n",
    "    story = \" \".join([index2word[x] for x in Xstest[i].tolist() if x!=0])\n",
    "    ques = \" \".join([index2word[x] for x in Xqtest[i].tolist()])\n",
    "    ans = index2word[y_test[i]]\n",
    "    pred = index2word[y_test_[i]]\n",
    "    print(story, \" \", ques, \" \", ans, \" \", pred)"
   ]
  },
  {
   "cell_type": "code",
   "execution_count": null,
   "metadata": {
    "collapsed": true
   },
   "outputs": [],
   "source": []
  }
 ],
 "metadata": {
  "kernelspec": {
   "display_name": "Python [Root]",
   "language": "python",
   "name": "Python [Root]"
  },
  "language_info": {
   "codemirror_mode": {
    "name": "ipython",
    "version": 3
   },
   "file_extension": ".py",
   "mimetype": "text/x-python",
   "name": "python",
   "nbconvert_exporter": "python",
   "pygments_lexer": "ipython3",
   "version": "3.5.2"
  }
 },
 "nbformat": 4,
 "nbformat_minor": 0
}
