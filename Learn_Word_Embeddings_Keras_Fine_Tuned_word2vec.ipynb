{
 "cells": [
  {
   "cell_type": "markdown",
   "metadata": {},
   "source": [
    "## This notebook works on Word Embeddings using Keras (Fine tune learned embeddings)"
   ]
  },
  {
   "cell_type": "markdown",
   "metadata": {},
   "source": [
    "## This uses the Word2Vec Model"
   ]
  },
  {
   "cell_type": "markdown",
   "metadata": {},
   "source": [
    "### Import the libraries and define the arguments"
   ]
  },
  {
   "cell_type": "code",
   "execution_count": 3,
   "metadata": {
    "collapsed": false
   },
   "outputs": [
    {
     "name": "stderr",
     "output_type": "stream",
     "text": [
      "Using Theano backend.\n"
     ]
    }
   ],
   "source": [
    "# import the necessary libraries\n",
    "from keras.layers.core import Dense, Activation, Dropout, SpatialDropout1D \n",
    "from keras.layers.convolutional import Conv1D\n",
    "from keras.layers.embeddings import Embedding\n",
    "from keras.layers.pooling import GlobalMaxPooling1D\n",
    "from keras.models import Sequential\n",
    "from keras.utils import np_utils\n",
    "from keras.preprocessing.sequence import pad_sequences\n",
    "import keras.backend as K\n",
    "\n",
    "# adding the import from gensim implementation of word2vec\n",
    "from gensim.models import word2vec\n",
    "from gensim.models import KeyedVectors\n",
    "\n",
    "import nltk\n",
    "import collections\n",
    "import matplotlib.pyplot as plt\n",
    "import numpy as np\n",
    "\n",
    "from sklearn.model_selection import train_test_split\n",
    "%matplotlib inline\n",
    "\n",
    "np.random.seed(42)\n",
    "\n",
    "INPUT_FILE = \"/Users/tkmacl9/Desktop/FastAIDLCourse/datasets/umich_sentiment_dataset/train.txt\"\n",
    "WORD2VEC_WEIGHTS = \"/Users/tkmacl9/Desktop/FastAIDLCourse/datasets/google_news_word2vec/GoogleNews-vectors-negative300.bin\"\n",
    "VOCAB_SIZE = 5000\n",
    "EMBEDDING_SIZE = 300\n",
    "NUM_FILTERS=256\n",
    "NUM_WORDS = 3\n",
    "BATCH_SIZE = 64\n",
    "NUM_EPOCHS = 10    # reduced the number of epochs to 10 as convergence is reached on using pre-trained weights\n",
    "DROPOUT_RATE = float(0.2)"
   ]
  },
  {
   "cell_type": "markdown",
   "metadata": {},
   "source": [
    "### Learn Embeddings using Fine Tuning pre-trained weights"
   ]
  },
  {
   "cell_type": "code",
   "execution_count": 4,
   "metadata": {
    "collapsed": false
   },
   "outputs": [
    {
     "name": "stdout",
     "output_type": "stream",
     "text": [
      "2329\n",
      "\n",
      "defaultdict(<class 'int'>, {'hill-form': 969, 'same': 161, 'crack': 972, 'fire.-i': 974, 'raises': 1431, 'mary': 976, 'tree': 977, '6': 978, \"'ve\": 357, 'itself': 980, '10.9': 981, 'group': 982, 'news': 448, 'whatev': 983, 'soooo': 970, 'trivia': 985, 'mcmurtry': 986, 'school': 416, 'tomorrow': 987, 'preview': 1672, 'how': 72, 'blows': 990, 'looks': 386, 'colourfully': 648, 'writes': 991, 'around': 183, 'literary': 2112, 'linked': 992, 'am': 57, 'quiz': 227, '1984': 993, 'fanfic': 650, 'rides': 994, 'halfway': 995, 'often': 651, 'mocking..': 1105, 'till': 652, 'mountain': 12, 'mountain-which': 998, 'amazing..': 999, 'turner': 1000, 'such': 142, 'that': 26, 'u': 653, 'â™': 654, 'quaintly': 1002, 'christain': 1003, 'compared': 655, 'rules': 1004, 'suppose': 656, 'goin': 228, 'be': 45, 'smoking-had': 1993, 'm': 536, 'comprehend': 1005, 'admiring': 1006, 'awesome..': 129, 'much..': 417, 'requim': 1007, 'was': 18, 'deserved': 657, 'dragons': 723, 'latest': 1679, 'decomposing': 1892, 'hollywoord': 1009, '700': 1010, 'level': 537, 'bunch': 1011, 'posts': 1012, 'oddly': 2306, 'murdered': 1013, 'count': 229, 'tale': 658, 'cringe': 758, 'spy': 1015, 'psychology': 1016, 'plain': 241, 'least': 449, 'cute': 659, 'soooooooo': 1018, 'devastate': 1019, 'tells': 1021, 'hat': 226, 'need': 538, '8230': 1022, 'fallon': 1023, 'them': 387, 'angels': 450, 'is': 16, 'post': 2119, 'honest': 1767, \"'ll\": 363, 'cowan': 1025, 'flick': 661, 'begin': 205, 'check': 1302, 'inside': 1895, 's': 184, 'tiny': 1711, 'stayed': 539, 'thinks': 662, 'stitch': 2121, 'moving': 1029, 'screwed': 1593, 'unexpected': 1440, 'acceptable': 206, 'gary': 231, 'wicca': 979, 'contains': 2244, 'criticized': 2123, '/': 54, 'amazingly': 984, 'â’': 1035, 'consumed': 1036, 'fairly': 1037, 'bible': 845, 'stone': 663, 'die': 739, 'sense': 664, 'suicides': 232, 'exploitation': 1039, 'lends': 1040, 'plot': 1041, 'exciting': 1042, 'headmistress': 1043, 'struggle': 1044, 'friggin': 2124, 'halle': 1045, 'shit-i': 1046, 'tome': 1047, 'arse': 1048, 'dumbledor': 1049, 'iii-sucks': 1050, 'uh': 1051, 'nerd': 665, 'ten': 540, 'oscar': 484, 'drowining': 2126, 'escapades': 233, 'truth': 1053, 'awesomest': 667, 'sisters': 1055, 'book..': 767, 'lubb': 234, 'following': 1057, 'sunday': 1058, '..': 91, 'dictate': 668, 'someone': 486, 'dies': 208, 'wal-mart': 1060, 'fat': 542, 'your': 367, 'candy': 1062, 'fic': 669, 'quick': 1063, 'soo': 209, 'beating': 1064, 'whenever': 670, 'icons..': 1065, 'leads': 1066, 'brilliant': 671, 'ask': 541, 'eoin': 1067, 'cars-good': 1068, 'category': 1197, 'prisoner': 1070, 'other': 327, 'which': 61, 'hedge-good': 1072, 'emotes': 1073, 'reason': 1074, 'mad': 1075, 'simmons..': 1250, 'returning': 1076, 'rockets': 1077, 'strip': 2130, 'jenn': 1409, 'talked': 1079, 'music': 487, 'deluded': 1080, 'finish': 1081, 'infiltrate': 1700, '--': 332, 'hot': 793, 'panting': 235, 'talks': 1083, 'excersizing': 1084, 'match': 1085, 'but': 43, 'asshole': 1087, 'she': 87, 'funny': 488, 'nc-17': 543, 'helped': 236, 'refusing': 1089, 'titus': 1090, 'scarf': 1092, 'free': 1093, 'undercover': 1094, 'ive': 672, 'teri': 1095, 'dementors': 811, 'discovered': 1097, 'seriously': 1098, 'evil..': 544, 'fowl': 1099, 'chinese': 673, 'big': 133, 'relaxed': 1100, '517,648': 1101, 'telling': 489, 'nanny': 1102, '00': 1449, 'happiness': 1104, 'sucks..': 388, 'lunch': 996, 'topic': 2136, 'pastings': 1107, 'demeantor': 2049, 'gosh': 1108, 'lines': 1110, '4': 546, 'these': 162, 'months': 675, 'rep': 1111, 'side': 177, ':': 68, 'pretty-packaging': 1052, 'gin': 254, 'remix..': 1114, '``': 35, 'various': 1117, 'addition': 1118, 'trece': 1119, 'felicia': 97, '200': 1120, 'fortress..': 1121, 'honor': 676, 'kinda': 337, 'hope': 490, 'yet': 389, 'top': 547, 'silent': 238, 'cool': 171, 'oh': 88, 'ban': 548, 'loves': 549, 'becoming': 210, 'phone': 1122, 'overcoming': 1123, 'freaking': 419, 'hahahahahaha': 1124, 'matter': 1911, 'places': 1125, 'btw': 677, 'intellectual': 1126, 'half': 522, 'played': 491, 'urls': 1128, 'those': 368, 'cuz': 550, 'hand': 1129, 'animated': 2139, 'prince': 678, 'performance': 1131, 'noises': 243, 'shaped': 1133, 'home': 679, '33': 1134, '...': 14, 'sawyer': 1136, 'find': 1701, 'hardcore': 680, 'code-very': 1138, 'shameful': 1139, 'he': 130, 'butt': 703, 'winter': 1141, 'fire': 492, 'robbed': 682, 'ass': 316, 'grown': 1142, 'way': 124, 'humor': 1460, 'paper': 1145, 'work': 551, 'comparrison': 1146, 'do..': 1147, 'write': 552, 'mission': 19, 'conclusion': 639, 'apparently': 451, 'artemis': 1148, 'k.': 685, 'fit': 686, 'wondering': 553, 'our': 421, 'excellent': 165, 'their': 452, 'stinks..': 1149, 'teaches': 687, 'cars': 1150, 'bogus': 453, 'exception': 1151, 'tied': 2300, 'tourist': 2065, 'disruption': 1153, 'anywhere': 1154, 'stopped': 916, 'abortion': 1465, 'career': 1704, 'exaggeration': 1157, 'fer': 1158, 'beatles': 2146, 'eek': 1159, 'sexual': 1161, 'delayed': 1162, 'bayers': 1163, 'outta': 1164, 'grand': 1165, 'condemnation': 1166, 'costumes': 690, 'poem': 1167, 'shraddha': 1705, 'discussed': 1169, 'packed': 1170, 'it': 23, 'libarian': 1171, 'tests': 1172, 'deciding': 1173, 'mrs.': 1174, 'kudos': 1175, 'luv': 191, 'philosopher': 1176, 'where': 185, 'codes': 1177, 'america': 1226, 'experience': 2150, 'away': 2087, 'win..': 1179, 'catch': 783, 'drive': 691, 'boys': 1181, 'please': 692, 'start': 96, 'lah': 693, 'throw': 1183, 'wondered': 1184, 'soooooo': 1185, 'loser': 1186, 'hips': 239, 'combining': 248, 'tell': 370, 'o': 1180, 'eye': 1190, 'loose': 1191, 'phrase': 1192, '+': 554, 'sucks': 29, 'mcgarther': 1193, 'cold': 695, 'het': 696, 'viewings': 1194, 'summer': 1195, 'speaking': 746, 'move': 493, 'guy': 94, 'creatures': 1198, 'backtory': 1925, 'however': 1200, 'whether': 697, 'read': 109, 'pegg': 1201, 'terrible': 86, 'ok': 93, 'bond': 1202, 'witchcraft': 698, 'into': 60, 'sooo': 699, 'wif': 1203, 'neither': 2288, 'broom': 1017, 'vampire': 700, 'night': 369, 'extremely': 556, 'hell': 557, 'anyways': 558, 'biased': 701, 'bootlegged': 1205, 'wesley': 702, 'theories': 1206, 'fanfiction': 559, 'ripping': 1207, 'donã¢': 1208, 'whereas': 1209, 'explaination': 1210, 'luau': 1211, 'bits': 2156, 'sweeping': 1213, 'phenomenon': 1473, 'caribbean': 1215, '1st': 2185, 'wiccanism': 674, 'spells': 1216, 'japenese': 1218, 'awesomely': 1825, 'exelent': 2270, 'ian': 1718, 'almost': 422, 'energy': 1140, 'ti': 1220, 'springer': 1931, 'run': 683, 'jamie': 1222, 'runs': 1223, 'an': 64, 'theaters': 704, 'wrong': 398, 'witha': 1224, 'mcphee': 1225, 'bit': 431, 'silver': 1227, '385': 1228, 'use': 694, 'included': 1229, 'malaguena': 1559, 'chunnel': 1231, 'name': 706, 'weekend.-mission': 1232, 'slow': 1233, 'something': 399, 'juicy': 1219, 'starring': 1853, 'super': 707, '-brooke': 1236, 'come': 494, 'dress': 2064, 'denial': 1237, 'thing': 351, 'gorgeous': 562, 'good..': 1238, 'funner': 2268, 'reality': 211, 'queer': 708, 'about': 101, 'every': 423, 'writing': 709, 'spend': 1239, 'adaptation': 1240, 'hand..': 1241, 'according': 1242, 'buy': 710, 'monsters': 1243, \"saying'harry\": 1244, '7th': 1245, 'fun': 186, 'richard': 1248, 'na': 172, 'watching': 154, 'ps-brokeback': 1249, 'deal': 563, '*': 321, 'bridget': 1251, 'realized': 1252, 'emily': 1837, 'showing': 711, 'walk': 1254, 'dinner': 1255, 'likes': 242, 'angel': 1256, 'success': 1257, 'year': 424, 'douche': 712, 'from': 121, 'holding': 1259, 'teevee': 1724, 'lately': 1260, 'third': 713, 'unauthorized': 1262, 'reasons': 1263, 'finale': 1264, 'word': 714, '.-i': 1266, 'standpoint': 1217, 'â': 564, 'jokes..': 244, '*..': 1268, 'up': 78, 'majorly': 507, 'texts-fantasy': 1269, 'tragic': 716, 'mph': 1270, 'allegedly': 1271, 'note': 1272, 'given': 565, 'holy': 1273, 'indoctrinate': 1274, 'hogwash': 1275, 'iii': 308, '=': 148, 'of': 37, 'try': 392, 'figured': 1277, 'vs': 1278, 'ripper': 1279, 'my': 34, 'vs.': 1281, 'against': 717, 'brother': 1282, 'boring': 151, 'touching': 1284, 'bye..': 305, 'erm': 585, 'food': 566, 'ï¿½': 586, 'say': 319, 'picard': 719, 'sequels': 1939, 'series': 81, 'absolute': 1287, 'soundtrack': 1288, 'hugged': 2205, 'honestly': 1290, 'zen': 245, 'impossible-tom': 1291, 'luck': 455, 'la': 720, 'tournament..': 1292, 'melbourne': 1293, '-yes': 1294, 'little': 400, 'able': 721, 'â€': 666, 'afterwards': 1296, 'scientology': 2326, 'quirky': 1297, 'guys..': 1298, 'calls': 1299, '3333': 2167, 'disney': 812, 'pretending': 1300, 'joe': 1301, 'sister': 1026, 'cried': 618, 'novels': 1304, 'horridly': 2279, 'bolsters': 1305, 'heartbraking': 1690, 'eragon': 568, 'truly': 1307, 'mainstream': 803, 'devil': 2096, 'reply': 762, 'backdrop': 1310, 'health': 1788, 'slap': 246, 'deals': 1312, 'decides': 1313, 'explains': 1945, 'mountain-hard': 1314, 'afterschool': 1315, 'wranglers': 1316, 'muahahaahahah': 1318, 'twilight': 1732, 'proud': 725, 'meeting': 726, 'day': 425, 'three': 371, 'made': 344, 'ashamed': 1320, 'kat-tun': 1321, '8': 1322, 'tonite..-da': 1324, 'hate': 30, 'today..': 1325, 'sucky': 1326, 'did': 312, \"called'harry\": 1327, 'barnyard': 1328, 'says': 173, 'nicely': 1329, 'vacation': 1330, 'over': 358, 'effort': 1331, 'diversity': 1332, 'book': 100, 'haha': 1335, 'head': 213, 'excited': 1336, 'possum': 1338, 'anatomy': 1339, 'drawn': 1340, 'thirdly-the': 1341, 'so': 32, 'semester': 1639, 'hammy': 1343, 'messiah': 1344, 'still': 125, 'mother': 456, 'watched': 334, 'in': 83, '3..': 495, 'spanish': 1346, 'figures': 728, 'dance': 729, 'ticket': 730, 'used': 457, 'started': 1348, 'out': 52, 'point': 855, 'harry': 7, 'fair': 1351, 'omen': 1475, 'man': 156, 'heather': 1160, 'jelly': 1353, 'walks': 1354, 'threw': 1355, 'rented': 731, 'oceanwalk': 1356, 'kill': 1247, 'explore': 2175, 'damn': 496, 'genre': 1359, 'fits': 1360, \"book'da\": 1361, 'keep': 1891, 'allegory': 1363, 'carefully': 732, 'frodo': 1364, 'inspired': 1365, 'special': 947, 'bored': 2160, 'didnt': 733, 'money': 458, 'wins': 1367, 'does': 145, 'shame': 1368, 'sit': 251, 'there': 82, 'whole': 535, \"code'it\": 1980, 'th': 1370, 'gon': 225, 'hated': 309, 'personaly': 1096, 'btw..': 1373, 'thriller': 1374, 'back': 426, 'town': 1375, 'more..': 1376, 'mountain-beautiful': 1377, 'sakes': 1378, 'delicious': 1379, 'lower': 1380, 'ang': 734, 'drove': 1369, 'whiny': 1383, 'clubbin': 1384, 'kicking': 1385, 'evil': 314, 'times': 412, 'tech': 1388, 'useless': 1389, 'bro': 1390, 'hedge': 570, 'issues': 816, 'overlooking': 1391, 'dumbest': 1392, 'versa': 1393, 'gathered': 1394, 'college': 571, 'lamest': 2102, 'cousins': 2090, 'generally': 737, 'fault': 875, 'period': 2092, 'date': 1864, 'spontaneously': 2207, 'featured': 1323, 'pirated': 1397, 'waited': 1398, 'between': 572, 'husband': 2041, 'causing': 2179, 'might': 427, '1-brokeback': 1400, '10pm': 1948, 'empty': 740, 'reader': 2180, 'settin': 1401, 'sing': 741, 'gossip': 1402, 'academy': 742, 'combonation': 1403, 'basically': 1404, 'sceneries': 1405, 'ground': 1406, 'val': 2181, 'heard': 134, 'listen': 1031, 'cocktail': 859, 'depressing': 74, 'voted': 1410, 'us': 362, 'any': 573, 'million': 1411, 'apart': 1357, 'open': 1413, 'maybe': 745, 'stupidest': 988, 'murderball-immediately': 938, 'iq': 1086, 'tooo': 1082, 'five': 1417, 'immensely': 1418, 'â€\\x9d': 459, 'called': 1419, 'libre-sucked': 1420, 'enough': 747, '-': 441, 'felt': 574, 'sexy': 514, 'feeling': 749, 'fiber': 1422, 'kick-ass': 1996, 'phillip': 750, 'cleaning': 249, 'true': 575, 'hoover': 751, 'seemed': 1423, 'conversations': 1267, 'else': 401, 'tour': 1425, 'new': 359, 'realize': 1426, 'yuck': 1427, 'rocked': 1887, 'kiss': 752, 'mood': 1937, 'play': 753, 'quizzes': 754, 'we': 44, 'opened': 755, 'plastic': 975, 'shoes': 715, 'explosions': 1964, 'hill': 250, 'german..': 1433, 'cucumber': 1347, 'rolled': 2195, 'impressive': 1434, 'wish': 576, 'white': 757, 'julia': 1435, 'room': 1436, '#': 1437, 'comparsions': 1014, 'balls': 340, 'everyone': 372, 'folows': 1438, 'lazy': 1439, 'grips': 1977, 'black': 230, 'sentry': 261, 'turned': 207, 'audrey': 577, '@': 1442, 'cheapened': 1443, 'meganpenworthy': 1444, 'durno': 1445, 'hyped': 1446, 'many': 578, 'gives': 1447, 'died': 1448, 'families': 1103, 'england': 1450, 'irrespective': 1451, 'instead..': 1452, 'open-mindedness': 1453, 'shattered-spine': 1112, 'discuss': 1454, 'awesomeness': 759, 'imo': 1984, 'laura': 1455, 'stupid': 40, 'association': 1456, 'code-illustrated': 1458, 'movie..': 420, 'sucked..': 166, 'attached': 1144, 'one': 48, 'fears': 1461, 'police': 1462, 'cussler': 1463, 'showcasing': 1464, 'shittiest': 688, 'requested': 769, 'and': 5, 'war': 1467, 'snuck': 216, 'slash': 1187, 'see': 306, 'cover': 1276, 'background': 1469, 'changed': 1470, 'âµâª': 1471, 'g': 1472, 'west': 1214, 'course': 402, 'planning': 1909, 'christian': 760, 'calif.': 1334, 'paul': 1261, 'near': 1508, 'freezing': 1235, 'challenge': 761, 'mtv': 265, 'politics': 923, 'agree': 579, 'critics': 580, 'spin': 1480, 'roommate': 1280, 'mountain-watched': 1481, 'club': 497, 'apologized': 1482, 'weiners': 1483, 'yes': 498, 'favor': 763, 'code-other': 1681, '16': 1512, 'back.-jill': 1484, 'dakota': 1485, 'picky': 1486, 'libraries': 765, '0': 1487, 'now': 325, 'three-generation': 1488, 'terrible..': 1489, 'hair': 1490, 'lore': 1283, 'table': 217, 'specifically': 1056, 'casanova': 1342, 'twice': 2264, \"was'harry\": 1345, 'time': 127, 'shut': 1754, 'briefly': 1974, 'chance': 2034, 'regardless..': 1493, 'lynne': 1494, 'mckellen': 1513, 'lame': 581, 'd': 1382, 'usually': 1496, 'transamerica': 1497, 'theatan': 1498, 'virgin': 255, 'hp': 718, 'ran': 768, 'gun': 582, \"said'harry\": 1500, 'dan': 583, 'cake': 1501, 'expected': 748, 'imagine': 1502, 'childishly': 1999, 'arguments': 1503, 'general': 2266, 'cinema': 1504, 'me': 67, 'around..': 1926, 'reading': 79, 'villains': 1505, 'actually': 341, 'get': 326, 'blog': 1506, 'stuff': 584, 'cowboy': 212, 'ta': 499, 'fucking': 85, 'c.': 1333, 'code-that': 1962, 'stars': 256, '~..': 1507, 'lot': 324, 'tan': 1509, 'primary': 1510, \"'yeah\": 257, 'woo': 509, 'adult': 764, 'immortal': 1710, 'won': 454, 'knights': 1495, 'absolutely': 122, 'anus': 1514, 'power': 1515, 'color': 905, 'week..-da': 1516, 'seeing': 428, 'packs': 1517, 'local': 1518, 'make': 179, 'ignore': 1520, 'radio': 1061, 'microsoft': 1523, 'sucked..-love': 1524, 'writers': 1525, 'rv': 1526, 'action': 373, 'media': 1527, 'outnumbered': 1528, 'days': 500, 'homophobes': 1529, 'erin': 1530, 'howard': 1531, 'soon': 770, 'culture': 462, 'hollywood': 519, 'fact': 429, 'park': 1532, 'thank': 587, 'fun..-the': 1533, 'shop': 1534, 'aaron': 772, 'street': 1116, '-sucked': 1317, 'â£': 1536, 'insane': 1537, 'wacked': 1522, 'hours': 1538, 'stites': 1539, 'sounds': 774, 'leder': 1540, 'snowing': 1541, 'gladly': 1858, 'hoot': 258, 'kick': 588, 'theres': 1543, 'impossible..': 823, 'plus': 1544, 'question': 776, 'at': 110, '-and': 796, 'doors': 2210, 'wicked': 1547, 'looking': 589, 'fireworks': 777, 'tired': 778, 'those..': 1548, '!': 6, \"of'brokeback\": 1549, 'asking': 779, 'scent': 1550, 'mob': 1551, 'part': 501, 'wide': 1552, 'nearly': 502, 'gasp': 1553, 'hour': 1554, 'avatar': 1555, 'low': 1556, 'rid': 1558, 'less': 814, 'decline': 1562, 'offence': 1763, 'sarcastic': 1564, 'care': 193, 'cowboys': 430, 'facebook': 1196, 'larry': 2224, 'update': 605, 'nature': 1566, 'presented': 1567, 'beautiful..': 780, 'passion': 591, 'forever': 1557, 'changes': 1569, 'huge': 1570, 'serious': 259, 'convo': 1764, 'due': 781, 'by': 115, 'cant': 1572, '_': 592, 'boycotting': 1573, 'facile': 1835, 'differently': 260, 'lord': 461, 'hippie': 1831, 'predictable': 1575, 'heteronormativity': 1577, 'travel': 2214, 'strangely': 782, 'achieved': 1579, 'emma': 839, 'christ': 1581, 'beautiful': 102, 'b': 194, 'better': 144, 'trip': 1583, 'illegally': 1584, 'middle': 1585, 'look': 1586, 'bout': 1069, 'heavy': 1366, 'disliked': 636, 'gavin': 1594, 'etc': 1766, 'dash': 263, \"'s\": 27, 'festivities': 1589, 'joan': 1590, 'events': 885, 'weird': 1914, '.-mission': 1591, 'midnight': 1592, 'bikes': 1311, 'geisha': 1595, 'cast': 1596, 'friend..-indian': 1597, 'do': 107, 'few': 464, 'okay': 433, 'dragged': 264, 'frog': 1599, 'gay-scientologist-mission': 2070, 'matters': 1600, \"ain't..\": 1603, 've': 2217, 'this': 66, 'john': 503, 'glad': 403, 'eyes': 1605, 'ron': 880, 'mean': 404, 'worst': 1607, 'kaka..': 1608, 'laid': 898, 'manga': 1609, 'whatever': 785, 'hates': 195, 'demons': 434, 'story-i': 1897, 'coherent': 1610, 'scenario': 2108, 'miss': 366, 'marisa': 1612, 'if': 73, 'speaker': 1614, 'weekend': 756, 'aka': 786, 'food..': 1616, 'heath': 787, 'nacho': 1617, 'closet': 1295, 'horrible..': 222, '.-wish': 1620, 'ideas': 1621, 'online': 2012, 'interview': 1622, 'vic': 971, 'fyi-mission': 2220, 'row': 1623, 'expo': 1624, '6th': 594, 'sold': 1625, 'finally': 504, 'especially': 599, 'story': 89, '31st': 1628, 'awkward': 1629, 'figure': 1992, 'ass..': 505, 'reservations': 1630, 'letter': 1631, 'grow': 1633, 'jamaica': 1634, 'catcher': 266, 'men': 2163, 'guys': 788, 'let': 595, 'him': 178, 'zach': 1635, 'well': 128, 'full': 789, 'awesome': 21, 'knew': 790, 'big-time': 1929, 'laughed': 267, 'supporting': 1638, 'different': 517, 'either': 187, 'wo': 791, 'sorry': 597, 'horses': 1627, 'too..': 506, 'magical': 1641, 'keys': 240, 'thousand': 964, 'wept': 2027, 'egg': 932, 'award': 1643, 'working': 794, 'symantec': 1521, 'things': 143, 'yesterday': 937, 'w': 1644, 'da': 9, 'ballz': 1646, '.-sean': 1647, 'highly': 1648, 'potterholic..': 2303, ';': 567, 'version': 1650, 'ya': 944, 'generalized': 1651, 'anime': 1776, 'despised': 269, 'gays': 1654, 'pleased': 1655, 'afraid': 1656, 'visually': 1658, 'haunted': 1659, 'christmas': 795, 'stone.-chamber': 1289, 'lousy': 920, 'editor': 1661, 'bullshit': 600, 'hung': 302, 'historical': 1663, 'profound': 270, 'kirsten': 271, 'break': 1664, 'geek': 797, '~': 798, 'boyy': 1665, '-ike..': 2030, 'scifi': 1666, 'worse': 1667, '2007': 1668, 'nice': 799, 'beat': 805, 'death': 601, 'also': 104, 'gym': 1671, 'portuguese': 989, 'none': 602, 'lynn': 1673, 'race': 1674, 'believe': 1675, '007..': 1001, 'axes': 1676, 'x-men': 418, 'hey': 405, 'in-depth': 1008, 'idiot': 1680, 'would': 77, 'everything': 887, 'napoleon': 1677, 'unpredictable': 1682, 'dream': 801, 'pale': 1683, 'min': 2161, 'rosie': 1685, 'very': 331, 'otters': 1686, 'dad': 203, 'god': 437, 'possible': 1054, 'industry': 889, 'waaaaaaaaaaaaaaaaaaaaaaaaaaaaaaaaaaaaaaaaaaaaaaaaaaaaaaaaaaaaa': 1687, 'retarded': 1059, 'drain': 1688, 'lotr': 1689, 'livejournal': 2125, 'mountain..': 349, 'prime..': 1691, 'thick': 1692, 'increasing': 1693, \"hated'the\": 1694, 'beyond': 1695, \"watched'10\": 1696, 'yeah-i': 1697, 'appeal': 1588, 'azkaban.-goblet': 1698, 'â€™': 163, 'ridiculous': 1699, 'girls': 804, 'basic': 1782, 'station': 272, 'anax': 2228, 'wait': 157, 'goes': 2143, 'like': 22, '=..': 1395, 'theater': 465, 'vintage': 1137, 'sad': 350, 'dumbass': 1982, 'ap': 1703, 'idea': 510, 'ball': 1156, 'tye': 273, 'minutes': 604, 'film': 136, 'supportive': 1168, 'images': 1706, 'learn': 1707, 'ending': 806, 'including': 1708, 'happen': 1709, 'movies': 39, 'image': 1091, 'positions': 1188, 'classes': 511, 'subtitles': 1712, 'rice': 1713, 'clearly': 1714, 'crystal': 1715, 'search': 1716, 'condeming': 1752, 'god-awful': 561, 'freakin': 192, 'already': 345, 'all': 310, \"freagin'love\": 1719, 'code': 11, 'sum': 1720, 'madre': 1721, 'i': 1, 'jame': 1466, 'once': 512, 'stinks': 643, 'own': 513, 'understand': 809, 'why': 80, 'completely': 1387, 'balls..-poseidon': 1725, 'sometimes': 810, 'creature': 1726, 'too': 105, 'wonderful': 2182, 'ah': 1727, 'bonkers': 275, 'place..-broke': 1728, 'cheap': 1729, 'aching': 268, 'review': 196, 'consider': 1730, 'pic': 1731, 'long': 435, 'eat': 1319, 'claiming': 1733, \"'d\": 360, 'crazy': 218, 'dim': 2234, 'page': 813, 'person': 167, 'blashpemies': 1734, 'phase': 1735, 'colfer': 2235, 'sue-ism': 1736, 'blasphying': 1737, 'past': 219, 'books-not': 1738, 'blonds': 276, 'normal': 815, 'sivullinen': 735, 'bringing': 1598, 'drawing..': 1739, 'clarksville': 2010, 'brokeback': 10, 'adore': 1740, 'thought': 117, 'throat': 237, 'theme': 374, 'crappy': 436, 'talkin': 1741, 'first': 114, 'characterization': 2236, 'professors': 1743, 'harder': 1744, 'bound': 1745, 'author': 817, 'seems': 1746, 'arenas': 1747, 'short': 590, 'hilarious': 1748, 'small': 1749, 'unable': 1750, 'march': 1751, 'draw': 818, 'suck': 51, 'film..': 1565, 'hogwarts': 819, 'schools': 1753, 'draco': 253, 'friend': 820, 'hermione': 1755, 'hold': 821, 'amazes': 1756, 'friday': 168, 'shell': 1757, 'joke': 822, 'again': 158, 'can': 112, 'should': 382, 'community': 197, 'scared': 1759, 'homophobic': 1760, 'second': 352, '2nd': 1761, 'inaccurate': 463, \"'m\": 311, 'surprisingly': 1762, 'think': 70, 'clean': 1563, 'take': 180, 'christopher': 1033, 'desperately': 277, 'playing': 606, 'opinion': 174, 'me..': 1765, 'always': 169, 'both': 155, 'malfoy': 262, 'later': 1568, \"'re\": 164, 'guts': 1601, 'the': 4, '<': 336, 'eating': 825, 'children': 515, 'wiccans': 1768, 'reopened': 1769, 'vito-being-gay': 1770, 'intense': 1771, 'oceans': 1772, 'shit': 375, 'concocted': 1773, 'racism': 607, 'blame': 826, 'saw': 113, 'dogtown': 1775, 'basket': 1652, 'lucky': 1777, 'win': 608, 'cobequid': 1778, 'futile': 1779, 'anyhow': 1780, 'random': 1994, 'must': 466, 'frakking': 1408, 'benefit': 1684, 'boring..': 802, 'nifty': 1956, 'case': 609, 'live': 603, 'mouth': 593, 'without': 1783, 'canceled': 1784, 'aimee': 1785, '10': 851, 'x3-good': 1781, 'dvds': 1109, 'pirates': 1789, 'ennis': 2014, 'sure': 406, 'iron': 1790, 'told': 432, 'colony': 1792, 'favourite': 828, 'generated': 1794, 'stories': 467, 'enjoying': 1795, \"'..\": 278, 'score-brokeback': 1796, 'captain': 829, 'fuck': 516, 'what': 137, 'narnia': 830, 'davinci': 1801, 'leah': 279, 'dungeons': 1797, 'vinci': 8, 'margaritas': 1798, 'then': 111, 'young': 1799, 'blanks': 1800, 'been': 364, 'gl': 1802, 'couple': 807, 'attractive': 1905, 'people': 75, 'shipping': 1793, 'when': 131, 'legacy': 1805, 'royally': 831, 'knight': 1807, 'hooker': 1808, 'hanks': 832, 'overall': 833, 'talking': 407, 'books': 318, 'liked': 123, 'along': 611, 'thanks': 1809, 'chronicles': 1810, 'fan': 438, 'kenley': 1890, 'possibly': 1811, 'answers': 1812, 'overslept': 1813, 'screens': 1814, 'simon': 1432, 'took': 850, \"sucks'i\": 1817, 'musiclove..': 1818, 'aniwae': 2287, 'icons': 1819, 'haircut': 1820, 'romantic': 1821, 'party': 834, 'crash': 376, 'gettting': 1804, 'offensive': 1430, 'entire': 1822, 'ur': 1823, 'omg': 518, 'asks': 1824, 'collection': 1459, 'facing': 1827, 'created': 1828, 'latter': 1918, 'close': 1829, 'shes': 1830, 'pudding': 1457, 'judgement': 1832, 'nasy': 1833, 'exquisite': 893, 'cock': 175, 'craze': 835, 'vice': 1834, 'comments': 1836, 'beans': 884, 'picture': 439, 'biggie': 1838, 'jane': 280, 'bet': 2000, 'sent': 1839, 'definitely': 836, 'body': 837, 'memoirs': 1840, 'congrats': 1841, 'fix': 1842, 'occasional': 2248, 'targeted': 1636, 'warns': 1844, 'screening': 1845, 'task': 2229, 'balls..-hooray': 1846, 'attraction': 1847, 'dart': 1580, 'has': 348, 'didnã¢': 2040, '30': 1849, 'will': 328, 'staying': 1850, 'a': 17, 'spite': 1851, 'ony': 2304, 'seem': 1852, 'yea': 840, 'awards': 220, 'totally': 408, 'equally': 841, 'off': 361, 'coz': 281, 'tonight': 468, 'article': 907, 'directed': 2007, 'literature': 1854, 'related': 842, 'sick': 469, 'main': 198, '-it': 2250, 'ca': 149, 'master': 1856, 'wow': 1582, 'scar': 843, 'pressing': 1441, 'rock-hard': 282, 'clips': 1412, 'campaign': 1826, 'code..': 393, 'atrocious': 1860, 'nothin': 1678, 'forget': 1862, 'heresies': 2262, 'starred': 1574, 'want': 59, 'feel': 413, 'getting': 844, 'days..': 1865, 'predictability': 1866, 'thats': 199, 'had': 323, 'better..-we': 560, 'tv': 846, 'who': 55, 'freak': 2219, 'hello': 1815, 'kelsey': 1868, 'lee': 1869, 'ago': 848, 'latin': 1870, 'equal': 908, 'lilo': 1872, 'scene': 849, 'poorly': 1873, 'saying': 440, ',': 2, 'onto': 1816, 'suing': 1806, 'complex': 1875, 'rode': 1876, \"n't\": 65, 'came': 612, 'credit': 1877, 'living': 1878, 'intrigued': 1879, 'france': 2277, 'song..': 1881, 'idk': 852, 'abrams': 1882, 're-reading': 853, 'dressed': 2298, 'reaction': 961, 'asleep': 784, 'incredibly': 520, '[': 377, '33..': 1886, 'fabricated': 1428, 'no': 342, 'house': 854, 'easy': 1889, 'bobbypin': 298, 'major': 521, 'writer': 997, 'dating': 2173, 'mostly': 1560, 'may': 353, 'character': 200, 'vigor': 252, '(': 98, 'jay': 1349, 'monchel': 1893, 'haunt': 736, 'fuckers': 1027, 'van': 1896, 'al': 1030, 'end': 470, 'definately': 856, 'half-blood': 857, 'ones': 858, 'dvd': 1899, \"mountain'is\": 1900, 'moralistic': 1653, 'code-themed': 1903, 'interest': 1904, 'dislike': 705, 'alright': 2226, 'makes': 860, 'cloak': 1906, 'hugh': 1907, 'student': 861, 'watch': 138, 'knowing': 1908, 't': 545, 'thinking': 409, 'edition': 1910, 'lil': 1115, 'sky': 862, 'worthless': 569, 'reviews': 1912, 'â€œ': 614, 'hairy': 1913, 'obviously-is': 1927, '2..': 1352, 'feast': 1915, 'until': 471, 'clickfive': 1916, 'phoenix': 1917, 'altogether': 1230, 'game': 1919, 'more': 118, 'partyin': 1421, 'jail': 1920, 'confess': 2259, 'pop-culture': 1921, 'degraw': 1922, 'mybutthole': 1923, 'joiners': 1924, 'saturday': 863, 'franchise': 864, 'mountain-this': 1199, 'dont': 555, 'than': 343, 'whos': 1204, 'equus': 1928, 'hella': 283, 'corrupting': 1930, 'n': 866, 'optimus': 1221, 'p.': 1932, 'blogbacklinksnippet': 1933, 'kid': 867, 'â€“': 868, 'lapse': 1934, 'chick': 1127, 'costume': 869, 'giving': 1935, 'garrett': 1848, 'example': 615, 'seen..': 214, 'dork': 1786, 'anyone': 176, 'longer': 1938, 'you': 41, 'world': 410, 'jake': 616, 'mirror': 773, 'dramatic': 1940, 'gay': 152, 'rickards': 1941, 'straight': 2265, 'songs': 1942, 'riding': 1943, 'acting': 871, 'tragically': 1308, 'supposed': 1966, 'favorite': 724, 'today': 2042, 'nothing': 617, 'project': 1946, 'seymore': 1947, 'watson': 872, 'bangs': 873, 'others': 1949, 'cruise': 329, 'gayness': 874, 'oreos': 1950, 'potter': 13, 'happened': 1951, 'comes': 523, 'bless': 1952, 'anne': 1953, 'melandry': 1954, 'portugal': 1337, 'mi3': 738, 'outside': 1803, 'dorks': 1957, 'light': 1958, 'unfortunately': 1642, 'simple': 1960, '$': 524, 'dumb': 876, 'rare': 1961, 'most': 119, 'disappointing': 1429, 'thoughts': 1963, 'bbm': 1723, 'type': 215, 'with': 46, 'amãƒ': 1965, 'suck..': 619, 'frenzied': 1132, 'knows': 188, '286': 2048, 'idiots': 1967, \"him'i\": 1968, 'smoked': 1303, 'georgia': 525, 'magic': 1970, 'popular': 877, 'wholesome': 1971, 'burnt': 1972, 'google': 1038, 'nor': 878, 'kelse': 1626, 'esther': 1492, 'copy': 879, 'pc': 1975, 'sports': 1606, 'theological': 1135, 'dynamite': 1976, 'adorable': 881, 'instead': 771, 'crafted': 1978, 'rocks': 181, 'seymour': 1979, 'tautou': 620, 'personally': 472, 'prize': 1499, 'firstly': 1981, 'religion': 882, '7': 883, 'sam': 1571, 'rocks..': 1983, 'measure': 2086, 'belong': 2118, 'invisible': 1234, 'for': 63, 'television': 1985, 'life': 390, '3': 53, 'four': 1986, 'show': 473, 'fill': 1987, 'danielle': 1988, 'eh': 1989, 'forgot': 1990, 'spectacularly': 1991, 'his': 76, 'eyre': 284, 'right': 62, 'officially': 474, 'ossana-the': 1477, 'whistles': 886, 'burbank': 1649, 'material': 285, 'lame..': 1995, 'believably': 1474, 'hahahaha': 1997, 'spoke': 1998, 'forgotten': 888, 'xd': 1371, 'comment': 621, 'impossible': 20, 'mi': 1285, '..-have': 1973, 'storytimes': 2001, 'movie': 25, 'accompaniment': 891, 'selfish': 2002, 'daddy': 1372, 'decaying': 2004, 'orig': 2005, 'â€¦..': 2006, 'reminded': 274, 'joining': 301, 'panties': 2009, 'going': 135, 'plays': 2011, 'superman': 1611, 'shout': 2013, 'anyway': 182, 'awful': 346, 'putting': 792, 'purchase': 1613, 'explain': 1143, 'rather': 622, 'wants': 2015, 'acoustic': 2016, 'inappropriate': 2313, 'needs': 221, 'went': 108, 'grey': 1843, 'russotti': 2018, 'besides': 623, 'defensive': 2054, 'doing': 475, 'keeps': 2019, 'rachel': 1602, 'huh': 2021, 'skin': 2022, 'hahash': 2193, 'runaway': 2024, 'unbelievably': 892, 'perfect': 2025, 'acne': 286, 'lin': 2026, 'goblet': 624, 'could': 378, 'mindless': 1722, 'effects': 2028, ']': 379, 'finals': 1787, 'unfortunate': 2029, 'track': 1542, 'chronological': 2031, 'mentioned': 894, 'hating': 895, 'calling': 2033, 'down': 42, ')': 307, 'bitch': 223, 'hoffman': 896, 'overexagerated': 2035, 'barry': 2036, 'v': 1615, 'know': 50, 'folk': 1381, 'dumb..': 2037, 'letting': 287, 'budget': 2038, 'nans': 2039, 'hookup': 2075, 'aside': 1258, 'lol..': 2020, 'not': 71, 'dogfucking': 2043, 'english-speaking': 2044, 'rent': 625, 'jessica': 2046, 'wussies': 2047, 'before': 380, '.-sorcerer': 1670, 'making': 159, 'insurance': 1791, 'relic': 2050, 'man..': 2051, 'messy': 2052, 'tc': 897, 'land': 2053, 'feathers': 1491, 'pictures': 800, 'amazing': 339, 'worth': 189, '^': 2055, 'halls': 2056, 'next': 626, 'total': 2057, 'conquering': 899, 'potter..': 49, \"'\": 411, 'boycotted': 2003, 'while': 394, 'dedicated': 2059, 'backward': 2023, 'fandom': 442, 'queens..': 2060, 'lake': 2061, 'books..': 627, 'chessboard': 1286, 'because': 28, 'boycott': 2062, 'form': 2063, 'ended': 2017, 'gift': 628, 'ever': 139, 'therefor': 1576, 'films': 526, 'groaning': 288, 'code-sucked': 901, 'homosexuality': 289, 'oversimplifying': 2066, 'fr': 2067, 'you..': 2068, 'inherently': 2069, 'outshines': 290, 'future': 902, 'chris': 903, 's.': 1306, 'place': 201, 'were': 140, 'banning': 2071, 'obnoxious': 824, 'except': 630, 'patirot': 2072, 'setting': 2073, 'cool..': 2074, 'j.': 910, 'nd': 2076, 'stand': 224, 'wotshisface': 292, 'scenes': 1182, 'done': 2078, 'bitter': 2079, 'wan': 527, 'shields': 2080, 'bday': 2171, 'flat': 2081, 'quip': 2082, 'never': 160, 'doubt': 2221, 'though': 315, 'study': 2083, 'postponed': 2292, 'goth': 906, 'change': 2084, 'lives': 2085, 'real': 381, 'hard': 610, 'happy': 681, 'shows': 631, 'south': 2088, 'gayer': 2089, 'here': 95, 'actor': 827, 'shadeslayer': 2091, 'clive': 1561, 'dearly': 1902, 'hanging': 1618, 'lama': 2093, 'jokes': 2094, 'during': 632, 'sale': 2095, 'well-executed': 1587, 'updated': 2097, 'christmas..': 2098, 'halloween': 629, 'picturesque': 2099, 'angle': 2100, 'tom': 116, '-..': 2101, 'kelsie': 300, 'lot..': 2103, 'week': 528, 'pup-tent': 2104, 'adversity': 2105, 'kate': 291, 'yuh': 1888, 'signs': 2107, 'hahaha': 2008, 'plausible': 1717, 'beach': 2296, 'song': 529, 'donkey': 647, 'talk': 383, 'protests': 2110, 'becuase': 2111, 'jesus': 530, 'written': 909, 'takes': 649, 'sixth': 2113, 'account': 2114, 'um': 2115, 'old': 911, 'last': 146, 'two': 354, 'being': 90, 'tons': 2116, 'crusade': 2117, 'weeeellllllll': 1020, 'rife': 1024, 'im': 476, 'team': 2120, 'seeking': 1028, 'despise': 1032, 'loved': 58, 'as': 33, 'respect': 912, 'freshman': 2237, 'ate': 1660, 'board': 485, 'camp': 2127, 'infuser': 913, 'perhaps': 904, 'chicken': 2128, 'coming': 914, 'madly': 2129, 'hype': 1078, 'fall': 915, 'stinkin': 2131, 'truly-awful': 2132, 'prediction': 2133, \"you'and\": 2134, 'rings': 477, 'questions': 2135, 'since': 355, \"love'the\": 293, 'independant': 1106, 'earrings': 1155, 'even': 317, 'suspenseful': 2137, 'â©': 917, 'characters': 2138, 'decided': 531, 'lords': 918, '?': 150, 'state': 1859, 'shade': 1130, 'marcia': 919, 'depp': 2140, 'reference': 2141, 'lesson': 2142, 'wrote': 1071, 'independent': 2109, 'deemed': 2144, 'thesis': 2145, 'fabulous': 689, 'mang': 2147, 'screenplay': 2148, 'are': 69, 'friendships': 921, 'myself': 633, 'exponentially': 2149, '50': 1178, 'radcliffe': 2151, 'turn': 922, 'wanted': 202, 'rps': 2152, 'robe': 2153, 'incredible': 2154, 'hopefully': 865, 'ootp': 2155, 'jack': 596, 'gadgets': 1212, 'mom': 190, 'public': 1969, 'suncoast': 2157, 'everytime': 2158, 'seen': 347, 'jon': 2159, 'meat': 973, 'liberal': 1246, 'mention': 924, 'ruined': 925, 'fully': 2162, 'clothed': 1479, 'after': 330, 'darkness': 1309, 'lit': 634, 'style': 1861, 'religious': 635, 'section': 2164, 'tomkat': 2165, 'faked': 2166, 'shitty': 532, 'cut': 722, 'dissapointed': 2168, 'jackson': 2169, '-we': 926, 'tennis': 1476, 'week..-have': 2170, 'gaither': 927, 'x': 928, 'insanely': 295, 'supper': 1657, 'quite': 443, 'veil': 2172, 'hooked': 1468, 'grabs': 296, 'kids': 444, 'whimpering': 247, 'bad': 395, 'agreed': 2174, 'cos': 1863, 'tho': 929, 'although': 930, 'save': 2176, 'they': 320, 'runner': 2177, 'undoubtedly': 1640, 'class': 766, 'coloured': 2311, 'games': 1399, 'posted': 1350, 'yeah': 153, 'hero': 743, 'rant': 613, 'go': 322, 'itz': 2183, 'interesting': 414, 'silly': 2184, 'just': 47, 'encourage': 1407, 'badness': 2317, 'capote': 931, 'genres': 2186, 'publicly': 2187, 'rehearsal': 1386, 'fantasy': 2188, 'much': 36, 'conversation': 2189, 'whom': 2077, 'joy': 1619, 'love': 15, 'subjects': 2190, 'great': 141, 'kicked': 2191, 'monthly': 2192, 'fell': 508, 'extent': 2194, 'simply': 744, 'derek': 2196, 'mind': 2197, 'wherever': 1867, 'funniest': 933, 'appeals': 2199, 'bachelor': 2200, 'pink': 2201, 'otp': 2202, 'give': 478, 'ignorant': 2203, 'kept': 2204, 'offense': 1253, 'add': 2206, 'glitz': 1632, 'mrs': 2208, 'tea': 775, '1': 1546, 'â€˜': 934, 'motherfuckers': 2211, 'lets': 1415, 'yip': 2212, 'novel': 479, 'hear': 480, 'its': 335, 'probable': 1578, 'on': 106, 'far': 365, 'got': 132, 'around..-the': 2215, 'stop': 637, 'sucking': 445, 'hide': 935, 'usage': 2216, 'involving': 1604, 'dick': 936, 'disappointed': 1152, 'deep': 297, 'shopping': 1944, 'found': 1645, '2': 120, 'sucked': 31, 'crash-and': 1414, 'sort': 638, 'center': 2213, 'counting': 1637, 'really': 38, 'absurd': 598, 'thursday': 1901, 'alarm': 2222, '12': 2223, 'have': 99, 'tiffani': 1265, 'kind': 481, 'final': 939, 'pull': 1416, 'parents': 2225, 'best': 338, 'book-i': 1871, 'probably': 482, 'sitting': 1478, 'ruining': 1396, 'ultimatly': 1702, 'pop': 940, 'cow': 2230, 'everybody': 808, 'director': 2232, 'ps': 2233, 'finshed': 1936, 'archive': 2198, 'bentlys': 1955, 'said': 147, 'enjoy': 384, 'diana': 1742, 'spec': 2255, 'blogbacklinktitle': 2227, 'lol': 356, 'finished': 446, 'actual': 847, 'loathe': 684, 'together': 941, 'asian': 942, 'rest': 943, 'evilpinkmunky': 2239, 'girl': 533, 'receive': 1034, 'interested': 2240, 'it..': 945, 'lee..': 2241, 'astonishingly': 2242, 'or': 56, 'correct': 2319, 'loathed': 2243, 'gn': 1874, 'hands': 640, 'some': 333, 'choice': 946, 'photography': 1113, 'worlds': 2245, 'admired': 2246, 'lost': 447, 'awesome-good': 2247, 'controversy': 838, 'anything': 415, 'decide': 1535, 'fade': 2249, 'react': 1855, '>': 396, 'heartbreaking': 2231, 'ring': 2252, 'debates..': 2318, 'johnny': 900, 'listens': 2253, 'criticizers': 1362, 'mormon': 2032, 'crap': 460, 'job': 948, 'retarted': 299, \"y'all\": 949, 'actors': 2256, 'discussing': 2257, 'tried': 950, 'trailers': 951, 'piece': 952, 'emo-mound': 2258, 'impossible-3..': 1758, 'titanic': 2260, 'sis': 2261, 'trousers': 294, 'entitled': 2263, 'rowling': 953, 'hall': 1894, 'friends': 170, 'record': 870, 'bought': 954, 'planned': 2058, 'release': 2267, 'having': 391, 'looked': 641, 'kanye': 1884, 'himself': 2269, 'rofls': 1880, '9am': 2271, 'taking': 642, 'good': 103, 'exhausted': 2272, 'left': 92, 'timings': 2273, 'azkaban': 2274, 'sometime..': 2275, 'office': 2276, 'brigid': 1088, 'only': 84, 'education': 890, 'field': 2278, 'involve': 2251, 'requiem': 2280, 'began': 2281, 'picnic': 2218, 'starting': 2282, 'revise': 2283, 'enjoyment': 2284, 'harrison': 2209, 'pretty': 313, 'â€¦': 1358, 'clit': 2285, 'josie': 2286, 'moments': 1424, 'invisibility': 2323, 'twist': 956, 'lie': 957, 'share': 1857, 'machine': 2289, 'brown': 644, 'friday-harry': 2290, 'considered': 1662, 'heart': 645, 'classic': 2291, 'mall': 1959, 'problem': 958, 'decent': 959, 'brazil': 2293, 'to': 24, 'ones..': 2294, 'involved': 2295, 'dudeee': 303, '2.5': 304, 'complaints': 1883, 'cry': 960, 'remix': 2297, 'christianity': 2299, 'enjoys': 2254, 'younger': 2324, 'important': 2301, 'baby': 2302, 'secrets.-prisoner': 1774, 'moives': 1189, 'kite': 2305, 'rereading': 2106, 'vault': 2238, 'ultimate': 962, 'desperate': 2307, 'horrible': 126, 'weekends': 2308, 'giants': 2309, 'place-there': 2327, 'unless': 2310, 'mpreg': 2178, 'surprised': 2312, 'her': 534, 'sorcerer': 2122, 'loudest': 2314, 'judging': 2315, 'pocket': 963, '\\\\': 2316, 'precious': 1519, 'jones': 1669, 'gyllenhaal': 1885, '-after': 2045, 'daniel': 204, 'reads': 1545, 'yahoo': 2320, 'recently': 965, 'enjoyed': 397, 'ew': 2321, 'through': 483, 'indicative': 2322, 'score': 966, 'soul': 660, 'marvel': 955, 'tickets': 727, 'pages': 646, '5': 2325, 'shipmates': 1898, 'creed': 1511, 'attempt': 967, '&': 385, 'formed': 968, 'et': 2328, '.': 3, 'hank': 2329})\n"
     ]
    }
   ],
   "source": [
    "# create our vocablary of most frequent words from the corpus\n",
    "counter = collections.Counter()\n",
    "fin = open(INPUT_FILE, 'r')\n",
    "maxlen = 0\n",
    "i = 0\n",
    "for line in fin:\n",
    "    sent = line.strip().split(\"\\t\")[1]\n",
    "    words = [x.lower() for x in nltk.word_tokenize(sent)]\n",
    "    if len(words) > maxlen:\n",
    "        maxlen = len(words)\n",
    "    for word in words:\n",
    "        counter[word] += 1\n",
    "fin.close()\n",
    "\n",
    "# create the word indexes and the reverse indexes for the words\n",
    "word2index = collections.defaultdict(int)\n",
    "for wid, word in enumerate(counter.most_common(VOCAB_SIZE)):\n",
    "    word2index[word[0]] = wid +1\n",
    "vocab_size = len(word2index) + 1\n",
    "index2word = {v:k for k,v in word2index.items()}\n",
    "print(len(word2index))\n",
    "print(\"\")\n",
    "print(word2index)\n",
    "# print(index2word)"
   ]
  },
  {
   "cell_type": "markdown",
   "metadata": {},
   "source": [
    "### Now pad the sentences to the maxlength and create the dataset for splitting"
   ]
  },
  {
   "cell_type": "code",
   "execution_count": 11,
   "metadata": {
    "collapsed": false
   },
   "outputs": [],
   "source": [
    "xs , ys = [], []\n",
    "fin = open(INPUT_FILE, \"r\")\n",
    "\n",
    "# there are 7086 sentences in the train set , each of those sentences are tokenized and the word2vec is generated\n",
    "# for each of the token, and label is the label for the sentence\n",
    "for line in fin:\n",
    "    label, sent = line.strip().split(\"\\t\") \n",
    "    ys.append(int(label))\n",
    "    words = [x.lower() for x in nltk.word_tokenize(sent)]\n",
    "    wids = [word2index[word] for word in words]\n",
    "    xs.append(wids)\n",
    "fin.close()\n",
    "X = pad_sequences(xs, maxlen=maxlen)\n",
    "Y = np_utils.to_categorical(ys)"
   ]
  },
  {
   "cell_type": "markdown",
   "metadata": {},
   "source": [
    "### Split the X and y to train and validation set using sklearn "
   ]
  },
  {
   "cell_type": "code",
   "execution_count": 6,
   "metadata": {
    "collapsed": false
   },
   "outputs": [],
   "source": [
    "#print(maxlen) # 42 in this case\n",
    "# print(X.shape) # (7086 , 42) is the shape\n",
    "# print(Y.shape)  # (7086, 2) is the shape\n",
    "X_train, X_test, Y_train, Y_test = train_test_split(X, Y, test_size = 0.3, random_state=42)"
   ]
  },
  {
   "cell_type": "code",
   "execution_count": 10,
   "metadata": {
    "collapsed": false
   },
   "outputs": [
    {
     "name": "stdout",
     "output_type": "stream",
     "text": [
      "(4960, 42)\n",
      "(2126, 42)\n",
      "(4960, 2)\n",
      "(2126, 2)\n"
     ]
    },
    {
     "data": {
      "text/plain": [
       "array([  0,   0,   0,   0,   0,   0,   0,   0,   0,   0,   0,   0,   0,\n",
       "         0,   0,   0,   0,   0,   0,   0,   0,   0,   0,   0,   0,   0,\n",
       "         0,   0,   7,  13,  16,  21,   1, 107,  65, 193,  73, 176, 173,\n",
       "       260,   6,  91], dtype=int32)"
      ]
     },
     "execution_count": 10,
     "metadata": {},
     "output_type": "execute_result"
    }
   ],
   "source": [
    "print(X_train.shape)\n",
    "print(X_test.shape)\n",
    "print(Y_train.shape)\n",
    "print(Y_test.shape)"
   ]
  },
  {
   "cell_type": "markdown",
   "metadata": {},
   "source": [
    "### Load the word2vec model trained weights"
   ]
  },
  {
   "cell_type": "code",
   "execution_count": 28,
   "metadata": {
    "collapsed": false
   },
   "outputs": [],
   "source": [
    "#load word2vec model\n",
    "word2vec = KeyedVectors.load_word2vec_format(WORD2VEC_WEIGHTS, binary=True)\n",
    "embedding_weights = np.zeros((vocab_size, EMBEDDING_SIZE))\n",
    "for word, index in word2index.items():\n",
    "    try:\n",
    "        embedding_weights[index:] = word2vec[word]\n",
    "    except KeyError:\n",
    "        pass"
   ]
  },
  {
   "cell_type": "markdown",
   "metadata": {},
   "source": [
    "### Now define the model and compile the model and fit the model on the train data"
   ]
  },
  {
   "cell_type": "code",
   "execution_count": 29,
   "metadata": {
    "collapsed": false
   },
   "outputs": [
    {
     "data": {
      "text/plain": [
       "(2330, 300)"
      ]
     },
     "execution_count": 29,
     "metadata": {},
     "output_type": "execute_result"
    }
   ],
   "source": [
    "embedding_weights.shape"
   ]
  },
  {
   "cell_type": "code",
   "execution_count": 32,
   "metadata": {
    "collapsed": false
   },
   "outputs": [
    {
     "name": "stdout",
     "output_type": "stream",
     "text": [
      "_________________________________________________________________\n",
      "Layer (type)                 Output Shape              Param #   \n",
      "=================================================================\n",
      "embedding_3 (Embedding)      (None, 42, 300)           699000    \n",
      "_________________________________________________________________\n",
      "spatial_dropout1d_1 (Spatial (None, 42, 300)           0         \n",
      "_________________________________________________________________\n",
      "conv1d_1 (Conv1D)            (None, 40, 256)           230656    \n",
      "_________________________________________________________________\n",
      "global_max_pooling1d_1 (Glob (None, 256)               0         \n",
      "_________________________________________________________________\n",
      "dense_1 (Dense)              (None, 2)                 514       \n",
      "=================================================================\n",
      "Total params: 930,170\n",
      "Trainable params: 930,170\n",
      "Non-trainable params: 0\n",
      "_________________________________________________________________\n"
     ]
    }
   ],
   "source": [
    "model = Sequential()\n",
    "# the difference is to initialize the embedding weight matrix with pretrained weights\n",
    "model.add(Embedding(vocab_size, EMBEDDING_SIZE, input_length=maxlen, weights=[embedding_weights]))  \n",
    "model.add(SpatialDropout1D(DROPOUT_RATE))\n",
    "model.add(Conv1D(filters=NUM_FILTERS, kernel_size=NUM_WORDS, activation=\"relu\"))\n",
    "model.add(GlobalMaxPooling1D())\n",
    "model.add(Dense(2, activation=\"softmax\"))\n",
    "model.summary()"
   ]
  },
  {
   "cell_type": "code",
   "execution_count": 33,
   "metadata": {
    "collapsed": false
   },
   "outputs": [
    {
     "name": "stdout",
     "output_type": "stream",
     "text": [
      "Train on 4960 samples, validate on 2126 samples\n",
      "Epoch 1/20\n",
      "4960/4960 [==============================] - 8s - loss: 0.2680 - acc: 0.8919 - val_loss: 0.0644 - val_acc: 0.9779\n",
      "Epoch 2/20\n",
      "4960/4960 [==============================] - 8s - loss: 0.0375 - acc: 0.9869 - val_loss: 0.0346 - val_acc: 0.9845\n",
      "Epoch 3/20\n",
      "4960/4960 [==============================] - 8s - loss: 0.0152 - acc: 0.9948 - val_loss: 0.0382 - val_acc: 0.9840\n",
      "Epoch 4/20\n",
      "4960/4960 [==============================] - 8s - loss: 0.0063 - acc: 0.9978 - val_loss: 0.0329 - val_acc: 0.9887\n",
      "Epoch 5/20\n",
      "4960/4960 [==============================] - 8s - loss: 0.0032 - acc: 0.9988 - val_loss: 0.0299 - val_acc: 0.9887\n",
      "Epoch 6/20\n",
      "4960/4960 [==============================] - 8s - loss: 0.0015 - acc: 0.9998 - val_loss: 0.0299 - val_acc: 0.9878\n",
      "Epoch 7/20\n",
      "4960/4960 [==============================] - 8s - loss: 0.0017 - acc: 0.9998 - val_loss: 0.0279 - val_acc: 0.9911\n",
      "Epoch 8/20\n",
      "4960/4960 [==============================] - 9s - loss: 0.0016 - acc: 0.9996 - val_loss: 0.0332 - val_acc: 0.9897\n",
      "Epoch 9/20\n",
      "4960/4960 [==============================] - 9s - loss: 0.0016 - acc: 0.9994 - val_loss: 0.0370 - val_acc: 0.9897\n",
      "Epoch 10/20\n",
      "4960/4960 [==============================] - 9s - loss: 0.0013 - acc: 0.9998 - val_loss: 0.0327 - val_acc: 0.9892\n",
      "Epoch 11/20\n",
      "4960/4960 [==============================] - 9s - loss: 0.0010 - acc: 0.9998 - val_loss: 0.0305 - val_acc: 0.9920\n",
      "Epoch 12/20\n",
      "4960/4960 [==============================] - 8s - loss: 0.0018 - acc: 0.9998 - val_loss: 0.0328 - val_acc: 0.9887\n",
      "Epoch 13/20\n",
      "4960/4960 [==============================] - 9s - loss: 0.0024 - acc: 0.9996 - val_loss: 0.0297 - val_acc: 0.9901\n",
      "Epoch 14/20\n",
      "4960/4960 [==============================] - 9s - loss: 0.0025 - acc: 0.9996 - val_loss: 0.0309 - val_acc: 0.9892\n",
      "Epoch 15/20\n",
      "4960/4960 [==============================] - 9s - loss: 0.0019 - acc: 0.9996 - val_loss: 0.0289 - val_acc: 0.9911\n",
      "Epoch 16/20\n",
      "4960/4960 [==============================] - 9s - loss: 0.0013 - acc: 0.9998 - val_loss: 0.0419 - val_acc: 0.9901\n",
      "Epoch 17/20\n",
      "4960/4960 [==============================] - 10s - loss: 9.8186e-04 - acc: 0.9998 - val_loss: 0.0296 - val_acc: 0.9906\n",
      "Epoch 18/20\n",
      "4960/4960 [==============================] - 10s - loss: 0.0013 - acc: 0.9998 - val_loss: 0.0424 - val_acc: 0.9906\n",
      "Epoch 19/20\n",
      "4960/4960 [==============================] - 10s - loss: 0.0014 - acc: 0.9998 - val_loss: 0.0441 - val_acc: 0.9868\n",
      "Epoch 20/20\n",
      "4960/4960 [==============================] - 10s - loss: 0.0014 - acc: 0.9998 - val_loss: 0.0434 - val_acc: 0.9911\n"
     ]
    }
   ],
   "source": [
    "# have the model compile and fit on the training data\n",
    "\n",
    "model.compile(loss=\"categorical_crossentropy\", optimizer=\"adam\", metrics=[\"accuracy\"])\n",
    "history = model.fit(X_train, Y_train, batch_size=BATCH_SIZE, epochs=NUM_EPOCHS, validation_data=(X_test, Y_test))"
   ]
  },
  {
   "cell_type": "code",
   "execution_count": 35,
   "metadata": {
    "collapsed": false
   },
   "outputs": [
    {
     "data": {
      "image/png": "[encoded data removed]",
      "text/plain": [
       "<matplotlib.figure.Figure at 0x1178b4128>"
      ]
     },
     "metadata": {},
     "output_type": "display_data"
    }
   ],
   "source": [
    "#plot loss function\n",
    "\n",
    "plt.subplot(211)\n",
    "plt.title(\"Accuracy\")\n",
    "plt.plot(history.history[\"acc\"], color=\"r\", label=\"train\")\n",
    "plt.plot(history.history[\"val_acc\"], color=\"b\", label=\"validation\")\n",
    "plt.legend(loc=\"best\")\n",
    "\n",
    "plt.subplot(212)\n",
    "plt.title(\"Loss\")\n",
    "plt.plot(history.history[\"loss\"], color=\"r\", label=\"train\")\n",
    "plt.plot(history.history[\"val_loss\"], color=\"b\", label=\"validation\")\n",
    "plt.legend(loc=\"best\")\n",
    "\n",
    "plt.tight_layout()\n",
    "plt.show()"
   ]
  },
  {
   "cell_type": "code",
   "execution_count": 36,
   "metadata": {
    "collapsed": false
   },
   "outputs": [
    {
     "name": "stdout",
     "output_type": "stream",
     "text": [
      "2080/2126 [============================>.] - ETA: 0s[0.043363538133573083, 0.99106302916274691]\n"
     ]
    }
   ],
   "source": [
    "# check the accuracy and the loss on the test set\n",
    "score = model.evaluate(X_test, Y_test, verbose=1)\n",
    "print(score)"
   ]
  },
  {
   "cell_type": "code",
   "execution_count": null,
   "metadata": {
    "collapsed": true
   },
   "outputs": [],
   "source": []
  }
 ],
 "metadata": {
  "kernelspec": {
   "display_name": "Python [Root]",
   "language": "python",
   "name": "Python [Root]"
  },
  "language_info": {
   "codemirror_mode": {
    "name": "ipython",
    "version": 3
   },
   "file_extension": ".py",
   "mimetype": "text/x-python",
   "name": "python",
   "nbconvert_exporter": "python",
   "pygments_lexer": "ipython3",
   "version": "3.5.2"
  }
 },
 "nbformat": 4,
 "nbformat_minor": 0
}
