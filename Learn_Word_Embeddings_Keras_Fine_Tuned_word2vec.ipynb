{
 "cells": [
  {
   "cell_type": "markdown",
   "metadata": {},
   "source": [
    "## This notebook works on Word Embeddings using Keras (Fine tune learned embeddings)"
   ]
  },
  {
   "cell_type": "markdown",
   "metadata": {},
   "source": [
    "## This uses the Word2Vec Model"
   ]
  },
  {
   "cell_type": "markdown",
   "metadata": {},
   "source": [
    "### Import the libraries and define the arguments"
   ]
  },
  {
   "cell_type": "code",
   "execution_count": 34,
   "metadata": {
    "collapsed": false
   },
   "outputs": [],
   "source": [
    "# import the necessary libraries\n",
    "from keras.layers.core import Dense, Activation, Dropout, SpatialDropout1D \n",
    "from keras.layers.convolutional import Conv1D\n",
    "from keras.layers.embeddings import Embedding\n",
    "from keras.layers.pooling import GlobalMaxPooling1D\n",
    "from keras.models import Sequential\n",
    "from keras.utils import np_utils\n",
    "from keras.preprocessing.sequence import pad_sequences\n",
    "import keras.backend as K\n",
    "\n",
    "# adding the import from gensim implementation of word2vec\n",
    "from gensim.models import word2vec\n",
    "from gensim.models import KeyedVectors\n",
    "\n",
    "import nltk\n",
    "import collections\n",
    "import matplotlib.pyplot as plt\n",
    "import numpy as np\n",
    "\n",
    "from sklearn.model_selection import train_test_split\n",
    "%matplotlib inline\n",
    "\n",
    "np.random.seed(42)\n",
    "\n",
    "INPUT_FILE = \"/Users/tkmacl9/Desktop/FastAIDLCourse/datasets/umich_sentiment_dataset/train.txt\"\n",
    "WORD2VEC_WEIGHTS = \"/Users/tkmacl9/Desktop/FastAIDLCourse/datasets/google_news_word2vec/GoogleNews-vectors-negative300.bin\"\n",
    "VOCAB_SIZE = 5000\n",
    "EMBEDDING_SIZE = 300\n",
    "NUM_FILTERS=256\n",
    "NUM_WORDS = 3\n",
    "BATCH_SIZE = 64\n",
    "NUM_EPOCHS = 10    # reduced the number of epochs to 10 as convergence is reached on using pre-trained weights\n",
    "DROPOUT_RATE = float(0.2)"
   ]
  },
  {
   "cell_type": "markdown",
   "metadata": {},
   "source": [
    "### Learn Embeddings using Fine Tuning pre-trained weights"
   ]
  },
  {
   "cell_type": "code",
   "execution_count": 25,
   "metadata": {
    "collapsed": false
   },
   "outputs": [
    {
     "name": "stdout",
     "output_type": "stream",
     "text": [
      "2329\n",
      "\n",
      "defaultdict(<class 'int'>, {'mtv': 227, 'mountain-this': 969, 'film': 138, 'ony': 972, 'melbourne': 973, 'games': 974, 'brother': 975, 'challenge': 648, 'health': 976, '-brooke': 977, 'animated': 978, 'huge': 979, 'actual': 672, 'panties': 981, '700': 982, 'me..': 983, 'bitter': 984, 'mall': 2136, 'choice': 757, 'out': 52, 'superman': 986, 'teaches': 649, 'sing': 650, 'historical': 1950, 'haircut': 1453, 'libraries': 651, 'beautiful': 102, 'presented': 987, 'phoenix': 1924, 'yip': 988, 'emily': 989, 'wranglers': 991, 'rather': 536, 'x-men': 416, 'whos': 992, 'twist': 652, 'quip': 993, 'town': 1429, 'blows': 2147, 'heresies': 996, 'ew': 997, 'rosie': 998, 'due': 653, 'fucking': 85, 'started': 1001, 'all': 310, 'napoleon': 2253, '-sucked': 1430, '_': 537, 'x3-good': 1003, 'decomposing': 1004, 'sexual': 1005, 'coherent': 1178, 'sucked': 31, 'pegg': 1184, 'rep': 1008, 'really': 38, 'acceptable': 206, 'lost': 417, 'along': 553, 'lot..': 1010, 'vintage': 1011, 'done': 1012, 'dim': 1013, 'glitz': 1014, \"book'da\": 1016, 'feel': 398, 'bbm': 1017, 'predictability': 1432, 'cringe': 655, 'witchcraft': 656, 'seems': 1018, 'fr': 1019, 'show': 448, 'she': 87, 'much..': 418, 'incredible': 1020, 'jon': 1021, 'everyone': 367, \"'re\": 161, 'nanny': 1370, 'reservations': 1023, 'next': 538, 'body': 657, 'grabs': 228, 'last': 145, 'glad': 404, 'dogfucking': 1024, 'tv': 658, 'big': 134, 'around..': 1026, 'top': 539, 'pretending': 1027, 'scifi': 1028, 'one': 48, 'weiners': 1030, 'axes': 1031, 'religious': 540, 'gettting': 1861, 'generally': 659, 'dumb': 951, 'boycotted': 1361, 'wrong': 399, 'hall': 1034, 'having': 386, 'gorgeous': 541, 'officially': 449, 'felt': 571, 'allegory': 1036, '385': 2240, 'i': 1, 'philosopher': 1039, 'sent': 1040, 'various': 2115, '.': 3, 'denial': 1664, 'pic': 1233, 'invisible': 1044, 'joiners': 1045, 'won': 450, 'guts': 1046, ':': 68, 'free': 1047, 'budget': 1048, '6th': 543, 'films': 485, 'war': 1049, 'crap': 451, 'near': 1440, 'issues': 661, 'm': 544, 'article': 662, 'before': 368, 'villains': 1483, 'young': 1051, 'sometimes': 663, 'money': 452, 'world': 400, 'anyone': 171, 'hooked': 1053, 'knights': 1054, 'ur': 1769, 'fuck': 522, 'facebook': 1056, 'zen': 250, '6': 1057, '30': 1666, 'hung': 230, 'potter..': 49, 'lord': 453, 'hookup': 1059, 'deluded': 2186, 'study': 2014, 'reads': 1657, 'could': 369, 'asleep': 664, 'undoubtedly': 1442, 'btw': 665, 'harrison': 1062, 'the': 4, 'd': 1063, 'open': 1972, 'baby': 1064, 'â€“': 666, 'helped': 304, 'around..-the': 1065, 'ones': 667, 'again': 156, 'everything': 668, 'half-blood': 763, 'independant': 1067, 'didnt': 669, 'gay-scientologist-mission': 1068, 'backtory': 1069, 'avatar': 1070, 'johnny': 802, 'amazing..': 1444, 'â': 546, 'grey': 1073, 'agreed': 1074, 'gadgets': 1075, 'children': 487, 'march': 1076, 'scenes': 1077, 'its': 334, 'tiffani': 1078, 'julia': 1079, 'allegedly': 1080, 'letting': 231, 'silver': 1678, 'everybody': 670, 'wo': 815, 'talk': 370, 'folows': 1082, 'carefully': 671, 'association': 1740, '50': 1121, 'wonderful': 1085, '7th': 1086, 'parents': 1087, 'fanfiction': 547, \"freagin'love\": 1088, 'station': 233, 'unable': 1710, 'drawn': 1089, 'perhaps': 673, 'n': 674, 'badness': 1090, 'soul': 675, 'whenever': 827, 'marvel': 676, 'feast': 1617, 'them': 387, 'frenzied': 1093, 'waaaaaaaaaaaaaaaaaaaaaaaaaaaaaaaaaaaaaaaaaaaaaaaaaaaaaaaaaaaaa': 1094, 'fun': 183, 'mirror': 677, 'know': 50, 'mcphee': 1096, 'consumed': 1098, 'himself': 1099, 'lines': 1100, 'throw': 1101, 'whole': 602, 'picky': 1103, 'ï¿½': 548, 'kept': 1582, 'complex': 2261, '=..': 1104, 'friendships': 678, 'around': 184, 'interested': 1105, 'infiltrate': 1106, 'â€¦': 1108, 'am': 57, 'eoin': 1109, 'earrings': 1890, 'deep': 234, 'unfortunate': 1110, 'explosions': 1111, 'meganpenworthy': 1112, 'banning': 1113, 'tells': 1114, 'discovered': 1115, 'counting': 2278, 'fault': 852, 'lotr': 1983, 'genres': 1117, 'freaking': 420, 'dumbledor': 1315, 'definately': 680, 'machine': 1119, 'ruining': 1263, 'pink': 1120, 'changes': 1122, 'phillip': 682, 'scar': 683, 'longer': 1123, 'grown': 1124, 'pale': 1125, '\\\\': 1126, 'rocks..': 2310, 'point': 955, 'stayed': 549, 'brigid': 1128, 'through': 454, 'scarf': 1129, 'watched': 335, 'german..': 2212, 'start': 96, 'miss': 363, 'shit-i': 1130, 'place..-broke': 1131, '-..': 1496, 'race': 1133, 'books-not': 2125, 'theological': 1134, 'with': 46, 'clubbin': 1135, 'rest': 686, 'requested': 687, 'idiots': 1137, 'smoked': 1138, 'paul': 1139, 'party': 688, 'kate': 241, 'purchase': 1141, 'kanye': 1142, 'kind': 455, 'lake': 1144, 'go': 321, 'shit': 371, 'het': 690, 'correct': 1146, 'escapades': 236, 'libre-sucked': 1147, 'spoke': 1148, 'icons': 1150, 'dash': 242, 'hedge-good': 1151, 'yuh': 1152, 'truly-awful': 1153, '~..': 1154, 'open-mindedness': 1155, 'livejournal': 1739, 'optimus': 1156, 'sue-ism': 1157, 'hahahahahaha': 1158, 'insanely': 237, 'hooker': 1159, 'thanks': 1160, 'marcia': 693, 'compared': 694, 'hugh': 1161, 'too..': 520, 'u': 695, 'chessboard': 1162, 'tired': 696, 'stars': 238, 'chronological': 2274, 'every': 447, 'worthless': 551, 'hoover': 697, 'fuckers': 1163, 'land': 1164, 'erin': 1165, 'kelsey': 1166, '8': 1685, 'opened': 698, 'film..': 2130, \"'ve\": 357, 'archive': 1167, 'joy': 1168, 'bringing': 1169, 'luau': 2131, 'ideas': 1170, 'thinking': 405, 'stinkin': 1172, 'theme': 382, 'okay': 421, 'some': 332, '10.9': 1175, 'happen': 1176, 'move': 488, 'gary': 297, 'omen': 1179, 'shraddha': 1180, 'special': 701, 'seemed': 1181, 'grand': 1182, 'jesus': 489, 'entitled': 2134, 'memoirs': 1186, 'leads': 1187, 'marisa': 1188, 'looks': 388, '!': 6, 'horses': 1189, 'mind': 1902, 'fact': 444, 'jane': 240, 'culture': 466, 'dislike': 922, 'win': 552, 'panting': 243, 'guy': 93, 'though': 315, 'thoughts': 1009, 'lets': 1195, 'week': 533, 'schools': 1196, 'first': 114, 'police': 1461, 'lil': 1197, 'deals': 1198, 'days': 523, 'scent': 1200, 'away': 1201, 'actor': 703, 'two': 348, 'hugged': 1203, 'basket': 1690, 'crappy': 446, 'eat': 1205, 'discussed': 1206, 'possibly': 1837, 'own': 490, 'measure': 1207, 'few': 457, '@': 2054, 'fireworks': 704, 'murderball-immediately': 705, 'you..': 1208, 'full': 706, 's': 185, 'cos': 1050, 'itself': 1052, 'causing': 1209, 'apologized': 1210, 'record': 707, 'dragons': 708, 'loathed': 2301, 'murdered': 1212, 'conclusion': 554, 'book-i': 1214, 'sky': 709, 'collection': 1215, 'emma': 710, 'score-brokeback': 1216, 'mountain-watched': 1217, 'disappointing': 1218, 'soooooooo': 1219, 'formed': 711, 'little': 401, 'achieved': 1220, 'geek': 684, 'hanging': 1221, 'ossana-the': 1222, 'public': 1223, 'â€˜': 689, 'created': 1224, 'staying': 1225, 'dementors': 700, '31st': 1226, 'jack': 550, 'wiccans': 1227, 'popular': 712, 'protests': 1228, 'where': 186, 'independent': 1229, 'explore': 2144, 'selfish': 1231, 'doubt': 1232, 'apart': 1234, 'teevee': 1235, \"n't\": 65, '*': 322, 'characters': 1211, 'up': 78, 'food..': 1237, 'eek': 1695, 'ripping': 2135, 'darkness': 1239, 'questions': 1702, 'crazy': 208, 'quaintly': 1467, 'lin': 1564, 'geisha': 1241, 'soo': 209, 'crash': 372, 'mountain-which': 1242, 'vacation': 1243, 't': 545, 'screenplay': 1245, 'planned': 1116, 'heartbraking': 1246, 'today..': 1247, 'ive': 713, 'name': 714, 'fan': 422, 'dragged': 245, 'performance': 1758, 'iron': 1092, '007..': 1249, 'awesome-good': 2276, 'balls': 340, 'kelsie': 246, 'walks': 1250, 'in': 83, 'calls': 1698, 'blogbacklinktitle': 2176, 'um': 1469, 'clit': 1253, 'altogether': 1254, ']': 373, 'liberal': 1794, 'considered': 1256, 'same': 162, 'gayer': 1257, 'question': 716, 'super': 717, 'reaction': 718, 'review': 191, 'thick': 1259, 'reminded': 247, 'partyin': 1472, 'spanish': 1260, 'shame': 2180, ';': 555, 'screens': 1244, 'fully': 1262, 'heath': 719, 'looking': 595, 'and': 5, 'dies': 205, 'task': 1266, '3..': 491, 'transamerica': 1267, 'brilliant': 933, 'disruption': 1269, 'hand..': 1270, 'score': 720, 'bit': 429, 'lol..': 1271, 'rant': 557, 'loved': 58, 'enjoy': 374, 'ya': 722, 'suicides': 248, 'definitely': 723, 'corrupting': 1272, 'lit': 558, 'ah': 1458, 'juicy': 1273, 'â€œ': 559, 'mindless': 1274, '>': 390, 'take': 178, '``': 35, 'bad': 391, 'totally': 402, '3': 53, 'or': 54, 'yes': 492, 'exception': 1277, \"watched'10\": 1518, 'talkin': 1278, 'story-i': 1279, 'feeling': 727, 'you': 41, 'featured': 1281, 'truth': 1282, 'attraction': 1415, 'vs': 1283, 'skin': 1284, '&': 375, 'al': 1285, 'deserved': 839, 'cowan': 1965, 'knew': 728, 'quick': 1560, 'discussing': 2157, 'haunt': 729, 'person': 165, 'love': 15, 'discuss': 1478, 'reason': 1287, '-yes': 1288, 'picard': 715, 'told': 423, 'illegally': 1289, 'moives': 1290, 'cuz': 561, 'monthly': 1292, 'p.': 1293, 'basic': 1294, 'mouth': 562, 'eyes': 1295, 'remix': 1296, 'excellent': 166, 'planning': 1297, 'fortress..': 1298, 'left': 92, 'therefor': 1299, 'bound': 1300, 'whereas': 2100, 'bayers': 1301, 'viewings': 1302, 'cloak': 2074, 'probable': 1303, 'laughed': 300, 'clips': 2154, 'these': 163, 'movie..': 424, 'phase': 1305, 'lords': 730, 'criticized': 2320, 'comes': 494, 'hill-form': 1307, 'congrats': 1308, 'raises': 2160, 'exaggeration': 2143, 'played': 495, 'jail': 1311, 'community': 193, 'trece': 1708, 'backdrop': 1313, '*..': 1314, 'until': 459, 'mission': 19, 'anime': 1316, 'amazingly': 1928, 'pc': 2162, 'react': 1038, 'wondering': 563, 'thursday': 1320, 'song': 496, 'evilpinkmunky': 1143, 'draw': 731, 'new': 358, 'folk': 1323, 'lame': 564, 'christopher': 1487, 'poorly': 1325, 'between': 607, 'mary': 1327, 'job': 732, 'hear': 472, '..-have': 1328, 'clarksville': 1329, 'probably': 460, 'unpredictable': 1330, 'futile': 1331, 'dad': 194, 'pastings': 1332, 'prediction': 1276, 'cut': 750, 'talks': 1335, 'consider': 1337, 'picturesque': 1338, 'stop': 565, 'us': 359, 'reopened': 1202, 'grips': 2299, 'settin': 1341, 'tonight': 461, 'homosexuality': 270, 'sawyer': 1343, 'dissapointed': 1344, 'hoot': 251, 'atrocious': 1345, 'sucking': 426, 'funner': 1346, 'barry': 2172, 'rickards': 1347, 'about': 101, 'rps': 1348, 'supportive': 1349, 'k.': 734, 'biased': 735, 'makes': 866, 'pull': 2196, 'dearly': 1351, 'home': 736, 'inspired': 1352, 'jelly': 1353, 'stories': 462, 'whiny': 1354, 'timings': 1355, 'arenas': 1356, 'tied': 1357, 'explains': 1936, 'posts': 1358, 'christmas..': 1932, 'alarm': 1359, 'both': 154, 'did': 312, 'boys': 1362, 'besides': 581, 'friend': 737, 'fell': 497, 'expo': 1363, 'cussler': 1364, 'finished': 427, 'backward': 1365, 'write': 566, 'simply': 738, 'prize': 1366, 'chick': 1367, 'important': 1989, 'creature': 1368, 'wow': 1369, 'oversimplifying': 2048, 'reference': 1674, 'watson': 786, 'wesley': 948, 'stinks': 567, 'racism': 617, 'decline': 1374, 'should': 376, 'comparrison': 1375, 'impossible-tom': 1376, 'politics': 739, 'way': 121, 'wholesome': 1377, 'enjoyed': 392, 'latin': 1500, \"'ll\": 365, 'honestly': 1869, 'debates..': 1975, 'shopping': 1380, 'prince': 740, 'middle': 1381, 'south': 1382, 'sounds': 741, 'boyy': 995, 'stites': 1383, 'forget': 1384, 'gn': 1261, 'christianity': 1385, 'forgot': 1717, 'gavin': 1387, '<': 336, 'lapse': 1388, 'bet': 1389, 'offense': 1145, 'image': 1339, 'bobbypin': 252, 'ps': 1937, 'anatomy': 1393, 'awesome': 21, 'letter': 1394, 'cried': 569, 'food': 570, 'conversation': 1686, 'mostly': 1395, 'x': 743, 'sucks': 29, 'check': 1502, 'beat': 744, 'tho': 745, 'craze': 746, 'alright': 1397, 'bachelor': 1035, 'plain': 296, 'freakin': 199, 'messiah': 1400, 'malfoy': 249, 'aimee': 1961, 'run': 748, 'musiclove..': 1402, 'azkaban.-goblet': 1723, 'talked': 1022, 'see': 306, 'office': 1404, 'online': 1405, 'picture': 428, 'lives': 1406, 'didnã¢': 1408, 'orig': 1409, 'enjoys': 1411, 'future': 749, 'gl': 1412, 'davinci': 1413, 'soooooo': 1414, 'try': 393, 'lazy': 1416, 'horridly': 1417, 'movie': 25, 'an': 64, 'want': 59, 'win..': 1419, 'cheapened': 1420, 'project': 1421, 'seymore': 1422, 'nerd': 751, 'idk': 752, 'making': 158, 'they': 320, 'otp': 1423, 'tennis': 1425, 'douche': 755, 'empty': 756, 'stand': 210, 'tomkat': 1427, 'random': 985, 'center': 1428, 'action': 377, 'bullshit': 572, 'sequels': 994, 'type': 222, 'bikes': 1291, 'big-time': 1431, 'ticket': 758, 'england': 1043, 'kenley': 1434, 'total': 1435, 'favorite': 759, 'funny': 484, 'asian': 721, 'joke': 760, 'acne': 229, 'part': 498, 'our': 430, 'weekends': 1041, 'fowl': 1437, 'howard': 1438, 'sweeping': 1439, 're-reading': 660, 'rowling': 761, 'beautiful..': 762, 'diversity': 1441, 'holding': 1061, 'bored': 1443, 'figure': 1066, 'ass..': 521, 'men': 1185, 'code-sucked': 764, 'reader': 1445, 'him': 179, 'summer': 1446, 'damn': 528, 'lately': 1448, 'america': 1449, 'reply': 765, 'find': 1450, 'casanova': 1451, 'speaker': 1452, 'joan': 2255, 'homophobic': 1029, 'die': 766, 'friends': 167, '2..': 1977, 'wif': 1456, 'lah': 767, 'titanic': 1183, 'spec': 2191, 'confess': 1459, '$': 500, 'sister': 1460, 'disappointed': 1007, 'complaints': 1462, 'decided': 525, 'get': 326, 'incredibly': 501, 'candy': 2185, 'yea': 828, 'ridiculous': 1465, 'weeeellllllll': 1492, 'five': 1730, 'gin': 244, 'fits': 1248, 'moments': 1468, 'ti': 1814, 'light': 1252, 'sceneries': 1470, 'drowining': 1471, 'retarted': 275, 'add': 1264, 'academy': 747, 'wan': 502, 'equus': 1474, 'written': 772, 'straight': 2173, 'packs': 1475, 'surprisingly': 1476, 'story': 88, 'images': 1477, 'thing': 349, 'chris': 911, 'sakes': 1480, 'forever': 1481, 'magical': 1733, 'im': 465, 'subtitles': 1466, 'dating': 1484, '10pm': 1485, 'nicely': 1486, 'demeantor': 1324, 'kick-ass': 1488, 'phenomenon': 1489, 'jones': 1490, 'involved': 1491, 'robbed': 862, 'snuck': 211, 'never': 157, '10': 681, 'heteronormativity': 1213, 'idiot': 1265, 'figured': 1498, 'profound': 256, 'shattered-spine': 1499, 'past': 207, 'vampire': 774, 'adorable': 775, 'ootp': 1501, 'mrs': 1081, 'phrase': 1321, 'voted': 1275, 'seeing': 431, 'very': 331, 'place-there': 1504, 'defensive': 1581, 'legacy': 1511, 'tiny': 1373, 'tc': 777, 'great': 141, 'clean': 1505, 'manga': 1506, 'different': 499, 'used': 467, 'right': 62, 'give': 471, 'white': 779, 'maybe': 780, 'note': 1509, '2': 118, 'hot': 781, 'yesterday': 782, 'ap': 1336, 'dynamite': 2105, 'felicia': 97, 'going': 135, 'woo': 503, 'got': 129, 'strangely': 783, 'west': 1513, 'friday': 168, 'riding': 1514, 'kelse': 1515, 'bless': 1516, 'into': 60, 'offence': 1517, 'but': 43, 'ending': 725, 'scene': 784, 'indoctrinate': 1519, 'saw': 113, 'problem': 876, 'quirky': 1520, 'closet': 2120, 'shell': 1521, 'yuck': 1522, 'save': 1309, 'conquering': 785, 'fire.-i': 1523, 'xd': 1524, 'proud': 654, 'walk': 1371, \"'d\": 360, 'once': 504, 'malaguena': 1526, 'biggie': 1959, 'crack': 1527, 'couple': 787, 'being': 90, 'drive': 788, 'gift': 577, 'overlooking': 1528, 'joining': 255, 'comprehend': 1530, 'rented': 771, 'fit': 800, 'it': 23, 'much': 36, 'wanted': 195, 'appeals': 1006, 'gasp': 1136, 'catch': 789, 'wrote': 1533, 'been': 364, 'education': 812, 'cowboys': 432, 'appeal': 1535, 'songs': 1536, 'boring': 152, 'invisibility': 1538, 'called': 1539, 'also': 104, 'eh': 1540, 'dumbass': 1541, 'hated': 309, 'pages': 579, 'specifically': 1542, 'over': 361, 'weekend': 790, 'rock-hard': 282, 'time': 127, 'mad': 1543, 'comparsions': 1544, 'posted': 1545, 'ta': 505, 'final': 791, 'comment': 580, 'weird': 1546, 'margaritas': 1547, '12': 1548, 'georgia': 506, 'turn': 923, 'if': 73, 'barnyard': 1550, 'kiss': 838, 'fill': 1552, 'catcher': 258, 'myself': 535, 'kaka..': 2199, 'motherfuckers': 1555, '...': 14, 'actors': 1745, 'abortion': 1557, 'lunch': 1558, 'three': 378, 'good..': 1559, 'weekend.-mission': 1107, 'like': 22, 'it..': 847, 'made': 344, 'hardcore': 792, 'cobequid': 1561, 'fat': 576, 'ones..': 1562, '..': 91, 'how': 72, 'man..': 1563, 'absurd': 568, 'â©': 793, 'addition': 1854, 'outta': 1566, 'sucked..': 170, 'less': 794, 'post': 1568, 'changed': 1569, 'wept': 1464, 'colfer': 2202, 'enough': 733, 'packed': 1570, 'stopped': 795, 'eye': 1571, 'ripper': 1572, 'exponentially': 1236, '.-sean': 1573, 'jenn': 1574, 'oceans': 1575, 'search': 1746, 'standpoint': 1407, 'dedicated': 1577, 'dumb..': 1953, 'goblet': 582, 'heather': 1578, 'than': 341, 'encourage': 1579, 'better': 142, 'wussies': 1002, 'excited': 1580, 'bootlegged': 1635, 'following': 1071, 'course': 414, 'seymour': 1583, 'tech': 1190, 'erm': 583, 'chicken': 1033, 'drawing..': 1586, 'week..-have': 1587, 'anything': 406, 's.': 1286, 'work': 584, 'team': 1590, 'bible': 877, 'has': 353, 'pirated': 1593, 'giving': 2237, 'faked': 1594, 'rid': 1595, 'hope': 507, 'ignore': 1597, 'ten': 585, 'loose': 1598, 'me': 67, \"you'and\": 1600, 'sis': 1601, 'slow': 1602, 'was': 18, 'actually': 342, 'song..': 1603, 'calif.': 1604, 'simmons..': 1605, 'fade': 1606, 'hour': 1607, 'liked': 122, 'since': 354, 'et': 1424, 'perfect': 2207, 'combining': 260, 'sad': 352, 'texts-fantasy': 1613, 'spectacularly': 1979, 'sum': 1614, 'working': 797, 'classic': 1615, 'lol': 351, 'horrible': 125, 'favor': 915, 'coming': 692, 'play': 798, 'bits': 1618, 'codes': 1619, 'bond': 1620, 'someone': 508, 'suck..': 586, 'pretty-packaging': 1621, 'b': 196, 'iq': 1622, 'however': 2241, 'extent': 1623, 'amazing': 337, 'mcmurtry': 1255, 'code-illustrated': 1670, 'fears': 1624, 'visually': 1625, 'excersizing': 1626, \"called'harry\": 2168, 'director': 2156, 'jay': 1140, 'apparently': 468, 'ashamed': 1629, 'case': 623, 'effects': 2083, \"'s\": 27, '33..': 1632, 'according': 2183, 'interesting': 407, \"'..\": 257, 'writing': 776, 'signs': 1531, 'edition': 2189, 'depp': 1755, 'dungeons': 1637, ',': 2, 'sometime..': 1639, 'narnia': 801, 'look': 1640, '16': 1641, 'knight': 2228, 'especially': 587, 'code': 11, 'watching': 155, 'god-awful': 588, 'rehearsal': 1643, 'â’': 1072, 'acoustic': 1644, 'overall': 803, 'scenario': 2015, 'cucumber': 1645, 'kinda': 339, 'shop': 2002, 'code-themed': 1648, 'beyond': 1628, 'eyre': 261, 'kids': 433, 'symantec': 1127, 'oddly': 2289, 'bout': 1681, 'getting': 961, 'writers': 1360, 'quizzes': 805, 'mountain-beautiful': 1651, 'code-that': 1652, 'unexpected': 1653, 'house': 807, 'professors': 1654, 'younger': 1655, 'nd': 1656, 'fall': 854, 'stupidest': 1658, 'aaron': 808, 'keeps': 2181, 'hell': 589, 'included': 1660, 'boring..': 810, 'flick': 811, 'real': 379, 'rings': 463, 'luck': 469, \"ain't..\": 1662, 'yet': 394, 'deciding': 2279, 'ever': 136, 'immensely': 1663, 'disliked': 542, 'knows': 187, 'always': 169, 'runner': 1665, 'shitty': 509, 'chance': 1534, 'angel': 1058, 'min': 1667, 'account': 1668, 'opinion': 172, 'fandom': 419, 'category': 1671, 'hahash': 1672, 'success': 1673, 'diana': 1675, 'topic': 1390, 'crash-and': 1677, 'lot': 325, 'shut': 2091, 'frodo': 1679, 'crusade': 1680, 'ignorant': 1495, 'veil': 1118, 'example': 578, 'kick': 590, 'silent': 232, 'shameful': 1683, 'j.': 816, 'down': 42, 'a': 17, 'despised': 262, 'listens': 1684, 'that': 26, 'rent': 591, '5': 1304, 'awesome..': 130, 'wondered': 2218, 'desperately': 263, 'tell': 380, 'dance': 726, 'class': 817, 'finals': 1687, 'dramatic': 1688, 'form': 1689, 'zach': 1204, 'books..': 592, 'controversy': 818, 'wants': 1691, 'hates': 197, 'donkey': 593, 'code-other': 1693, 'haunted': 2221, 'springer': 1694, 'whatev': 1763, 'night': 381, 'while': 395, 'christain': 1238, 'jamaica': 1696, 'seeking': 1194, 'sucked..-love': 1697, 'either': 188, 'val': 1084, 'major': 510, 'seen': 345, 'agree': 594, 'none': 556, 'character': 192, 'place': 201, \"saying'harry\": 1699, 'sarcastic': 1990, 'are': 69, 'enjoyment': 1701, 'ang': 841, 'omg': 511, 'make': 180, 'match': 1703, 'involving': 2328, 'cute': 819, 'whom': 1704, 'heavy': 1705, 'cake': 1706, 'those': 384, 'sam': 1312, '3333': 1885, 'will': 327, 'spontaneously': 1709, 'exciting': 1711, 'spin': 2227, 'date': 1744, 'television': 1713, 'together': 820, 'color': 821, 'fairly': 1714, 'storytimes': 1910, 'street': 1715, 'flat': 1482, 'unless': 1379, 'retarded': 1386, 'portugal': 1719, 'iii-sucks': 2114, 'anyhow': 1720, 'durno': 1721, 'conversations': 1722, 'comments': 1403, 'whistles': 824, 'days..': 1724, '^': 1725, 'too': 105, 'best': 338, 'else': 408, 'donã¢': 1726, 'â€': 825, 'shadeslayer': 1727, 'cruise': 328, 'wacked': 1728, 'uh': 1455, 'worlds': 1729, 'heard': 133, 'matters': 1998, '2.5': 235, 'differently': 254, 'group': 1731, 'heart': 596, 'grow': 1732, 'tautou': 575, '~': 829, 'come': 512, 'potterholic..': 1734, 'mother': 470, 'da': 9, 'judgement': 2174, 'terrible..': 1015, 'cold': 830, 'fiber': 1736, 'read': 109, 'period': 2026, 'outnumbered': 1737, 'intrigued': 1738, 'funniest': 831, 'vice': 1391, 'awards': 213, 'taking': 597, '(': 98, 'bye..': 298, 'nothin': 1741, 'just': 47, 'anyway': 181, 'depressing': 74, 'blanks': 1032, 'kid': 832, 'oreos': 1549, 'pretty': 313, 'hype': 1553, 'award': 1410, 'matter': 1747, 'tragically': 1748, 'fyi-mission': 1749, 'girls': 833, 'christmas': 834, 'joe': 2233, 'franchise': 836, 'chunnel': 1750, 'admiring': 1751, 'shipmates': 1752, 'hp': 837, 'think': 70, 'dinner': 1753, 'share': 1754, 'exploitation': 1636, 'yeah': 153, 'struggle': 1756, 'monchel': 1647, 'royally': 822, 'admired': 1551, 'butt': 944, 'homophobes': 1759, 'jake': 599, 'hand': 2055, 'to': 24, 'arguments': 1760, 'beach': 1761, 'fallon': 1762, '2nd': 2142, 'in-depth': 1807, '286': 1319, 'came': 600, 'even': 316, 'nacho': 1772, 'wotshisface': 264, 'version': 1764, 'bangs': 840, 'sentry': 253, 'setting': 1765, 'cleaning': 266, '?': 148, 'local': 1766, 'better..-we': 601, 'already': 346, 'devastate': 1767, 'aka': 842, 'prime..': 1768, 'tests': 1556, 'subjects': 1584, 'kicked': 1322, 'runs': 1981, 'something': 409, 'release': 1771, 'quiz': 267, 'hands': 603, 'benefit': 1454, 'shittiest': 843, 'bunch': 1773, 'richard': 1774, 'meeting': 844, 'awesomeness': 886, 'energy': 1775, 'infuser': 845, 'creed': 2151, 'eragon': 605, 'fire': 493, 'paper': 1585, 'series': 81, 'thirdly-the': 2184, 'hahahaha': 1777, 'places': 1778, 'small': 1779, 'said': 146, 'soundtrack': 1780, 'oceanwalk': 1781, 'jokes..': 268, 'finale': 1782, 'balls..-hooray': 1783, 'camp': 1784, 'later': 1785, '-it': 1993, 'after': 329, 'romantic': 1102, 'contains': 1788, 'wish': 612, 'off': 362, 'waited': 1790, 'itz': 1791, 'year': 425, 'wherever': 1792, 'most': 119, '#': 1776, 'fantasy': 2192, 'burnt': 1650, 'danielle': 1796, 'lynne': 1797, 'twilight': 2010, 'aniwae': 1798, 'undercover': 1799, 'btw..': 1940, 'long': 435, 'hello': 1800, 'completely': 1801, 'talking': 403, 'gay': 151, 'were': 137, 'jessica': 1507, 'bitch': 214, 'magic': 1802, 'have': 99, 'theres': 1803, 'must': 473, 'fer': 1804, 'exelent': 1805, 'disney': 846, 'france': 1806, 'head': 219, 'vs.': 1808, 'urls': 1809, 'effort': 1810, '/': 55, 'cars-good': 1811, 'only': 84, 'had': 323, 'astonishingly': 1812, 'rachel': 1813, 'dont': 608, 'far': 366, 'amãƒ': 2096, 'shaped': 1815, 'fabulous': 848, 'runaway': 1816, 'ass': 317, 'hollywoord': 1817, 'cheap': 1818, 'thesis': 1819, '1': 1820, 'lee': 1821, 'brown': 609, 'egg': 809, 'general': 1823, 'facing': 1633, 'when': 131, 'school': 436, 'learn': 1825, 'boycotting': 1826, 'dick': 849, 'facile': 1827, 'hill': 269, 'rare': 1828, 'blasphying': 1829, 'word': 850, 'g': 1830, 'starring': 2250, 'back': 437, 'writes': 1831, 'vault': 1832, 'freezing': 1833, 'mention': 914, 'crystal': 1835, 'trivia': 1836, 'frakking': 1333, 'lee..': 1838, 'gosh': 1839, 'board': 513, \"sucks'i\": 1334, 'canceled': 1841, 'spy': 1842, 'possible': 1843, '1st': 1844, 'man': 159, '1-brokeback': 1845, 'music': 514, 'frog': 1846, 'experience': 1847, 'immortal': 1848, 'sure': 410, 'terrible': 86, 'impossible-3..': 1849, 'queer': 851, 'sooo': 926, 'phone': 2019, 'inherently': 1850, 'plausible': 1851, 'madre': 1037, 'use': 853, 'sick': 474, 'imo': 1853, 'hard': 610, 'screwed': 1855, 'unfortunately': 2106, 'reality': 215, 'says': 176, 'adaptation': 1856, 'onto': 1857, 'tournament..': 1858, 'halls': 1682, 'ultimatly': 1787, 'level': 611, 'relaxed': 1860, 'returning': 1692, '0': 1862, 'seen..': 221, 'kat-tun': 1863, 'condemnation': 1864, 'gon': 216, 'gladly': 1865, 'tragic': 855, 'surprised': 1567, 'possum': 1789, 'evil': 314, 'drove': 1866, 'preview': 1867, 'tomorrow': 1868, 'fic': 958, 'seriously': 1512, 'of': 37, 'sisters': 1870, 'targeted': 1042, 'van': 1872, 'can': 112, 'hating': 856, 'so': 32, 'day': 438, 'shields': 1873, 'positions': 1447, 'bolsters': 970, 'gathered': 1874, 'demons': 439, 'horrible..': 217, 'anyways': 613, 'characterization': 1875, 'times': 411, '.-i': 1877, 'doors': 1342, 'directed': 1878, 'drain': 1879, 'english-speaking': 1880, 'things': 143, 'pirates': 2209, 'nothing': 614, 'watch': 139, 'neither': 1881, 'here': 94, 'briefly': 1882, 'decent': 857, 'mean': 412, 'awesomely': 1793, 'oscar': 515, 'starred': 1883, 'we': 44, 'friday-harry': 2023, 'buy': 858, 'close': 1884, 'respect': 859, 'although': 860, 'whether': 861, 'mood': 2197, 'highly': 1795, 'broom': 1786, 'clickfive': 2025, '00': 1887, 'million': 1083, 'ran': 863, 'trousers': 271, 'friggin': 1889, 'costumes': 679, 'ask': 573, 'loves': 615, 'patirot': 1891, 'acting': 864, 'fun..-the': 1892, 'would': 77, 'track': 1893, 'pup-tent': 1894, 'hahaha': 1895, 'messy': 1896, 'midnight': 1897, 'revise': 1898, 'rode': 1173, 'queens..': 1900, 'halloween': 616, 'â£': 1901, 'tons': 1576, 'tree': 1396, 'firstly': 1903, 'semester': 1904, 'usage': 1905, 'seem': 1913, 'la': 865, 'personally': 475, 'mountain..': 350, 'cinema': 2293, 'sitting': 1906, 'ok': 95, 'garrett': 1907, 'game': 1908, 'power': 1909, 'cocktail': 870, 'overslept': 1911, 'fix': 1240, 'absolute': 1876, 'lore': 1914, 'still': 126, 'do..': 2028, 'ended': 1916, 'becuase': 1917, 'clearly': 2029, 'silly': 1918, 'nans': 1919, '.-wish': 1920, 'material': 272, 'rv': 1921, 'why': 80, 'screening': 1922, 'remix..': 1923, 'be': 45, 'hank': 1925, 'including': 2116, 'tonite..-da': 2264, 'tried': 867, 'turned': 218, 'lends': 1926, '517,648': 1927, 'twice': 1317, 'many': 619, 'finally': 517, 'adore': 1929, 'sexy': 518, 'everytime': 1930, 'on': 106, 'oh': 89, 'muahahaahahah': 1931, 'main': 200, ')': 307, 'people': 75, 'clive': 1933, 'âµâª': 2045, 'loudest': 990, 'hide': 868, 'whimpering': 273, 'tour': 1888, 'pressing': 1935, 'piece': 742, 'section': 1392, 'keys': 274, 'mi': 1938, 'four': 1939, 'mcgarther': 1000, 'often': 869, \"'\": 413, 'fair': 1941, 'desperate': 1942, 'dan': 620, 'telling': 486, 'plastic': 2013, 'simple': 1943, '.-mission': 1944, 'editor': 1945, 'bro': 1946, 'able': 871, 'likes': 276, 'cast': 1529, 'titus': 1948, 'tooo': 1949, 'novel': 464, 'etc': 1951, 'v': 1952, 'guys..': 1149, 'iii': 308, 'almost': 440, 'â€™': 164, '.-sorcerer': 1954, 'religion': 872, 'dudeee': 277, 'takes': 873, 'black': 278, 'overcoming': 1955, 'laid': 874, 'noises': 279, 'background': 1510, 'week..-da': 1957, 'ago': 875, 'cowboy': 212, 'overexagerated': 1912, \"hated'the\": 1525, 'page': 796, 'latter': 1960, 'exhausted': 1306, 'stuff': 621, 'thriller': 1962, 'virgin': 280, 'putting': 878, 'god': 441, 'plays': 1963, 'inappropriate': 1964, 'draco': 281, 'smoking-had': 1565, 'nc-17': 622, 'trip': 1966, 'linked': 1967, 'generated': 1968, 'primary': 1969, 'not': 71, 'normal': 879, 'at': 110, 'rice': 1970, 'found': 1971, 'nifty': 1503, 'creatures': 1973, 'mrs.': 1974, 'whatever': 880, '[': 383, 'esther': 999, 'wide': 2275, 'kill': 2286, 'imagine': 1978, '-': 442, 'headmistress': 1770, 'lucky': 1980, 'criticizers': 1982, '9am': 1676, 'realize': 1984, 'harder': 1985, 'leder': 1986, 'lie': 881, 'there': 82, 'dumbest': 1716, 'as': 33, 'months': 882, 'madly': 1988, 'despise': 1735, 'sucks..': 389, 'scared': 1700, 'decaying': 1991, 'microsoft': 1992, 'sunday': 1591, 'intense': 1994, 'decide': 1958, 'theater': 476, 'strip': 1947, 'basically': 1995, 'vito-being-gay': 1996, 've': 1997, 'sixth': 1592, 'poem': 1999, 'photography': 2000, 'goin': 283, 'requim': 2001, 'dressed': 1463, 'except': 624, 'sit': 284, 'student': 883, 'news': 477, 'judging': 2004, 'attempt': 884, 'sense': 885, 'fabricated': 2005, 'those..': 2007, '+': 604, 'till': 887, 'lubb': 285, 'happiness': 2008, 'tale': 888, 'predictable': 2009, 'quite': 434, 'state': 1588, 'halle': 2012, 'related': 889, 'chinese': 890, 'asks': 1718, 'deal': 628, 'cock': 174, 'teri': 1589, 'becoming': 220, 'eating': 892, 'suppose': 893, 'dvds': 2016, 'mountain-hard': 2017, 'emo-mound': 2018, 'attached': 1987, 'o': 2081, 'her': 519, 'count': 305, 'holy': 2020, 'lower': 1599, 'dream': 894, 'yeah-i': 2021, 'huh': 2022, 'john': 516, 'now': 324, 'turner': 2024, 'psychology': 1886, 'captain': 754, 'evil..': 626, 'good': 103, 'room': 2027, 'delayed': 1372, 'answers': 1915, 'plus': 1822, 'hella': 286, 'fanfic': 895, 'credit': 2030, 'does': 147, 'otters': 2031, 'living': 2032, 'vic': 1824, 'blashpemies': 2034, 'suing': 2035, '-we': 896, 'tan': 2036, 'ground': 2037, \"y'all\": 897, 'josie': 2038, 'looked': 627, 'impossible..': 898, 'hey': 415, 'google': 2039, 'which': 61, 'afterwards': 2232, 'na': 173, 'warns': 2040, 'rockets': 2041, 'update': 625, 'recently': 899, 'exquisite': 900, 'claiming': 2042, 'mainstream': 901, '4': 629, 'balls..-poseidon': 2043, 'mpreg': 1899, 'brokeback': 10, 'hate': 30, 'sports': 2044, 'cool..': 2046, 'versa': 2047, 'who': 56, 'ball': 2049, 'stinks..': 2050, 'gym': 2051, 'insane': 2052, 'awesomest': 902, 'blonds': 288, 'th': 1608, 'beans': 904, 'reasons': 2053, 'suck': 51, 'dress': 1609, 'jame': 1611, 'mob': 2056, 'relic': 1532, 'dork': 2057, 'went': 107, 'sivullinen': 906, 'japenese': 2058, 'personaly': 2059, 'christ': 2060, 'showcasing': 1378, 'â™': 907, 'potter': 13, 'snowing': 2061, 'belong': 2062, 'well-executed': 2063, 'style': 2234, 'ian': 1742, 'master': 2064, 'stupid': 40, 'sold': 2065, 'occasional': 2066, 'rules': 2067, 'daddy': 2068, 'freshman': 1612, 'afraid': 2069, 'figures': 909, 'vigor': 287, 'colony': 1508, 'book': 100, 'gays': 2071, 'dvd': 2072, 'industry': 910, 'sorcerer': 2073, 'hedge': 641, 'happened': 1401, 'robe': 2075, 'mocking..': 1473, 'useless': 2077, 'supporting': 2078, 'hilarious': 2079, 'took': 912, 'thousand': 950, 'classes': 531, 'ballz': 2082, 'copy': 913, 'his': 76, 'russotti': 1649, 'mormon': 1634, 'involve': 2214, 'bentlys': 2084, 'movies': 39, 'heartbreaking': 1497, 'portuguese': 2086, 'because': 28, 'genre': 2087, 'might': 443, 'realized': 2088, 'cover': 1834, 'mentioned': 903, 'lame..': 2089, 'explain': 2090, 'loser': 2092, 'finshed': 2291, 'angle': 2093, 'cow': 2094, 'do': 108, 'publicly': 2095, 'supposed': 1616, 'precious': 971, 'he': 132, 'believe': 2097, 'tye': 239, 'wicked': 2099, 'more..': 1631, 'honest': 2101, 'literature': 2102, 'for': 63, 'worst': 2103, 'writer': 2104, 'cool': 175, 'favourite': 916, 'colourfully': 905, 'slap': 289, 'blame': 813, 'picnic': 2107, 'others': 2108, 'absolutely': 123, 'soooo': 2109, 'groaning': 290, 'dakota': 2110, 'wicca': 2111, 'reading': 79, 'increasing': 2112, \"said'harry\": 2294, 'ps-brokeback': 2113, 'aside': 1055, 'humor': 2295, 'radio': 1840, '8230': 1596, 'slash': 1707, 'thought': 120, 'field': 1097, 'usually': 2117, 'pleased': 2118, 'enjoying': 2119, \"code'it\": 1095, 'dogtown': 1493, 'attractive': 2122, 'cry': 918, 'starting': 2123, 'such': 144, 'calling': 2124, 'pictures': 685, 'lousy': 919, 'updated': 2126, 'rolled': 2127, 'honor': 753, 'sort': 631, 'today': 2011, 'sucky': 2129, 'guys': 920, 'life': 396, 'equally': 699, 'inaccurate': 456, 'what': 140, 'goes': 2132, 'nasy': 2133, 'degraw': 1479, 'equal': 921, 'feathers': 1191, 'career': 1669, 'rocks': 177, 'died': 1199, 'crafted': 2137, 'spells': 2138, 'moving': 2139, 'care': 203, 'shes': 2140, 'clothed': 1661, 'saying': 445, \"him'i\": 1743, 'hogwash': 1060, 'other': 330, '1984': 1025, 'larry': 1230, 'scientology': 2146, \"'yeah\": 265, 'gyllenhaal': 1251, 'cars': 2148, 'hero': 924, 'intellectual': 2149, 'tom': 116, 'worse': 2150, 'adult': 925, 'stone': 724, 'low': 2152, 'wal-mart': 2153, 'believably': 1350, 'touching': 2155, 'true': 560, 'outshines': 292, 'husband': 1171, 'passion': 632, 'from': 124, 'harry': 7, 'blogbacklinksnippet': 2158, 'serious': 293, 'families': 2159, 'festivities': 1310, 'dictate': 814, 'melandry': 2161, 'jamie': 1318, 'break': 2163, 'lamest': 1659, 'instead..': 2164, 'awkward': 2165, 'roommate': 2166, 'derek': 2167, 'trailers': 927, 'generalized': 1340, 'code-very': 2169, 'girl': 524, 'refusing': 2170, 'loathe': 928, 'amazes': 2171, 'thank': 633, 'literary': 1630, 'my': 34, 'gayness': 929, 'throat': 299, 'mang': 1642, 'daniel': 204, 'theaters': 931, 'gun': 634, 'leah': 294, 'expected': 932, 'kirsten': 295, 'meat': 2175, 'wins': 1174, 'outside': 2177, 'condeming': 2178, 'then': 111, 'dorks': 2179, 'obnoxious': 934, 'ring': 1457, 'short': 635, 'mom': 189, 'arse': 2182, 'kicking': 2033, 'shoes': 935, 'obviously-is': 1859, 'death': 636, 'receive': 1132, 'third': 770, 'hairy': 2121, 'hammy': 2187, 'c.': 2188, 'speaking': 773, 'burbank': 1398, 'ultimate': 936, 'cant': 2190, 'old': 937, 'gaither': 938, 'say': 319, 'nor': 939, 'coloured': 1399, 'mi3': 778, 'impossible': 20, 'devil': 1177, 'costume': 823, 'minutes': 637, 'table': 223, 'well': 128, 'audrey': 638, 'travel': 2193, 'vinci': 8, 'haha': 2194, 'simon': 2195, 'hopefully': 691, 'postponed': 1426, 'half': 526, 'unauthorized': 2198, 'rocked': 1554, 'let': 639, 'tea': 940, 'rereading': 2200, 'college': 640, 'w': 2201, 'campaign': 2070, 'plot': 2203, 'bonkers': 301, 'emotes': 2204, 'bridget': 2254, 'gives': 2205, 'tickets': 941, 'bogus': 478, 'asshole': 2206, 'blog': 1610, 'prisoner': 2208, 'thinks': 942, 'winter': 1627, 'please': 943, 'shout': 2210, 'witha': 2311, 'hat': 224, 'rife': 1193, 'giants': 1638, 'mountain': 12, 'brazil': 2213, 'suspenseful': 2215, 'hippie': 2216, 'hollywood': 527, 'end': 479, 'more': 117, 'side': 182, 'ennis': 2217, \"mountain'is\": 1757, '2007': 1268, 'goth': 945, 'icons..': 2220, 'thats': 198, 'keep': 2222, 'hours': 2223, 'books': 318, 'change': 2224, 'mybutthole': 2225, '-after': 2226, 'pudding': 1712, 'forgotten': 946, 'given': 598, 'tome': 2229, 'deemed': 2230, 'saturday': 826, 'decides': 2231, 'accompaniment': 947, 'inside': 2098, \"was'harry\": 1280, 'author': 835, 'doing': 458, 'anywhere': 2235, 'truly': 2236, 'theatan': 2076, 'â€\\x9d': 480, 'ate': 2238, 'back.-jill': 1091, \"of'brokeback\": 2239, '-and': 768, 'critics': 606, 'instead': 949, 'afterschool': 1934, 'tourist': 980, 'hermione': 2242, 'moralistic': 2243, 'hyped': 2244, 'rides': 2245, 'abrams': 2246, 'least': 481, 'idea': 529, 'begin': 225, 'pop-culture': 2247, 'entire': 2248, 'showing': 799, 'radcliffe': 2249, 'finish': 1326, 'club': 530, 'concocted': 2251, 'caribbean': 2252, 'aching': 302, 'jokes': 2006, 'christian': 806, 'wait': 160, 'rofls': 2219, 'sorry': 642, 'libarian': 2256, 'indicative': 1433, 'hoffman': 952, 'stitch': 2257, 'impressive': 1494, 'book..': 769, 'anne': 2258, 'halfway': 2259, 'needs': 226, 'spend': 2128, 'lama': 2260, 'by': 115, 'easy': 2262, 'â€¦..': 2263, 'supper': 1646, 'angels': 482, 'live': 618, 'ban': 643, 'hanks': 953, 'childishly': 2265, 'regardless..': 2266, 'is': 16, 'lilo': 2267, 'combonation': 2268, 'began': 2269, 'offensive': 2270, 'ruined': 954, 'jackson': 2271, 'reviews': 2272, 'no': 343, 'lynn': 2273, '200': 1956, 'hair': 1976, 'worth': 190, 'theories': 2277, 'yahoo': 1852, 'coz': 303, 'without': 2003, 'this': 66, 'sale': 2141, 'understand': 891, 'stone.-chamber': 2280, 'listen': 2281, '33': 1192, 'second': 356, 'beating': 2282, 'requiem': 2283, 'explaination': 2284, 'mckellen': 1418, 'asking': 956, 'bought': 957, 'suncoast': 2285, 'their': 483, 'laura': 2287, '7': 908, 'three-generation': 2288, 'novels': 1436, 'latest': 1537, 'interest': 2085, 'playing': 644, 'anax': 2290, 'lesson': 2145, 'luv': 202, 'shipping': 2292, 'knowing': 1258, 'soon': 959, 'may': 355, 'wiccanism': 917, 'cousins': 2296, 'mph': 2297, 'gossip': 2298, 'ron': 930, 'hold': 960, 'bday': 2300, 'hips': 291, 'media': 2302, 'need': 630, 'hogwarts': 804, 'pop': 962, 'spite': 2303, 'against': 963, 'nice': 964, 'beatles': 2304, 'friend..-indian': 2305, 'freak': 2080, 'majorly': 532, \"'m\": 311, 'nature': 2306, 'dart': 2307, 'events': 702, 'kite': 2308, 'irrespective': 2309, 'pocket': 965, 'azkaban': 1871, 'any': 645, '=': 149, 'park': 2211, 'capote': 966, 'during': 646, 'ca': 150, 'chronicles': 2312, 'delicious': 2313, 'adversity': 2314, 'your': 385, 'kudos': 2315, 'row': 2316, '--': 333, 'secrets.-prisoner': 2317, 'happy': 967, '-ike..': 2318, 'interview': 2319, \"love'the\": 259, 'unbelievably': 968, 'boycott': 2321, 'convo': 2322, 'shows': 647, 'insurance': 2323, 'code..': 397, 'threw': 2324, 'artemis': 2325, 'awful': 347, 'shade': 2326, 'monsters': 2327, 'extremely': 574, 'anus': 2329, 'nearly': 534})\n"
     ]
    }
   ],
   "source": [
    "# create our vocablary of most frequent words from the corpus\n",
    "counter = collections.Counter()\n",
    "fin = open(INPUT_FILE, 'r')\n",
    "maxlen = 0\n",
    "i = 0\n",
    "for line in fin:\n",
    "    sent = line.strip().split(\"\\t\")[1]\n",
    "    words = [x.lower() for x in nltk.word_tokenize(sent)]\n",
    "    if len(words) > maxlen:\n",
    "        maxlen = len(words)\n",
    "    for word in words:\n",
    "        counter[word] += 1\n",
    "fin.close()\n",
    "\n",
    "# create the word indexes and the reverse indexes for the words\n",
    "word2index = collections.defaultdict(int)\n",
    "for wid, word in enumerate(counter.most_common(VOCAB_SIZE)):\n",
    "    word2index[word[0]] = wid +1\n",
    "vocab_size = len(word2index) + 1\n",
    "index2word = {v:k for k,v in word2index.items()}\n",
    "print(len(word2index))\n",
    "print(\"\")\n",
    "print(word2index)\n",
    "# print(index2word)"
   ]
  },
  {
   "cell_type": "markdown",
   "metadata": {},
   "source": [
    "### Now pad the sentences to the maxlength and create the dataset for splitting"
   ]
  },
  {
   "cell_type": "code",
   "execution_count": 26,
   "metadata": {
    "collapsed": false
   },
   "outputs": [],
   "source": [
    "xs , ys = [], []\n",
    "fin = open(INPUT_FILE, \"r\")\n",
    "for line in fin:\n",
    "    label, sent = line.strip().split(\"\\t\")\n",
    "    ys.append(int(label))\n",
    "    words = [x.lower() for x in nltk.word_tokenize(sent)]\n",
    "    wids = [word2index[word] for word in words]\n",
    "    xs.append(wids)\n",
    "fin.close()\n",
    "X = pad_sequences(xs, maxlen=maxlen)\n",
    "Y = np_utils.to_categorical(ys)"
   ]
  },
  {
   "cell_type": "markdown",
   "metadata": {},
   "source": [
    "### Split the X and y to train and validation set using sklearn "
   ]
  },
  {
   "cell_type": "code",
   "execution_count": 27,
   "metadata": {
    "collapsed": false
   },
   "outputs": [],
   "source": [
    "#print(maxlen) # 42 in this case\n",
    "# print(X.shape) # (7086 , 42) is the shape\n",
    "# print(Y.shape)  # (7086, 2) is the shape\n",
    "X_train, X_test, Y_train, Y_test = train_test_split(X, Y, test_size = 0.3, random_state=42)\n"
   ]
  },
  {
   "cell_type": "markdown",
   "metadata": {},
   "source": [
    "### Load the word2vec model trained weights"
   ]
  },
  {
   "cell_type": "code",
   "execution_count": 28,
   "metadata": {
    "collapsed": false
   },
   "outputs": [],
   "source": [
    "#load word2vec model\n",
    "word2vec = KeyedVectors.load_word2vec_format(WORD2VEC_WEIGHTS, binary=True)\n",
    "embedding_weights = np.zeros((vocab_size, EMBEDDING_SIZE))\n",
    "for word, index in word2index.items():\n",
    "    try:\n",
    "        embedding_weights[index:] = word2vec[word]\n",
    "    except KeyError:\n",
    "        pass"
   ]
  },
  {
   "cell_type": "markdown",
   "metadata": {},
   "source": [
    "### Now define the model and compile the model and fit the model on the train data"
   ]
  },
  {
   "cell_type": "code",
   "execution_count": 29,
   "metadata": {
    "collapsed": false
   },
   "outputs": [
    {
     "data": {
      "text/plain": [
       "(2330, 300)"
      ]
     },
     "execution_count": 29,
     "metadata": {},
     "output_type": "execute_result"
    }
   ],
   "source": [
    "embedding_weights.shape"
   ]
  },
  {
   "cell_type": "code",
   "execution_count": 32,
   "metadata": {
    "collapsed": false
   },
   "outputs": [
    {
     "name": "stdout",
     "output_type": "stream",
     "text": [
      "_________________________________________________________________\n",
      "Layer (type)                 Output Shape              Param #   \n",
      "=================================================================\n",
      "embedding_3 (Embedding)      (None, 42, 300)           699000    \n",
      "_________________________________________________________________\n",
      "spatial_dropout1d_1 (Spatial (None, 42, 300)           0         \n",
      "_________________________________________________________________\n",
      "conv1d_1 (Conv1D)            (None, 40, 256)           230656    \n",
      "_________________________________________________________________\n",
      "global_max_pooling1d_1 (Glob (None, 256)               0         \n",
      "_________________________________________________________________\n",
      "dense_1 (Dense)              (None, 2)                 514       \n",
      "=================================================================\n",
      "Total params: 930,170\n",
      "Trainable params: 930,170\n",
      "Non-trainable params: 0\n",
      "_________________________________________________________________\n"
     ]
    }
   ],
   "source": [
    "model = Sequential()\n",
    "# the difference is to initialize the embedding weight matrix with pretrained weights\n",
    "model.add(Embedding(vocab_size, EMBEDDING_SIZE, input_length=maxlen, weights=[embedding_weights]))  \n",
    "model.add(SpatialDropout1D(DROPOUT_RATE))\n",
    "model.add(Conv1D(filters=NUM_FILTERS, kernel_size=NUM_WORDS, activation=\"relu\"))\n",
    "model.add(GlobalMaxPooling1D())\n",
    "model.add(Dense(2, activation=\"softmax\"))\n",
    "model.summary()"
   ]
  },
  {
   "cell_type": "code",
   "execution_count": 33,
   "metadata": {
    "collapsed": false
   },
   "outputs": [
    {
     "name": "stdout",
     "output_type": "stream",
     "text": [
      "Train on 4960 samples, validate on 2126 samples\n",
      "Epoch 1/20\n",
      "4960/4960 [==============================] - 8s - loss: 0.2680 - acc: 0.8919 - val_loss: 0.0644 - val_acc: 0.9779\n",
      "Epoch 2/20\n",
      "4960/4960 [==============================] - 8s - loss: 0.0375 - acc: 0.9869 - val_loss: 0.0346 - val_acc: 0.9845\n",
      "Epoch 3/20\n",
      "4960/4960 [==============================] - 8s - loss: 0.0152 - acc: 0.9948 - val_loss: 0.0382 - val_acc: 0.9840\n",
      "Epoch 4/20\n",
      "4960/4960 [==============================] - 8s - loss: 0.0063 - acc: 0.9978 - val_loss: 0.0329 - val_acc: 0.9887\n",
      "Epoch 5/20\n",
      "4960/4960 [==============================] - 8s - loss: 0.0032 - acc: 0.9988 - val_loss: 0.0299 - val_acc: 0.9887\n",
      "Epoch 6/20\n",
      "4960/4960 [==============================] - 8s - loss: 0.0015 - acc: 0.9998 - val_loss: 0.0299 - val_acc: 0.9878\n",
      "Epoch 7/20\n",
      "4960/4960 [==============================] - 8s - loss: 0.0017 - acc: 0.9998 - val_loss: 0.0279 - val_acc: 0.9911\n",
      "Epoch 8/20\n",
      "4960/4960 [==============================] - 9s - loss: 0.0016 - acc: 0.9996 - val_loss: 0.0332 - val_acc: 0.9897\n",
      "Epoch 9/20\n",
      "4960/4960 [==============================] - 9s - loss: 0.0016 - acc: 0.9994 - val_loss: 0.0370 - val_acc: 0.9897\n",
      "Epoch 10/20\n",
      "4960/4960 [==============================] - 9s - loss: 0.0013 - acc: 0.9998 - val_loss: 0.0327 - val_acc: 0.9892\n",
      "Epoch 11/20\n",
      "4960/4960 [==============================] - 9s - loss: 0.0010 - acc: 0.9998 - val_loss: 0.0305 - val_acc: 0.9920\n",
      "Epoch 12/20\n",
      "4960/4960 [==============================] - 8s - loss: 0.0018 - acc: 0.9998 - val_loss: 0.0328 - val_acc: 0.9887\n",
      "Epoch 13/20\n",
      "4960/4960 [==============================] - 9s - loss: 0.0024 - acc: 0.9996 - val_loss: 0.0297 - val_acc: 0.9901\n",
      "Epoch 14/20\n",
      "4960/4960 [==============================] - 9s - loss: 0.0025 - acc: 0.9996 - val_loss: 0.0309 - val_acc: 0.9892\n",
      "Epoch 15/20\n",
      "4960/4960 [==============================] - 9s - loss: 0.0019 - acc: 0.9996 - val_loss: 0.0289 - val_acc: 0.9911\n",
      "Epoch 16/20\n",
      "4960/4960 [==============================] - 9s - loss: 0.0013 - acc: 0.9998 - val_loss: 0.0419 - val_acc: 0.9901\n",
      "Epoch 17/20\n",
      "4960/4960 [==============================] - 10s - loss: 9.8186e-04 - acc: 0.9998 - val_loss: 0.0296 - val_acc: 0.9906\n",
      "Epoch 18/20\n",
      "4960/4960 [==============================] - 10s - loss: 0.0013 - acc: 0.9998 - val_loss: 0.0424 - val_acc: 0.9906\n",
      "Epoch 19/20\n",
      "4960/4960 [==============================] - 10s - loss: 0.0014 - acc: 0.9998 - val_loss: 0.0441 - val_acc: 0.9868\n",
      "Epoch 20/20\n",
      "4960/4960 [==============================] - 10s - loss: 0.0014 - acc: 0.9998 - val_loss: 0.0434 - val_acc: 0.9911\n"
     ]
    }
   ],
   "source": [
    "# have the model compile and fit on the training data\n",
    "\n",
    "model.compile(loss=\"categorical_crossentropy\", optimizer=\"adam\", metrics=[\"accuracy\"])\n",
    "history = model.fit(X_train, Y_train, batch_size=BATCH_SIZE, epochs=NUM_EPOCHS, validation_data=(X_test, Y_test))"
   ]
  },
  {
   "cell_type": "code",
   "execution_count": 35,
   "metadata": {
    "collapsed": false
   },
   "outputs": [
    {
     "data": {
      "image/png": "[encoded data removed]",
      "text/plain": [
       "<matplotlib.figure.Figure at 0x1178b4128>"
      ]
     },
     "metadata": {},
     "output_type": "display_data"
    }
   ],
   "source": [
    "#plot loss function\n",
    "\n",
    "plt.subplot(211)\n",
    "plt.title(\"Accuracy\")\n",
    "plt.plot(history.history[\"acc\"], color=\"r\", label=\"train\")\n",
    "plt.plot(history.history[\"val_acc\"], color=\"b\", label=\"validation\")\n",
    "plt.legend(loc=\"best\")\n",
    "\n",
    "plt.subplot(212)\n",
    "plt.title(\"Loss\")\n",
    "plt.plot(history.history[\"loss\"], color=\"r\", label=\"train\")\n",
    "plt.plot(history.history[\"val_loss\"], color=\"b\", label=\"validation\")\n",
    "plt.legend(loc=\"best\")\n",
    "\n",
    "plt.tight_layout()\n",
    "plt.show()"
   ]
  },
  {
   "cell_type": "code",
   "execution_count": 36,
   "metadata": {
    "collapsed": false
   },
   "outputs": [
    {
     "name": "stdout",
     "output_type": "stream",
     "text": [
      "2080/2126 [============================>.] - ETA: 0s[0.043363538133573083, 0.99106302916274691]\n"
     ]
    }
   ],
   "source": [
    "# check the accuracy and the loss on the test set\n",
    "score = model.evaluate(X_test, Y_test, verbose=1)\n",
    "print(score)"
   ]
  },
  {
   "cell_type": "code",
   "execution_count": null,
   "metadata": {
    "collapsed": true
   },
   "outputs": [],
   "source": []
  }
 ],
 "metadata": {
  "kernelspec": {
   "display_name": "Python [Root]",
   "language": "python",
   "name": "Python [Root]"
  },
  "language_info": {
   "codemirror_mode": {
    "name": "ipython",
    "version": 3
   },
   "file_extension": ".py",
   "mimetype": "text/x-python",
   "name": "python",
   "nbconvert_exporter": "python",
   "pygments_lexer": "ipython3",
   "version": "3.5.2"
  }
 },
 "nbformat": 4,
 "nbformat_minor": 0
}
