{
 "cells": [
  {
   "cell_type": "markdown",
   "metadata": {
    "collapsed": false
   },
   "source": [
    "## This is a basic MLP implementation (including Dropout and without it) using Keras library on MNIST dataset"
   ]
  },
  {
   "cell_type": "code",
   "execution_count": 1,
   "metadata": {
    "collapsed": false
   },
   "outputs": [
    {
     "name": "stderr",
     "output_type": "stream",
     "text": [
      "Using Theano backend.\n"
     ]
    }
   ],
   "source": [
    "# vi ~/.keras/keras.json - the config to point to TF or TH can be changed here.\n",
    "import keras\n",
    "import tensorflow as tf"
   ]
  },
  {
   "cell_type": "markdown",
   "metadata": {},
   "source": [
    "### MNIST classification using single layer neural network"
   ]
  },
  {
   "cell_type": "code",
   "execution_count": 14,
   "metadata": {
    "collapsed": false
   },
   "outputs": [],
   "source": [
    "# All possible imports\n",
    "import numpy as np\n",
    "from keras.datasets import mnist\n",
    "from keras.activations import relu, softmax\n",
    "from keras.layers.core import Dense, Activation, Dropout\n",
    "from keras.models import Sequential\n",
    "from keras.utils import np_utils\n",
    "from keras.optimizers import SGD\n",
    "np.random.seed(1671)\n"
   ]
  },
  {
   "cell_type": "markdown",
   "metadata": {},
   "source": [
    "### Preprocessing the Data and defining the Hyper-parameters"
   ]
  },
  {
   "cell_type": "code",
   "execution_count": 17,
   "metadata": {
    "collapsed": true
   },
   "outputs": [],
   "source": [
    "# Define the parameters that will be used\n",
    "OPTIMIZER = SGD()\n",
    "#NB_EPOCHS = 200 # used this value for the Neural Network implementation\n",
    "#NB_EPOCHS = 20   # decreasing the number of epochs to reduce the time for MLP\n",
    "NB_EPOCHS = 250 # used this value for the DropOut option and to make sure the training accuracy is still greater \n",
    "                #test acuracy\n",
    "SPLIT_PARAM = 0.2\n",
    "RESHAPED = 784\n",
    "NB_HIDDEN_NEURONS = 128\n",
    "NB_CLASSES = 10\n",
    "VERBOSE =1\n",
    "BATCH_SIZE = 128\n",
    "DROPOUT_RATE = 0.3"
   ]
  },
  {
   "cell_type": "code",
   "execution_count": 5,
   "metadata": {
    "collapsed": false
   },
   "outputs": [],
   "source": [
    "# load the data and split them into train and test data sets and \n",
    "# reshape the data set as per the size\n",
    "(X_train, Y_train), (X_test, Y_test) = mnist.load_data()\n",
    "\n",
    "train_data = X_train.reshape((60000,RESHAPED))\n",
    "test_data = X_test.reshape((10000,RESHAPED))\n",
    "train_data = train_data.astype('float32')\n",
    "test_data = test_data.astype('float32')\n",
    "\n",
    "#normalize the data\n",
    "train_data /= 255\n",
    "test_data /= 255\n",
    "\n",
    "#convert labels to a one hot encoding vector\n",
    "train_labels = np_utils.to_categorical(Y_train, NB_CLASSES)\n",
    "test_labels = np_utils.to_categorical(Y_test, NB_CLASSES)"
   ]
  },
  {
   "cell_type": "code",
   "execution_count": 6,
   "metadata": {
    "collapsed": false
   },
   "outputs": [
    {
     "name": "stdout",
     "output_type": "stream",
     "text": [
      "(60000, 784)\n",
      "(10000, 784)\n",
      "(60000, 10)\n",
      "(10000, 10)\n"
     ]
    }
   ],
   "source": [
    "# print the shape of the numpy arrays\n",
    "print(train_data.shape)\n",
    "print(test_data.shape)\n",
    "print(train_labels.shape)\n",
    "print(test_labels.shape)\n"
   ]
  },
  {
   "cell_type": "markdown",
   "metadata": {},
   "source": [
    "### Define the Keras model - Having 2 Hidden layers with the relu activation functions followed by a softmax function"
   ]
  },
  {
   "cell_type": "code",
   "execution_count": 18,
   "metadata": {
    "collapsed": false
   },
   "outputs": [
    {
     "data": {
      "text/plain": [
       "<bound method Container.summary of <keras.models.Sequential object at 0x1347bf9b0>>"
      ]
     },
     "execution_count": 18,
     "metadata": {},
     "output_type": "execute_result"
    }
   ],
   "source": [
    "model = Sequential()\n",
    "model.add(Dense(NB_HIDDEN_NEURONS, input_shape=(RESHAPED,)))\n",
    "model.add(Activation('relu'))\n",
    "model.add(Dense(NB_HIDDEN_NEURONS))\n",
    "model.add(Activation('relu'))\n",
    "model.add(Dense(NB_CLASSES))\n",
    "model.add(Activation('softmax'))\n",
    "model.summary"
   ]
  },
  {
   "cell_type": "code",
   "execution_count": 9,
   "metadata": {
    "collapsed": false
   },
   "outputs": [],
   "source": [
    "#compile the model\n",
    "model.compile(optimizer=OPTIMIZER, loss='categorical_crossentropy', metrics=['accuracy'])"
   ]
  },
  {
   "cell_type": "markdown",
   "metadata": {},
   "source": [
    "### train the model on the training and test on validation sets"
   ]
  },
  {
   "cell_type": "code",
   "execution_count": 11,
   "metadata": {
    "collapsed": false
   },
   "outputs": [
    {
     "name": "stdout",
     "output_type": "stream",
     "text": [
      "Train on 48000 samples, validate on 12000 samples\n",
      "Epoch 1/20\n",
      "48000/48000 [==============================] - 0s - loss: 1.4380 - acc: 0.6402 - val_loss: 0.7215 - val_acc: 0.8464\n",
      "Epoch 2/20\n",
      "48000/48000 [==============================] - 0s - loss: 0.5871 - acc: 0.8546 - val_loss: 0.4439 - val_acc: 0.8852\n",
      "Epoch 3/20\n",
      "48000/48000 [==============================] - 0s - loss: 0.4357 - acc: 0.8812 - val_loss: 0.3670 - val_acc: 0.9003\n",
      "Epoch 4/20\n",
      "48000/48000 [==============================] - 0s - loss: 0.3782 - acc: 0.8943 - val_loss: 0.3320 - val_acc: 0.9061\n",
      "Epoch 5/20\n",
      "48000/48000 [==============================] - 0s - loss: 0.3453 - acc: 0.9028 - val_loss: 0.3074 - val_acc: 0.9120\n",
      "Epoch 6/20\n",
      "48000/48000 [==============================] - 1s - loss: 0.3223 - acc: 0.9094 - val_loss: 0.2904 - val_acc: 0.9167\n",
      "Epoch 7/20\n",
      "48000/48000 [==============================] - 0s - loss: 0.3042 - acc: 0.9132 - val_loss: 0.2775 - val_acc: 0.9205\n",
      "Epoch 8/20\n",
      "48000/48000 [==============================] - 1s - loss: 0.2894 - acc: 0.9178 - val_loss: 0.2656 - val_acc: 0.9239\n",
      "Epoch 9/20\n",
      "48000/48000 [==============================] - 0s - loss: 0.2766 - acc: 0.9216 - val_loss: 0.2560 - val_acc: 0.9261\n",
      "Epoch 10/20\n",
      "48000/48000 [==============================] - 0s - loss: 0.2653 - acc: 0.9243 - val_loss: 0.2464 - val_acc: 0.9290\n",
      "Epoch 11/20\n",
      "48000/48000 [==============================] - 0s - loss: 0.2552 - acc: 0.9272 - val_loss: 0.2391 - val_acc: 0.9311\n",
      "Epoch 12/20\n",
      "48000/48000 [==============================] - 0s - loss: 0.2460 - acc: 0.9303 - val_loss: 0.2316 - val_acc: 0.9339\n",
      "Epoch 13/20\n",
      "48000/48000 [==============================] - 1s - loss: 0.2374 - acc: 0.9327 - val_loss: 0.2245 - val_acc: 0.9357\n",
      "Epoch 14/20\n",
      "48000/48000 [==============================] - 0s - loss: 0.2295 - acc: 0.9353 - val_loss: 0.2198 - val_acc: 0.9382\n",
      "Epoch 15/20\n",
      "48000/48000 [==============================] - 1s - loss: 0.2223 - acc: 0.9371 - val_loss: 0.2130 - val_acc: 0.9398\n",
      "Epoch 16/20\n",
      "48000/48000 [==============================] - 1s - loss: 0.2155 - acc: 0.9383 - val_loss: 0.2083 - val_acc: 0.9417\n",
      "Epoch 17/20\n",
      "48000/48000 [==============================] - 1s - loss: 0.2090 - acc: 0.9406 - val_loss: 0.2025 - val_acc: 0.9430\n",
      "Epoch 18/20\n",
      "48000/48000 [==============================] - 1s - loss: 0.2028 - acc: 0.9425 - val_loss: 0.1986 - val_acc: 0.9451\n",
      "Epoch 19/20\n",
      "48000/48000 [==============================] - 0s - loss: 0.1972 - acc: 0.9439 - val_loss: 0.1927 - val_acc: 0.9471\n",
      "Epoch 20/20\n",
      "48000/48000 [==============================] - 0s - loss: 0.1918 - acc: 0.9453 - val_loss: 0.1899 - val_acc: 0.9471\n"
     ]
    }
   ],
   "source": [
    "# train the model on the training and test on validation sets\n",
    "# keras 1.1 version need this to be nb_epoch and for keras version 2 it needs epochs\n",
    "history = model.fit(train_data, train_labels, batch_size=BATCH_SIZE, \n",
    "                    nb_epoch=NB_EPOCHS, verbose=VERBOSE, validation_split=SPLIT_PARAM)\n"
   ]
  },
  {
   "cell_type": "markdown",
   "metadata": {},
   "source": [
    "### Evaluate the model on the test data and test labels to get the scores"
   ]
  },
  {
   "cell_type": "code",
   "execution_count": 12,
   "metadata": {
    "collapsed": false
   },
   "outputs": [
    {
     "name": "stdout",
     "output_type": "stream",
     "text": [
      " 9536/10000 [===========================>..] - ETA: 0sLoss -  0.188716023885\n",
      "Accuracy -  0.947\n"
     ]
    }
   ],
   "source": [
    "# score is a list which contains the loss and the accuracy values\n",
    "score = model.evaluate(test_data, test_labels)\n",
    "print(\"Loss - \" ,score[0]) # this prints the loss \n",
    "print(\"Accuracy - \", score[1]) # this prints the accuracy "
   ]
  },
  {
   "cell_type": "code",
   "execution_count": 13,
   "metadata": {
    "collapsed": false
   },
   "outputs": [
    {
     "name": "stdout",
     "output_type": "stream",
     "text": [
      "[0.18871602388471365, 0.94699999999999995]\n"
     ]
    }
   ],
   "source": [
    "# this prints the loss and the Accuracy value\n",
    "print(score)"
   ]
  },
  {
   "cell_type": "markdown",
   "metadata": {
    "collapsed": true
   },
   "source": [
    "### Adding Dropouts  to increase the efficiency of the model , adding dropouts after the activation functions"
   ]
  },
  {
   "cell_type": "code",
   "execution_count": 19,
   "metadata": {
    "collapsed": false
   },
   "outputs": [
    {
     "data": {
      "text/plain": [
       "<bound method Container.summary of <keras.models.Sequential object at 0x1347ef240>>"
      ]
     },
     "execution_count": 19,
     "metadata": {},
     "output_type": "execute_result"
    }
   ],
   "source": [
    "model = Sequential()\n",
    "model.add(Dense(NB_HIDDEN_NEURONS, input_shape=(RESHAPED,)))\n",
    "model.add(Activation('relu'))\n",
    "model.add(Dropout(DROPOUT_RATE))\n",
    "model.add(Dense(NB_HIDDEN_NEURONS))\n",
    "model.add(Activation('relu'))\n",
    "model.add(Dropout(DROPOUT_RATE))\n",
    "model.add(Dense(NB_CLASSES))\n",
    "model.add(Activation('softmax'))\n",
    "model.summary"
   ]
  },
  {
   "cell_type": "code",
   "execution_count": 20,
   "metadata": {
    "collapsed": true
   },
   "outputs": [],
   "source": [
    "#compile the model\n",
    "model.compile(optimizer=OPTIMIZER, loss='categorical_crossentropy', metrics=['accuracy'])"
   ]
  },
  {
   "cell_type": "code",
   "execution_count": 21,
   "metadata": {
    "collapsed": false
   },
   "outputs": [
    {
     "name": "stdout",
     "output_type": "stream",
     "text": [
      "Train on 48000 samples, validate on 12000 samples\n",
      "Epoch 1/250\n",
      "48000/48000 [==============================] - 1s - loss: 1.6843 - acc: 0.4718 - val_loss: 0.8849 - val_acc: 0.8215\n",
      "Epoch 2/250\n",
      "48000/48000 [==============================] - 1s - loss: 0.9132 - acc: 0.7190 - val_loss: 0.5342 - val_acc: 0.8679\n",
      "Epoch 3/250\n",
      "48000/48000 [==============================] - 1s - loss: 0.6981 - acc: 0.7844 - val_loss: 0.4301 - val_acc: 0.8855\n",
      "Epoch 4/250\n",
      "48000/48000 [==============================] - 1s - loss: 0.5933 - acc: 0.8195 - val_loss: 0.3764 - val_acc: 0.8966\n",
      "Epoch 5/250\n",
      "48000/48000 [==============================] - 1s - loss: 0.5378 - acc: 0.8380 - val_loss: 0.3456 - val_acc: 0.9043\n",
      "Epoch 6/250\n",
      "48000/48000 [==============================] - 1s - loss: 0.4938 - acc: 0.8512 - val_loss: 0.3210 - val_acc: 0.9097\n",
      "Epoch 7/250\n",
      "48000/48000 [==============================] - 1s - loss: 0.4671 - acc: 0.8607 - val_loss: 0.3030 - val_acc: 0.9127\n",
      "Epoch 8/250\n",
      "48000/48000 [==============================] - 1s - loss: 0.4362 - acc: 0.8709 - val_loss: 0.2868 - val_acc: 0.9167\n",
      "Epoch 9/250\n",
      "48000/48000 [==============================] - 1s - loss: 0.4164 - acc: 0.8777 - val_loss: 0.2744 - val_acc: 0.9193\n",
      "Epoch 10/250\n",
      "48000/48000 [==============================] - 1s - loss: 0.3970 - acc: 0.8822 - val_loss: 0.2637 - val_acc: 0.9222\n",
      "Epoch 11/250\n",
      "48000/48000 [==============================] - 1s - loss: 0.3785 - acc: 0.8893 - val_loss: 0.2524 - val_acc: 0.9261\n",
      "Epoch 12/250\n",
      "48000/48000 [==============================] - 1s - loss: 0.3655 - acc: 0.8922 - val_loss: 0.2432 - val_acc: 0.9280\n",
      "Epoch 13/250\n",
      "48000/48000 [==============================] - 1s - loss: 0.3533 - acc: 0.8962 - val_loss: 0.2348 - val_acc: 0.9304\n",
      "Epoch 14/250\n",
      "48000/48000 [==============================] - 1s - loss: 0.3417 - acc: 0.8993 - val_loss: 0.2274 - val_acc: 0.9331\n",
      "Epoch 15/250\n",
      "48000/48000 [==============================] - 1s - loss: 0.3293 - acc: 0.9039 - val_loss: 0.2212 - val_acc: 0.9345\n",
      "Epoch 16/250\n",
      "48000/48000 [==============================] - 1s - loss: 0.3216 - acc: 0.9059 - val_loss: 0.2146 - val_acc: 0.9366\n",
      "Epoch 17/250\n",
      "48000/48000 [==============================] - 1s - loss: 0.3123 - acc: 0.9095 - val_loss: 0.2090 - val_acc: 0.9387\n",
      "Epoch 18/250\n",
      "48000/48000 [==============================] - 1s - loss: 0.3025 - acc: 0.9128 - val_loss: 0.2026 - val_acc: 0.9394\n",
      "Epoch 19/250\n",
      "48000/48000 [==============================] - 1s - loss: 0.2960 - acc: 0.9130 - val_loss: 0.1987 - val_acc: 0.9411\n",
      "Epoch 20/250\n",
      "48000/48000 [==============================] - 1s - loss: 0.2877 - acc: 0.9151 - val_loss: 0.1934 - val_acc: 0.9430\n",
      "Epoch 21/250\n",
      "48000/48000 [==============================] - 1s - loss: 0.2811 - acc: 0.9180 - val_loss: 0.1883 - val_acc: 0.9444\n",
      "Epoch 22/250\n",
      "48000/48000 [==============================] - 1s - loss: 0.2764 - acc: 0.9189 - val_loss: 0.1845 - val_acc: 0.9462\n",
      "Epoch 23/250\n",
      "48000/48000 [==============================] - 1s - loss: 0.2651 - acc: 0.9218 - val_loss: 0.1805 - val_acc: 0.9466\n",
      "Epoch 24/250\n",
      "48000/48000 [==============================] - 1s - loss: 0.2623 - acc: 0.9230 - val_loss: 0.1759 - val_acc: 0.9491\n",
      "Epoch 25/250\n",
      "48000/48000 [==============================] - 1s - loss: 0.2606 - acc: 0.9235 - val_loss: 0.1738 - val_acc: 0.9497\n",
      "Epoch 26/250\n",
      "48000/48000 [==============================] - 1s - loss: 0.2539 - acc: 0.9245 - val_loss: 0.1702 - val_acc: 0.9507\n",
      "Epoch 27/250\n",
      "48000/48000 [==============================] - 1s - loss: 0.2484 - acc: 0.9266 - val_loss: 0.1662 - val_acc: 0.9519\n",
      "Epoch 28/250\n",
      "48000/48000 [==============================] - 1s - loss: 0.2431 - acc: 0.9297 - val_loss: 0.1639 - val_acc: 0.9528\n",
      "Epoch 29/250\n",
      "48000/48000 [==============================] - 1s - loss: 0.2395 - acc: 0.9293 - val_loss: 0.1615 - val_acc: 0.9533\n",
      "Epoch 30/250\n",
      "48000/48000 [==============================] - 1s - loss: 0.2336 - acc: 0.9316 - val_loss: 0.1576 - val_acc: 0.9537\n",
      "Epoch 31/250\n",
      "48000/48000 [==============================] - 1s - loss: 0.2307 - acc: 0.9335 - val_loss: 0.1558 - val_acc: 0.9548\n",
      "Epoch 32/250\n",
      "48000/48000 [==============================] - 1s - loss: 0.2287 - acc: 0.9321 - val_loss: 0.1530 - val_acc: 0.9547\n",
      "Epoch 33/250\n",
      "48000/48000 [==============================] - 1s - loss: 0.2228 - acc: 0.9342 - val_loss: 0.1512 - val_acc: 0.9556\n",
      "Epoch 34/250\n",
      "48000/48000 [==============================] - 1s - loss: 0.2209 - acc: 0.9357 - val_loss: 0.1486 - val_acc: 0.9567\n",
      "Epoch 35/250\n",
      "48000/48000 [==============================] - 1s - loss: 0.2162 - acc: 0.9363 - val_loss: 0.1460 - val_acc: 0.9573\n",
      "Epoch 36/250\n",
      "48000/48000 [==============================] - 1s - loss: 0.2137 - acc: 0.9371 - val_loss: 0.1443 - val_acc: 0.9582\n",
      "Epoch 37/250\n",
      "48000/48000 [==============================] - 1s - loss: 0.2093 - acc: 0.9385 - val_loss: 0.1420 - val_acc: 0.9578\n",
      "Epoch 38/250\n",
      "48000/48000 [==============================] - 1s - loss: 0.2072 - acc: 0.9400 - val_loss: 0.1412 - val_acc: 0.9580\n",
      "Epoch 39/250\n",
      "48000/48000 [==============================] - 1s - loss: 0.2044 - acc: 0.9407 - val_loss: 0.1391 - val_acc: 0.9586\n",
      "Epoch 40/250\n",
      "48000/48000 [==============================] - 1s - loss: 0.2016 - acc: 0.9402 - val_loss: 0.1370 - val_acc: 0.9593\n",
      "Epoch 41/250\n",
      "48000/48000 [==============================] - 1s - loss: 0.1989 - acc: 0.9418 - val_loss: 0.1357 - val_acc: 0.9597\n",
      "Epoch 42/250\n",
      "48000/48000 [==============================] - 1s - loss: 0.1959 - acc: 0.9417 - val_loss: 0.1341 - val_acc: 0.9603\n",
      "Epoch 43/250\n",
      "48000/48000 [==============================] - 1s - loss: 0.1953 - acc: 0.9429 - val_loss: 0.1334 - val_acc: 0.9606\n",
      "Epoch 44/250\n",
      "48000/48000 [==============================] - 1s - loss: 0.1922 - acc: 0.9439 - val_loss: 0.1320 - val_acc: 0.9611\n",
      "Epoch 45/250\n",
      "48000/48000 [==============================] - 1s - loss: 0.1875 - acc: 0.9447 - val_loss: 0.1305 - val_acc: 0.9616\n",
      "Epoch 46/250\n",
      "48000/48000 [==============================] - 1s - loss: 0.1871 - acc: 0.9450 - val_loss: 0.1290 - val_acc: 0.9615\n",
      "Epoch 47/250\n",
      "48000/48000 [==============================] - 1s - loss: 0.1857 - acc: 0.9446 - val_loss: 0.1273 - val_acc: 0.9620\n",
      "Epoch 48/250\n",
      "48000/48000 [==============================] - 1s - loss: 0.1826 - acc: 0.9464 - val_loss: 0.1260 - val_acc: 0.9630\n",
      "Epoch 49/250\n",
      "48000/48000 [==============================] - 1s - loss: 0.1789 - acc: 0.9473 - val_loss: 0.1252 - val_acc: 0.9628\n",
      "Epoch 50/250\n",
      "48000/48000 [==============================] - 1s - loss: 0.1757 - acc: 0.9488 - val_loss: 0.1239 - val_acc: 0.9632\n",
      "Epoch 51/250\n",
      "48000/48000 [==============================] - 1s - loss: 0.1765 - acc: 0.9481 - val_loss: 0.1230 - val_acc: 0.9639\n",
      "Epoch 52/250\n",
      "48000/48000 [==============================] - 1s - loss: 0.1754 - acc: 0.9483 - val_loss: 0.1222 - val_acc: 0.9637\n",
      "Epoch 53/250\n",
      "48000/48000 [==============================] - 1s - loss: 0.1706 - acc: 0.9493 - val_loss: 0.1209 - val_acc: 0.9638\n",
      "Epoch 54/250\n",
      "48000/48000 [==============================] - 1s - loss: 0.1712 - acc: 0.9498 - val_loss: 0.1196 - val_acc: 0.9648\n",
      "Epoch 55/250\n",
      "48000/48000 [==============================] - 1s - loss: 0.1669 - acc: 0.9498 - val_loss: 0.1188 - val_acc: 0.9645\n",
      "Epoch 56/250\n",
      "48000/48000 [==============================] - 1s - loss: 0.1672 - acc: 0.9502 - val_loss: 0.1180 - val_acc: 0.9648\n",
      "Epoch 57/250\n",
      "48000/48000 [==============================] - 1s - loss: 0.1659 - acc: 0.9508 - val_loss: 0.1168 - val_acc: 0.9651\n",
      "Epoch 58/250\n",
      "48000/48000 [==============================] - 1s - loss: 0.1625 - acc: 0.9522 - val_loss: 0.1160 - val_acc: 0.9658\n",
      "Epoch 59/250\n",
      "48000/48000 [==============================] - 1s - loss: 0.1610 - acc: 0.9526 - val_loss: 0.1155 - val_acc: 0.9660\n",
      "Epoch 60/250\n",
      "48000/48000 [==============================] - 1s - loss: 0.1608 - acc: 0.9538 - val_loss: 0.1146 - val_acc: 0.9663\n",
      "Epoch 61/250\n",
      "48000/48000 [==============================] - 1s - loss: 0.1582 - acc: 0.9535 - val_loss: 0.1135 - val_acc: 0.9665\n",
      "Epoch 62/250\n",
      "48000/48000 [==============================] - 1s - loss: 0.1570 - acc: 0.9536 - val_loss: 0.1139 - val_acc: 0.9666\n",
      "Epoch 63/250\n",
      "48000/48000 [==============================] - 1s - loss: 0.1546 - acc: 0.9554 - val_loss: 0.1130 - val_acc: 0.9661\n",
      "Epoch 64/250\n",
      "48000/48000 [==============================] - 1s - loss: 0.1520 - acc: 0.9558 - val_loss: 0.1118 - val_acc: 0.9668\n",
      "Epoch 65/250\n",
      "48000/48000 [==============================] - 1s - loss: 0.1546 - acc: 0.9551 - val_loss: 0.1108 - val_acc: 0.9673\n",
      "Epoch 66/250\n",
      "48000/48000 [==============================] - 1s - loss: 0.1499 - acc: 0.9558 - val_loss: 0.1113 - val_acc: 0.9669\n",
      "Epoch 67/250\n",
      "48000/48000 [==============================] - 1s - loss: 0.1498 - acc: 0.9556 - val_loss: 0.1106 - val_acc: 0.9671\n",
      "Epoch 68/250\n",
      "48000/48000 [==============================] - 1s - loss: 0.1481 - acc: 0.9564 - val_loss: 0.1100 - val_acc: 0.9673\n",
      "Epoch 69/250\n",
      "48000/48000 [==============================] - 1s - loss: 0.1482 - acc: 0.9562 - val_loss: 0.1086 - val_acc: 0.9679\n",
      "Epoch 70/250\n",
      "48000/48000 [==============================] - 1s - loss: 0.1463 - acc: 0.9560 - val_loss: 0.1087 - val_acc: 0.9678\n",
      "Epoch 71/250\n",
      "48000/48000 [==============================] - 1s - loss: 0.1438 - acc: 0.9579 - val_loss: 0.1077 - val_acc: 0.9683\n",
      "Epoch 72/250\n",
      "48000/48000 [==============================] - 1s - loss: 0.1449 - acc: 0.9580 - val_loss: 0.1069 - val_acc: 0.9683\n",
      "Epoch 73/250\n",
      "48000/48000 [==============================] - 1s - loss: 0.1418 - acc: 0.9583 - val_loss: 0.1063 - val_acc: 0.9683\n",
      "Epoch 74/250\n",
      "48000/48000 [==============================] - 1s - loss: 0.1416 - acc: 0.9579 - val_loss: 0.1055 - val_acc: 0.9688\n",
      "Epoch 75/250\n",
      "48000/48000 [==============================] - 1s - loss: 0.1390 - acc: 0.9596 - val_loss: 0.1050 - val_acc: 0.9696\n",
      "Epoch 76/250\n",
      "48000/48000 [==============================] - 1s - loss: 0.1398 - acc: 0.9580 - val_loss: 0.1047 - val_acc: 0.9689\n",
      "Epoch 77/250\n",
      "48000/48000 [==============================] - 1s - loss: 0.1372 - acc: 0.9592 - val_loss: 0.1050 - val_acc: 0.9690\n",
      "Epoch 78/250\n",
      "48000/48000 [==============================] - 1s - loss: 0.1358 - acc: 0.9595 - val_loss: 0.1036 - val_acc: 0.9692\n",
      "Epoch 79/250\n",
      "48000/48000 [==============================] - 1s - loss: 0.1360 - acc: 0.9596 - val_loss: 0.1030 - val_acc: 0.9703\n",
      "Epoch 80/250\n",
      "48000/48000 [==============================] - 1s - loss: 0.1368 - acc: 0.9594 - val_loss: 0.1030 - val_acc: 0.9701\n",
      "Epoch 81/250\n",
      "48000/48000 [==============================] - 1s - loss: 0.1339 - acc: 0.9603 - val_loss: 0.1032 - val_acc: 0.9697\n",
      "Epoch 82/250\n",
      "48000/48000 [==============================] - 1s - loss: 0.1320 - acc: 0.9611 - val_loss: 0.1028 - val_acc: 0.9697\n",
      "Epoch 83/250\n",
      "48000/48000 [==============================] - 1s - loss: 0.1314 - acc: 0.9613 - val_loss: 0.1014 - val_acc: 0.9700\n",
      "Epoch 84/250\n",
      "48000/48000 [==============================] - 1s - loss: 0.1316 - acc: 0.9599 - val_loss: 0.1013 - val_acc: 0.9702\n",
      "Epoch 85/250\n",
      "48000/48000 [==============================] - 1s - loss: 0.1301 - acc: 0.9621 - val_loss: 0.1003 - val_acc: 0.9701\n",
      "Epoch 86/250\n",
      "48000/48000 [==============================] - 1s - loss: 0.1319 - acc: 0.9605 - val_loss: 0.1002 - val_acc: 0.9707\n",
      "Epoch 87/250\n",
      "48000/48000 [==============================] - 1s - loss: 0.1268 - acc: 0.9617 - val_loss: 0.1005 - val_acc: 0.9706\n",
      "Epoch 88/250\n",
      "48000/48000 [==============================] - 1s - loss: 0.1292 - acc: 0.9604 - val_loss: 0.0991 - val_acc: 0.9710\n",
      "Epoch 89/250\n",
      "48000/48000 [==============================] - 1s - loss: 0.1274 - acc: 0.9619 - val_loss: 0.0991 - val_acc: 0.9718\n",
      "Epoch 90/250\n",
      "48000/48000 [==============================] - 1s - loss: 0.1243 - acc: 0.9625 - val_loss: 0.0987 - val_acc: 0.9713\n",
      "Epoch 91/250\n",
      "48000/48000 [==============================] - 1s - loss: 0.1229 - acc: 0.9628 - val_loss: 0.0982 - val_acc: 0.9712\n",
      "Epoch 92/250\n",
      "48000/48000 [==============================] - 1s - loss: 0.1234 - acc: 0.9639 - val_loss: 0.0980 - val_acc: 0.9714\n",
      "Epoch 93/250\n",
      "48000/48000 [==============================] - 1s - loss: 0.1239 - acc: 0.9634 - val_loss: 0.0986 - val_acc: 0.9703\n",
      "Epoch 94/250\n",
      "48000/48000 [==============================] - 1s - loss: 0.1234 - acc: 0.9632 - val_loss: 0.0977 - val_acc: 0.9712\n",
      "Epoch 95/250\n",
      "48000/48000 [==============================] - 1s - loss: 0.1213 - acc: 0.9640 - val_loss: 0.0969 - val_acc: 0.9712\n",
      "Epoch 96/250\n",
      "48000/48000 [==============================] - 1s - loss: 0.1207 - acc: 0.9647 - val_loss: 0.0972 - val_acc: 0.9718\n",
      "Epoch 97/250\n",
      "48000/48000 [==============================] - 1s - loss: 0.1189 - acc: 0.9644 - val_loss: 0.0965 - val_acc: 0.9718\n",
      "Epoch 98/250\n",
      "48000/48000 [==============================] - 1s - loss: 0.1202 - acc: 0.9649 - val_loss: 0.0959 - val_acc: 0.9711\n",
      "Epoch 99/250\n",
      "48000/48000 [==============================] - 1s - loss: 0.1189 - acc: 0.9653 - val_loss: 0.0954 - val_acc: 0.9720\n",
      "Epoch 100/250\n",
      "48000/48000 [==============================] - 1s - loss: 0.1172 - acc: 0.9650 - val_loss: 0.0959 - val_acc: 0.9717\n",
      "Epoch 101/250\n",
      "48000/48000 [==============================] - 1s - loss: 0.1179 - acc: 0.9652 - val_loss: 0.0951 - val_acc: 0.9721\n",
      "Epoch 102/250\n",
      "48000/48000 [==============================] - 1s - loss: 0.1166 - acc: 0.9660 - val_loss: 0.0944 - val_acc: 0.9719\n",
      "Epoch 103/250\n",
      "48000/48000 [==============================] - 1s - loss: 0.1133 - acc: 0.9666 - val_loss: 0.0944 - val_acc: 0.9722\n",
      "Epoch 104/250\n",
      "48000/48000 [==============================] - 1s - loss: 0.1138 - acc: 0.9661 - val_loss: 0.0943 - val_acc: 0.9721\n",
      "Epoch 105/250\n",
      "48000/48000 [==============================] - 1s - loss: 0.1134 - acc: 0.9658 - val_loss: 0.0936 - val_acc: 0.9723\n",
      "Epoch 106/250\n",
      "48000/48000 [==============================] - 1s - loss: 0.1154 - acc: 0.9651 - val_loss: 0.0941 - val_acc: 0.9723\n",
      "Epoch 107/250\n",
      "48000/48000 [==============================] - 1s - loss: 0.1133 - acc: 0.9664 - val_loss: 0.0933 - val_acc: 0.9730\n",
      "Epoch 108/250\n",
      "48000/48000 [==============================] - 1s - loss: 0.1132 - acc: 0.9670 - val_loss: 0.0935 - val_acc: 0.9726\n",
      "Epoch 109/250\n",
      "48000/48000 [==============================] - 1s - loss: 0.1123 - acc: 0.9663 - val_loss: 0.0929 - val_acc: 0.9732\n",
      "Epoch 110/250\n",
      "48000/48000 [==============================] - 1s - loss: 0.1108 - acc: 0.9668 - val_loss: 0.0930 - val_acc: 0.9730\n",
      "Epoch 111/250\n",
      "48000/48000 [==============================] - 1s - loss: 0.1101 - acc: 0.9672 - val_loss: 0.0921 - val_acc: 0.9728\n",
      "Epoch 112/250\n",
      "48000/48000 [==============================] - 1s - loss: 0.1103 - acc: 0.9667 - val_loss: 0.0921 - val_acc: 0.9731\n",
      "Epoch 113/250\n",
      "48000/48000 [==============================] - 1s - loss: 0.1091 - acc: 0.9671 - val_loss: 0.0916 - val_acc: 0.9739\n",
      "Epoch 114/250\n",
      "48000/48000 [==============================] - 1s - loss: 0.1083 - acc: 0.9676 - val_loss: 0.0915 - val_acc: 0.9733\n",
      "Epoch 115/250\n",
      "48000/48000 [==============================] - 1s - loss: 0.1074 - acc: 0.9672 - val_loss: 0.0911 - val_acc: 0.9733\n",
      "Epoch 116/250\n",
      "48000/48000 [==============================] - 1s - loss: 0.1088 - acc: 0.9678 - val_loss: 0.0921 - val_acc: 0.9733\n",
      "Epoch 117/250\n",
      "48000/48000 [==============================] - 1s - loss: 0.1057 - acc: 0.9686 - val_loss: 0.0911 - val_acc: 0.9734\n",
      "Epoch 118/250\n",
      "48000/48000 [==============================] - 1s - loss: 0.1059 - acc: 0.9673 - val_loss: 0.0910 - val_acc: 0.9736\n",
      "Epoch 119/250\n",
      "48000/48000 [==============================] - 1s - loss: 0.1058 - acc: 0.9686 - val_loss: 0.0906 - val_acc: 0.9735\n",
      "Epoch 120/250\n",
      "48000/48000 [==============================] - 1s - loss: 0.1062 - acc: 0.9683 - val_loss: 0.0904 - val_acc: 0.9736\n",
      "Epoch 121/250\n",
      "48000/48000 [==============================] - 1s - loss: 0.1045 - acc: 0.9675 - val_loss: 0.0906 - val_acc: 0.9738\n",
      "Epoch 122/250\n",
      "48000/48000 [==============================] - 1s - loss: 0.1031 - acc: 0.9697 - val_loss: 0.0903 - val_acc: 0.9738\n",
      "Epoch 123/250\n",
      "48000/48000 [==============================] - 1s - loss: 0.1041 - acc: 0.9686 - val_loss: 0.0897 - val_acc: 0.9739\n",
      "Epoch 124/250\n",
      "48000/48000 [==============================] - 1s - loss: 0.1025 - acc: 0.9704 - val_loss: 0.0895 - val_acc: 0.9738\n",
      "Epoch 125/250\n",
      "48000/48000 [==============================] - 1s - loss: 0.1008 - acc: 0.9692 - val_loss: 0.0899 - val_acc: 0.9736\n",
      "Epoch 126/250\n",
      "48000/48000 [==============================] - 1s - loss: 0.1017 - acc: 0.9695 - val_loss: 0.0896 - val_acc: 0.9739\n",
      "Epoch 127/250\n",
      "48000/48000 [==============================] - 1s - loss: 0.1007 - acc: 0.9688 - val_loss: 0.0887 - val_acc: 0.9746\n",
      "Epoch 128/250\n",
      "48000/48000 [==============================] - 1s - loss: 0.0994 - acc: 0.9706 - val_loss: 0.0890 - val_acc: 0.9740\n",
      "Epoch 129/250\n",
      "48000/48000 [==============================] - 1s - loss: 0.1012 - acc: 0.9695 - val_loss: 0.0887 - val_acc: 0.9738\n",
      "Epoch 130/250\n",
      "48000/48000 [==============================] - 1s - loss: 0.1014 - acc: 0.9703 - val_loss: 0.0885 - val_acc: 0.9736\n",
      "Epoch 131/250\n",
      "48000/48000 [==============================] - 1s - loss: 0.0981 - acc: 0.9700 - val_loss: 0.0882 - val_acc: 0.9743\n",
      "Epoch 132/250\n",
      "48000/48000 [==============================] - 1s - loss: 0.0989 - acc: 0.9697 - val_loss: 0.0880 - val_acc: 0.9747\n",
      "Epoch 133/250\n",
      "48000/48000 [==============================] - 1s - loss: 0.0988 - acc: 0.9696 - val_loss: 0.0878 - val_acc: 0.9745\n",
      "Epoch 134/250\n",
      "48000/48000 [==============================] - 1s - loss: 0.0983 - acc: 0.9698 - val_loss: 0.0877 - val_acc: 0.9743\n",
      "Epoch 135/250\n",
      "48000/48000 [==============================] - 1s - loss: 0.0958 - acc: 0.9709 - val_loss: 0.0877 - val_acc: 0.9740\n",
      "Epoch 136/250\n",
      "48000/48000 [==============================] - 1s - loss: 0.0975 - acc: 0.9709 - val_loss: 0.0878 - val_acc: 0.9747\n",
      "Epoch 137/250\n",
      "48000/48000 [==============================] - 1s - loss: 0.0954 - acc: 0.9712 - val_loss: 0.0879 - val_acc: 0.9744\n",
      "Epoch 138/250\n",
      "48000/48000 [==============================] - 1s - loss: 0.0951 - acc: 0.9711 - val_loss: 0.0878 - val_acc: 0.9744\n",
      "Epoch 139/250\n",
      "48000/48000 [==============================] - 1s - loss: 0.0959 - acc: 0.9706 - val_loss: 0.0873 - val_acc: 0.9747\n",
      "Epoch 140/250\n",
      "48000/48000 [==============================] - 1s - loss: 0.0961 - acc: 0.9707 - val_loss: 0.0876 - val_acc: 0.9748\n",
      "Epoch 141/250\n",
      "48000/48000 [==============================] - 1s - loss: 0.0948 - acc: 0.9715 - val_loss: 0.0873 - val_acc: 0.9743\n",
      "Epoch 142/250\n",
      "48000/48000 [==============================] - 1s - loss: 0.0929 - acc: 0.9721 - val_loss: 0.0868 - val_acc: 0.9750\n",
      "Epoch 143/250\n",
      "48000/48000 [==============================] - 1s - loss: 0.0932 - acc: 0.9724 - val_loss: 0.0866 - val_acc: 0.9748\n",
      "Epoch 144/250\n",
      "48000/48000 [==============================] - 1s - loss: 0.0941 - acc: 0.9719 - val_loss: 0.0862 - val_acc: 0.9738\n",
      "Epoch 145/250\n",
      "48000/48000 [==============================] - 1s - loss: 0.0911 - acc: 0.9726 - val_loss: 0.0867 - val_acc: 0.9745\n",
      "Epoch 146/250\n",
      "48000/48000 [==============================] - 1s - loss: 0.0908 - acc: 0.9728 - val_loss: 0.0857 - val_acc: 0.9752\n",
      "Epoch 147/250\n",
      "48000/48000 [==============================] - 1s - loss: 0.0912 - acc: 0.9731 - val_loss: 0.0866 - val_acc: 0.9749\n",
      "Epoch 148/250\n",
      "48000/48000 [==============================] - 1s - loss: 0.0931 - acc: 0.9721 - val_loss: 0.0861 - val_acc: 0.9749\n",
      "Epoch 149/250\n",
      "48000/48000 [==============================] - 1s - loss: 0.0900 - acc: 0.9738 - val_loss: 0.0858 - val_acc: 0.9756\n",
      "Epoch 150/250\n",
      "48000/48000 [==============================] - 1s - loss: 0.0900 - acc: 0.9727 - val_loss: 0.0853 - val_acc: 0.9751\n",
      "Epoch 151/250\n",
      "48000/48000 [==============================] - 1s - loss: 0.0893 - acc: 0.9730 - val_loss: 0.0853 - val_acc: 0.9757\n",
      "Epoch 152/250\n",
      "48000/48000 [==============================] - 1s - loss: 0.0883 - acc: 0.9739 - val_loss: 0.0861 - val_acc: 0.9751\n",
      "Epoch 153/250\n",
      "48000/48000 [==============================] - 1s - loss: 0.0889 - acc: 0.9727 - val_loss: 0.0853 - val_acc: 0.9755\n",
      "Epoch 154/250\n",
      "48000/48000 [==============================] - 1s - loss: 0.0883 - acc: 0.9729 - val_loss: 0.0851 - val_acc: 0.9750\n",
      "Epoch 155/250\n",
      "48000/48000 [==============================] - 1s - loss: 0.0883 - acc: 0.9735 - val_loss: 0.0846 - val_acc: 0.9754\n",
      "Epoch 156/250\n",
      "48000/48000 [==============================] - 1s - loss: 0.0895 - acc: 0.9723 - val_loss: 0.0845 - val_acc: 0.9756\n",
      "Epoch 157/250\n",
      "48000/48000 [==============================] - 1s - loss: 0.0867 - acc: 0.9733 - val_loss: 0.0843 - val_acc: 0.9756\n",
      "Epoch 158/250\n",
      "48000/48000 [==============================] - 1s - loss: 0.0875 - acc: 0.9734 - val_loss: 0.0844 - val_acc: 0.9753\n",
      "Epoch 159/250\n",
      "48000/48000 [==============================] - 1s - loss: 0.0900 - acc: 0.9724 - val_loss: 0.0844 - val_acc: 0.9756\n",
      "Epoch 160/250\n",
      "48000/48000 [==============================] - 1s - loss: 0.0877 - acc: 0.9728 - val_loss: 0.0839 - val_acc: 0.9756\n",
      "Epoch 161/250\n",
      "48000/48000 [==============================] - 1s - loss: 0.0875 - acc: 0.9726 - val_loss: 0.0838 - val_acc: 0.9758\n",
      "Epoch 162/250\n",
      "48000/48000 [==============================] - 1s - loss: 0.0860 - acc: 0.9740 - val_loss: 0.0841 - val_acc: 0.9763\n",
      "Epoch 163/250\n",
      "48000/48000 [==============================] - 1s - loss: 0.0868 - acc: 0.9735 - val_loss: 0.0845 - val_acc: 0.9752\n",
      "Epoch 164/250\n",
      "48000/48000 [==============================] - 1s - loss: 0.0860 - acc: 0.9740 - val_loss: 0.0835 - val_acc: 0.9758\n",
      "Epoch 165/250\n",
      "48000/48000 [==============================] - 1s - loss: 0.0860 - acc: 0.9737 - val_loss: 0.0835 - val_acc: 0.9760\n",
      "Epoch 166/250\n",
      "48000/48000 [==============================] - 1s - loss: 0.0849 - acc: 0.9744 - val_loss: 0.0831 - val_acc: 0.9758\n",
      "Epoch 167/250\n",
      "48000/48000 [==============================] - 1s - loss: 0.0825 - acc: 0.9753 - val_loss: 0.0835 - val_acc: 0.9759\n",
      "Epoch 168/250\n",
      "48000/48000 [==============================] - 1s - loss: 0.0818 - acc: 0.9759 - val_loss: 0.0838 - val_acc: 0.9756\n",
      "Epoch 169/250\n",
      "48000/48000 [==============================] - 1s - loss: 0.0805 - acc: 0.9753 - val_loss: 0.0835 - val_acc: 0.9758\n",
      "Epoch 170/250\n",
      "48000/48000 [==============================] - 1s - loss: 0.0828 - acc: 0.9745 - val_loss: 0.0833 - val_acc: 0.9754\n",
      "Epoch 171/250\n",
      "48000/48000 [==============================] - 1s - loss: 0.0841 - acc: 0.9737 - val_loss: 0.0835 - val_acc: 0.9760\n",
      "Epoch 172/250\n",
      "48000/48000 [==============================] - 1s - loss: 0.0818 - acc: 0.9757 - val_loss: 0.0830 - val_acc: 0.9758\n",
      "Epoch 173/250\n",
      "48000/48000 [==============================] - 1s - loss: 0.0802 - acc: 0.9758 - val_loss: 0.0831 - val_acc: 0.9764\n",
      "Epoch 174/250\n",
      "48000/48000 [==============================] - 1s - loss: 0.0827 - acc: 0.9745 - val_loss: 0.0831 - val_acc: 0.9756\n",
      "Epoch 175/250\n",
      "48000/48000 [==============================] - 1s - loss: 0.0806 - acc: 0.9753 - val_loss: 0.0839 - val_acc: 0.9758\n",
      "Epoch 176/250\n",
      "48000/48000 [==============================] - 1s - loss: 0.0820 - acc: 0.9746 - val_loss: 0.0833 - val_acc: 0.9760\n",
      "Epoch 177/250\n",
      "48000/48000 [==============================] - 1s - loss: 0.0794 - acc: 0.9753 - val_loss: 0.0834 - val_acc: 0.9756\n",
      "Epoch 178/250\n",
      "48000/48000 [==============================] - 1s - loss: 0.0794 - acc: 0.9762 - val_loss: 0.0826 - val_acc: 0.9763\n",
      "Epoch 179/250\n",
      "48000/48000 [==============================] - 1s - loss: 0.0799 - acc: 0.9752 - val_loss: 0.0832 - val_acc: 0.9757\n",
      "Epoch 180/250\n",
      "48000/48000 [==============================] - 1s - loss: 0.0788 - acc: 0.9757 - val_loss: 0.0829 - val_acc: 0.9757\n",
      "Epoch 181/250\n",
      "48000/48000 [==============================] - 1s - loss: 0.0815 - acc: 0.9751 - val_loss: 0.0831 - val_acc: 0.9754\n",
      "Epoch 182/250\n",
      "48000/48000 [==============================] - 1s - loss: 0.0789 - acc: 0.9754 - val_loss: 0.0823 - val_acc: 0.9761\n",
      "Epoch 183/250\n",
      "48000/48000 [==============================] - 1s - loss: 0.0803 - acc: 0.9755 - val_loss: 0.0821 - val_acc: 0.9760\n",
      "Epoch 184/250\n",
      "48000/48000 [==============================] - 1s - loss: 0.0797 - acc: 0.9758 - val_loss: 0.0821 - val_acc: 0.9760\n",
      "Epoch 185/250\n",
      "48000/48000 [==============================] - 1s - loss: 0.0780 - acc: 0.9754 - val_loss: 0.0822 - val_acc: 0.9761\n",
      "Epoch 186/250\n",
      "48000/48000 [==============================] - 1s - loss: 0.0761 - acc: 0.9761 - val_loss: 0.0823 - val_acc: 0.9767\n",
      "Epoch 187/250\n",
      "48000/48000 [==============================] - 1s - loss: 0.0777 - acc: 0.9763 - val_loss: 0.0817 - val_acc: 0.9765\n",
      "Epoch 188/250\n",
      "48000/48000 [==============================] - 1s - loss: 0.0773 - acc: 0.9763 - val_loss: 0.0815 - val_acc: 0.9764\n",
      "Epoch 189/250\n",
      "48000/48000 [==============================] - 1s - loss: 0.0761 - acc: 0.9774 - val_loss: 0.0816 - val_acc: 0.9766\n",
      "Epoch 190/250\n",
      "48000/48000 [==============================] - 1s - loss: 0.0756 - acc: 0.9768 - val_loss: 0.0814 - val_acc: 0.9768\n",
      "Epoch 191/250\n",
      "48000/48000 [==============================] - 1s - loss: 0.0756 - acc: 0.9772 - val_loss: 0.0815 - val_acc: 0.9769\n",
      "Epoch 192/250\n",
      "48000/48000 [==============================] - 1s - loss: 0.0752 - acc: 0.9768 - val_loss: 0.0813 - val_acc: 0.9766\n",
      "Epoch 193/250\n",
      "48000/48000 [==============================] - 1s - loss: 0.0739 - acc: 0.9770 - val_loss: 0.0814 - val_acc: 0.9768\n",
      "Epoch 194/250\n",
      "48000/48000 [==============================] - 1s - loss: 0.0758 - acc: 0.9771 - val_loss: 0.0814 - val_acc: 0.9764\n",
      "Epoch 195/250\n",
      "48000/48000 [==============================] - 1s - loss: 0.0740 - acc: 0.9764 - val_loss: 0.0812 - val_acc: 0.9764\n",
      "Epoch 196/250\n",
      "48000/48000 [==============================] - 1s - loss: 0.0731 - acc: 0.9780 - val_loss: 0.0813 - val_acc: 0.9762\n",
      "Epoch 197/250\n",
      "48000/48000 [==============================] - 1s - loss: 0.0759 - acc: 0.9762 - val_loss: 0.0807 - val_acc: 0.9767\n",
      "Epoch 198/250\n",
      "48000/48000 [==============================] - 1s - loss: 0.0741 - acc: 0.9775 - val_loss: 0.0808 - val_acc: 0.9769\n",
      "Epoch 199/250\n",
      "48000/48000 [==============================] - 1s - loss: 0.0733 - acc: 0.9778 - val_loss: 0.0816 - val_acc: 0.9766\n",
      "Epoch 200/250\n",
      "48000/48000 [==============================] - 1s - loss: 0.0725 - acc: 0.9778 - val_loss: 0.0810 - val_acc: 0.9760\n",
      "Epoch 201/250\n",
      "48000/48000 [==============================] - 1s - loss: 0.0728 - acc: 0.9779 - val_loss: 0.0811 - val_acc: 0.9768\n",
      "Epoch 202/250\n",
      "48000/48000 [==============================] - 1s - loss: 0.0755 - acc: 0.9763 - val_loss: 0.0807 - val_acc: 0.9763\n",
      "Epoch 203/250\n",
      "48000/48000 [==============================] - 1s - loss: 0.0735 - acc: 0.9784 - val_loss: 0.0800 - val_acc: 0.9764\n",
      "Epoch 204/250\n",
      "48000/48000 [==============================] - 1s - loss: 0.0739 - acc: 0.9775 - val_loss: 0.0810 - val_acc: 0.9768\n",
      "Epoch 205/250\n",
      "48000/48000 [==============================] - 1s - loss: 0.0745 - acc: 0.9771 - val_loss: 0.0810 - val_acc: 0.9763\n",
      "Epoch 206/250\n",
      "48000/48000 [==============================] - 1s - loss: 0.0733 - acc: 0.9774 - val_loss: 0.0807 - val_acc: 0.9767\n",
      "Epoch 207/250\n",
      "48000/48000 [==============================] - 1s - loss: 0.0746 - acc: 0.9767 - val_loss: 0.0810 - val_acc: 0.9763\n",
      "Epoch 208/250\n",
      "48000/48000 [==============================] - 1s - loss: 0.0704 - acc: 0.9788 - val_loss: 0.0804 - val_acc: 0.9766\n",
      "Epoch 209/250\n",
      "48000/48000 [==============================] - 1s - loss: 0.0706 - acc: 0.9778 - val_loss: 0.0806 - val_acc: 0.9768\n",
      "Epoch 210/250\n",
      "48000/48000 [==============================] - 1s - loss: 0.0701 - acc: 0.9777 - val_loss: 0.0805 - val_acc: 0.9767\n",
      "Epoch 211/250\n",
      "48000/48000 [==============================] - 1s - loss: 0.0738 - acc: 0.9774 - val_loss: 0.0801 - val_acc: 0.9766\n",
      "Epoch 212/250\n",
      "48000/48000 [==============================] - 1s - loss: 0.0690 - acc: 0.9791 - val_loss: 0.0802 - val_acc: 0.9763\n",
      "Epoch 213/250\n",
      "48000/48000 [==============================] - 1s - loss: 0.0705 - acc: 0.9778 - val_loss: 0.0807 - val_acc: 0.9761\n",
      "Epoch 214/250\n",
      "48000/48000 [==============================] - 1s - loss: 0.0722 - acc: 0.9772 - val_loss: 0.0798 - val_acc: 0.9767\n",
      "Epoch 215/250\n",
      "48000/48000 [==============================] - 1s - loss: 0.0696 - acc: 0.9788 - val_loss: 0.0803 - val_acc: 0.9764\n",
      "Epoch 216/250\n",
      "48000/48000 [==============================] - 1s - loss: 0.0704 - acc: 0.9789 - val_loss: 0.0794 - val_acc: 0.9771\n",
      "Epoch 217/250\n",
      "48000/48000 [==============================] - 1s - loss: 0.0712 - acc: 0.9775 - val_loss: 0.0796 - val_acc: 0.9770\n",
      "Epoch 218/250\n",
      "48000/48000 [==============================] - 1s - loss: 0.0689 - acc: 0.9791 - val_loss: 0.0799 - val_acc: 0.9764\n",
      "Epoch 219/250\n",
      "48000/48000 [==============================] - 1s - loss: 0.0698 - acc: 0.9778 - val_loss: 0.0798 - val_acc: 0.9765\n",
      "Epoch 220/250\n",
      "48000/48000 [==============================] - 1s - loss: 0.0688 - acc: 0.9794 - val_loss: 0.0789 - val_acc: 0.9768\n",
      "Epoch 221/250\n",
      "48000/48000 [==============================] - 1s - loss: 0.0686 - acc: 0.9790 - val_loss: 0.0794 - val_acc: 0.9771\n",
      "Epoch 222/250\n",
      "48000/48000 [==============================] - 1s - loss: 0.0676 - acc: 0.9790 - val_loss: 0.0796 - val_acc: 0.9767\n",
      "Epoch 223/250\n",
      "48000/48000 [==============================] - 1s - loss: 0.0664 - acc: 0.9796 - val_loss: 0.0794 - val_acc: 0.9761\n",
      "Epoch 224/250\n",
      "48000/48000 [==============================] - 1s - loss: 0.0657 - acc: 0.9801 - val_loss: 0.0790 - val_acc: 0.9762\n",
      "Epoch 225/250\n",
      "48000/48000 [==============================] - 1s - loss: 0.0673 - acc: 0.9792 - val_loss: 0.0792 - val_acc: 0.9767\n",
      "Epoch 226/250\n",
      "48000/48000 [==============================] - 1s - loss: 0.0666 - acc: 0.9790 - val_loss: 0.0794 - val_acc: 0.9766\n",
      "Epoch 227/250\n",
      "48000/48000 [==============================] - 1s - loss: 0.0661 - acc: 0.9791 - val_loss: 0.0797 - val_acc: 0.9770\n",
      "Epoch 228/250\n",
      "48000/48000 [==============================] - 1s - loss: 0.0680 - acc: 0.9790 - val_loss: 0.0792 - val_acc: 0.9770\n",
      "Epoch 229/250\n",
      "48000/48000 [==============================] - 1s - loss: 0.0659 - acc: 0.9790 - val_loss: 0.0788 - val_acc: 0.9772\n",
      "Epoch 230/250\n",
      "48000/48000 [==============================] - 1s - loss: 0.0686 - acc: 0.9781 - val_loss: 0.0786 - val_acc: 0.9772\n",
      "Epoch 231/250\n",
      "48000/48000 [==============================] - 1s - loss: 0.0662 - acc: 0.9791 - val_loss: 0.0791 - val_acc: 0.9764\n",
      "Epoch 232/250\n",
      "48000/48000 [==============================] - 1s - loss: 0.0670 - acc: 0.9790 - val_loss: 0.0796 - val_acc: 0.9772\n",
      "Epoch 233/250\n",
      "48000/48000 [==============================] - 1s - loss: 0.0661 - acc: 0.9790 - val_loss: 0.0789 - val_acc: 0.9768\n",
      "Epoch 234/250\n",
      "48000/48000 [==============================] - 1s - loss: 0.0643 - acc: 0.9799 - val_loss: 0.0790 - val_acc: 0.9770\n",
      "Epoch 235/250\n",
      "48000/48000 [==============================] - 1s - loss: 0.0646 - acc: 0.9802 - val_loss: 0.0791 - val_acc: 0.9771\n",
      "Epoch 236/250\n",
      "48000/48000 [==============================] - 1s - loss: 0.0664 - acc: 0.9791 - val_loss: 0.0790 - val_acc: 0.9771\n",
      "Epoch 237/250\n",
      "48000/48000 [==============================] - 1s - loss: 0.0658 - acc: 0.9792 - val_loss: 0.0782 - val_acc: 0.9775\n",
      "Epoch 238/250\n",
      "48000/48000 [==============================] - 1s - loss: 0.0660 - acc: 0.9796 - val_loss: 0.0787 - val_acc: 0.9773\n",
      "Epoch 239/250\n",
      "48000/48000 [==============================] - 1s - loss: 0.0640 - acc: 0.9804 - val_loss: 0.0788 - val_acc: 0.9770\n",
      "Epoch 240/250\n",
      "48000/48000 [==============================] - 1s - loss: 0.0635 - acc: 0.9802 - val_loss: 0.0788 - val_acc: 0.9774\n",
      "Epoch 241/250\n",
      "48000/48000 [==============================] - 1s - loss: 0.0647 - acc: 0.9797 - val_loss: 0.0786 - val_acc: 0.9777\n",
      "Epoch 242/250\n",
      "48000/48000 [==============================] - 1s - loss: 0.0630 - acc: 0.9804 - val_loss: 0.0790 - val_acc: 0.9768\n",
      "Epoch 243/250\n",
      "48000/48000 [==============================] - 1s - loss: 0.0626 - acc: 0.9801 - val_loss: 0.0789 - val_acc: 0.9776\n",
      "Epoch 244/250\n",
      "48000/48000 [==============================] - 1s - loss: 0.0628 - acc: 0.9803 - val_loss: 0.0784 - val_acc: 0.9778\n",
      "Epoch 245/250\n",
      "48000/48000 [==============================] - 1s - loss: 0.0634 - acc: 0.9799 - val_loss: 0.0785 - val_acc: 0.9779\n",
      "Epoch 246/250\n",
      "48000/48000 [==============================] - 1s - loss: 0.0625 - acc: 0.9809 - val_loss: 0.0786 - val_acc: 0.9774\n",
      "Epoch 247/250\n",
      "48000/48000 [==============================] - 1s - loss: 0.0630 - acc: 0.9801 - val_loss: 0.0788 - val_acc: 0.9774\n",
      "Epoch 248/250\n",
      "48000/48000 [==============================] - 1s - loss: 0.0613 - acc: 0.9804 - val_loss: 0.0784 - val_acc: 0.9778\n",
      "Epoch 249/250\n",
      "48000/48000 [==============================] - 1s - loss: 0.0603 - acc: 0.9807 - val_loss: 0.0779 - val_acc: 0.9781\n",
      "Epoch 250/250\n",
      "48000/48000 [==============================] - 1s - loss: 0.0625 - acc: 0.9796 - val_loss: 0.0785 - val_acc: 0.9773\n"
     ]
    }
   ],
   "source": [
    "# train the model on the training and test on validation sets\n",
    "# keras 1.1 version need this to be nb_epoch and for keras version 2 it needs epochs\n",
    "history = model.fit(train_data, train_labels, batch_size=BATCH_SIZE, \n",
    "                    nb_epoch=NB_EPOCHS, verbose=VERBOSE, validation_split=SPLIT_PARAM)"
   ]
  },
  {
   "cell_type": "code",
   "execution_count": 22,
   "metadata": {
    "collapsed": false
   },
   "outputs": [
    {
     "name": "stdout",
     "output_type": "stream",
     "text": [
      " 9760/10000 [============================>.] - ETA: 0sLoss -  0.0706694735216\n",
      "Accuracy -  0.979\n",
      "[0.070669473521574405, 0.97899999999999998]\n"
     ]
    }
   ],
   "source": [
    "score = model.evaluate(test_data, test_labels)\n",
    "print(\"Loss - \" ,score[0]) # this prints the loss \n",
    "print(\"Accuracy - \", score[1]) # this prints the accuracy \n",
    "# this prints the loss and the Accuracy value\n",
    "print(score)"
   ]
  },
  {
   "cell_type": "markdown",
   "metadata": {},
   "source": [
    "### Try the same above approaches with the RMSPROP() and ADAM() optimizers"
   ]
  },
  {
   "cell_type": "code",
   "execution_count": null,
   "metadata": {
    "collapsed": true
   },
   "outputs": [],
   "source": []
  }
 ],
 "metadata": {
  "kernelspec": {
   "display_name": "Python [Root]",
   "language": "python",
   "name": "Python [Root]"
  },
  "language_info": {
   "codemirror_mode": {
    "name": "ipython",
    "version": 3
   },
   "file_extension": ".py",
   "mimetype": "text/x-python",
   "name": "python",
   "nbconvert_exporter": "python",
   "pygments_lexer": "ipython3",
   "version": "3.5.2"
  }
 },
 "nbformat": 4,
 "nbformat_minor": 0
}
